{
 "cells": [
  {
   "cell_type": "markdown",
   "id": "03c6eb2e",
   "metadata": {},
   "source": [
    "## Top Funnel Analytics\n",
    "#### Focused on views, likes, comments\n",
    "#### Need to get video category (topic) AND Guest(s) extracted first"
   ]
  },
  {
   "cell_type": "code",
   "execution_count": 1,
   "id": "8b1ae59b",
   "metadata": {},
   "outputs": [],
   "source": [
    "import pandas as pd\n",
    "from tqdm.notebook import tqdm\n",
    "\n",
    "\n",
    "df = pd.read_csv('/Users/riadanas/Desktop/steven_bartlett_project/data/raw/DIARY_all_pod.csv')\n",
    "\n",
    "pd.set_option('display.max_columns', None)\n",
    "pd.set_option('display.max_rows', None)"
   ]
  },
  {
   "cell_type": "code",
   "execution_count": 2,
   "id": "8d2176a0",
   "metadata": {},
   "outputs": [
    {
     "name": "stdout",
     "output_type": "stream",
     "text": [
      "      video_id        video_published_at  days_since_published\n",
      "0  B7tnfSPySb0 2025-01-16 08:00:16+00:00                   286\n",
      "1  B7tnfSPySb0 2025-01-16 08:00:16+00:00                   286\n",
      "2  B7tnfSPySb0 2025-01-16 08:00:16+00:00                   286\n",
      "3  B7tnfSPySb0 2025-01-16 08:00:16+00:00                   286\n",
      "4  B7tnfSPySb0 2025-01-16 08:00:16+00:00                   286\n"
     ]
    }
   ],
   "source": [
    "#### CREATE \"date_since_published\" COLUMN ####\n",
    "from datetime import datetime, timezone\n",
    "\n",
    "# Ensure the column is parsed as datetime\n",
    "df[\"video_published_at\"] = pd.to_datetime(df[\"video_published_at\"], utc=True, errors=\"coerce\")\n",
    "\n",
    "# Get today's date in UTC\n",
    "today = datetime.now(timezone.utc)\n",
    "\n",
    "# Compute the number of days since publication\n",
    "df[\"days_since_published\"] = (today - df[\"video_published_at\"]).dt.days\n",
    "\n",
    "# Optional sanity check\n",
    "print(df[[\"video_id\", \"video_published_at\", \"days_since_published\"]].head())\n"
   ]
  },
  {
   "cell_type": "code",
   "execution_count": 3,
   "id": "c73457b3",
   "metadata": {},
   "outputs": [
    {
     "name": "stdout",
     "output_type": "stream",
     "text": [
      "(402054, 19)\n"
     ]
    },
    {
     "data": {
      "text/html": [
       "<div>\n",
       "<style scoped>\n",
       "    .dataframe tbody tr th:only-of-type {\n",
       "        vertical-align: middle;\n",
       "    }\n",
       "\n",
       "    .dataframe tbody tr th {\n",
       "        vertical-align: top;\n",
       "    }\n",
       "\n",
       "    .dataframe thead th {\n",
       "        text-align: right;\n",
       "    }\n",
       "</style>\n",
       "<table border=\"1\" class=\"dataframe\">\n",
       "  <thead>\n",
       "    <tr style=\"text-align: right;\">\n",
       "      <th></th>\n",
       "      <th>channel_name</th>\n",
       "      <th>channel_id</th>\n",
       "      <th>video_id</th>\n",
       "      <th>video_title</th>\n",
       "      <th>video_description</th>\n",
       "      <th>video_published_at</th>\n",
       "      <th>view_count</th>\n",
       "      <th>video_like_count</th>\n",
       "      <th>comment_count</th>\n",
       "      <th>comment_id</th>\n",
       "      <th>comment_text</th>\n",
       "      <th>author</th>\n",
       "      <th>author_id</th>\n",
       "      <th>comment_like_count</th>\n",
       "      <th>comment_published_at</th>\n",
       "      <th>is_pinned</th>\n",
       "      <th>is_reply</th>\n",
       "      <th>parent_comment_id</th>\n",
       "      <th>days_since_published</th>\n",
       "    </tr>\n",
       "  </thead>\n",
       "  <tbody>\n",
       "    <tr>\n",
       "      <th>0</th>\n",
       "      <td>The Diary Of A CEO</td>\n",
       "      <td>UCGq-a57w-aPwyi3pW7XLiHw</td>\n",
       "      <td>B7tnfSPySb0</td>\n",
       "      <td>The Keto Psychiatrist: What Keto Is Really Doi...</td>\n",
       "      <td>Dr Georgia Ede is a Harvard trained psychiatri...</td>\n",
       "      <td>2025-01-16 08:00:16+00:00</td>\n",
       "      <td>2038491</td>\n",
       "      <td>61491</td>\n",
       "      <td>6274</td>\n",
       "      <td>Ugy5hSCgpLgiCntpLsh4AaABAg</td>\n",
       "      <td>Thanks! I I completely changed my diet six mon...</td>\n",
       "      <td>@ethann.12</td>\n",
       "      <td>UCvKPBMJVZ0HkF6QfOuqYmMA</td>\n",
       "      <td>4377</td>\n",
       "      <td>2025-01-21T23:36:59Z</td>\n",
       "      <td>False</td>\n",
       "      <td>False</td>\n",
       "      <td>NaN</td>\n",
       "      <td>286</td>\n",
       "    </tr>\n",
       "    <tr>\n",
       "      <th>1</th>\n",
       "      <td>The Diary Of A CEO</td>\n",
       "      <td>UCGq-a57w-aPwyi3pW7XLiHw</td>\n",
       "      <td>B7tnfSPySb0</td>\n",
       "      <td>The Keto Psychiatrist: What Keto Is Really Doi...</td>\n",
       "      <td>Dr Georgia Ede is a Harvard trained psychiatri...</td>\n",
       "      <td>2025-01-16 08:00:16+00:00</td>\n",
       "      <td>2038491</td>\n",
       "      <td>61491</td>\n",
       "      <td>6274</td>\n",
       "      <td>UgwMJZJs2UnjR6cFBi14AaABAg</td>\n",
       "      <td>I have Bipolar and have recently decided to st...</td>\n",
       "      <td>@TheBipolarBoss</td>\n",
       "      <td>UCCY-1n70e24Sq2YaNPyP24A</td>\n",
       "      <td>3933</td>\n",
       "      <td>2025-01-16T08:20:19Z</td>\n",
       "      <td>False</td>\n",
       "      <td>False</td>\n",
       "      <td>NaN</td>\n",
       "      <td>286</td>\n",
       "    </tr>\n",
       "  </tbody>\n",
       "</table>\n",
       "</div>"
      ],
      "text/plain": [
       "         channel_name                channel_id     video_id  \\\n",
       "0  The Diary Of A CEO  UCGq-a57w-aPwyi3pW7XLiHw  B7tnfSPySb0   \n",
       "1  The Diary Of A CEO  UCGq-a57w-aPwyi3pW7XLiHw  B7tnfSPySb0   \n",
       "\n",
       "                                         video_title  \\\n",
       "0  The Keto Psychiatrist: What Keto Is Really Doi...   \n",
       "1  The Keto Psychiatrist: What Keto Is Really Doi...   \n",
       "\n",
       "                                   video_description  \\\n",
       "0  Dr Georgia Ede is a Harvard trained psychiatri...   \n",
       "1  Dr Georgia Ede is a Harvard trained psychiatri...   \n",
       "\n",
       "         video_published_at  view_count  video_like_count  comment_count  \\\n",
       "0 2025-01-16 08:00:16+00:00     2038491             61491           6274   \n",
       "1 2025-01-16 08:00:16+00:00     2038491             61491           6274   \n",
       "\n",
       "                   comment_id  \\\n",
       "0  Ugy5hSCgpLgiCntpLsh4AaABAg   \n",
       "1  UgwMJZJs2UnjR6cFBi14AaABAg   \n",
       "\n",
       "                                        comment_text           author  \\\n",
       "0  Thanks! I I completely changed my diet six mon...       @ethann.12   \n",
       "1  I have Bipolar and have recently decided to st...  @TheBipolarBoss   \n",
       "\n",
       "                  author_id  comment_like_count  comment_published_at  \\\n",
       "0  UCvKPBMJVZ0HkF6QfOuqYmMA                4377  2025-01-21T23:36:59Z   \n",
       "1  UCCY-1n70e24Sq2YaNPyP24A                3933  2025-01-16T08:20:19Z   \n",
       "\n",
       "   is_pinned  is_reply parent_comment_id  days_since_published  \n",
       "0      False     False               NaN                   286  \n",
       "1      False     False               NaN                   286  "
      ]
     },
     "execution_count": 3,
     "metadata": {},
     "output_type": "execute_result"
    }
   ],
   "source": [
    "print(df.shape)\n",
    "df.head(2)"
   ]
  },
  {
   "cell_type": "markdown",
   "id": "fa5b53df",
   "metadata": {},
   "source": [
    "### Guest Name Processing - GPT-4"
   ]
  },
  {
   "cell_type": "code",
   "execution_count": 4,
   "id": "52b4129d",
   "metadata": {},
   "outputs": [],
   "source": [
    "import os\n",
    "import json\n",
    "import re\n",
    "import pandas as pd\n",
    "from openai import OpenAI\n",
    "from dotenv import load_dotenv\n",
    "\n",
    "load_dotenv()\n",
    "\n",
    "client = OpenAI(\n",
    "    base_url=\"https://openrouter.ai/api/v1\",\n",
    "    api_key=os.getenv(\"OPENROUTER_API_KEY\"),\n",
    ")\n",
    "\n",
    "def get_guest_names_openrouter(description: str) -> list:\n",
    "    \"\"\"\n",
    "    Extract true podcast guest names from a YouTube description using OpenRouter (Claude 3.5 / GPT-4-mini).\n",
    "    Ignores names used as references or examples.\n",
    "    \"\"\"\n",
    "    if not isinstance(description, str) or not description.strip():\n",
    "        return []\n",
    "\n",
    "    prompt = f\"\"\"\n",
    "    You are a podcast metadata assistant.\n",
    "\n",
    "    Task:\n",
    "    - Read the YouTube video description carefully.\n",
    "    - Identify ONLY the actual guest(s) who appear in the episode or are directly interviewed.\n",
    "    - If a guest's name was misspelled, correct it based on context.\n",
    "    - Make sure to not miss guests that go by nicknames (e.g., \"The Rock\" or \"MrBeast\").\n",
    "    - Ignore people mentioned just as examples, comparisons, or references (e.g., Warren Buffett, Elon Musk) unless they are clearly stated as guests.\n",
    "    - If multiple guests appear, include all of them.\n",
    "    - Preserve professional titles (e.g., \"Dr\", \"Prof\", \"Sir\") if present.\n",
    "    - Return a clean JSON list of guest names, for example:\n",
    "      [\"Morgan Housel\"]\n",
    "      or [\"Dr Andrew Huberman\", \"Lex Fridman\"]\n",
    "    - If no guest is clearly identified, return an empty list [].\n",
    "\n",
    "    Description:\n",
    "    \\\"\\\"\\\"{description}\\\"\\\"\\\"\n",
    "    \"\"\"\n",
    "\n",
    "    try:\n",
    "        completion = client.chat.completions.create(\n",
    "            model=\"openai/gpt-4o-mini\",  # you can change to \"openai/gpt-4o-mini\"\n",
    "            messages=[{\"role\": \"user\", \"content\": prompt}],\n",
    "            temperature=0.1,\n",
    "            max_tokens=200,\n",
    "        )\n",
    "\n",
    "        content = completion.choices[0].message.content.strip()\n",
    "\n",
    "        # Try parsing JSON\n",
    "        try:\n",
    "            result = json.loads(content)\n",
    "        except json.JSONDecodeError:\n",
    "            match = re.search(r'\\[(.*?)\\]', content)\n",
    "            if match:\n",
    "                inner = match.group(1)\n",
    "                result = [n.strip().strip('\"').strip() for n in inner.split(\",\") if n.strip()]\n",
    "            else:\n",
    "                result = re.findall(r\"(?:Dr\\.?|Prof\\.?|Mr\\.?|Ms\\.?)?\\s?[A-Z][a-z]+(?:\\s[A-Z][a-z]+)+\", content)\n",
    "\n",
    "        if isinstance(result, str):\n",
    "            result = [result]\n",
    "        result = [r.strip() for r in result if r.strip()]\n",
    "        result = list(set(result))\n",
    "\n",
    "    except Exception as e:\n",
    "        print(f\"Error processing description: {e}\")\n",
    "        result = []\n",
    "\n",
    "    return result\n",
    "\n",
    "\n",
    "# ------------------------------------------------------\n",
    "# 🔁 Apply once per unique video_id\n",
    "# ------------------------------------------------------\n",
    "\n",
    "def assign_guest_names(df: pd.DataFrame) -> pd.DataFrame:\n",
    "    \"\"\"\n",
    "    Apply guest extraction once per unique video_id.\n",
    "    Adds a 'guest_list' column to the DataFrame.\n",
    "    \"\"\"\n",
    "    # Create mapping: video_id → guest list\n",
    "    mapping = {}\n",
    "    unique_videos = df.drop_duplicates(subset=\"video_id\")[[\"video_id\", \"video_description\"]]\n",
    "\n",
    "    for _, row in unique_videos.iterrows():\n",
    "        vid = row[\"video_id\"]\n",
    "        desc = row[\"video_description\"]\n",
    "        guests = get_guest_names_openrouter(desc)\n",
    "        mapping[vid] = guests\n",
    "\n",
    "    # Map results back to main DataFrame\n",
    "    df[\"guest_list\"] = df[\"video_id\"].map(mapping)\n",
    "    return df"
   ]
  },
  {
   "cell_type": "code",
   "execution_count": 5,
   "id": "2be1f63d",
   "metadata": {},
   "outputs": [
    {
     "data": {
      "text/plain": [
       "\"Dr Georgia Ede is a Harvard trained psychiatrist specialising in nutritional and metabolic psychiatry. She is the author of the book, ‘Change Your Diet, Change Your Mind: A powerful plan to improve mood, overcome anxiety and protect memory for a lifetime of optimal mental health’.   00:00 Intro 02:02 What Do You Do? 02:21 Is Metabolic Psychiatry a New Term? 03:38 Why Is the Ketogenic Diet at the Heart of Your Work? 04:40 What's Your Academic Experience? 05:38 What Does Practicing Psychiatry Invo\""
      ]
     },
     "execution_count": 5,
     "metadata": {},
     "output_type": "execute_result"
    }
   ],
   "source": [
    "df['video_description'].values[0]"
   ]
  },
  {
   "cell_type": "code",
   "execution_count": 6,
   "id": "6e532bc3",
   "metadata": {},
   "outputs": [],
   "source": [
    "df = assign_guest_names(df)"
   ]
  },
  {
   "cell_type": "code",
   "execution_count": 7,
   "id": "8bf97d20",
   "metadata": {},
   "outputs": [
    {
     "data": {
      "text/html": [
       "<div>\n",
       "<style scoped>\n",
       "    .dataframe tbody tr th:only-of-type {\n",
       "        vertical-align: middle;\n",
       "    }\n",
       "\n",
       "    .dataframe tbody tr th {\n",
       "        vertical-align: top;\n",
       "    }\n",
       "\n",
       "    .dataframe thead th {\n",
       "        text-align: right;\n",
       "    }\n",
       "</style>\n",
       "<table border=\"1\" class=\"dataframe\">\n",
       "  <thead>\n",
       "    <tr style=\"text-align: right;\">\n",
       "      <th></th>\n",
       "      <th>channel_name</th>\n",
       "      <th>channel_id</th>\n",
       "      <th>video_id</th>\n",
       "      <th>video_title</th>\n",
       "      <th>video_description</th>\n",
       "      <th>video_published_at</th>\n",
       "      <th>view_count</th>\n",
       "      <th>video_like_count</th>\n",
       "      <th>comment_count</th>\n",
       "      <th>comment_id</th>\n",
       "      <th>comment_text</th>\n",
       "      <th>author</th>\n",
       "      <th>author_id</th>\n",
       "      <th>comment_like_count</th>\n",
       "      <th>comment_published_at</th>\n",
       "      <th>is_pinned</th>\n",
       "      <th>is_reply</th>\n",
       "      <th>parent_comment_id</th>\n",
       "      <th>days_since_published</th>\n",
       "      <th>guest_list</th>\n",
       "    </tr>\n",
       "  </thead>\n",
       "  <tbody>\n",
       "    <tr>\n",
       "      <th>0</th>\n",
       "      <td>The Diary Of A CEO</td>\n",
       "      <td>UCGq-a57w-aPwyi3pW7XLiHw</td>\n",
       "      <td>B7tnfSPySb0</td>\n",
       "      <td>The Keto Psychiatrist: What Keto Is Really Doi...</td>\n",
       "      <td>Dr Georgia Ede is a Harvard trained psychiatri...</td>\n",
       "      <td>2025-01-16 08:00:16+00:00</td>\n",
       "      <td>2038491</td>\n",
       "      <td>61491</td>\n",
       "      <td>6274</td>\n",
       "      <td>Ugy5hSCgpLgiCntpLsh4AaABAg</td>\n",
       "      <td>Thanks! I I completely changed my diet six mon...</td>\n",
       "      <td>@ethann.12</td>\n",
       "      <td>UCvKPBMJVZ0HkF6QfOuqYmMA</td>\n",
       "      <td>4377</td>\n",
       "      <td>2025-01-21T23:36:59Z</td>\n",
       "      <td>False</td>\n",
       "      <td>False</td>\n",
       "      <td>NaN</td>\n",
       "      <td>286</td>\n",
       "      <td>[Dr Georgia Ede]</td>\n",
       "    </tr>\n",
       "  </tbody>\n",
       "</table>\n",
       "</div>"
      ],
      "text/plain": [
       "         channel_name                channel_id     video_id  \\\n",
       "0  The Diary Of A CEO  UCGq-a57w-aPwyi3pW7XLiHw  B7tnfSPySb0   \n",
       "\n",
       "                                         video_title  \\\n",
       "0  The Keto Psychiatrist: What Keto Is Really Doi...   \n",
       "\n",
       "                                   video_description  \\\n",
       "0  Dr Georgia Ede is a Harvard trained psychiatri...   \n",
       "\n",
       "         video_published_at  view_count  video_like_count  comment_count  \\\n",
       "0 2025-01-16 08:00:16+00:00     2038491             61491           6274   \n",
       "\n",
       "                   comment_id  \\\n",
       "0  Ugy5hSCgpLgiCntpLsh4AaABAg   \n",
       "\n",
       "                                        comment_text      author  \\\n",
       "0  Thanks! I I completely changed my diet six mon...  @ethann.12   \n",
       "\n",
       "                  author_id  comment_like_count  comment_published_at  \\\n",
       "0  UCvKPBMJVZ0HkF6QfOuqYmMA                4377  2025-01-21T23:36:59Z   \n",
       "\n",
       "   is_pinned  is_reply parent_comment_id  days_since_published  \\\n",
       "0      False     False               NaN                   286   \n",
       "\n",
       "         guest_list  \n",
       "0  [Dr Georgia Ede]  "
      ]
     },
     "execution_count": 7,
     "metadata": {},
     "output_type": "execute_result"
    }
   ],
   "source": [
    "df.head(1)"
   ]
  },
  {
   "cell_type": "code",
   "execution_count": 8,
   "id": "d9c1df27",
   "metadata": {},
   "outputs": [
    {
     "data": {
      "text/plain": [
       "guest_list\n",
       "[Daniel Priestley, Gary Stevenson]                      51707\n",
       "[Geoffrey Hinton]                                       28392\n",
       "[Logan Ury, Scott Galloway]                             25038\n",
       "[Louise Perry, Deborah Frances-White, Erica Komisar]    24551\n",
       "[Konstantin Kisin, Daniel Priestly, Scott Galloway]     22318\n",
       "[Cathie Wood]                                           20718\n",
       "[Bret Weinstein, Daniel Priestley, Amjad Masad]         16431\n",
       "[Dr Anna Lembke]                                        13362\n",
       "[Erica Komisar]                                         12778\n",
       "[Dr Benjamin Bikman]                                    10798\n",
       "[]                                                       9263\n",
       "[Dr. William Li]                                         9262\n",
       "[MrBeast]                                                9100\n",
       "[Jefferson Fisher]                                       8022\n",
       "[Dr Nathan Bryan]                                        6946\n",
       "[Morgan Housel]                                          6833\n",
       "[Dr Daniel Amen]                                         6699\n",
       "[Dr Jordan Peterson]                                     6513\n",
       "[Simon Sinek]                                            6509\n",
       "[Paul Brunson]                                           6413\n",
       "[Dr Georgia Ede]                                         6409\n",
       "[Esther Perel]                                           5887\n",
       "[Michelle Obama, Craig Robinson]                         5772\n",
       "[Steven, Vanessa Van Edwards]                            5753\n",
       "[Steven, Evy Poumpouras]                                 5577\n",
       "[Dr. Courtney Conley]                                    5520\n",
       "[Master Shi Heng Yi]                                     5141\n",
       "[Chris Eubank Jr.]                                       4206\n",
       "[Joe Navarro]                                            4201\n",
       "[Vinh Giang]                                             3985\n",
       "[Dr Sarah Berry]                                         3812\n",
       "[Jimmy Fallon]                                           3773\n",
       "[Dr. Sarah Wakeman]                                      3531\n",
       "[Charlie Houpert]                                        3492\n",
       "[Dr Vonda Wright]                                        3413\n",
       "[Dr. Lisa Feldman Barrett]                               3306\n",
       "[Dr Bill von Hippel]                                     3259\n",
       "[Dr Stacy Sims]                                          3148\n",
       "[Dr Joe Dispenza]                                        3105\n",
       "[Mike Dowd]                                              2691\n",
       "[Alex Hormozi]                                           2549\n",
       "[Dr. Sara Szal]                                          2231\n",
       "[Dr Peter Attia]                                         2167\n",
       "[Jeff Cavaliere]                                         2086\n",
       "[Robert Greene]                                          1931\n",
       "[Emma Grede]                                             1758\n",
       "[Evan Spiegel]                                            854\n",
       "[Dr Mohit Khera]                                          844\n",
       "Name: count, dtype: int64"
      ]
     },
     "execution_count": 8,
     "metadata": {},
     "output_type": "execute_result"
    }
   ],
   "source": [
    "df['guest_list'].value_counts()"
   ]
  },
  {
   "cell_type": "markdown",
   "id": "d61151c4",
   "metadata": {},
   "source": [
    "### Topic Category"
   ]
  },
  {
   "cell_type": "code",
   "execution_count": 9,
   "id": "cc76015e",
   "metadata": {},
   "outputs": [],
   "source": [
    "import ollama\n",
    "import json\n",
    "\n",
    "def get_topic_category(title: str) -> str:\n",
    "    \"\"\"\n",
    "    Use Ollama to classify the video title into a topic category.\n",
    "    Example categories: health, mental health, productivity, finance, relationships, entrepreneurship, other.\n",
    "    \"\"\"\n",
    "    prompt = f\"\"\"\n",
    "    You are a helpful assistant. Categorize the following YouTube video title into ONE broad category:\n",
    "    - health\n",
    "    - mental health / psychology\n",
    "    - productivity / personal development\n",
    "    - finance\n",
    "    - relationships\n",
    "    - entrepreneurship / business\n",
    "    - Religion / Spirituality\n",
    "    - Technology\n",
    "    - Education\n",
    "    - Lifestyle\n",
    "    - Entertainment\n",
    "    - other\n",
    "\n",
    "    Title: \"{title}\"\n",
    "\n",
    "    Return only the category name, nothing else.\n",
    "    \"\"\"\n",
    "\n",
    "    response = ollama.chat(\n",
    "        model=\"llama3.2:3b\",  # you can swap to another local model\n",
    "        messages=[{\"role\": \"user\", \"content\": prompt}]\n",
    "    )\n",
    "    return response[\"message\"][\"content\"].strip().lower()\n"
   ]
  },
  {
   "cell_type": "code",
   "execution_count": 10,
   "id": "3d922608",
   "metadata": {},
   "outputs": [],
   "source": [
    "# Enable tqdm for pandas\n",
    "tqdm.pandas()\n",
    "\n",
    "# Extract unique video_id/title pairs\n",
    "video_meta = df[[\"video_id\", \"video_title\"]].drop_duplicates()\n",
    "\n",
    "# Apply Ollama category classification\n",
    "video_meta[\"Topic_Category\"] = video_meta[\"video_title\"].apply(get_topic_category)\n",
    "\n",
    "# Merge back into main dataframe\n",
    "df = df.merge(video_meta[[\"video_id\", \"Topic_Category\"]], on=\"video_id\", how=\"left\")"
   ]
  },
  {
   "cell_type": "code",
   "execution_count": 11,
   "id": "16051b96",
   "metadata": {},
   "outputs": [
    {
     "data": {
      "text/plain": [
       "Topic_Category\n",
       "mental health / psychology             90933\n",
       "finance                                58540\n",
       "health                                 52438\n",
       "entertainment                          42088\n",
       "relationships                          37695\n",
       "entrepreneurship / business            33384\n",
       "religion / spirituality                28392\n",
       "productivity / personal development    23359\n",
       "religion/spirituality                  18794\n",
       "technology                             16431\n",
       "Name: count, dtype: int64"
      ]
     },
     "execution_count": 11,
     "metadata": {},
     "output_type": "execute_result"
    }
   ],
   "source": [
    "df['Topic_Category'].value_counts()"
   ]
  },
  {
   "cell_type": "markdown",
   "id": "e80f399c",
   "metadata": {},
   "source": [
    "## Top Funnel KPIs"
   ]
  },
  {
   "cell_type": "code",
   "execution_count": 12,
   "id": "dd94d58b",
   "metadata": {},
   "outputs": [
    {
     "name": "stdout",
     "output_type": "stream",
     "text": [
      "(402054, 21)\n"
     ]
    },
    {
     "data": {
      "text/html": [
       "<div>\n",
       "<style scoped>\n",
       "    .dataframe tbody tr th:only-of-type {\n",
       "        vertical-align: middle;\n",
       "    }\n",
       "\n",
       "    .dataframe tbody tr th {\n",
       "        vertical-align: top;\n",
       "    }\n",
       "\n",
       "    .dataframe thead th {\n",
       "        text-align: right;\n",
       "    }\n",
       "</style>\n",
       "<table border=\"1\" class=\"dataframe\">\n",
       "  <thead>\n",
       "    <tr style=\"text-align: right;\">\n",
       "      <th></th>\n",
       "      <th>channel_name</th>\n",
       "      <th>channel_id</th>\n",
       "      <th>video_id</th>\n",
       "      <th>video_title</th>\n",
       "      <th>video_description</th>\n",
       "      <th>video_published_at</th>\n",
       "      <th>view_count</th>\n",
       "      <th>video_like_count</th>\n",
       "      <th>comment_count</th>\n",
       "      <th>comment_id</th>\n",
       "      <th>comment_text</th>\n",
       "      <th>author</th>\n",
       "      <th>author_id</th>\n",
       "      <th>comment_like_count</th>\n",
       "      <th>comment_published_at</th>\n",
       "      <th>is_pinned</th>\n",
       "      <th>is_reply</th>\n",
       "      <th>parent_comment_id</th>\n",
       "      <th>days_since_published</th>\n",
       "      <th>guest_list</th>\n",
       "      <th>Topic_Category</th>\n",
       "    </tr>\n",
       "  </thead>\n",
       "  <tbody>\n",
       "    <tr>\n",
       "      <th>0</th>\n",
       "      <td>The Diary Of A CEO</td>\n",
       "      <td>UCGq-a57w-aPwyi3pW7XLiHw</td>\n",
       "      <td>B7tnfSPySb0</td>\n",
       "      <td>The Keto Psychiatrist: What Keto Is Really Doi...</td>\n",
       "      <td>Dr Georgia Ede is a Harvard trained psychiatri...</td>\n",
       "      <td>2025-01-16 08:00:16+00:00</td>\n",
       "      <td>2038491</td>\n",
       "      <td>61491</td>\n",
       "      <td>6274</td>\n",
       "      <td>Ugy5hSCgpLgiCntpLsh4AaABAg</td>\n",
       "      <td>Thanks! I I completely changed my diet six mon...</td>\n",
       "      <td>@ethann.12</td>\n",
       "      <td>UCvKPBMJVZ0HkF6QfOuqYmMA</td>\n",
       "      <td>4377</td>\n",
       "      <td>2025-01-21T23:36:59Z</td>\n",
       "      <td>False</td>\n",
       "      <td>False</td>\n",
       "      <td>NaN</td>\n",
       "      <td>286</td>\n",
       "      <td>[Dr Georgia Ede]</td>\n",
       "      <td>mental health / psychology</td>\n",
       "    </tr>\n",
       "    <tr>\n",
       "      <th>1</th>\n",
       "      <td>The Diary Of A CEO</td>\n",
       "      <td>UCGq-a57w-aPwyi3pW7XLiHw</td>\n",
       "      <td>B7tnfSPySb0</td>\n",
       "      <td>The Keto Psychiatrist: What Keto Is Really Doi...</td>\n",
       "      <td>Dr Georgia Ede is a Harvard trained psychiatri...</td>\n",
       "      <td>2025-01-16 08:00:16+00:00</td>\n",
       "      <td>2038491</td>\n",
       "      <td>61491</td>\n",
       "      <td>6274</td>\n",
       "      <td>UgwMJZJs2UnjR6cFBi14AaABAg</td>\n",
       "      <td>I have Bipolar and have recently decided to st...</td>\n",
       "      <td>@TheBipolarBoss</td>\n",
       "      <td>UCCY-1n70e24Sq2YaNPyP24A</td>\n",
       "      <td>3933</td>\n",
       "      <td>2025-01-16T08:20:19Z</td>\n",
       "      <td>False</td>\n",
       "      <td>False</td>\n",
       "      <td>NaN</td>\n",
       "      <td>286</td>\n",
       "      <td>[Dr Georgia Ede]</td>\n",
       "      <td>mental health / psychology</td>\n",
       "    </tr>\n",
       "  </tbody>\n",
       "</table>\n",
       "</div>"
      ],
      "text/plain": [
       "         channel_name                channel_id     video_id  \\\n",
       "0  The Diary Of A CEO  UCGq-a57w-aPwyi3pW7XLiHw  B7tnfSPySb0   \n",
       "1  The Diary Of A CEO  UCGq-a57w-aPwyi3pW7XLiHw  B7tnfSPySb0   \n",
       "\n",
       "                                         video_title  \\\n",
       "0  The Keto Psychiatrist: What Keto Is Really Doi...   \n",
       "1  The Keto Psychiatrist: What Keto Is Really Doi...   \n",
       "\n",
       "                                   video_description  \\\n",
       "0  Dr Georgia Ede is a Harvard trained psychiatri...   \n",
       "1  Dr Georgia Ede is a Harvard trained psychiatri...   \n",
       "\n",
       "         video_published_at  view_count  video_like_count  comment_count  \\\n",
       "0 2025-01-16 08:00:16+00:00     2038491             61491           6274   \n",
       "1 2025-01-16 08:00:16+00:00     2038491             61491           6274   \n",
       "\n",
       "                   comment_id  \\\n",
       "0  Ugy5hSCgpLgiCntpLsh4AaABAg   \n",
       "1  UgwMJZJs2UnjR6cFBi14AaABAg   \n",
       "\n",
       "                                        comment_text           author  \\\n",
       "0  Thanks! I I completely changed my diet six mon...       @ethann.12   \n",
       "1  I have Bipolar and have recently decided to st...  @TheBipolarBoss   \n",
       "\n",
       "                  author_id  comment_like_count  comment_published_at  \\\n",
       "0  UCvKPBMJVZ0HkF6QfOuqYmMA                4377  2025-01-21T23:36:59Z   \n",
       "1  UCCY-1n70e24Sq2YaNPyP24A                3933  2025-01-16T08:20:19Z   \n",
       "\n",
       "   is_pinned  is_reply parent_comment_id  days_since_published  \\\n",
       "0      False     False               NaN                   286   \n",
       "1      False     False               NaN                   286   \n",
       "\n",
       "         guest_list              Topic_Category  \n",
       "0  [Dr Georgia Ede]  mental health / psychology  \n",
       "1  [Dr Georgia Ede]  mental health / psychology  "
      ]
     },
     "execution_count": 12,
     "metadata": {},
     "output_type": "execute_result"
    }
   ],
   "source": [
    "print(df.shape)\n",
    "df.head(2)"
   ]
  },
  {
   "cell_type": "code",
   "execution_count": 13,
   "id": "59b38a56",
   "metadata": {},
   "outputs": [
    {
     "data": {
      "text/plain": [
       "Index(['channel_name', 'channel_id', 'video_id', 'video_title',\n",
       "       'video_description', 'video_published_at', 'view_count',\n",
       "       'video_like_count', 'comment_count', 'comment_id', 'comment_text',\n",
       "       'author', 'author_id', 'comment_like_count', 'comment_published_at',\n",
       "       'is_pinned', 'is_reply', 'parent_comment_id', 'days_since_published',\n",
       "       'guest_list', 'Topic_Category'],\n",
       "      dtype='object')"
      ]
     },
     "execution_count": 13,
     "metadata": {},
     "output_type": "execute_result"
    }
   ],
   "source": [
    "df.columns"
   ]
  },
  {
   "cell_type": "code",
   "execution_count": 14,
   "id": "e77cbc2b",
   "metadata": {},
   "outputs": [
    {
     "name": "stdout",
     "output_type": "stream",
     "text": [
      "guest_list\n",
      "[Daniel Priestley, Gary Stevenson]                      51707\n",
      "[Geoffrey Hinton]                                       28392\n",
      "[Logan Ury, Scott Galloway]                             25038\n",
      "[Louise Perry, Deborah Frances-White, Erica Komisar]    24551\n",
      "[Konstantin Kisin, Daniel Priestly, Scott Galloway]     22318\n",
      "[Cathie Wood]                                           20718\n",
      "[Bret Weinstein, Daniel Priestley, Amjad Masad]         16431\n",
      "[Dr Anna Lembke]                                        13362\n",
      "[Erica Komisar]                                         12778\n",
      "[Dr Benjamin Bikman]                                    10798\n",
      "[]                                                       9263\n",
      "[Dr. William Li]                                         9262\n",
      "[MrBeast]                                                9100\n",
      "[Jefferson Fisher]                                       8022\n",
      "[Dr Nathan Bryan]                                        6946\n",
      "[Morgan Housel]                                          6833\n",
      "[Dr Daniel Amen]                                         6699\n",
      "[Dr Jordan Peterson]                                     6513\n",
      "[Simon Sinek]                                            6509\n",
      "[Paul Brunson]                                           6413\n",
      "[Dr Georgia Ede]                                         6409\n",
      "[Esther Perel]                                           5887\n",
      "[Michelle Obama, Craig Robinson]                         5772\n",
      "[Steven, Vanessa Van Edwards]                            5753\n",
      "[Steven, Evy Poumpouras]                                 5577\n",
      "[Dr. Courtney Conley]                                    5520\n",
      "[Master Shi Heng Yi]                                     5141\n",
      "[Chris Eubank Jr.]                                       4206\n",
      "[Joe Navarro]                                            4201\n",
      "[Vinh Giang]                                             3985\n",
      "[Dr Sarah Berry]                                         3812\n",
      "[Jimmy Fallon]                                           3773\n",
      "[Dr. Sarah Wakeman]                                      3531\n",
      "[Charlie Houpert]                                        3492\n",
      "[Dr Vonda Wright]                                        3413\n",
      "[Dr. Lisa Feldman Barrett]                               3306\n",
      "[Dr Bill von Hippel]                                     3259\n",
      "[Dr Stacy Sims]                                          3148\n",
      "[Dr Joe Dispenza]                                        3105\n",
      "[Mike Dowd]                                              2691\n",
      "[Alex Hormozi]                                           2549\n",
      "[Dr. Sara Szal]                                          2231\n",
      "[Dr Peter Attia]                                         2167\n",
      "[Jeff Cavaliere]                                         2086\n",
      "[Robert Greene]                                          1931\n",
      "[Emma Grede]                                             1758\n",
      "[Evan Spiegel]                                            854\n",
      "[Dr Mohit Khera]                                          844\n",
      "Name: count, dtype: int64\n",
      "\n",
      "\n",
      "Topic_Category\n",
      "mental health / psychology             90933\n",
      "finance                                58540\n",
      "health                                 52438\n",
      "entertainment                          42088\n",
      "relationships                          37695\n",
      "entrepreneurship / business            33384\n",
      "religion / spirituality                28392\n",
      "productivity / personal development    23359\n",
      "religion/spirituality                  18794\n",
      "technology                             16431\n",
      "Name: count, dtype: int64\n"
     ]
    }
   ],
   "source": [
    "print(df['guest_list'].value_counts())\n",
    "print(\"\\n\")\n",
    "print(df['Topic_Category'].value_counts())"
   ]
  },
  {
   "cell_type": "code",
   "execution_count": 15,
   "id": "0e8b20c7",
   "metadata": {},
   "outputs": [
    {
     "name": "stdout",
     "output_type": "stream",
     "text": [
      "['Alex Hormozi', 'Amjad Masad', 'Bret Weinstein', 'Cathie Wood', 'Charlie Houpert', 'Chris Eubank Jr.', 'Craig Robinson', 'Daniel Priestley', 'Daniel Priestly', 'Deborah Frances-White', 'Dr Anna Lembke', 'Dr Benjamin Bikman', 'Dr Bill von Hippel', 'Dr Daniel Amen', 'Dr Georgia Ede', 'Dr Joe Dispenza', 'Dr Jordan Peterson', 'Dr Mohit Khera', 'Dr Nathan Bryan', 'Dr Peter Attia', 'Dr Sarah Berry', 'Dr Stacy Sims', 'Dr Vonda Wright', 'Dr. Courtney Conley', 'Dr. Lisa Feldman Barrett', 'Dr. Sara Szal', 'Dr. Sarah Wakeman', 'Dr. William Li', 'Emma Grede', 'Erica Komisar', 'Esther Perel', 'Evan Spiegel', 'Evy Poumpouras', 'Gary Stevenson', 'Geoffrey Hinton', 'Jeff Cavaliere', 'Jefferson Fisher', 'Jimmy Fallon', 'Joe Navarro', 'Konstantin Kisin', 'Logan Ury', 'Louise Perry', 'Master Shi Heng Yi', 'Michelle Obama', 'Mike Dowd', 'Morgan Housel', 'MrBeast', 'Paul Brunson', 'Robert Greene', 'Scott Galloway', 'Simon Sinek', 'Steven', 'Vanessa Van Edwards', 'Vinh Giang']\n"
     ]
    }
   ],
   "source": [
    "unique_guests = sorted({g for lst in df[\"guest_list\"] for g in lst})\n",
    "print(unique_guests)"
   ]
  },
  {
   "cell_type": "code",
   "execution_count": 16,
   "id": "160350e4",
   "metadata": {},
   "outputs": [],
   "source": [
    "##### #### Quick Name Clean up to clear misspellings #####\n",
    "##### Standardize guest names using fuzzy matching #####\n",
    "\n",
    "from rapidfuzz import process, fuzz\n",
    "\n",
    "def standardize_guest_names(guest_lists, threshold=90):\n",
    "    \"\"\"\n",
    "    Standardize guest names using fuzzy matching.\n",
    "    - Works across all names in guest_lists.\n",
    "    - Groups near-identical names under the same canonical version.\n",
    "    \"\"\"\n",
    "    # Flatten and collect unique names\n",
    "    all_names = sorted({g for lst in guest_lists for g in lst if isinstance(g, str)})\n",
    "    name_map = {}\n",
    "\n",
    "    for name in all_names:\n",
    "        # If we already have entries, try to match this name to an existing canonical one\n",
    "        if name_map:\n",
    "            result = process.extractOne(\n",
    "                name,\n",
    "                name_map.keys(),\n",
    "                scorer=fuzz.token_sort_ratio\n",
    "            )\n",
    "            if result:\n",
    "                match, score, _ = result\n",
    "                if score >= threshold:\n",
    "                    name_map[name] = match\n",
    "                    continue  # found a close match, move on\n",
    "        # Otherwise, or if no good match found → new canonical entry\n",
    "        name_map[name] = name\n",
    "\n",
    "    return name_map"
   ]
  },
  {
   "cell_type": "code",
   "execution_count": 17,
   "id": "f9c5c795",
   "metadata": {},
   "outputs": [],
   "source": [
    "mapping = standardize_guest_names(df[\"guest_list\"])\n",
    "df[\"guest_list\"] = df[\"guest_list\"].apply(lambda lst: [mapping[g] for g in lst])"
   ]
  },
  {
   "cell_type": "code",
   "execution_count": 18,
   "id": "39986d04",
   "metadata": {},
   "outputs": [
    {
     "name": "stdout",
     "output_type": "stream",
     "text": [
      "guest_list\n",
      "[Daniel Priestley, Gary Stevenson]                      51707\n",
      "[Geoffrey Hinton]                                       28392\n",
      "[Logan Ury, Scott Galloway]                             25038\n",
      "[Louise Perry, Deborah Frances-White, Erica Komisar]    24551\n",
      "[Konstantin Kisin, Daniel Priestley, Scott Galloway]    22318\n",
      "[Cathie Wood]                                           20718\n",
      "[Bret Weinstein, Daniel Priestley, Amjad Masad]         16431\n",
      "[Dr Anna Lembke]                                        13362\n",
      "[Erica Komisar]                                         12778\n",
      "[Dr Benjamin Bikman]                                    10798\n",
      "[]                                                       9263\n",
      "[Dr. William Li]                                         9262\n",
      "[MrBeast]                                                9100\n",
      "[Jefferson Fisher]                                       8022\n",
      "[Dr Nathan Bryan]                                        6946\n",
      "[Morgan Housel]                                          6833\n",
      "[Dr Daniel Amen]                                         6699\n",
      "[Dr Jordan Peterson]                                     6513\n",
      "[Simon Sinek]                                            6509\n",
      "[Paul Brunson]                                           6413\n",
      "[Dr Georgia Ede]                                         6409\n",
      "[Esther Perel]                                           5887\n",
      "[Michelle Obama, Craig Robinson]                         5772\n",
      "[Steven, Vanessa Van Edwards]                            5753\n",
      "[Steven, Evy Poumpouras]                                 5577\n",
      "[Dr. Courtney Conley]                                    5520\n",
      "[Master Shi Heng Yi]                                     5141\n",
      "[Chris Eubank Jr.]                                       4206\n",
      "[Joe Navarro]                                            4201\n",
      "[Vinh Giang]                                             3985\n",
      "[Dr Sarah Berry]                                         3812\n",
      "[Jimmy Fallon]                                           3773\n",
      "[Dr. Sarah Wakeman]                                      3531\n",
      "[Charlie Houpert]                                        3492\n",
      "[Dr Vonda Wright]                                        3413\n",
      "[Dr. Lisa Feldman Barrett]                               3306\n",
      "[Dr Bill von Hippel]                                     3259\n",
      "[Dr Stacy Sims]                                          3148\n",
      "[Dr Joe Dispenza]                                        3105\n",
      "[Mike Dowd]                                              2691\n",
      "[Alex Hormozi]                                           2549\n",
      "[Dr. Sara Szal]                                          2231\n",
      "[Dr Peter Attia]                                         2167\n",
      "[Jeff Cavaliere]                                         2086\n",
      "[Robert Greene]                                          1931\n",
      "[Emma Grede]                                             1758\n",
      "[Evan Spiegel]                                            854\n",
      "[Dr Mohit Khera]                                          844\n",
      "Name: count, dtype: int64\n"
     ]
    }
   ],
   "source": [
    "print(df['guest_list'].value_counts())"
   ]
  },
  {
   "cell_type": "code",
   "execution_count": 19,
   "id": "5d809a60",
   "metadata": {},
   "outputs": [],
   "source": [
    "video_df = (\n",
    "    df.drop_duplicates(subset=\"video_id\")\n",
    "      .loc[:, [\"days_since_published\",\"video_id\", \"video_title\", \"guest_list\", \"Topic_Category\",\n",
    "               \"view_count\", \"video_like_count\", \"comment_count\"]]\n",
    ")"
   ]
  },
  {
   "cell_type": "code",
   "execution_count": 20,
   "id": "9aff7007",
   "metadata": {},
   "outputs": [],
   "source": [
    "video_df[\"n_guests\"] = video_df[\"guest_list\"].apply(lambda x: len(x) if isinstance(x, list) and len(x) > 0 else 1)\n",
    "video_df[\"views_per_guest\"] = (video_df[\"view_count\"] / video_df[\"n_guests\"]).round(2)\n",
    "video_df[\"likes_per_guest\"] = (video_df[\"video_like_count\"] / video_df[\"n_guests\"]).round(2)\n",
    "video_df[\"comments_per_guest\"] = (video_df[\"comment_count\"] / video_df[\"n_guests\"]).round(2)\n",
    "\n",
    "# Now safely explode\n",
    "guest_df = video_df.explode(\"guest_list\")\n",
    "\n",
    "# Each guest gets fair share\n",
    "guest_df = guest_df.rename(columns={\"guest_list\": \"guest\"})"
   ]
  },
  {
   "cell_type": "code",
   "execution_count": 21,
   "id": "1a89a5db",
   "metadata": {},
   "outputs": [
    {
     "name": "stdout",
     "output_type": "stream",
     "text": [
      "(59, 12)\n"
     ]
    },
    {
     "data": {
      "text/html": [
       "<div>\n",
       "<style scoped>\n",
       "    .dataframe tbody tr th:only-of-type {\n",
       "        vertical-align: middle;\n",
       "    }\n",
       "\n",
       "    .dataframe tbody tr th {\n",
       "        vertical-align: top;\n",
       "    }\n",
       "\n",
       "    .dataframe thead th {\n",
       "        text-align: right;\n",
       "    }\n",
       "</style>\n",
       "<table border=\"1\" class=\"dataframe\">\n",
       "  <thead>\n",
       "    <tr style=\"text-align: right;\">\n",
       "      <th></th>\n",
       "      <th>days_since_published</th>\n",
       "      <th>video_id</th>\n",
       "      <th>video_title</th>\n",
       "      <th>guest</th>\n",
       "      <th>Topic_Category</th>\n",
       "      <th>view_count</th>\n",
       "      <th>video_like_count</th>\n",
       "      <th>comment_count</th>\n",
       "      <th>n_guests</th>\n",
       "      <th>views_per_guest</th>\n",
       "      <th>likes_per_guest</th>\n",
       "      <th>comments_per_guest</th>\n",
       "    </tr>\n",
       "  </thead>\n",
       "  <tbody>\n",
       "    <tr>\n",
       "      <th>0</th>\n",
       "      <td>286</td>\n",
       "      <td>B7tnfSPySb0</td>\n",
       "      <td>The Keto Psychiatrist: What Keto Is Really Doing To Your Body! Can It Cure 43% Of Mental Illness?</td>\n",
       "      <td>Dr Georgia Ede</td>\n",
       "      <td>mental health / psychology</td>\n",
       "      <td>2038491</td>\n",
       "      <td>61491</td>\n",
       "      <td>6274</td>\n",
       "      <td>1</td>\n",
       "      <td>2038491.00</td>\n",
       "      <td>61491.00</td>\n",
       "      <td>6274.00</td>\n",
       "    </tr>\n",
       "    <tr>\n",
       "      <th>6409</th>\n",
       "      <td>132</td>\n",
       "      <td>ZHuZ_8VYCWA</td>\n",
       "      <td>DEBATE: Feminist Women Vs Non-Feminist Women</td>\n",
       "      <td>Louise Perry</td>\n",
       "      <td>relationships</td>\n",
       "      <td>1968583</td>\n",
       "      <td>46664</td>\n",
       "      <td>24218</td>\n",
       "      <td>3</td>\n",
       "      <td>656194.33</td>\n",
       "      <td>15554.67</td>\n",
       "      <td>8072.67</td>\n",
       "    </tr>\n",
       "    <tr>\n",
       "      <th>6409</th>\n",
       "      <td>132</td>\n",
       "      <td>ZHuZ_8VYCWA</td>\n",
       "      <td>DEBATE: Feminist Women Vs Non-Feminist Women</td>\n",
       "      <td>Deborah Frances-White</td>\n",
       "      <td>relationships</td>\n",
       "      <td>1968583</td>\n",
       "      <td>46664</td>\n",
       "      <td>24218</td>\n",
       "      <td>3</td>\n",
       "      <td>656194.33</td>\n",
       "      <td>15554.67</td>\n",
       "      <td>8072.67</td>\n",
       "    </tr>\n",
       "    <tr>\n",
       "      <th>6409</th>\n",
       "      <td>132</td>\n",
       "      <td>ZHuZ_8VYCWA</td>\n",
       "      <td>DEBATE: Feminist Women Vs Non-Feminist Women</td>\n",
       "      <td>Erica Komisar</td>\n",
       "      <td>relationships</td>\n",
       "      <td>1968583</td>\n",
       "      <td>46664</td>\n",
       "      <td>24218</td>\n",
       "      <td>3</td>\n",
       "      <td>656194.33</td>\n",
       "      <td>15554.67</td>\n",
       "      <td>8072.67</td>\n",
       "    </tr>\n",
       "    <tr>\n",
       "      <th>30960</th>\n",
       "      <td>247</td>\n",
       "      <td>7l_0ZcSuRwg</td>\n",
       "      <td>Secret Agent: If You’re Easily Offended, You’re Easily Manipulated! This 1 Trick Catches A Lie In 2s</td>\n",
       "      <td>Steven</td>\n",
       "      <td>productivity / personal development</td>\n",
       "      <td>3806975</td>\n",
       "      <td>112769</td>\n",
       "      <td>5411</td>\n",
       "      <td>2</td>\n",
       "      <td>1903487.50</td>\n",
       "      <td>56384.50</td>\n",
       "      <td>2705.50</td>\n",
       "    </tr>\n",
       "    <tr>\n",
       "      <th>30960</th>\n",
       "      <td>247</td>\n",
       "      <td>7l_0ZcSuRwg</td>\n",
       "      <td>Secret Agent: If You’re Easily Offended, You’re Easily Manipulated! This 1 Trick Catches A Lie In 2s</td>\n",
       "      <td>Evy Poumpouras</td>\n",
       "      <td>productivity / personal development</td>\n",
       "      <td>3806975</td>\n",
       "      <td>112769</td>\n",
       "      <td>5411</td>\n",
       "      <td>2</td>\n",
       "      <td>1903487.50</td>\n",
       "      <td>56384.50</td>\n",
       "      <td>2705.50</td>\n",
       "    </tr>\n",
       "    <tr>\n",
       "      <th>36537</th>\n",
       "      <td>184</td>\n",
       "      <td>uxu37dqVR90</td>\n",
       "      <td>The Savings Expert: The Truth About America Collapsing! The Cost Of Living Is About To Skyrocket!</td>\n",
       "      <td>Morgan Housel</td>\n",
       "      <td>finance</td>\n",
       "      <td>2820273</td>\n",
       "      <td>57474</td>\n",
       "      <td>6755</td>\n",
       "      <td>1</td>\n",
       "      <td>2820273.00</td>\n",
       "      <td>57474.00</td>\n",
       "      <td>6755.00</td>\n",
       "    </tr>\n",
       "    <tr>\n",
       "      <th>43370</th>\n",
       "      <td>254</td>\n",
       "      <td>9gk3mNJs2FY</td>\n",
       "      <td>The Sex Psychologist: We're Not Having Enough Sex! Fat Makes You Attractive! Dr Bill Von Hippel</td>\n",
       "      <td>Dr Bill von Hippel</td>\n",
       "      <td>mental health / psychology</td>\n",
       "      <td>1095572</td>\n",
       "      <td>21074</td>\n",
       "      <td>3206</td>\n",
       "      <td>1</td>\n",
       "      <td>1095572.00</td>\n",
       "      <td>21074.00</td>\n",
       "      <td>3206.00</td>\n",
       "    </tr>\n",
       "    <tr>\n",
       "      <th>46629</th>\n",
       "      <td>205</td>\n",
       "      <td>ZxXruY7llcc</td>\n",
       "      <td>Peter Attia: Anti-aging Cure No One Talks About! 50% Chance You’ll Die In A Year If This Happens!</td>\n",
       "      <td>Dr Peter Attia</td>\n",
       "      <td>health</td>\n",
       "      <td>1450645</td>\n",
       "      <td>31924</td>\n",
       "      <td>2108</td>\n",
       "      <td>1</td>\n",
       "      <td>1450645.00</td>\n",
       "      <td>31924.00</td>\n",
       "      <td>2108.00</td>\n",
       "    </tr>\n",
       "    <tr>\n",
       "      <th>48796</th>\n",
       "      <td>216</td>\n",
       "      <td>0GQozcTPyO0</td>\n",
       "      <td>Hormone Expert: Control Your Hormones Control Your Belly Fat! Cortisol, oestrogen, testosterone.</td>\n",
       "      <td>Dr. Sara Szal</td>\n",
       "      <td>health</td>\n",
       "      <td>932985</td>\n",
       "      <td>28358</td>\n",
       "      <td>2168</td>\n",
       "      <td>1</td>\n",
       "      <td>932985.00</td>\n",
       "      <td>28358.00</td>\n",
       "      <td>2168.00</td>\n",
       "    </tr>\n",
       "    <tr>\n",
       "      <th>51027</th>\n",
       "      <td>177</td>\n",
       "      <td>EdlXcVu1CTs</td>\n",
       "      <td>The Business Expert: How To Build A Brand In 2025! They're Lying To You About Work-Life Balance!</td>\n",
       "      <td>Emma Grede</td>\n",
       "      <td>productivity / personal development</td>\n",
       "      <td>854152</td>\n",
       "      <td>14482</td>\n",
       "      <td>1738</td>\n",
       "      <td>1</td>\n",
       "      <td>854152.00</td>\n",
       "      <td>14482.00</td>\n",
       "      <td>1738.00</td>\n",
       "    </tr>\n",
       "    <tr>\n",
       "      <th>52785</th>\n",
       "      <td>296</td>\n",
       "      <td>It5_C6AF1pk</td>\n",
       "      <td>Exercise &amp; Nutrition Scientist: The Truth About Exercise On Your Period! Take These 4 Supplements!</td>\n",
       "      <td>Dr Stacy Sims</td>\n",
       "      <td>health</td>\n",
       "      <td>1624462</td>\n",
       "      <td>48760</td>\n",
       "      <td>3137</td>\n",
       "      <td>1</td>\n",
       "      <td>1624462.00</td>\n",
       "      <td>48760.00</td>\n",
       "      <td>3137.00</td>\n",
       "    </tr>\n",
       "    <tr>\n",
       "      <th>55933</th>\n",
       "      <td>289</td>\n",
       "      <td>Hik6OY-nk4c</td>\n",
       "      <td>Jordan B Peterson: You Need To Listen To Your Wife! We've Built A Lonely &amp; Sexless Society!</td>\n",
       "      <td>Dr Jordan Peterson</td>\n",
       "      <td>religion/spirituality</td>\n",
       "      <td>2046763</td>\n",
       "      <td>54184</td>\n",
       "      <td>6392</td>\n",
       "      <td>1</td>\n",
       "      <td>2046763.00</td>\n",
       "      <td>54184.00</td>\n",
       "      <td>6392.00</td>\n",
       "    </tr>\n",
       "    <tr>\n",
       "      <th>62446</th>\n",
       "      <td>188</td>\n",
       "      <td>atejm2w2jWY</td>\n",
       "      <td>Shaolin Warrior Master: Hidden Epidemic Nobody Talks About! This Modern Habit Is Killing Millions!</td>\n",
       "      <td>Master Shi Heng Yi</td>\n",
       "      <td>health</td>\n",
       "      <td>2868687</td>\n",
       "      <td>83672</td>\n",
       "      <td>5055</td>\n",
       "      <td>1</td>\n",
       "      <td>2868687.00</td>\n",
       "      <td>83672.00</td>\n",
       "      <td>5055.00</td>\n",
       "    </tr>\n",
       "    <tr>\n",
       "      <th>67587</th>\n",
       "      <td>202</td>\n",
       "      <td>ldizQkuWpDE</td>\n",
       "      <td>Body Language Expert Explains Why People Dislike You</td>\n",
       "      <td>Steven</td>\n",
       "      <td>mental health / psychology</td>\n",
       "      <td>2224325</td>\n",
       "      <td>58672</td>\n",
       "      <td>5625</td>\n",
       "      <td>2</td>\n",
       "      <td>1112162.50</td>\n",
       "      <td>29336.00</td>\n",
       "      <td>2812.50</td>\n",
       "    </tr>\n",
       "    <tr>\n",
       "      <th>67587</th>\n",
       "      <td>202</td>\n",
       "      <td>ldizQkuWpDE</td>\n",
       "      <td>Body Language Expert Explains Why People Dislike You</td>\n",
       "      <td>Vanessa Van Edwards</td>\n",
       "      <td>mental health / psychology</td>\n",
       "      <td>2224325</td>\n",
       "      <td>58672</td>\n",
       "      <td>5625</td>\n",
       "      <td>2</td>\n",
       "      <td>1112162.50</td>\n",
       "      <td>29336.00</td>\n",
       "      <td>2812.50</td>\n",
       "    </tr>\n",
       "    <tr>\n",
       "      <th>73340</th>\n",
       "      <td>265</td>\n",
       "      <td>NyFSkGMWP5Q</td>\n",
       "      <td>The Insulin &amp; Glucose Doctor: This Will Strip Your Fat Faster Than Anything!</td>\n",
       "      <td>Dr Benjamin Bikman</td>\n",
       "      <td>health</td>\n",
       "      <td>5387358</td>\n",
       "      <td>162020</td>\n",
       "      <td>10597</td>\n",
       "      <td>1</td>\n",
       "      <td>5387358.00</td>\n",
       "      <td>162020.00</td>\n",
       "      <td>10597.00</td>\n",
       "    </tr>\n",
       "    <tr>\n",
       "      <th>84138</th>\n",
       "      <td>230</td>\n",
       "      <td>G4hkYDjPSFs</td>\n",
       "      <td>Secret To Living Without Fear &amp; Anxiety Forever! Your Mind Can Heal Itself! - Dr. Joe Dispenza</td>\n",
       "      <td>Dr Joe Dispenza</td>\n",
       "      <td>mental health / psychology</td>\n",
       "      <td>2707502</td>\n",
       "      <td>59209</td>\n",
       "      <td>2976</td>\n",
       "      <td>1</td>\n",
       "      <td>2707502.00</td>\n",
       "      <td>59209.00</td>\n",
       "      <td>2976.00</td>\n",
       "    </tr>\n",
       "    <tr>\n",
       "      <th>87243</th>\n",
       "      <td>239</td>\n",
       "      <td>cialLfVZqm4</td>\n",
       "      <td>Child Attachment Expert: We're Stressing Newborns &amp; It's Causing ADHD! Hidden Dangers Of Daycare!</td>\n",
       "      <td>Erica Komisar</td>\n",
       "      <td>mental health / psychology</td>\n",
       "      <td>3248752</td>\n",
       "      <td>85762</td>\n",
       "      <td>12441</td>\n",
       "      <td>1</td>\n",
       "      <td>3248752.00</td>\n",
       "      <td>85762.00</td>\n",
       "      <td>12441.00</td>\n",
       "    </tr>\n",
       "    <tr>\n",
       "      <th>100021</th>\n",
       "      <td>195</td>\n",
       "      <td>rCtvAvZtJyE</td>\n",
       "      <td>(Major Discovery) No.1 Neuroscientist: Anxiety Is Just A Predictive Error In The Brain!</td>\n",
       "      <td>Dr. Lisa Feldman Barrett</td>\n",
       "      <td>mental health / psychology</td>\n",
       "      <td>1739040</td>\n",
       "      <td>46726</td>\n",
       "      <td>3249</td>\n",
       "      <td>1</td>\n",
       "      <td>1739040.00</td>\n",
       "      <td>46726.00</td>\n",
       "      <td>3249.00</td>\n",
       "    </tr>\n",
       "    <tr>\n",
       "      <th>103327</th>\n",
       "      <td>293</td>\n",
       "      <td>IgW1jepnJp4</td>\n",
       "      <td>Get Your Sex Life Back! What Everyone Gets Wrong About Sex, Libido &amp; Erectile Dysfunction - Dr Khera</td>\n",
       "      <td>Dr Mohit Khera</td>\n",
       "      <td>relationships</td>\n",
       "      <td>729839</td>\n",
       "      <td>12731</td>\n",
       "      <td>826</td>\n",
       "      <td>1</td>\n",
       "      <td>729839.00</td>\n",
       "      <td>12731.00</td>\n",
       "      <td>826.00</td>\n",
       "    </tr>\n",
       "    <tr>\n",
       "      <th>104171</th>\n",
       "      <td>223</td>\n",
       "      <td>4yohVh4qcas</td>\n",
       "      <td>EMERGENCY DEBATE: They Lied About The Economy Recovering! Is A Financial Apocalypse Coming?</td>\n",
       "      <td>Daniel Priestley</td>\n",
       "      <td>finance</td>\n",
       "      <td>4851575</td>\n",
       "      <td>98675</td>\n",
       "      <td>51092</td>\n",
       "      <td>2</td>\n",
       "      <td>2425787.50</td>\n",
       "      <td>49337.50</td>\n",
       "      <td>25546.00</td>\n",
       "    </tr>\n",
       "    <tr>\n",
       "      <th>104171</th>\n",
       "      <td>223</td>\n",
       "      <td>4yohVh4qcas</td>\n",
       "      <td>EMERGENCY DEBATE: They Lied About The Economy Recovering! Is A Financial Apocalypse Coming?</td>\n",
       "      <td>Gary Stevenson</td>\n",
       "      <td>finance</td>\n",
       "      <td>4851575</td>\n",
       "      <td>98675</td>\n",
       "      <td>51092</td>\n",
       "      <td>2</td>\n",
       "      <td>2425787.50</td>\n",
       "      <td>49337.50</td>\n",
       "      <td>25546.00</td>\n",
       "    </tr>\n",
       "    <tr>\n",
       "      <th>155878</th>\n",
       "      <td>212</td>\n",
       "      <td>li70iz1NaDY</td>\n",
       "      <td>Young Men Are (Quietly) Giving Up...Here’s Why!</td>\n",
       "      <td>Logan Ury</td>\n",
       "      <td>mental health / psychology</td>\n",
       "      <td>2182115</td>\n",
       "      <td>50795</td>\n",
       "      <td>24835</td>\n",
       "      <td>2</td>\n",
       "      <td>1091057.50</td>\n",
       "      <td>25397.50</td>\n",
       "      <td>12417.50</td>\n",
       "    </tr>\n",
       "    <tr>\n",
       "      <th>155878</th>\n",
       "      <td>212</td>\n",
       "      <td>li70iz1NaDY</td>\n",
       "      <td>Young Men Are (Quietly) Giving Up...Here’s Why!</td>\n",
       "      <td>Scott Galloway</td>\n",
       "      <td>mental health / psychology</td>\n",
       "      <td>2182115</td>\n",
       "      <td>50795</td>\n",
       "      <td>24835</td>\n",
       "      <td>2</td>\n",
       "      <td>1091057.50</td>\n",
       "      <td>25397.50</td>\n",
       "      <td>12417.50</td>\n",
       "    </tr>\n",
       "    <tr>\n",
       "      <th>180916</th>\n",
       "      <td>198</td>\n",
       "      <td>zECoaEZRRFU</td>\n",
       "      <td>No.1 Nitric Oxide Expert: This is the anti-aging cure no one is talking about!</td>\n",
       "      <td>Dr Nathan Bryan</td>\n",
       "      <td>health</td>\n",
       "      <td>2440853</td>\n",
       "      <td>104461</td>\n",
       "      <td>6803</td>\n",
       "      <td>1</td>\n",
       "      <td>2440853.00</td>\n",
       "      <td>104461.00</td>\n",
       "      <td>6803.00</td>\n",
       "    </tr>\n",
       "    <tr>\n",
       "      <th>187862</th>\n",
       "      <td>135</td>\n",
       "      <td>giT0ytynSqg</td>\n",
       "      <td>Godfather of AI: They Keep Silencing Me But I’m Trying to Warn Them!</td>\n",
       "      <td>Geoffrey Hinton</td>\n",
       "      <td>religion / spirituality</td>\n",
       "      <td>10774074</td>\n",
       "      <td>240870</td>\n",
       "      <td>27956</td>\n",
       "      <td>1</td>\n",
       "      <td>10774074.00</td>\n",
       "      <td>240870.00</td>\n",
       "      <td>27956.00</td>\n",
       "    </tr>\n",
       "    <tr>\n",
       "      <th>216254</th>\n",
       "      <td>237</td>\n",
       "      <td>ffgpqk5hZBE</td>\n",
       "      <td>The Truth About Creatine &amp; Exercise! 30% Of People Will Die From This! The Healthy Ageing Doctor</td>\n",
       "      <td>Dr Vonda Wright</td>\n",
       "      <td>health</td>\n",
       "      <td>2653505</td>\n",
       "      <td>67076</td>\n",
       "      <td>3329</td>\n",
       "      <td>1</td>\n",
       "      <td>2653505.00</td>\n",
       "      <td>67076.00</td>\n",
       "      <td>3329.00</td>\n",
       "    </tr>\n",
       "    <tr>\n",
       "      <th>219667</th>\n",
       "      <td>191</td>\n",
       "      <td>ZuiIvevLg40</td>\n",
       "      <td>Former FBI Agent: If They Do This Please RUN! Narcissists Favourite Trick To Control You!</td>\n",
       "      <td>Joe Navarro</td>\n",
       "      <td>mental health / psychology</td>\n",
       "      <td>3330593</td>\n",
       "      <td>80056</td>\n",
       "      <td>4059</td>\n",
       "      <td>1</td>\n",
       "      <td>3330593.00</td>\n",
       "      <td>80056.00</td>\n",
       "      <td>4059.00</td>\n",
       "    </tr>\n",
       "    <tr>\n",
       "      <th>223868</th>\n",
       "      <td>146</td>\n",
       "      <td>ZznpMh0DegE</td>\n",
       "      <td>Invest in This – It’ll Be Worth $1.5 Million by 2030 | World Leading Investing Expert</td>\n",
       "      <td>Cathie Wood</td>\n",
       "      <td>entrepreneurship / business</td>\n",
       "      <td>5291988</td>\n",
       "      <td>131318</td>\n",
       "      <td>10125</td>\n",
       "      <td>1</td>\n",
       "      <td>5291988.00</td>\n",
       "      <td>131318.00</td>\n",
       "      <td>10125.00</td>\n",
       "    </tr>\n",
       "    <tr>\n",
       "      <th>234227</th>\n",
       "      <td>233</td>\n",
       "      <td>oIiv_335yus</td>\n",
       "      <td>No. 1 Communication Expert: This Speaking Mistake Makes People Dislike You! Vinh Giang</td>\n",
       "      <td>Vinh Giang</td>\n",
       "      <td>productivity / personal development</td>\n",
       "      <td>3084661</td>\n",
       "      <td>89186</td>\n",
       "      <td>3902</td>\n",
       "      <td>1</td>\n",
       "      <td>3084661.00</td>\n",
       "      <td>89186.00</td>\n",
       "      <td>3902.00</td>\n",
       "    </tr>\n",
       "    <tr>\n",
       "      <th>238212</th>\n",
       "      <td>139</td>\n",
       "      <td>QCaFWrT0j-g</td>\n",
       "      <td>Sex Expert (Esther Perel): The Relationship Crisis No One Talks About That's Killing Your Sex Life!</td>\n",
       "      <td>Esther Perel</td>\n",
       "      <td>relationships</td>\n",
       "      <td>1876083</td>\n",
       "      <td>42802</td>\n",
       "      <td>5794</td>\n",
       "      <td>1</td>\n",
       "      <td>1876083.00</td>\n",
       "      <td>42802.00</td>\n",
       "      <td>5794.00</td>\n",
       "    </tr>\n",
       "    <tr>\n",
       "      <th>244099</th>\n",
       "      <td>153</td>\n",
       "      <td>CMzEnLkS2rQ</td>\n",
       "      <td>The Foot Expert: Your Toes Can Predict If You’ll Die Early! This Will Fix Plantar Fasciitis!</td>\n",
       "      <td>Dr. Courtney Conley</td>\n",
       "      <td>health</td>\n",
       "      <td>2637190</td>\n",
       "      <td>85971</td>\n",
       "      <td>5365</td>\n",
       "      <td>1</td>\n",
       "      <td>2637190.00</td>\n",
       "      <td>85971.00</td>\n",
       "      <td>5365.00</td>\n",
       "    </tr>\n",
       "    <tr>\n",
       "      <th>249619</th>\n",
       "      <td>275</td>\n",
       "      <td>eOnIWDMNyfE</td>\n",
       "      <td>The Nutritional Scientist: Do Not Eat After 9pm! Link Between Chewing &amp; Belly Fat!</td>\n",
       "      <td>Dr Sarah Berry</td>\n",
       "      <td>health</td>\n",
       "      <td>749464</td>\n",
       "      <td>15169</td>\n",
       "      <td>3700</td>\n",
       "      <td>1</td>\n",
       "      <td>749464.00</td>\n",
       "      <td>15169.00</td>\n",
       "      <td>3700.00</td>\n",
       "    </tr>\n",
       "    <tr>\n",
       "      <th>253431</th>\n",
       "      <td>156</td>\n",
       "      <td>W4tqbEmplug</td>\n",
       "      <td>Simon Sinek: You're Being Lied To About AI's Real Purpose! We're Teaching Our Kids To Not Be Human!</td>\n",
       "      <td>Simon Sinek</td>\n",
       "      <td>religion/spirituality</td>\n",
       "      <td>3193537</td>\n",
       "      <td>72590</td>\n",
       "      <td>6348</td>\n",
       "      <td>1</td>\n",
       "      <td>3193537.00</td>\n",
       "      <td>72590.00</td>\n",
       "      <td>6348.00</td>\n",
       "    </tr>\n",
       "    <tr>\n",
       "      <th>259940</th>\n",
       "      <td>219</td>\n",
       "      <td>rBM6lGk4-fk</td>\n",
       "      <td>Exact Formula Used To Build A $130 Billion Company! I Said No to $3B From Mark Zuckerberg!</td>\n",
       "      <td>Evan Spiegel</td>\n",
       "      <td>entrepreneurship / business</td>\n",
       "      <td>743779</td>\n",
       "      <td>12773</td>\n",
       "      <td>834</td>\n",
       "      <td>1</td>\n",
       "      <td>743779.00</td>\n",
       "      <td>12773.00</td>\n",
       "      <td>834.00</td>\n",
       "    </tr>\n",
       "    <tr>\n",
       "      <th>260794</th>\n",
       "      <td>258</td>\n",
       "      <td>Kl-I7sUcAOY</td>\n",
       "      <td>The Man That Makes Millionaires: Turn $0 to $10k With This Step By Step Formula! Alex Hormozi</td>\n",
       "      <td>Alex Hormozi</td>\n",
       "      <td>entrepreneurship / business</td>\n",
       "      <td>2577451</td>\n",
       "      <td>55216</td>\n",
       "      <td>2487</td>\n",
       "      <td>1</td>\n",
       "      <td>2577451.00</td>\n",
       "      <td>55216.00</td>\n",
       "      <td>2487.00</td>\n",
       "    </tr>\n",
       "    <tr>\n",
       "      <th>263343</th>\n",
       "      <td>160</td>\n",
       "      <td>Fg7U-BhiZGE</td>\n",
       "      <td>They Lied About Alcohol’s Effect On Your Brain! Here’s The Proof | Dr. Sarah Wakeman</td>\n",
       "      <td>Dr. Sarah Wakeman</td>\n",
       "      <td>mental health / psychology</td>\n",
       "      <td>1353314</td>\n",
       "      <td>31199</td>\n",
       "      <td>3456</td>\n",
       "      <td>1</td>\n",
       "      <td>1353314.00</td>\n",
       "      <td>31199.00</td>\n",
       "      <td>3456.00</td>\n",
       "    </tr>\n",
       "    <tr>\n",
       "      <th>277233</th>\n",
       "      <td>282</td>\n",
       "      <td>sFkR34AMPw8</td>\n",
       "      <td>The Money Making Expert: The 7,11,4 Hack That Turns $1 Into $10K Per Month! Daniel Priestley</td>\n",
       "      <td>NaN</td>\n",
       "      <td>entrepreneurship / business</td>\n",
       "      <td>3551557</td>\n",
       "      <td>86817</td>\n",
       "      <td>9132</td>\n",
       "      <td>1</td>\n",
       "      <td>3551557.00</td>\n",
       "      <td>86817.00</td>\n",
       "      <td>9132.00</td>\n",
       "    </tr>\n",
       "    <tr>\n",
       "      <th>286496</th>\n",
       "      <td>272</td>\n",
       "      <td>6ikIGGi859w</td>\n",
       "      <td>Paul Brunson: Women Need To Lower Their Standards! If They Have These 3 Traits, Never Let Them Go!</td>\n",
       "      <td>Paul Brunson</td>\n",
       "      <td>relationships</td>\n",
       "      <td>1200300</td>\n",
       "      <td>24059</td>\n",
       "      <td>6334</td>\n",
       "      <td>1</td>\n",
       "      <td>1200300.00</td>\n",
       "      <td>24059.00</td>\n",
       "      <td>6334.00</td>\n",
       "    </tr>\n",
       "    <tr>\n",
       "      <th>292909</th>\n",
       "      <td>300</td>\n",
       "      <td>R6xbXOp7wDA</td>\n",
       "      <td>Dopamine Expert: Doing This Once A Day Fixes Your Dopamine! What Alcohol Is Doing To Your Brain!</td>\n",
       "      <td>Dr Anna Lembke</td>\n",
       "      <td>mental health / psychology</td>\n",
       "      <td>5043118</td>\n",
       "      <td>163175</td>\n",
       "      <td>13061</td>\n",
       "      <td>1</td>\n",
       "      <td>5043118.00</td>\n",
       "      <td>163175.00</td>\n",
       "      <td>13061.00</td>\n",
       "    </tr>\n",
       "    <tr>\n",
       "      <th>306271</th>\n",
       "      <td>149</td>\n",
       "      <td>yHCtfU3syM4</td>\n",
       "      <td>Jimmy Fallon: I Didn't Expect It To Be This Brutal! The Hate Was Something I Wasn’t Prepared For!</td>\n",
       "      <td>Jimmy Fallon</td>\n",
       "      <td>entertainment</td>\n",
       "      <td>2343368</td>\n",
       "      <td>58835</td>\n",
       "      <td>3655</td>\n",
       "      <td>1</td>\n",
       "      <td>2343368.00</td>\n",
       "      <td>58835.00</td>\n",
       "      <td>3655.00</td>\n",
       "    </tr>\n",
       "    <tr>\n",
       "      <th>310044</th>\n",
       "      <td>170</td>\n",
       "      <td>JMYQmGfTltY</td>\n",
       "      <td>AI AGENTS DEBATE: These Jobs Won't Exist In 24 Months!</td>\n",
       "      <td>Bret Weinstein</td>\n",
       "      <td>technology</td>\n",
       "      <td>3163223</td>\n",
       "      <td>63647</td>\n",
       "      <td>16094</td>\n",
       "      <td>3</td>\n",
       "      <td>1054407.67</td>\n",
       "      <td>21215.67</td>\n",
       "      <td>5364.67</td>\n",
       "    </tr>\n",
       "    <tr>\n",
       "      <th>310044</th>\n",
       "      <td>170</td>\n",
       "      <td>JMYQmGfTltY</td>\n",
       "      <td>AI AGENTS DEBATE: These Jobs Won't Exist In 24 Months!</td>\n",
       "      <td>Daniel Priestley</td>\n",
       "      <td>technology</td>\n",
       "      <td>3163223</td>\n",
       "      <td>63647</td>\n",
       "      <td>16094</td>\n",
       "      <td>3</td>\n",
       "      <td>1054407.67</td>\n",
       "      <td>21215.67</td>\n",
       "      <td>5364.67</td>\n",
       "    </tr>\n",
       "    <tr>\n",
       "      <th>310044</th>\n",
       "      <td>170</td>\n",
       "      <td>JMYQmGfTltY</td>\n",
       "      <td>AI AGENTS DEBATE: These Jobs Won't Exist In 24 Months!</td>\n",
       "      <td>Amjad Masad</td>\n",
       "      <td>technology</td>\n",
       "      <td>3163223</td>\n",
       "      <td>63647</td>\n",
       "      <td>16094</td>\n",
       "      <td>3</td>\n",
       "      <td>1054407.67</td>\n",
       "      <td>21215.67</td>\n",
       "      <td>5364.67</td>\n",
       "    </tr>\n",
       "    <tr>\n",
       "      <th>326475</th>\n",
       "      <td>243</td>\n",
       "      <td>19_sGcrsWhg</td>\n",
       "      <td>We Are Making Dangerous, Lonely &amp; Broken Men! - Manipulation Expert, Robert Greene! 48 Laws Of Power</td>\n",
       "      <td>Robert Greene</td>\n",
       "      <td>productivity / personal development</td>\n",
       "      <td>1135828</td>\n",
       "      <td>27582</td>\n",
       "      <td>1869</td>\n",
       "      <td>1</td>\n",
       "      <td>1135828.00</td>\n",
       "      <td>27582.00</td>\n",
       "      <td>1869.00</td>\n",
       "    </tr>\n",
       "    <tr>\n",
       "      <th>328406</th>\n",
       "      <td>226</td>\n",
       "      <td>zsuOSDb7gzQ</td>\n",
       "      <td>The Speaking Coach: The One Word All Liars Use! Stop Saying This Word, It's Making You Sound Weak!</td>\n",
       "      <td>Jefferson Fisher</td>\n",
       "      <td>productivity / personal development</td>\n",
       "      <td>4766274</td>\n",
       "      <td>149002</td>\n",
       "      <td>7744</td>\n",
       "      <td>1</td>\n",
       "      <td>4766274.00</td>\n",
       "      <td>149002.00</td>\n",
       "      <td>7744.00</td>\n",
       "    </tr>\n",
       "    <tr>\n",
       "      <th>336428</th>\n",
       "      <td>181</td>\n",
       "      <td>D67eWcX2XYQ</td>\n",
       "      <td>Michelle Obama: This Is A Scam! People Were Running From Us Because We Were Black!</td>\n",
       "      <td>Michelle Obama</td>\n",
       "      <td>religion/spirituality</td>\n",
       "      <td>1908080</td>\n",
       "      <td>68888</td>\n",
       "      <td>8751</td>\n",
       "      <td>2</td>\n",
       "      <td>954040.00</td>\n",
       "      <td>34444.00</td>\n",
       "      <td>4375.50</td>\n",
       "    </tr>\n",
       "    <tr>\n",
       "      <th>336428</th>\n",
       "      <td>181</td>\n",
       "      <td>D67eWcX2XYQ</td>\n",
       "      <td>Michelle Obama: This Is A Scam! People Were Running From Us Because We Were Black!</td>\n",
       "      <td>Craig Robinson</td>\n",
       "      <td>religion/spirituality</td>\n",
       "      <td>1908080</td>\n",
       "      <td>68888</td>\n",
       "      <td>8751</td>\n",
       "      <td>2</td>\n",
       "      <td>954040.00</td>\n",
       "      <td>34444.00</td>\n",
       "      <td>4375.50</td>\n",
       "    </tr>\n",
       "    <tr>\n",
       "      <th>342200</th>\n",
       "      <td>268</td>\n",
       "      <td>zg4Ta7vXiIM</td>\n",
       "      <td>The Charisma Teacher: Psychology Of Why People Don't Like You! People Are Attracted To These Traits!</td>\n",
       "      <td>Charlie Houpert</td>\n",
       "      <td>mental health / psychology</td>\n",
       "      <td>2589022</td>\n",
       "      <td>56655</td>\n",
       "      <td>3410</td>\n",
       "      <td>1</td>\n",
       "      <td>2589022.00</td>\n",
       "      <td>56655.00</td>\n",
       "      <td>3410.00</td>\n",
       "    </tr>\n",
       "    <tr>\n",
       "      <th>345692</th>\n",
       "      <td>167</td>\n",
       "      <td>epAVydG6IxI</td>\n",
       "      <td>Jeff Cavaliere: The TRUTH about Creatine! Melt Belly Fat With 1 Change!</td>\n",
       "      <td>Jeff Cavaliere</td>\n",
       "      <td>productivity / personal development</td>\n",
       "      <td>2050492</td>\n",
       "      <td>46124</td>\n",
       "      <td>2035</td>\n",
       "      <td>1</td>\n",
       "      <td>2050492.00</td>\n",
       "      <td>46124.00</td>\n",
       "      <td>2035.00</td>\n",
       "    </tr>\n",
       "    <tr>\n",
       "      <th>347778</th>\n",
       "      <td>209</td>\n",
       "      <td>NSsx6mkiaf8</td>\n",
       "      <td>Corrupt Cop: I Had Sex With Girls In My Police Car, Arrested Drug Dealers, Then Sold Their Drugs!</td>\n",
       "      <td>Mike Dowd</td>\n",
       "      <td>entertainment</td>\n",
       "      <td>1452899</td>\n",
       "      <td>25140</td>\n",
       "      <td>2640</td>\n",
       "      <td>1</td>\n",
       "      <td>1452899.00</td>\n",
       "      <td>25140.00</td>\n",
       "      <td>2640.00</td>\n",
       "    </tr>\n",
       "    <tr>\n",
       "      <th>350469</th>\n",
       "      <td>279</td>\n",
       "      <td>qpBnYB0I6_0</td>\n",
       "      <td>US ELECTION DEBATE: What Trump’s Return REALLY Means For The World! Is The UK About To Collapse?</td>\n",
       "      <td>Konstantin Kisin</td>\n",
       "      <td>entertainment</td>\n",
       "      <td>3527595</td>\n",
       "      <td>101258</td>\n",
       "      <td>21973</td>\n",
       "      <td>3</td>\n",
       "      <td>1175865.00</td>\n",
       "      <td>33752.67</td>\n",
       "      <td>7324.33</td>\n",
       "    </tr>\n",
       "    <tr>\n",
       "      <th>350469</th>\n",
       "      <td>279</td>\n",
       "      <td>qpBnYB0I6_0</td>\n",
       "      <td>US ELECTION DEBATE: What Trump’s Return REALLY Means For The World! Is The UK About To Collapse?</td>\n",
       "      <td>Daniel Priestley</td>\n",
       "      <td>entertainment</td>\n",
       "      <td>3527595</td>\n",
       "      <td>101258</td>\n",
       "      <td>21973</td>\n",
       "      <td>3</td>\n",
       "      <td>1175865.00</td>\n",
       "      <td>33752.67</td>\n",
       "      <td>7324.33</td>\n",
       "    </tr>\n",
       "    <tr>\n",
       "      <th>350469</th>\n",
       "      <td>279</td>\n",
       "      <td>qpBnYB0I6_0</td>\n",
       "      <td>US ELECTION DEBATE: What Trump’s Return REALLY Means For The World! Is The UK About To Collapse?</td>\n",
       "      <td>Scott Galloway</td>\n",
       "      <td>entertainment</td>\n",
       "      <td>3527595</td>\n",
       "      <td>101258</td>\n",
       "      <td>21973</td>\n",
       "      <td>3</td>\n",
       "      <td>1175865.00</td>\n",
       "      <td>33752.67</td>\n",
       "      <td>7324.33</td>\n",
       "    </tr>\n",
       "    <tr>\n",
       "      <th>372787</th>\n",
       "      <td>163</td>\n",
       "      <td>LgsJ3V9pIG0</td>\n",
       "      <td>Chronic Disease Doctor: We Can Now Reverse Some Stage 4 Cancer?</td>\n",
       "      <td>Dr. William Li</td>\n",
       "      <td>health</td>\n",
       "      <td>3658744</td>\n",
       "      <td>136560</td>\n",
       "      <td>8991</td>\n",
       "      <td>1</td>\n",
       "      <td>3658744.00</td>\n",
       "      <td>136560.00</td>\n",
       "      <td>8991.00</td>\n",
       "    </tr>\n",
       "    <tr>\n",
       "      <th>382049</th>\n",
       "      <td>261</td>\n",
       "      <td>bOi_Y4ythYY</td>\n",
       "      <td>The No.1 Brain Doctor: This Parenting Mistake Ruins Your Kids Brain &amp; Alcohol Will Ruin Yours!</td>\n",
       "      <td>Dr Daniel Amen</td>\n",
       "      <td>mental health / psychology</td>\n",
       "      <td>3571011</td>\n",
       "      <td>85813</td>\n",
       "      <td>6561</td>\n",
       "      <td>1</td>\n",
       "      <td>3571011.00</td>\n",
       "      <td>85813.00</td>\n",
       "      <td>6561.00</td>\n",
       "    </tr>\n",
       "    <tr>\n",
       "      <th>388748</th>\n",
       "      <td>174</td>\n",
       "      <td>OsAlLgGf9JM</td>\n",
       "      <td>Chris Eubank Jr: I Was Paid $***** For The Fight! The Night Before, Dad Finally Opened Up!</td>\n",
       "      <td>Chris Eubank Jr.</td>\n",
       "      <td>entertainment</td>\n",
       "      <td>1382321</td>\n",
       "      <td>29589</td>\n",
       "      <td>4129</td>\n",
       "      <td>1</td>\n",
       "      <td>1382321.00</td>\n",
       "      <td>29589.00</td>\n",
       "      <td>4129.00</td>\n",
       "    </tr>\n",
       "    <tr>\n",
       "      <th>392954</th>\n",
       "      <td>251</td>\n",
       "      <td>FjrJ2DJN_pA</td>\n",
       "      <td>MrBeast: If You Want To Be Liked, Don't Help People &amp; I Lost Tens Of Millions On Beast Games!</td>\n",
       "      <td>MrBeast</td>\n",
       "      <td>entertainment</td>\n",
       "      <td>3760693</td>\n",
       "      <td>101905</td>\n",
       "      <td>8938</td>\n",
       "      <td>1</td>\n",
       "      <td>3760693.00</td>\n",
       "      <td>101905.00</td>\n",
       "      <td>8938.00</td>\n",
       "    </tr>\n",
       "  </tbody>\n",
       "</table>\n",
       "</div>"
      ],
      "text/plain": [
       "        days_since_published     video_id  \\\n",
       "0                        286  B7tnfSPySb0   \n",
       "6409                     132  ZHuZ_8VYCWA   \n",
       "6409                     132  ZHuZ_8VYCWA   \n",
       "6409                     132  ZHuZ_8VYCWA   \n",
       "30960                    247  7l_0ZcSuRwg   \n",
       "30960                    247  7l_0ZcSuRwg   \n",
       "36537                    184  uxu37dqVR90   \n",
       "43370                    254  9gk3mNJs2FY   \n",
       "46629                    205  ZxXruY7llcc   \n",
       "48796                    216  0GQozcTPyO0   \n",
       "51027                    177  EdlXcVu1CTs   \n",
       "52785                    296  It5_C6AF1pk   \n",
       "55933                    289  Hik6OY-nk4c   \n",
       "62446                    188  atejm2w2jWY   \n",
       "67587                    202  ldizQkuWpDE   \n",
       "67587                    202  ldizQkuWpDE   \n",
       "73340                    265  NyFSkGMWP5Q   \n",
       "84138                    230  G4hkYDjPSFs   \n",
       "87243                    239  cialLfVZqm4   \n",
       "100021                   195  rCtvAvZtJyE   \n",
       "103327                   293  IgW1jepnJp4   \n",
       "104171                   223  4yohVh4qcas   \n",
       "104171                   223  4yohVh4qcas   \n",
       "155878                   212  li70iz1NaDY   \n",
       "155878                   212  li70iz1NaDY   \n",
       "180916                   198  zECoaEZRRFU   \n",
       "187862                   135  giT0ytynSqg   \n",
       "216254                   237  ffgpqk5hZBE   \n",
       "219667                   191  ZuiIvevLg40   \n",
       "223868                   146  ZznpMh0DegE   \n",
       "234227                   233  oIiv_335yus   \n",
       "238212                   139  QCaFWrT0j-g   \n",
       "244099                   153  CMzEnLkS2rQ   \n",
       "249619                   275  eOnIWDMNyfE   \n",
       "253431                   156  W4tqbEmplug   \n",
       "259940                   219  rBM6lGk4-fk   \n",
       "260794                   258  Kl-I7sUcAOY   \n",
       "263343                   160  Fg7U-BhiZGE   \n",
       "277233                   282  sFkR34AMPw8   \n",
       "286496                   272  6ikIGGi859w   \n",
       "292909                   300  R6xbXOp7wDA   \n",
       "306271                   149  yHCtfU3syM4   \n",
       "310044                   170  JMYQmGfTltY   \n",
       "310044                   170  JMYQmGfTltY   \n",
       "310044                   170  JMYQmGfTltY   \n",
       "326475                   243  19_sGcrsWhg   \n",
       "328406                   226  zsuOSDb7gzQ   \n",
       "336428                   181  D67eWcX2XYQ   \n",
       "336428                   181  D67eWcX2XYQ   \n",
       "342200                   268  zg4Ta7vXiIM   \n",
       "345692                   167  epAVydG6IxI   \n",
       "347778                   209  NSsx6mkiaf8   \n",
       "350469                   279  qpBnYB0I6_0   \n",
       "350469                   279  qpBnYB0I6_0   \n",
       "350469                   279  qpBnYB0I6_0   \n",
       "372787                   163  LgsJ3V9pIG0   \n",
       "382049                   261  bOi_Y4ythYY   \n",
       "388748                   174  OsAlLgGf9JM   \n",
       "392954                   251  FjrJ2DJN_pA   \n",
       "\n",
       "                                                                                                 video_title  \\\n",
       "0          The Keto Psychiatrist: What Keto Is Really Doing To Your Body! Can It Cure 43% Of Mental Illness?   \n",
       "6409                                                            DEBATE: Feminist Women Vs Non-Feminist Women   \n",
       "6409                                                            DEBATE: Feminist Women Vs Non-Feminist Women   \n",
       "6409                                                            DEBATE: Feminist Women Vs Non-Feminist Women   \n",
       "30960   Secret Agent: If You’re Easily Offended, You’re Easily Manipulated! This 1 Trick Catches A Lie In 2s   \n",
       "30960   Secret Agent: If You’re Easily Offended, You’re Easily Manipulated! This 1 Trick Catches A Lie In 2s   \n",
       "36537      The Savings Expert: The Truth About America Collapsing! The Cost Of Living Is About To Skyrocket!   \n",
       "43370        The Sex Psychologist: We're Not Having Enough Sex! Fat Makes You Attractive! Dr Bill Von Hippel   \n",
       "46629      Peter Attia: Anti-aging Cure No One Talks About! 50% Chance You’ll Die In A Year If This Happens!   \n",
       "48796       Hormone Expert: Control Your Hormones Control Your Belly Fat! Cortisol, oestrogen, testosterone.   \n",
       "51027       The Business Expert: How To Build A Brand In 2025! They're Lying To You About Work-Life Balance!   \n",
       "52785     Exercise & Nutrition Scientist: The Truth About Exercise On Your Period! Take These 4 Supplements!   \n",
       "55933            Jordan B Peterson: You Need To Listen To Your Wife! We've Built A Lonely & Sexless Society!   \n",
       "62446     Shaolin Warrior Master: Hidden Epidemic Nobody Talks About! This Modern Habit Is Killing Millions!   \n",
       "67587                                                   Body Language Expert Explains Why People Dislike You   \n",
       "67587                                                   Body Language Expert Explains Why People Dislike You   \n",
       "73340                           The Insulin & Glucose Doctor: This Will Strip Your Fat Faster Than Anything!   \n",
       "84138         Secret To Living Without Fear & Anxiety Forever! Your Mind Can Heal Itself! - Dr. Joe Dispenza   \n",
       "87243      Child Attachment Expert: We're Stressing Newborns & It's Causing ADHD! Hidden Dangers Of Daycare!   \n",
       "100021               (Major Discovery) No.1 Neuroscientist: Anxiety Is Just A Predictive Error In The Brain!   \n",
       "103327  Get Your Sex Life Back! What Everyone Gets Wrong About Sex, Libido & Erectile Dysfunction - Dr Khera   \n",
       "104171           EMERGENCY DEBATE: They Lied About The Economy Recovering! Is A Financial Apocalypse Coming?   \n",
       "104171           EMERGENCY DEBATE: They Lied About The Economy Recovering! Is A Financial Apocalypse Coming?   \n",
       "155878                                                       Young Men Are (Quietly) Giving Up...Here’s Why!   \n",
       "155878                                                       Young Men Are (Quietly) Giving Up...Here’s Why!   \n",
       "180916                        No.1 Nitric Oxide Expert: This is the anti-aging cure no one is talking about!   \n",
       "187862                                  Godfather of AI: They Keep Silencing Me But I’m Trying to Warn Them!   \n",
       "216254      The Truth About Creatine & Exercise! 30% Of People Will Die From This! The Healthy Ageing Doctor   \n",
       "219667             Former FBI Agent: If They Do This Please RUN! Narcissists Favourite Trick To Control You!   \n",
       "223868                 Invest in This – It’ll Be Worth $1.5 Million by 2030 | World Leading Investing Expert   \n",
       "234227                No. 1 Communication Expert: This Speaking Mistake Makes People Dislike You! Vinh Giang   \n",
       "238212   Sex Expert (Esther Perel): The Relationship Crisis No One Talks About That's Killing Your Sex Life!   \n",
       "244099          The Foot Expert: Your Toes Can Predict If You’ll Die Early! This Will Fix Plantar Fasciitis!   \n",
       "249619                    The Nutritional Scientist: Do Not Eat After 9pm! Link Between Chewing & Belly Fat!   \n",
       "253431   Simon Sinek: You're Being Lied To About AI's Real Purpose! We're Teaching Our Kids To Not Be Human!   \n",
       "259940            Exact Formula Used To Build A $130 Billion Company! I Said No to $3B From Mark Zuckerberg!   \n",
       "260794         The Man That Makes Millionaires: Turn $0 to $10k With This Step By Step Formula! Alex Hormozi   \n",
       "263343                  They Lied About Alcohol’s Effect On Your Brain! Here’s The Proof | Dr. Sarah Wakeman   \n",
       "277233          The Money Making Expert: The 7,11,4 Hack That Turns $1 Into $10K Per Month! Daniel Priestley   \n",
       "286496    Paul Brunson: Women Need To Lower Their Standards! If They Have These 3 Traits, Never Let Them Go!   \n",
       "292909      Dopamine Expert: Doing This Once A Day Fixes Your Dopamine! What Alcohol Is Doing To Your Brain!   \n",
       "306271     Jimmy Fallon: I Didn't Expect It To Be This Brutal! The Hate Was Something I Wasn’t Prepared For!   \n",
       "310044                                                AI AGENTS DEBATE: These Jobs Won't Exist In 24 Months!   \n",
       "310044                                                AI AGENTS DEBATE: These Jobs Won't Exist In 24 Months!   \n",
       "310044                                                AI AGENTS DEBATE: These Jobs Won't Exist In 24 Months!   \n",
       "326475  We Are Making Dangerous, Lonely & Broken Men! - Manipulation Expert, Robert Greene! 48 Laws Of Power   \n",
       "328406    The Speaking Coach: The One Word All Liars Use! Stop Saying This Word, It's Making You Sound Weak!   \n",
       "336428                    Michelle Obama: This Is A Scam! People Were Running From Us Because We Were Black!   \n",
       "336428                    Michelle Obama: This Is A Scam! People Were Running From Us Because We Were Black!   \n",
       "342200  The Charisma Teacher: Psychology Of Why People Don't Like You! People Are Attracted To These Traits!   \n",
       "345692                               Jeff Cavaliere: The TRUTH about Creatine! Melt Belly Fat With 1 Change!   \n",
       "347778     Corrupt Cop: I Had Sex With Girls In My Police Car, Arrested Drug Dealers, Then Sold Their Drugs!   \n",
       "350469      US ELECTION DEBATE: What Trump’s Return REALLY Means For The World! Is The UK About To Collapse?   \n",
       "350469      US ELECTION DEBATE: What Trump’s Return REALLY Means For The World! Is The UK About To Collapse?   \n",
       "350469      US ELECTION DEBATE: What Trump’s Return REALLY Means For The World! Is The UK About To Collapse?   \n",
       "372787                                       Chronic Disease Doctor: We Can Now Reverse Some Stage 4 Cancer?   \n",
       "382049        The No.1 Brain Doctor: This Parenting Mistake Ruins Your Kids Brain & Alcohol Will Ruin Yours!   \n",
       "388748            Chris Eubank Jr: I Was Paid $***** For The Fight! The Night Before, Dad Finally Opened Up!   \n",
       "392954         MrBeast: If You Want To Be Liked, Don't Help People & I Lost Tens Of Millions On Beast Games!   \n",
       "\n",
       "                           guest                       Topic_Category  \\\n",
       "0                 Dr Georgia Ede           mental health / psychology   \n",
       "6409                Louise Perry                        relationships   \n",
       "6409       Deborah Frances-White                        relationships   \n",
       "6409               Erica Komisar                        relationships   \n",
       "30960                     Steven  productivity / personal development   \n",
       "30960             Evy Poumpouras  productivity / personal development   \n",
       "36537              Morgan Housel                              finance   \n",
       "43370         Dr Bill von Hippel           mental health / psychology   \n",
       "46629             Dr Peter Attia                               health   \n",
       "48796              Dr. Sara Szal                               health   \n",
       "51027                 Emma Grede  productivity / personal development   \n",
       "52785              Dr Stacy Sims                               health   \n",
       "55933         Dr Jordan Peterson                religion/spirituality   \n",
       "62446         Master Shi Heng Yi                               health   \n",
       "67587                     Steven           mental health / psychology   \n",
       "67587        Vanessa Van Edwards           mental health / psychology   \n",
       "73340         Dr Benjamin Bikman                               health   \n",
       "84138            Dr Joe Dispenza           mental health / psychology   \n",
       "87243              Erica Komisar           mental health / psychology   \n",
       "100021  Dr. Lisa Feldman Barrett           mental health / psychology   \n",
       "103327            Dr Mohit Khera                        relationships   \n",
       "104171          Daniel Priestley                              finance   \n",
       "104171            Gary Stevenson                              finance   \n",
       "155878                 Logan Ury           mental health / psychology   \n",
       "155878            Scott Galloway           mental health / psychology   \n",
       "180916           Dr Nathan Bryan                               health   \n",
       "187862           Geoffrey Hinton              religion / spirituality   \n",
       "216254           Dr Vonda Wright                               health   \n",
       "219667               Joe Navarro           mental health / psychology   \n",
       "223868               Cathie Wood          entrepreneurship / business   \n",
       "234227                Vinh Giang  productivity / personal development   \n",
       "238212              Esther Perel                        relationships   \n",
       "244099       Dr. Courtney Conley                               health   \n",
       "249619            Dr Sarah Berry                               health   \n",
       "253431               Simon Sinek                religion/spirituality   \n",
       "259940              Evan Spiegel          entrepreneurship / business   \n",
       "260794              Alex Hormozi          entrepreneurship / business   \n",
       "263343         Dr. Sarah Wakeman           mental health / psychology   \n",
       "277233                       NaN          entrepreneurship / business   \n",
       "286496              Paul Brunson                        relationships   \n",
       "292909            Dr Anna Lembke           mental health / psychology   \n",
       "306271              Jimmy Fallon                        entertainment   \n",
       "310044            Bret Weinstein                           technology   \n",
       "310044          Daniel Priestley                           technology   \n",
       "310044               Amjad Masad                           technology   \n",
       "326475             Robert Greene  productivity / personal development   \n",
       "328406          Jefferson Fisher  productivity / personal development   \n",
       "336428            Michelle Obama                religion/spirituality   \n",
       "336428            Craig Robinson                religion/spirituality   \n",
       "342200           Charlie Houpert           mental health / psychology   \n",
       "345692            Jeff Cavaliere  productivity / personal development   \n",
       "347778                 Mike Dowd                        entertainment   \n",
       "350469          Konstantin Kisin                        entertainment   \n",
       "350469          Daniel Priestley                        entertainment   \n",
       "350469            Scott Galloway                        entertainment   \n",
       "372787            Dr. William Li                               health   \n",
       "382049            Dr Daniel Amen           mental health / psychology   \n",
       "388748          Chris Eubank Jr.                        entertainment   \n",
       "392954                   MrBeast                        entertainment   \n",
       "\n",
       "        view_count  video_like_count  comment_count  n_guests  \\\n",
       "0          2038491             61491           6274         1   \n",
       "6409       1968583             46664          24218         3   \n",
       "6409       1968583             46664          24218         3   \n",
       "6409       1968583             46664          24218         3   \n",
       "30960      3806975            112769           5411         2   \n",
       "30960      3806975            112769           5411         2   \n",
       "36537      2820273             57474           6755         1   \n",
       "43370      1095572             21074           3206         1   \n",
       "46629      1450645             31924           2108         1   \n",
       "48796       932985             28358           2168         1   \n",
       "51027       854152             14482           1738         1   \n",
       "52785      1624462             48760           3137         1   \n",
       "55933      2046763             54184           6392         1   \n",
       "62446      2868687             83672           5055         1   \n",
       "67587      2224325             58672           5625         2   \n",
       "67587      2224325             58672           5625         2   \n",
       "73340      5387358            162020          10597         1   \n",
       "84138      2707502             59209           2976         1   \n",
       "87243      3248752             85762          12441         1   \n",
       "100021     1739040             46726           3249         1   \n",
       "103327      729839             12731            826         1   \n",
       "104171     4851575             98675          51092         2   \n",
       "104171     4851575             98675          51092         2   \n",
       "155878     2182115             50795          24835         2   \n",
       "155878     2182115             50795          24835         2   \n",
       "180916     2440853            104461           6803         1   \n",
       "187862    10774074            240870          27956         1   \n",
       "216254     2653505             67076           3329         1   \n",
       "219667     3330593             80056           4059         1   \n",
       "223868     5291988            131318          10125         1   \n",
       "234227     3084661             89186           3902         1   \n",
       "238212     1876083             42802           5794         1   \n",
       "244099     2637190             85971           5365         1   \n",
       "249619      749464             15169           3700         1   \n",
       "253431     3193537             72590           6348         1   \n",
       "259940      743779             12773            834         1   \n",
       "260794     2577451             55216           2487         1   \n",
       "263343     1353314             31199           3456         1   \n",
       "277233     3551557             86817           9132         1   \n",
       "286496     1200300             24059           6334         1   \n",
       "292909     5043118            163175          13061         1   \n",
       "306271     2343368             58835           3655         1   \n",
       "310044     3163223             63647          16094         3   \n",
       "310044     3163223             63647          16094         3   \n",
       "310044     3163223             63647          16094         3   \n",
       "326475     1135828             27582           1869         1   \n",
       "328406     4766274            149002           7744         1   \n",
       "336428     1908080             68888           8751         2   \n",
       "336428     1908080             68888           8751         2   \n",
       "342200     2589022             56655           3410         1   \n",
       "345692     2050492             46124           2035         1   \n",
       "347778     1452899             25140           2640         1   \n",
       "350469     3527595            101258          21973         3   \n",
       "350469     3527595            101258          21973         3   \n",
       "350469     3527595            101258          21973         3   \n",
       "372787     3658744            136560           8991         1   \n",
       "382049     3571011             85813           6561         1   \n",
       "388748     1382321             29589           4129         1   \n",
       "392954     3760693            101905           8938         1   \n",
       "\n",
       "        views_per_guest  likes_per_guest  comments_per_guest  \n",
       "0            2038491.00         61491.00             6274.00  \n",
       "6409          656194.33         15554.67             8072.67  \n",
       "6409          656194.33         15554.67             8072.67  \n",
       "6409          656194.33         15554.67             8072.67  \n",
       "30960        1903487.50         56384.50             2705.50  \n",
       "30960        1903487.50         56384.50             2705.50  \n",
       "36537        2820273.00         57474.00             6755.00  \n",
       "43370        1095572.00         21074.00             3206.00  \n",
       "46629        1450645.00         31924.00             2108.00  \n",
       "48796         932985.00         28358.00             2168.00  \n",
       "51027         854152.00         14482.00             1738.00  \n",
       "52785        1624462.00         48760.00             3137.00  \n",
       "55933        2046763.00         54184.00             6392.00  \n",
       "62446        2868687.00         83672.00             5055.00  \n",
       "67587        1112162.50         29336.00             2812.50  \n",
       "67587        1112162.50         29336.00             2812.50  \n",
       "73340        5387358.00        162020.00            10597.00  \n",
       "84138        2707502.00         59209.00             2976.00  \n",
       "87243        3248752.00         85762.00            12441.00  \n",
       "100021       1739040.00         46726.00             3249.00  \n",
       "103327        729839.00         12731.00              826.00  \n",
       "104171       2425787.50         49337.50            25546.00  \n",
       "104171       2425787.50         49337.50            25546.00  \n",
       "155878       1091057.50         25397.50            12417.50  \n",
       "155878       1091057.50         25397.50            12417.50  \n",
       "180916       2440853.00        104461.00             6803.00  \n",
       "187862      10774074.00        240870.00            27956.00  \n",
       "216254       2653505.00         67076.00             3329.00  \n",
       "219667       3330593.00         80056.00             4059.00  \n",
       "223868       5291988.00        131318.00            10125.00  \n",
       "234227       3084661.00         89186.00             3902.00  \n",
       "238212       1876083.00         42802.00             5794.00  \n",
       "244099       2637190.00         85971.00             5365.00  \n",
       "249619        749464.00         15169.00             3700.00  \n",
       "253431       3193537.00         72590.00             6348.00  \n",
       "259940        743779.00         12773.00              834.00  \n",
       "260794       2577451.00         55216.00             2487.00  \n",
       "263343       1353314.00         31199.00             3456.00  \n",
       "277233       3551557.00         86817.00             9132.00  \n",
       "286496       1200300.00         24059.00             6334.00  \n",
       "292909       5043118.00        163175.00            13061.00  \n",
       "306271       2343368.00         58835.00             3655.00  \n",
       "310044       1054407.67         21215.67             5364.67  \n",
       "310044       1054407.67         21215.67             5364.67  \n",
       "310044       1054407.67         21215.67             5364.67  \n",
       "326475       1135828.00         27582.00             1869.00  \n",
       "328406       4766274.00        149002.00             7744.00  \n",
       "336428        954040.00         34444.00             4375.50  \n",
       "336428        954040.00         34444.00             4375.50  \n",
       "342200       2589022.00         56655.00             3410.00  \n",
       "345692       2050492.00         46124.00             2035.00  \n",
       "347778       1452899.00         25140.00             2640.00  \n",
       "350469       1175865.00         33752.67             7324.33  \n",
       "350469       1175865.00         33752.67             7324.33  \n",
       "350469       1175865.00         33752.67             7324.33  \n",
       "372787       3658744.00        136560.00             8991.00  \n",
       "382049       3571011.00         85813.00             6561.00  \n",
       "388748       1382321.00         29589.00             4129.00  \n",
       "392954       3760693.00        101905.00             8938.00  "
      ]
     },
     "execution_count": 21,
     "metadata": {},
     "output_type": "execute_result"
    }
   ],
   "source": [
    "pd.set_option(\"display.max_colwidth\", None)\n",
    "\n",
    "print(guest_df.shape)\n",
    "guest_df"
   ]
  },
  {
   "cell_type": "markdown",
   "id": "338fb353",
   "metadata": {},
   "source": [
    "#### Topic Score"
   ]
  },
  {
   "cell_type": "code",
   "execution_count": 22,
   "id": "508dc096",
   "metadata": {},
   "outputs": [],
   "source": [
    "#### TOPIC SCORE\n",
    "## Drop duplicate video ids to not get the same podcast counted multiple times\n",
    "\n",
    "topic_df = (\n",
    "    df.drop_duplicates(subset=\"video_id\")\n",
    "      .loc[:, [\"video_id\", \"Topic_Category\", \"view_count\", \"video_like_count\", \"comment_count\", \"video_title\"]]\n",
    ")"
   ]
  },
  {
   "cell_type": "code",
   "execution_count": 23,
   "id": "ba84972a",
   "metadata": {},
   "outputs": [
    {
     "name": "stdout",
     "output_type": "stream",
     "text": [
      "(48, 6)\n"
     ]
    },
    {
     "data": {
      "text/html": [
       "<div>\n",
       "<style scoped>\n",
       "    .dataframe tbody tr th:only-of-type {\n",
       "        vertical-align: middle;\n",
       "    }\n",
       "\n",
       "    .dataframe tbody tr th {\n",
       "        vertical-align: top;\n",
       "    }\n",
       "\n",
       "    .dataframe thead th {\n",
       "        text-align: right;\n",
       "    }\n",
       "</style>\n",
       "<table border=\"1\" class=\"dataframe\">\n",
       "  <thead>\n",
       "    <tr style=\"text-align: right;\">\n",
       "      <th></th>\n",
       "      <th>video_id</th>\n",
       "      <th>Topic_Category</th>\n",
       "      <th>view_count</th>\n",
       "      <th>video_like_count</th>\n",
       "      <th>comment_count</th>\n",
       "      <th>video_title</th>\n",
       "    </tr>\n",
       "  </thead>\n",
       "  <tbody>\n",
       "    <tr>\n",
       "      <th>0</th>\n",
       "      <td>B7tnfSPySb0</td>\n",
       "      <td>mental health / psychology</td>\n",
       "      <td>2038491</td>\n",
       "      <td>61491</td>\n",
       "      <td>6274</td>\n",
       "      <td>The Keto Psychiatrist: What Keto Is Really Doing To Your Body! Can It Cure 43% Of Mental Illness?</td>\n",
       "    </tr>\n",
       "    <tr>\n",
       "      <th>6409</th>\n",
       "      <td>ZHuZ_8VYCWA</td>\n",
       "      <td>relationships</td>\n",
       "      <td>1968583</td>\n",
       "      <td>46664</td>\n",
       "      <td>24218</td>\n",
       "      <td>DEBATE: Feminist Women Vs Non-Feminist Women</td>\n",
       "    </tr>\n",
       "    <tr>\n",
       "      <th>30960</th>\n",
       "      <td>7l_0ZcSuRwg</td>\n",
       "      <td>productivity / personal development</td>\n",
       "      <td>3806975</td>\n",
       "      <td>112769</td>\n",
       "      <td>5411</td>\n",
       "      <td>Secret Agent: If You’re Easily Offended, You’re Easily Manipulated! This 1 Trick Catches A Lie In 2s</td>\n",
       "    </tr>\n",
       "    <tr>\n",
       "      <th>36537</th>\n",
       "      <td>uxu37dqVR90</td>\n",
       "      <td>finance</td>\n",
       "      <td>2820273</td>\n",
       "      <td>57474</td>\n",
       "      <td>6755</td>\n",
       "      <td>The Savings Expert: The Truth About America Collapsing! The Cost Of Living Is About To Skyrocket!</td>\n",
       "    </tr>\n",
       "    <tr>\n",
       "      <th>43370</th>\n",
       "      <td>9gk3mNJs2FY</td>\n",
       "      <td>mental health / psychology</td>\n",
       "      <td>1095572</td>\n",
       "      <td>21074</td>\n",
       "      <td>3206</td>\n",
       "      <td>The Sex Psychologist: We're Not Having Enough Sex! Fat Makes You Attractive! Dr Bill Von Hippel</td>\n",
       "    </tr>\n",
       "    <tr>\n",
       "      <th>46629</th>\n",
       "      <td>ZxXruY7llcc</td>\n",
       "      <td>health</td>\n",
       "      <td>1450645</td>\n",
       "      <td>31924</td>\n",
       "      <td>2108</td>\n",
       "      <td>Peter Attia: Anti-aging Cure No One Talks About! 50% Chance You’ll Die In A Year If This Happens!</td>\n",
       "    </tr>\n",
       "    <tr>\n",
       "      <th>48796</th>\n",
       "      <td>0GQozcTPyO0</td>\n",
       "      <td>health</td>\n",
       "      <td>932985</td>\n",
       "      <td>28358</td>\n",
       "      <td>2168</td>\n",
       "      <td>Hormone Expert: Control Your Hormones Control Your Belly Fat! Cortisol, oestrogen, testosterone.</td>\n",
       "    </tr>\n",
       "    <tr>\n",
       "      <th>51027</th>\n",
       "      <td>EdlXcVu1CTs</td>\n",
       "      <td>productivity / personal development</td>\n",
       "      <td>854152</td>\n",
       "      <td>14482</td>\n",
       "      <td>1738</td>\n",
       "      <td>The Business Expert: How To Build A Brand In 2025! They're Lying To You About Work-Life Balance!</td>\n",
       "    </tr>\n",
       "    <tr>\n",
       "      <th>52785</th>\n",
       "      <td>It5_C6AF1pk</td>\n",
       "      <td>health</td>\n",
       "      <td>1624462</td>\n",
       "      <td>48760</td>\n",
       "      <td>3137</td>\n",
       "      <td>Exercise &amp; Nutrition Scientist: The Truth About Exercise On Your Period! Take These 4 Supplements!</td>\n",
       "    </tr>\n",
       "    <tr>\n",
       "      <th>55933</th>\n",
       "      <td>Hik6OY-nk4c</td>\n",
       "      <td>religion/spirituality</td>\n",
       "      <td>2046763</td>\n",
       "      <td>54184</td>\n",
       "      <td>6392</td>\n",
       "      <td>Jordan B Peterson: You Need To Listen To Your Wife! We've Built A Lonely &amp; Sexless Society!</td>\n",
       "    </tr>\n",
       "    <tr>\n",
       "      <th>62446</th>\n",
       "      <td>atejm2w2jWY</td>\n",
       "      <td>health</td>\n",
       "      <td>2868687</td>\n",
       "      <td>83672</td>\n",
       "      <td>5055</td>\n",
       "      <td>Shaolin Warrior Master: Hidden Epidemic Nobody Talks About! This Modern Habit Is Killing Millions!</td>\n",
       "    </tr>\n",
       "    <tr>\n",
       "      <th>67587</th>\n",
       "      <td>ldizQkuWpDE</td>\n",
       "      <td>mental health / psychology</td>\n",
       "      <td>2224325</td>\n",
       "      <td>58672</td>\n",
       "      <td>5625</td>\n",
       "      <td>Body Language Expert Explains Why People Dislike You</td>\n",
       "    </tr>\n",
       "    <tr>\n",
       "      <th>73340</th>\n",
       "      <td>NyFSkGMWP5Q</td>\n",
       "      <td>health</td>\n",
       "      <td>5387358</td>\n",
       "      <td>162020</td>\n",
       "      <td>10597</td>\n",
       "      <td>The Insulin &amp; Glucose Doctor: This Will Strip Your Fat Faster Than Anything!</td>\n",
       "    </tr>\n",
       "    <tr>\n",
       "      <th>84138</th>\n",
       "      <td>G4hkYDjPSFs</td>\n",
       "      <td>mental health / psychology</td>\n",
       "      <td>2707502</td>\n",
       "      <td>59209</td>\n",
       "      <td>2976</td>\n",
       "      <td>Secret To Living Without Fear &amp; Anxiety Forever! Your Mind Can Heal Itself! - Dr. Joe Dispenza</td>\n",
       "    </tr>\n",
       "    <tr>\n",
       "      <th>87243</th>\n",
       "      <td>cialLfVZqm4</td>\n",
       "      <td>mental health / psychology</td>\n",
       "      <td>3248752</td>\n",
       "      <td>85762</td>\n",
       "      <td>12441</td>\n",
       "      <td>Child Attachment Expert: We're Stressing Newborns &amp; It's Causing ADHD! Hidden Dangers Of Daycare!</td>\n",
       "    </tr>\n",
       "    <tr>\n",
       "      <th>100021</th>\n",
       "      <td>rCtvAvZtJyE</td>\n",
       "      <td>mental health / psychology</td>\n",
       "      <td>1739040</td>\n",
       "      <td>46726</td>\n",
       "      <td>3249</td>\n",
       "      <td>(Major Discovery) No.1 Neuroscientist: Anxiety Is Just A Predictive Error In The Brain!</td>\n",
       "    </tr>\n",
       "    <tr>\n",
       "      <th>103327</th>\n",
       "      <td>IgW1jepnJp4</td>\n",
       "      <td>relationships</td>\n",
       "      <td>729839</td>\n",
       "      <td>12731</td>\n",
       "      <td>826</td>\n",
       "      <td>Get Your Sex Life Back! What Everyone Gets Wrong About Sex, Libido &amp; Erectile Dysfunction - Dr Khera</td>\n",
       "    </tr>\n",
       "    <tr>\n",
       "      <th>104171</th>\n",
       "      <td>4yohVh4qcas</td>\n",
       "      <td>finance</td>\n",
       "      <td>4851575</td>\n",
       "      <td>98675</td>\n",
       "      <td>51092</td>\n",
       "      <td>EMERGENCY DEBATE: They Lied About The Economy Recovering! Is A Financial Apocalypse Coming?</td>\n",
       "    </tr>\n",
       "    <tr>\n",
       "      <th>155878</th>\n",
       "      <td>li70iz1NaDY</td>\n",
       "      <td>mental health / psychology</td>\n",
       "      <td>2182115</td>\n",
       "      <td>50795</td>\n",
       "      <td>24835</td>\n",
       "      <td>Young Men Are (Quietly) Giving Up...Here’s Why!</td>\n",
       "    </tr>\n",
       "    <tr>\n",
       "      <th>180916</th>\n",
       "      <td>zECoaEZRRFU</td>\n",
       "      <td>health</td>\n",
       "      <td>2440853</td>\n",
       "      <td>104461</td>\n",
       "      <td>6803</td>\n",
       "      <td>No.1 Nitric Oxide Expert: This is the anti-aging cure no one is talking about!</td>\n",
       "    </tr>\n",
       "    <tr>\n",
       "      <th>187862</th>\n",
       "      <td>giT0ytynSqg</td>\n",
       "      <td>religion / spirituality</td>\n",
       "      <td>10774074</td>\n",
       "      <td>240870</td>\n",
       "      <td>27956</td>\n",
       "      <td>Godfather of AI: They Keep Silencing Me But I’m Trying to Warn Them!</td>\n",
       "    </tr>\n",
       "    <tr>\n",
       "      <th>216254</th>\n",
       "      <td>ffgpqk5hZBE</td>\n",
       "      <td>health</td>\n",
       "      <td>2653505</td>\n",
       "      <td>67076</td>\n",
       "      <td>3329</td>\n",
       "      <td>The Truth About Creatine &amp; Exercise! 30% Of People Will Die From This! The Healthy Ageing Doctor</td>\n",
       "    </tr>\n",
       "    <tr>\n",
       "      <th>219667</th>\n",
       "      <td>ZuiIvevLg40</td>\n",
       "      <td>mental health / psychology</td>\n",
       "      <td>3330593</td>\n",
       "      <td>80056</td>\n",
       "      <td>4059</td>\n",
       "      <td>Former FBI Agent: If They Do This Please RUN! Narcissists Favourite Trick To Control You!</td>\n",
       "    </tr>\n",
       "    <tr>\n",
       "      <th>223868</th>\n",
       "      <td>ZznpMh0DegE</td>\n",
       "      <td>entrepreneurship / business</td>\n",
       "      <td>5291988</td>\n",
       "      <td>131318</td>\n",
       "      <td>10125</td>\n",
       "      <td>Invest in This – It’ll Be Worth $1.5 Million by 2030 | World Leading Investing Expert</td>\n",
       "    </tr>\n",
       "    <tr>\n",
       "      <th>234227</th>\n",
       "      <td>oIiv_335yus</td>\n",
       "      <td>productivity / personal development</td>\n",
       "      <td>3084661</td>\n",
       "      <td>89186</td>\n",
       "      <td>3902</td>\n",
       "      <td>No. 1 Communication Expert: This Speaking Mistake Makes People Dislike You! Vinh Giang</td>\n",
       "    </tr>\n",
       "    <tr>\n",
       "      <th>238212</th>\n",
       "      <td>QCaFWrT0j-g</td>\n",
       "      <td>relationships</td>\n",
       "      <td>1876083</td>\n",
       "      <td>42802</td>\n",
       "      <td>5794</td>\n",
       "      <td>Sex Expert (Esther Perel): The Relationship Crisis No One Talks About That's Killing Your Sex Life!</td>\n",
       "    </tr>\n",
       "    <tr>\n",
       "      <th>244099</th>\n",
       "      <td>CMzEnLkS2rQ</td>\n",
       "      <td>health</td>\n",
       "      <td>2637190</td>\n",
       "      <td>85971</td>\n",
       "      <td>5365</td>\n",
       "      <td>The Foot Expert: Your Toes Can Predict If You’ll Die Early! This Will Fix Plantar Fasciitis!</td>\n",
       "    </tr>\n",
       "    <tr>\n",
       "      <th>249619</th>\n",
       "      <td>eOnIWDMNyfE</td>\n",
       "      <td>health</td>\n",
       "      <td>749464</td>\n",
       "      <td>15169</td>\n",
       "      <td>3700</td>\n",
       "      <td>The Nutritional Scientist: Do Not Eat After 9pm! Link Between Chewing &amp; Belly Fat!</td>\n",
       "    </tr>\n",
       "    <tr>\n",
       "      <th>253431</th>\n",
       "      <td>W4tqbEmplug</td>\n",
       "      <td>religion/spirituality</td>\n",
       "      <td>3193537</td>\n",
       "      <td>72590</td>\n",
       "      <td>6348</td>\n",
       "      <td>Simon Sinek: You're Being Lied To About AI's Real Purpose! We're Teaching Our Kids To Not Be Human!</td>\n",
       "    </tr>\n",
       "    <tr>\n",
       "      <th>259940</th>\n",
       "      <td>rBM6lGk4-fk</td>\n",
       "      <td>entrepreneurship / business</td>\n",
       "      <td>743779</td>\n",
       "      <td>12773</td>\n",
       "      <td>834</td>\n",
       "      <td>Exact Formula Used To Build A $130 Billion Company! I Said No to $3B From Mark Zuckerberg!</td>\n",
       "    </tr>\n",
       "    <tr>\n",
       "      <th>260794</th>\n",
       "      <td>Kl-I7sUcAOY</td>\n",
       "      <td>entrepreneurship / business</td>\n",
       "      <td>2577451</td>\n",
       "      <td>55216</td>\n",
       "      <td>2487</td>\n",
       "      <td>The Man That Makes Millionaires: Turn $0 to $10k With This Step By Step Formula! Alex Hormozi</td>\n",
       "    </tr>\n",
       "    <tr>\n",
       "      <th>263343</th>\n",
       "      <td>Fg7U-BhiZGE</td>\n",
       "      <td>mental health / psychology</td>\n",
       "      <td>1353314</td>\n",
       "      <td>31199</td>\n",
       "      <td>3456</td>\n",
       "      <td>They Lied About Alcohol’s Effect On Your Brain! Here’s The Proof | Dr. Sarah Wakeman</td>\n",
       "    </tr>\n",
       "    <tr>\n",
       "      <th>277233</th>\n",
       "      <td>sFkR34AMPw8</td>\n",
       "      <td>entrepreneurship / business</td>\n",
       "      <td>3551557</td>\n",
       "      <td>86817</td>\n",
       "      <td>9132</td>\n",
       "      <td>The Money Making Expert: The 7,11,4 Hack That Turns $1 Into $10K Per Month! Daniel Priestley</td>\n",
       "    </tr>\n",
       "    <tr>\n",
       "      <th>286496</th>\n",
       "      <td>6ikIGGi859w</td>\n",
       "      <td>relationships</td>\n",
       "      <td>1200300</td>\n",
       "      <td>24059</td>\n",
       "      <td>6334</td>\n",
       "      <td>Paul Brunson: Women Need To Lower Their Standards! If They Have These 3 Traits, Never Let Them Go!</td>\n",
       "    </tr>\n",
       "    <tr>\n",
       "      <th>292909</th>\n",
       "      <td>R6xbXOp7wDA</td>\n",
       "      <td>mental health / psychology</td>\n",
       "      <td>5043118</td>\n",
       "      <td>163175</td>\n",
       "      <td>13061</td>\n",
       "      <td>Dopamine Expert: Doing This Once A Day Fixes Your Dopamine! What Alcohol Is Doing To Your Brain!</td>\n",
       "    </tr>\n",
       "    <tr>\n",
       "      <th>306271</th>\n",
       "      <td>yHCtfU3syM4</td>\n",
       "      <td>entertainment</td>\n",
       "      <td>2343368</td>\n",
       "      <td>58835</td>\n",
       "      <td>3655</td>\n",
       "      <td>Jimmy Fallon: I Didn't Expect It To Be This Brutal! The Hate Was Something I Wasn’t Prepared For!</td>\n",
       "    </tr>\n",
       "    <tr>\n",
       "      <th>310044</th>\n",
       "      <td>JMYQmGfTltY</td>\n",
       "      <td>technology</td>\n",
       "      <td>3163223</td>\n",
       "      <td>63647</td>\n",
       "      <td>16094</td>\n",
       "      <td>AI AGENTS DEBATE: These Jobs Won't Exist In 24 Months!</td>\n",
       "    </tr>\n",
       "    <tr>\n",
       "      <th>326475</th>\n",
       "      <td>19_sGcrsWhg</td>\n",
       "      <td>productivity / personal development</td>\n",
       "      <td>1135828</td>\n",
       "      <td>27582</td>\n",
       "      <td>1869</td>\n",
       "      <td>We Are Making Dangerous, Lonely &amp; Broken Men! - Manipulation Expert, Robert Greene! 48 Laws Of Power</td>\n",
       "    </tr>\n",
       "    <tr>\n",
       "      <th>328406</th>\n",
       "      <td>zsuOSDb7gzQ</td>\n",
       "      <td>productivity / personal development</td>\n",
       "      <td>4766274</td>\n",
       "      <td>149002</td>\n",
       "      <td>7744</td>\n",
       "      <td>The Speaking Coach: The One Word All Liars Use! Stop Saying This Word, It's Making You Sound Weak!</td>\n",
       "    </tr>\n",
       "    <tr>\n",
       "      <th>336428</th>\n",
       "      <td>D67eWcX2XYQ</td>\n",
       "      <td>religion/spirituality</td>\n",
       "      <td>1908080</td>\n",
       "      <td>68888</td>\n",
       "      <td>8751</td>\n",
       "      <td>Michelle Obama: This Is A Scam! People Were Running From Us Because We Were Black!</td>\n",
       "    </tr>\n",
       "    <tr>\n",
       "      <th>342200</th>\n",
       "      <td>zg4Ta7vXiIM</td>\n",
       "      <td>mental health / psychology</td>\n",
       "      <td>2589022</td>\n",
       "      <td>56655</td>\n",
       "      <td>3410</td>\n",
       "      <td>The Charisma Teacher: Psychology Of Why People Don't Like You! People Are Attracted To These Traits!</td>\n",
       "    </tr>\n",
       "    <tr>\n",
       "      <th>345692</th>\n",
       "      <td>epAVydG6IxI</td>\n",
       "      <td>productivity / personal development</td>\n",
       "      <td>2050492</td>\n",
       "      <td>46124</td>\n",
       "      <td>2035</td>\n",
       "      <td>Jeff Cavaliere: The TRUTH about Creatine! Melt Belly Fat With 1 Change!</td>\n",
       "    </tr>\n",
       "    <tr>\n",
       "      <th>347778</th>\n",
       "      <td>NSsx6mkiaf8</td>\n",
       "      <td>entertainment</td>\n",
       "      <td>1452899</td>\n",
       "      <td>25140</td>\n",
       "      <td>2640</td>\n",
       "      <td>Corrupt Cop: I Had Sex With Girls In My Police Car, Arrested Drug Dealers, Then Sold Their Drugs!</td>\n",
       "    </tr>\n",
       "    <tr>\n",
       "      <th>350469</th>\n",
       "      <td>qpBnYB0I6_0</td>\n",
       "      <td>entertainment</td>\n",
       "      <td>3527595</td>\n",
       "      <td>101258</td>\n",
       "      <td>21973</td>\n",
       "      <td>US ELECTION DEBATE: What Trump’s Return REALLY Means For The World! Is The UK About To Collapse?</td>\n",
       "    </tr>\n",
       "    <tr>\n",
       "      <th>372787</th>\n",
       "      <td>LgsJ3V9pIG0</td>\n",
       "      <td>health</td>\n",
       "      <td>3658744</td>\n",
       "      <td>136560</td>\n",
       "      <td>8991</td>\n",
       "      <td>Chronic Disease Doctor: We Can Now Reverse Some Stage 4 Cancer?</td>\n",
       "    </tr>\n",
       "    <tr>\n",
       "      <th>382049</th>\n",
       "      <td>bOi_Y4ythYY</td>\n",
       "      <td>mental health / psychology</td>\n",
       "      <td>3571011</td>\n",
       "      <td>85813</td>\n",
       "      <td>6561</td>\n",
       "      <td>The No.1 Brain Doctor: This Parenting Mistake Ruins Your Kids Brain &amp; Alcohol Will Ruin Yours!</td>\n",
       "    </tr>\n",
       "    <tr>\n",
       "      <th>388748</th>\n",
       "      <td>OsAlLgGf9JM</td>\n",
       "      <td>entertainment</td>\n",
       "      <td>1382321</td>\n",
       "      <td>29589</td>\n",
       "      <td>4129</td>\n",
       "      <td>Chris Eubank Jr: I Was Paid $***** For The Fight! The Night Before, Dad Finally Opened Up!</td>\n",
       "    </tr>\n",
       "    <tr>\n",
       "      <th>392954</th>\n",
       "      <td>FjrJ2DJN_pA</td>\n",
       "      <td>entertainment</td>\n",
       "      <td>3760693</td>\n",
       "      <td>101905</td>\n",
       "      <td>8938</td>\n",
       "      <td>MrBeast: If You Want To Be Liked, Don't Help People &amp; I Lost Tens Of Millions On Beast Games!</td>\n",
       "    </tr>\n",
       "  </tbody>\n",
       "</table>\n",
       "</div>"
      ],
      "text/plain": [
       "           video_id                       Topic_Category  view_count  \\\n",
       "0       B7tnfSPySb0           mental health / psychology     2038491   \n",
       "6409    ZHuZ_8VYCWA                        relationships     1968583   \n",
       "30960   7l_0ZcSuRwg  productivity / personal development     3806975   \n",
       "36537   uxu37dqVR90                              finance     2820273   \n",
       "43370   9gk3mNJs2FY           mental health / psychology     1095572   \n",
       "46629   ZxXruY7llcc                               health     1450645   \n",
       "48796   0GQozcTPyO0                               health      932985   \n",
       "51027   EdlXcVu1CTs  productivity / personal development      854152   \n",
       "52785   It5_C6AF1pk                               health     1624462   \n",
       "55933   Hik6OY-nk4c                religion/spirituality     2046763   \n",
       "62446   atejm2w2jWY                               health     2868687   \n",
       "67587   ldizQkuWpDE           mental health / psychology     2224325   \n",
       "73340   NyFSkGMWP5Q                               health     5387358   \n",
       "84138   G4hkYDjPSFs           mental health / psychology     2707502   \n",
       "87243   cialLfVZqm4           mental health / psychology     3248752   \n",
       "100021  rCtvAvZtJyE           mental health / psychology     1739040   \n",
       "103327  IgW1jepnJp4                        relationships      729839   \n",
       "104171  4yohVh4qcas                              finance     4851575   \n",
       "155878  li70iz1NaDY           mental health / psychology     2182115   \n",
       "180916  zECoaEZRRFU                               health     2440853   \n",
       "187862  giT0ytynSqg              religion / spirituality    10774074   \n",
       "216254  ffgpqk5hZBE                               health     2653505   \n",
       "219667  ZuiIvevLg40           mental health / psychology     3330593   \n",
       "223868  ZznpMh0DegE          entrepreneurship / business     5291988   \n",
       "234227  oIiv_335yus  productivity / personal development     3084661   \n",
       "238212  QCaFWrT0j-g                        relationships     1876083   \n",
       "244099  CMzEnLkS2rQ                               health     2637190   \n",
       "249619  eOnIWDMNyfE                               health      749464   \n",
       "253431  W4tqbEmplug                religion/spirituality     3193537   \n",
       "259940  rBM6lGk4-fk          entrepreneurship / business      743779   \n",
       "260794  Kl-I7sUcAOY          entrepreneurship / business     2577451   \n",
       "263343  Fg7U-BhiZGE           mental health / psychology     1353314   \n",
       "277233  sFkR34AMPw8          entrepreneurship / business     3551557   \n",
       "286496  6ikIGGi859w                        relationships     1200300   \n",
       "292909  R6xbXOp7wDA           mental health / psychology     5043118   \n",
       "306271  yHCtfU3syM4                        entertainment     2343368   \n",
       "310044  JMYQmGfTltY                           technology     3163223   \n",
       "326475  19_sGcrsWhg  productivity / personal development     1135828   \n",
       "328406  zsuOSDb7gzQ  productivity / personal development     4766274   \n",
       "336428  D67eWcX2XYQ                religion/spirituality     1908080   \n",
       "342200  zg4Ta7vXiIM           mental health / psychology     2589022   \n",
       "345692  epAVydG6IxI  productivity / personal development     2050492   \n",
       "347778  NSsx6mkiaf8                        entertainment     1452899   \n",
       "350469  qpBnYB0I6_0                        entertainment     3527595   \n",
       "372787  LgsJ3V9pIG0                               health     3658744   \n",
       "382049  bOi_Y4ythYY           mental health / psychology     3571011   \n",
       "388748  OsAlLgGf9JM                        entertainment     1382321   \n",
       "392954  FjrJ2DJN_pA                        entertainment     3760693   \n",
       "\n",
       "        video_like_count  comment_count  \\\n",
       "0                  61491           6274   \n",
       "6409               46664          24218   \n",
       "30960             112769           5411   \n",
       "36537              57474           6755   \n",
       "43370              21074           3206   \n",
       "46629              31924           2108   \n",
       "48796              28358           2168   \n",
       "51027              14482           1738   \n",
       "52785              48760           3137   \n",
       "55933              54184           6392   \n",
       "62446              83672           5055   \n",
       "67587              58672           5625   \n",
       "73340             162020          10597   \n",
       "84138              59209           2976   \n",
       "87243              85762          12441   \n",
       "100021             46726           3249   \n",
       "103327             12731            826   \n",
       "104171             98675          51092   \n",
       "155878             50795          24835   \n",
       "180916            104461           6803   \n",
       "187862            240870          27956   \n",
       "216254             67076           3329   \n",
       "219667             80056           4059   \n",
       "223868            131318          10125   \n",
       "234227             89186           3902   \n",
       "238212             42802           5794   \n",
       "244099             85971           5365   \n",
       "249619             15169           3700   \n",
       "253431             72590           6348   \n",
       "259940             12773            834   \n",
       "260794             55216           2487   \n",
       "263343             31199           3456   \n",
       "277233             86817           9132   \n",
       "286496             24059           6334   \n",
       "292909            163175          13061   \n",
       "306271             58835           3655   \n",
       "310044             63647          16094   \n",
       "326475             27582           1869   \n",
       "328406            149002           7744   \n",
       "336428             68888           8751   \n",
       "342200             56655           3410   \n",
       "345692             46124           2035   \n",
       "347778             25140           2640   \n",
       "350469            101258          21973   \n",
       "372787            136560           8991   \n",
       "382049             85813           6561   \n",
       "388748             29589           4129   \n",
       "392954            101905           8938   \n",
       "\n",
       "                                                                                                 video_title  \n",
       "0          The Keto Psychiatrist: What Keto Is Really Doing To Your Body! Can It Cure 43% Of Mental Illness?  \n",
       "6409                                                            DEBATE: Feminist Women Vs Non-Feminist Women  \n",
       "30960   Secret Agent: If You’re Easily Offended, You’re Easily Manipulated! This 1 Trick Catches A Lie In 2s  \n",
       "36537      The Savings Expert: The Truth About America Collapsing! The Cost Of Living Is About To Skyrocket!  \n",
       "43370        The Sex Psychologist: We're Not Having Enough Sex! Fat Makes You Attractive! Dr Bill Von Hippel  \n",
       "46629      Peter Attia: Anti-aging Cure No One Talks About! 50% Chance You’ll Die In A Year If This Happens!  \n",
       "48796       Hormone Expert: Control Your Hormones Control Your Belly Fat! Cortisol, oestrogen, testosterone.  \n",
       "51027       The Business Expert: How To Build A Brand In 2025! They're Lying To You About Work-Life Balance!  \n",
       "52785     Exercise & Nutrition Scientist: The Truth About Exercise On Your Period! Take These 4 Supplements!  \n",
       "55933            Jordan B Peterson: You Need To Listen To Your Wife! We've Built A Lonely & Sexless Society!  \n",
       "62446     Shaolin Warrior Master: Hidden Epidemic Nobody Talks About! This Modern Habit Is Killing Millions!  \n",
       "67587                                                   Body Language Expert Explains Why People Dislike You  \n",
       "73340                           The Insulin & Glucose Doctor: This Will Strip Your Fat Faster Than Anything!  \n",
       "84138         Secret To Living Without Fear & Anxiety Forever! Your Mind Can Heal Itself! - Dr. Joe Dispenza  \n",
       "87243      Child Attachment Expert: We're Stressing Newborns & It's Causing ADHD! Hidden Dangers Of Daycare!  \n",
       "100021               (Major Discovery) No.1 Neuroscientist: Anxiety Is Just A Predictive Error In The Brain!  \n",
       "103327  Get Your Sex Life Back! What Everyone Gets Wrong About Sex, Libido & Erectile Dysfunction - Dr Khera  \n",
       "104171           EMERGENCY DEBATE: They Lied About The Economy Recovering! Is A Financial Apocalypse Coming?  \n",
       "155878                                                       Young Men Are (Quietly) Giving Up...Here’s Why!  \n",
       "180916                        No.1 Nitric Oxide Expert: This is the anti-aging cure no one is talking about!  \n",
       "187862                                  Godfather of AI: They Keep Silencing Me But I’m Trying to Warn Them!  \n",
       "216254      The Truth About Creatine & Exercise! 30% Of People Will Die From This! The Healthy Ageing Doctor  \n",
       "219667             Former FBI Agent: If They Do This Please RUN! Narcissists Favourite Trick To Control You!  \n",
       "223868                 Invest in This – It’ll Be Worth $1.5 Million by 2030 | World Leading Investing Expert  \n",
       "234227                No. 1 Communication Expert: This Speaking Mistake Makes People Dislike You! Vinh Giang  \n",
       "238212   Sex Expert (Esther Perel): The Relationship Crisis No One Talks About That's Killing Your Sex Life!  \n",
       "244099          The Foot Expert: Your Toes Can Predict If You’ll Die Early! This Will Fix Plantar Fasciitis!  \n",
       "249619                    The Nutritional Scientist: Do Not Eat After 9pm! Link Between Chewing & Belly Fat!  \n",
       "253431   Simon Sinek: You're Being Lied To About AI's Real Purpose! We're Teaching Our Kids To Not Be Human!  \n",
       "259940            Exact Formula Used To Build A $130 Billion Company! I Said No to $3B From Mark Zuckerberg!  \n",
       "260794         The Man That Makes Millionaires: Turn $0 to $10k With This Step By Step Formula! Alex Hormozi  \n",
       "263343                  They Lied About Alcohol’s Effect On Your Brain! Here’s The Proof | Dr. Sarah Wakeman  \n",
       "277233          The Money Making Expert: The 7,11,4 Hack That Turns $1 Into $10K Per Month! Daniel Priestley  \n",
       "286496    Paul Brunson: Women Need To Lower Their Standards! If They Have These 3 Traits, Never Let Them Go!  \n",
       "292909      Dopamine Expert: Doing This Once A Day Fixes Your Dopamine! What Alcohol Is Doing To Your Brain!  \n",
       "306271     Jimmy Fallon: I Didn't Expect It To Be This Brutal! The Hate Was Something I Wasn’t Prepared For!  \n",
       "310044                                                AI AGENTS DEBATE: These Jobs Won't Exist In 24 Months!  \n",
       "326475  We Are Making Dangerous, Lonely & Broken Men! - Manipulation Expert, Robert Greene! 48 Laws Of Power  \n",
       "328406    The Speaking Coach: The One Word All Liars Use! Stop Saying This Word, It's Making You Sound Weak!  \n",
       "336428                    Michelle Obama: This Is A Scam! People Were Running From Us Because We Were Black!  \n",
       "342200  The Charisma Teacher: Psychology Of Why People Don't Like You! People Are Attracted To These Traits!  \n",
       "345692                               Jeff Cavaliere: The TRUTH about Creatine! Melt Belly Fat With 1 Change!  \n",
       "347778     Corrupt Cop: I Had Sex With Girls In My Police Car, Arrested Drug Dealers, Then Sold Their Drugs!  \n",
       "350469      US ELECTION DEBATE: What Trump’s Return REALLY Means For The World! Is The UK About To Collapse?  \n",
       "372787                                       Chronic Disease Doctor: We Can Now Reverse Some Stage 4 Cancer?  \n",
       "382049        The No.1 Brain Doctor: This Parenting Mistake Ruins Your Kids Brain & Alcohol Will Ruin Yours!  \n",
       "388748            Chris Eubank Jr: I Was Paid $***** For The Fight! The Night Before, Dad Finally Opened Up!  \n",
       "392954         MrBeast: If You Want To Be Liked, Don't Help People & I Lost Tens Of Millions On Beast Games!  "
      ]
     },
     "execution_count": 23,
     "metadata": {},
     "output_type": "execute_result"
    }
   ],
   "source": [
    "print(topic_df.shape)\n",
    "topic_df"
   ]
  },
  {
   "cell_type": "code",
   "execution_count": 24,
   "id": "adde38ac",
   "metadata": {},
   "outputs": [],
   "source": [
    "#### AVERAGE by Topic\n",
    "## Average here works better than sum so topic categories that appear more don't bias the results!\n",
    "\n",
    "topic_stats = (\n",
    "    topic_df.groupby(\"Topic_Category\", as_index=False)\n",
    "             .agg({\n",
    "                 \"view_count\": \"mean\",\n",
    "                 \"video_like_count\": \"mean\",\n",
    "                 \"comment_count\": \"mean\",\n",
    "                 \"video_id\": \"count\"\n",
    "             })\n",
    "             .rename(columns={\"video_id\": \"n_videos\"})\n",
    ")\n",
    "\n",
    "\n",
    "##Topics: you used means per topic, to remove bias from topics that simply appear more often → ✅"
   ]
  },
  {
   "cell_type": "code",
   "execution_count": 25,
   "id": "73b96919",
   "metadata": {},
   "outputs": [],
   "source": [
    "#### Normalize Metrics\n",
    "## Views, likes, and comments are in different scales — we want to make them comparable\n",
    "## 👉 This rescales all values of that column between 0 and 1, using:\n",
    "\n",
    "from sklearn.preprocessing import MinMaxScaler\n",
    "\n",
    "scaler = MinMaxScaler()\n",
    "for col in [\"view_count\", \"video_like_count\", \"comment_count\"]:\n",
    "    topic_stats[f\"{col}_norm\"] = scaler.fit_transform(topic_stats[[col]])"
   ]
  },
  {
   "cell_type": "code",
   "execution_count": 26,
   "id": "18480d4c",
   "metadata": {},
   "outputs": [],
   "source": [
    "#### apply weights\n",
    "\n",
    "topic_stats[\"weighted_score\"] = (\n",
    "    0.5 * topic_stats[\"comment_count_norm\"] +\n",
    "    0.3 * topic_stats[\"video_like_count_norm\"] +\n",
    "    0.2 * topic_stats[\"view_count_norm\"]\n",
    ").round(2)"
   ]
  },
  {
   "cell_type": "code",
   "execution_count": 27,
   "id": "00559f98",
   "metadata": {},
   "outputs": [
    {
     "data": {
      "text/html": [
       "<div>\n",
       "<style scoped>\n",
       "    .dataframe tbody tr th:only-of-type {\n",
       "        vertical-align: middle;\n",
       "    }\n",
       "\n",
       "    .dataframe tbody tr th {\n",
       "        vertical-align: top;\n",
       "    }\n",
       "\n",
       "    .dataframe thead th {\n",
       "        text-align: right;\n",
       "    }\n",
       "</style>\n",
       "<table border=\"1\" class=\"dataframe\">\n",
       "  <thead>\n",
       "    <tr style=\"text-align: right;\">\n",
       "      <th></th>\n",
       "      <th>Topic_Category</th>\n",
       "      <th>view_count</th>\n",
       "      <th>video_like_count</th>\n",
       "      <th>comment_count</th>\n",
       "      <th>n_videos</th>\n",
       "      <th>view_count_norm</th>\n",
       "      <th>video_like_count_norm</th>\n",
       "      <th>comment_count_norm</th>\n",
       "      <th>weighted_score</th>\n",
       "      <th>rank</th>\n",
       "    </tr>\n",
       "  </thead>\n",
       "  <tbody>\n",
       "    <tr>\n",
       "      <th>7</th>\n",
       "      <td>religion / spirituality</td>\n",
       "      <td>1.077407e+07</td>\n",
       "      <td>240870.000000</td>\n",
       "      <td>27956.000000</td>\n",
       "      <td>1</td>\n",
       "      <td>1.000000</td>\n",
       "      <td>1.000000</td>\n",
       "      <td>0.961516</td>\n",
       "      <td>0.98</td>\n",
       "      <td>1</td>\n",
       "    </tr>\n",
       "    <tr>\n",
       "      <th>2</th>\n",
       "      <td>finance</td>\n",
       "      <td>3.835924e+06</td>\n",
       "      <td>78074.500000</td>\n",
       "      <td>28923.500000</td>\n",
       "      <td>2</td>\n",
       "      <td>0.256391</td>\n",
       "      <td>0.222213</td>\n",
       "      <td>1.000000</td>\n",
       "      <td>0.62</td>\n",
       "      <td>2</td>\n",
       "    </tr>\n",
       "    <tr>\n",
       "      <th>9</th>\n",
       "      <td>technology</td>\n",
       "      <td>3.163223e+06</td>\n",
       "      <td>63647.000000</td>\n",
       "      <td>16094.000000</td>\n",
       "      <td>1</td>\n",
       "      <td>0.184293</td>\n",
       "      <td>0.153283</td>\n",
       "      <td>0.489685</td>\n",
       "      <td>0.33</td>\n",
       "      <td>3</td>\n",
       "    </tr>\n",
       "    <tr>\n",
       "      <th>0</th>\n",
       "      <td>entertainment</td>\n",
       "      <td>2.493375e+06</td>\n",
       "      <td>63345.400000</td>\n",
       "      <td>8267.000000</td>\n",
       "      <td>5</td>\n",
       "      <td>0.112501</td>\n",
       "      <td>0.151842</td>\n",
       "      <td>0.178352</td>\n",
       "      <td>0.16</td>\n",
       "      <td>4</td>\n",
       "    </tr>\n",
       "    <tr>\n",
       "      <th>4</th>\n",
       "      <td>mental health / psychology</td>\n",
       "      <td>2.593571e+06</td>\n",
       "      <td>66718.916667</td>\n",
       "      <td>7429.416667</td>\n",
       "      <td>12</td>\n",
       "      <td>0.123239</td>\n",
       "      <td>0.167959</td>\n",
       "      <td>0.145036</td>\n",
       "      <td>0.15</td>\n",
       "      <td>5</td>\n",
       "    </tr>\n",
       "    <tr>\n",
       "      <th>8</th>\n",
       "      <td>religion/spirituality</td>\n",
       "      <td>2.382793e+06</td>\n",
       "      <td>65220.666667</td>\n",
       "      <td>7163.666667</td>\n",
       "      <td>3</td>\n",
       "      <td>0.100649</td>\n",
       "      <td>0.160801</td>\n",
       "      <td>0.134465</td>\n",
       "      <td>0.14</td>\n",
       "      <td>6</td>\n",
       "    </tr>\n",
       "    <tr>\n",
       "      <th>1</th>\n",
       "      <td>entrepreneurship / business</td>\n",
       "      <td>3.041194e+06</td>\n",
       "      <td>71531.000000</td>\n",
       "      <td>5644.500000</td>\n",
       "      <td>4</td>\n",
       "      <td>0.171214</td>\n",
       "      <td>0.190950</td>\n",
       "      <td>0.074038</td>\n",
       "      <td>0.13</td>\n",
       "      <td>7</td>\n",
       "    </tr>\n",
       "    <tr>\n",
       "      <th>3</th>\n",
       "      <td>health</td>\n",
       "      <td>2.440389e+06</td>\n",
       "      <td>76397.100000</td>\n",
       "      <td>5125.300000</td>\n",
       "      <td>10</td>\n",
       "      <td>0.106822</td>\n",
       "      <td>0.214199</td>\n",
       "      <td>0.053386</td>\n",
       "      <td>0.11</td>\n",
       "      <td>8</td>\n",
       "    </tr>\n",
       "    <tr>\n",
       "      <th>6</th>\n",
       "      <td>relationships</td>\n",
       "      <td>1.443701e+06</td>\n",
       "      <td>31564.000000</td>\n",
       "      <td>9293.000000</td>\n",
       "      <td>4</td>\n",
       "      <td>0.000000</td>\n",
       "      <td>0.000000</td>\n",
       "      <td>0.219163</td>\n",
       "      <td>0.11</td>\n",
       "      <td>8</td>\n",
       "    </tr>\n",
       "    <tr>\n",
       "      <th>5</th>\n",
       "      <td>productivity / personal development</td>\n",
       "      <td>2.616397e+06</td>\n",
       "      <td>73190.833333</td>\n",
       "      <td>3783.166667</td>\n",
       "      <td>6</td>\n",
       "      <td>0.125686</td>\n",
       "      <td>0.198880</td>\n",
       "      <td>0.000000</td>\n",
       "      <td>0.08</td>\n",
       "      <td>10</td>\n",
       "    </tr>\n",
       "  </tbody>\n",
       "</table>\n",
       "</div>"
      ],
      "text/plain": [
       "                        Topic_Category    view_count  video_like_count  \\\n",
       "7              religion / spirituality  1.077407e+07     240870.000000   \n",
       "2                              finance  3.835924e+06      78074.500000   \n",
       "9                           technology  3.163223e+06      63647.000000   \n",
       "0                        entertainment  2.493375e+06      63345.400000   \n",
       "4           mental health / psychology  2.593571e+06      66718.916667   \n",
       "8                religion/spirituality  2.382793e+06      65220.666667   \n",
       "1          entrepreneurship / business  3.041194e+06      71531.000000   \n",
       "3                               health  2.440389e+06      76397.100000   \n",
       "6                        relationships  1.443701e+06      31564.000000   \n",
       "5  productivity / personal development  2.616397e+06      73190.833333   \n",
       "\n",
       "   comment_count  n_videos  view_count_norm  video_like_count_norm  \\\n",
       "7   27956.000000         1         1.000000               1.000000   \n",
       "2   28923.500000         2         0.256391               0.222213   \n",
       "9   16094.000000         1         0.184293               0.153283   \n",
       "0    8267.000000         5         0.112501               0.151842   \n",
       "4    7429.416667        12         0.123239               0.167959   \n",
       "8    7163.666667         3         0.100649               0.160801   \n",
       "1    5644.500000         4         0.171214               0.190950   \n",
       "3    5125.300000        10         0.106822               0.214199   \n",
       "6    9293.000000         4         0.000000               0.000000   \n",
       "5    3783.166667         6         0.125686               0.198880   \n",
       "\n",
       "   comment_count_norm  weighted_score  rank  \n",
       "7            0.961516            0.98     1  \n",
       "2            1.000000            0.62     2  \n",
       "9            0.489685            0.33     3  \n",
       "0            0.178352            0.16     4  \n",
       "4            0.145036            0.15     5  \n",
       "8            0.134465            0.14     6  \n",
       "1            0.074038            0.13     7  \n",
       "3            0.053386            0.11     8  \n",
       "6            0.219163            0.11     8  \n",
       "5            0.000000            0.08    10  "
      ]
     },
     "execution_count": 27,
     "metadata": {},
     "output_type": "execute_result"
    }
   ],
   "source": [
    "topic_stats[\"rank\"] = topic_stats[\"weighted_score\"].rank(ascending=False)\n",
    "topic_stats['rank'] = topic_stats['rank'].astype(int)\n",
    "\n",
    "topic_stats.sort_values(\"weighted_score\", ascending=False)"
   ]
  },
  {
   "cell_type": "markdown",
   "id": "6d0391bc",
   "metadata": {},
   "source": [
    "- 1.0 = best performing topic in that metric\n",
    "- 0.0 = weakest performing topic\n",
    "- Values between 0–1 = proportionally scaled in between."
   ]
  },
  {
   "cell_type": "markdown",
   "id": "07c2eeb5",
   "metadata": {},
   "source": [
    "#### Guest Score\n",
    "\n",
    "##### KPI values are divided equally among guests to avoid inflating multi-guest episodes.\n",
    "##### This assumes each guest contributes roughly equally to the episode’s performance."
   ]
  },
  {
   "cell_type": "code",
   "execution_count": 28,
   "id": "adfd16d8",
   "metadata": {},
   "outputs": [
    {
     "name": "stdout",
     "output_type": "stream",
     "text": [
      "(59, 12)\n"
     ]
    },
    {
     "data": {
      "text/html": [
       "<div>\n",
       "<style scoped>\n",
       "    .dataframe tbody tr th:only-of-type {\n",
       "        vertical-align: middle;\n",
       "    }\n",
       "\n",
       "    .dataframe tbody tr th {\n",
       "        vertical-align: top;\n",
       "    }\n",
       "\n",
       "    .dataframe thead th {\n",
       "        text-align: right;\n",
       "    }\n",
       "</style>\n",
       "<table border=\"1\" class=\"dataframe\">\n",
       "  <thead>\n",
       "    <tr style=\"text-align: right;\">\n",
       "      <th></th>\n",
       "      <th>days_since_published</th>\n",
       "      <th>video_id</th>\n",
       "      <th>video_title</th>\n",
       "      <th>guest</th>\n",
       "      <th>Topic_Category</th>\n",
       "      <th>view_count</th>\n",
       "      <th>video_like_count</th>\n",
       "      <th>comment_count</th>\n",
       "      <th>n_guests</th>\n",
       "      <th>views_per_guest</th>\n",
       "      <th>likes_per_guest</th>\n",
       "      <th>comments_per_guest</th>\n",
       "    </tr>\n",
       "  </thead>\n",
       "  <tbody>\n",
       "    <tr>\n",
       "      <th>0</th>\n",
       "      <td>286</td>\n",
       "      <td>B7tnfSPySb0</td>\n",
       "      <td>The Keto Psychiatrist: What Keto Is Really Doing To Your Body! Can It Cure 43% Of Mental Illness?</td>\n",
       "      <td>Dr Georgia Ede</td>\n",
       "      <td>mental health / psychology</td>\n",
       "      <td>2038491</td>\n",
       "      <td>61491</td>\n",
       "      <td>6274</td>\n",
       "      <td>1</td>\n",
       "      <td>2038491.00</td>\n",
       "      <td>61491.00</td>\n",
       "      <td>6274.00</td>\n",
       "    </tr>\n",
       "    <tr>\n",
       "      <th>6409</th>\n",
       "      <td>132</td>\n",
       "      <td>ZHuZ_8VYCWA</td>\n",
       "      <td>DEBATE: Feminist Women Vs Non-Feminist Women</td>\n",
       "      <td>Louise Perry</td>\n",
       "      <td>relationships</td>\n",
       "      <td>1968583</td>\n",
       "      <td>46664</td>\n",
       "      <td>24218</td>\n",
       "      <td>3</td>\n",
       "      <td>656194.33</td>\n",
       "      <td>15554.67</td>\n",
       "      <td>8072.67</td>\n",
       "    </tr>\n",
       "    <tr>\n",
       "      <th>6409</th>\n",
       "      <td>132</td>\n",
       "      <td>ZHuZ_8VYCWA</td>\n",
       "      <td>DEBATE: Feminist Women Vs Non-Feminist Women</td>\n",
       "      <td>Deborah Frances-White</td>\n",
       "      <td>relationships</td>\n",
       "      <td>1968583</td>\n",
       "      <td>46664</td>\n",
       "      <td>24218</td>\n",
       "      <td>3</td>\n",
       "      <td>656194.33</td>\n",
       "      <td>15554.67</td>\n",
       "      <td>8072.67</td>\n",
       "    </tr>\n",
       "    <tr>\n",
       "      <th>6409</th>\n",
       "      <td>132</td>\n",
       "      <td>ZHuZ_8VYCWA</td>\n",
       "      <td>DEBATE: Feminist Women Vs Non-Feminist Women</td>\n",
       "      <td>Erica Komisar</td>\n",
       "      <td>relationships</td>\n",
       "      <td>1968583</td>\n",
       "      <td>46664</td>\n",
       "      <td>24218</td>\n",
       "      <td>3</td>\n",
       "      <td>656194.33</td>\n",
       "      <td>15554.67</td>\n",
       "      <td>8072.67</td>\n",
       "    </tr>\n",
       "    <tr>\n",
       "      <th>30960</th>\n",
       "      <td>247</td>\n",
       "      <td>7l_0ZcSuRwg</td>\n",
       "      <td>Secret Agent: If You’re Easily Offended, You’re Easily Manipulated! This 1 Trick Catches A Lie In 2s</td>\n",
       "      <td>Steven</td>\n",
       "      <td>productivity / personal development</td>\n",
       "      <td>3806975</td>\n",
       "      <td>112769</td>\n",
       "      <td>5411</td>\n",
       "      <td>2</td>\n",
       "      <td>1903487.50</td>\n",
       "      <td>56384.50</td>\n",
       "      <td>2705.50</td>\n",
       "    </tr>\n",
       "    <tr>\n",
       "      <th>30960</th>\n",
       "      <td>247</td>\n",
       "      <td>7l_0ZcSuRwg</td>\n",
       "      <td>Secret Agent: If You’re Easily Offended, You’re Easily Manipulated! This 1 Trick Catches A Lie In 2s</td>\n",
       "      <td>Evy Poumpouras</td>\n",
       "      <td>productivity / personal development</td>\n",
       "      <td>3806975</td>\n",
       "      <td>112769</td>\n",
       "      <td>5411</td>\n",
       "      <td>2</td>\n",
       "      <td>1903487.50</td>\n",
       "      <td>56384.50</td>\n",
       "      <td>2705.50</td>\n",
       "    </tr>\n",
       "    <tr>\n",
       "      <th>36537</th>\n",
       "      <td>184</td>\n",
       "      <td>uxu37dqVR90</td>\n",
       "      <td>The Savings Expert: The Truth About America Collapsing! The Cost Of Living Is About To Skyrocket!</td>\n",
       "      <td>Morgan Housel</td>\n",
       "      <td>finance</td>\n",
       "      <td>2820273</td>\n",
       "      <td>57474</td>\n",
       "      <td>6755</td>\n",
       "      <td>1</td>\n",
       "      <td>2820273.00</td>\n",
       "      <td>57474.00</td>\n",
       "      <td>6755.00</td>\n",
       "    </tr>\n",
       "    <tr>\n",
       "      <th>43370</th>\n",
       "      <td>254</td>\n",
       "      <td>9gk3mNJs2FY</td>\n",
       "      <td>The Sex Psychologist: We're Not Having Enough Sex! Fat Makes You Attractive! Dr Bill Von Hippel</td>\n",
       "      <td>Dr Bill von Hippel</td>\n",
       "      <td>mental health / psychology</td>\n",
       "      <td>1095572</td>\n",
       "      <td>21074</td>\n",
       "      <td>3206</td>\n",
       "      <td>1</td>\n",
       "      <td>1095572.00</td>\n",
       "      <td>21074.00</td>\n",
       "      <td>3206.00</td>\n",
       "    </tr>\n",
       "    <tr>\n",
       "      <th>46629</th>\n",
       "      <td>205</td>\n",
       "      <td>ZxXruY7llcc</td>\n",
       "      <td>Peter Attia: Anti-aging Cure No One Talks About! 50% Chance You’ll Die In A Year If This Happens!</td>\n",
       "      <td>Dr Peter Attia</td>\n",
       "      <td>health</td>\n",
       "      <td>1450645</td>\n",
       "      <td>31924</td>\n",
       "      <td>2108</td>\n",
       "      <td>1</td>\n",
       "      <td>1450645.00</td>\n",
       "      <td>31924.00</td>\n",
       "      <td>2108.00</td>\n",
       "    </tr>\n",
       "    <tr>\n",
       "      <th>48796</th>\n",
       "      <td>216</td>\n",
       "      <td>0GQozcTPyO0</td>\n",
       "      <td>Hormone Expert: Control Your Hormones Control Your Belly Fat! Cortisol, oestrogen, testosterone.</td>\n",
       "      <td>Dr. Sara Szal</td>\n",
       "      <td>health</td>\n",
       "      <td>932985</td>\n",
       "      <td>28358</td>\n",
       "      <td>2168</td>\n",
       "      <td>1</td>\n",
       "      <td>932985.00</td>\n",
       "      <td>28358.00</td>\n",
       "      <td>2168.00</td>\n",
       "    </tr>\n",
       "    <tr>\n",
       "      <th>51027</th>\n",
       "      <td>177</td>\n",
       "      <td>EdlXcVu1CTs</td>\n",
       "      <td>The Business Expert: How To Build A Brand In 2025! They're Lying To You About Work-Life Balance!</td>\n",
       "      <td>Emma Grede</td>\n",
       "      <td>productivity / personal development</td>\n",
       "      <td>854152</td>\n",
       "      <td>14482</td>\n",
       "      <td>1738</td>\n",
       "      <td>1</td>\n",
       "      <td>854152.00</td>\n",
       "      <td>14482.00</td>\n",
       "      <td>1738.00</td>\n",
       "    </tr>\n",
       "    <tr>\n",
       "      <th>52785</th>\n",
       "      <td>296</td>\n",
       "      <td>It5_C6AF1pk</td>\n",
       "      <td>Exercise &amp; Nutrition Scientist: The Truth About Exercise On Your Period! Take These 4 Supplements!</td>\n",
       "      <td>Dr Stacy Sims</td>\n",
       "      <td>health</td>\n",
       "      <td>1624462</td>\n",
       "      <td>48760</td>\n",
       "      <td>3137</td>\n",
       "      <td>1</td>\n",
       "      <td>1624462.00</td>\n",
       "      <td>48760.00</td>\n",
       "      <td>3137.00</td>\n",
       "    </tr>\n",
       "    <tr>\n",
       "      <th>55933</th>\n",
       "      <td>289</td>\n",
       "      <td>Hik6OY-nk4c</td>\n",
       "      <td>Jordan B Peterson: You Need To Listen To Your Wife! We've Built A Lonely &amp; Sexless Society!</td>\n",
       "      <td>Dr Jordan Peterson</td>\n",
       "      <td>religion/spirituality</td>\n",
       "      <td>2046763</td>\n",
       "      <td>54184</td>\n",
       "      <td>6392</td>\n",
       "      <td>1</td>\n",
       "      <td>2046763.00</td>\n",
       "      <td>54184.00</td>\n",
       "      <td>6392.00</td>\n",
       "    </tr>\n",
       "    <tr>\n",
       "      <th>62446</th>\n",
       "      <td>188</td>\n",
       "      <td>atejm2w2jWY</td>\n",
       "      <td>Shaolin Warrior Master: Hidden Epidemic Nobody Talks About! This Modern Habit Is Killing Millions!</td>\n",
       "      <td>Master Shi Heng Yi</td>\n",
       "      <td>health</td>\n",
       "      <td>2868687</td>\n",
       "      <td>83672</td>\n",
       "      <td>5055</td>\n",
       "      <td>1</td>\n",
       "      <td>2868687.00</td>\n",
       "      <td>83672.00</td>\n",
       "      <td>5055.00</td>\n",
       "    </tr>\n",
       "    <tr>\n",
       "      <th>67587</th>\n",
       "      <td>202</td>\n",
       "      <td>ldizQkuWpDE</td>\n",
       "      <td>Body Language Expert Explains Why People Dislike You</td>\n",
       "      <td>Steven</td>\n",
       "      <td>mental health / psychology</td>\n",
       "      <td>2224325</td>\n",
       "      <td>58672</td>\n",
       "      <td>5625</td>\n",
       "      <td>2</td>\n",
       "      <td>1112162.50</td>\n",
       "      <td>29336.00</td>\n",
       "      <td>2812.50</td>\n",
       "    </tr>\n",
       "    <tr>\n",
       "      <th>67587</th>\n",
       "      <td>202</td>\n",
       "      <td>ldizQkuWpDE</td>\n",
       "      <td>Body Language Expert Explains Why People Dislike You</td>\n",
       "      <td>Vanessa Van Edwards</td>\n",
       "      <td>mental health / psychology</td>\n",
       "      <td>2224325</td>\n",
       "      <td>58672</td>\n",
       "      <td>5625</td>\n",
       "      <td>2</td>\n",
       "      <td>1112162.50</td>\n",
       "      <td>29336.00</td>\n",
       "      <td>2812.50</td>\n",
       "    </tr>\n",
       "    <tr>\n",
       "      <th>73340</th>\n",
       "      <td>265</td>\n",
       "      <td>NyFSkGMWP5Q</td>\n",
       "      <td>The Insulin &amp; Glucose Doctor: This Will Strip Your Fat Faster Than Anything!</td>\n",
       "      <td>Dr Benjamin Bikman</td>\n",
       "      <td>health</td>\n",
       "      <td>5387358</td>\n",
       "      <td>162020</td>\n",
       "      <td>10597</td>\n",
       "      <td>1</td>\n",
       "      <td>5387358.00</td>\n",
       "      <td>162020.00</td>\n",
       "      <td>10597.00</td>\n",
       "    </tr>\n",
       "    <tr>\n",
       "      <th>84138</th>\n",
       "      <td>230</td>\n",
       "      <td>G4hkYDjPSFs</td>\n",
       "      <td>Secret To Living Without Fear &amp; Anxiety Forever! Your Mind Can Heal Itself! - Dr. Joe Dispenza</td>\n",
       "      <td>Dr Joe Dispenza</td>\n",
       "      <td>mental health / psychology</td>\n",
       "      <td>2707502</td>\n",
       "      <td>59209</td>\n",
       "      <td>2976</td>\n",
       "      <td>1</td>\n",
       "      <td>2707502.00</td>\n",
       "      <td>59209.00</td>\n",
       "      <td>2976.00</td>\n",
       "    </tr>\n",
       "    <tr>\n",
       "      <th>87243</th>\n",
       "      <td>239</td>\n",
       "      <td>cialLfVZqm4</td>\n",
       "      <td>Child Attachment Expert: We're Stressing Newborns &amp; It's Causing ADHD! Hidden Dangers Of Daycare!</td>\n",
       "      <td>Erica Komisar</td>\n",
       "      <td>mental health / psychology</td>\n",
       "      <td>3248752</td>\n",
       "      <td>85762</td>\n",
       "      <td>12441</td>\n",
       "      <td>1</td>\n",
       "      <td>3248752.00</td>\n",
       "      <td>85762.00</td>\n",
       "      <td>12441.00</td>\n",
       "    </tr>\n",
       "    <tr>\n",
       "      <th>100021</th>\n",
       "      <td>195</td>\n",
       "      <td>rCtvAvZtJyE</td>\n",
       "      <td>(Major Discovery) No.1 Neuroscientist: Anxiety Is Just A Predictive Error In The Brain!</td>\n",
       "      <td>Dr. Lisa Feldman Barrett</td>\n",
       "      <td>mental health / psychology</td>\n",
       "      <td>1739040</td>\n",
       "      <td>46726</td>\n",
       "      <td>3249</td>\n",
       "      <td>1</td>\n",
       "      <td>1739040.00</td>\n",
       "      <td>46726.00</td>\n",
       "      <td>3249.00</td>\n",
       "    </tr>\n",
       "    <tr>\n",
       "      <th>103327</th>\n",
       "      <td>293</td>\n",
       "      <td>IgW1jepnJp4</td>\n",
       "      <td>Get Your Sex Life Back! What Everyone Gets Wrong About Sex, Libido &amp; Erectile Dysfunction - Dr Khera</td>\n",
       "      <td>Dr Mohit Khera</td>\n",
       "      <td>relationships</td>\n",
       "      <td>729839</td>\n",
       "      <td>12731</td>\n",
       "      <td>826</td>\n",
       "      <td>1</td>\n",
       "      <td>729839.00</td>\n",
       "      <td>12731.00</td>\n",
       "      <td>826.00</td>\n",
       "    </tr>\n",
       "    <tr>\n",
       "      <th>104171</th>\n",
       "      <td>223</td>\n",
       "      <td>4yohVh4qcas</td>\n",
       "      <td>EMERGENCY DEBATE: They Lied About The Economy Recovering! Is A Financial Apocalypse Coming?</td>\n",
       "      <td>Daniel Priestley</td>\n",
       "      <td>finance</td>\n",
       "      <td>4851575</td>\n",
       "      <td>98675</td>\n",
       "      <td>51092</td>\n",
       "      <td>2</td>\n",
       "      <td>2425787.50</td>\n",
       "      <td>49337.50</td>\n",
       "      <td>25546.00</td>\n",
       "    </tr>\n",
       "    <tr>\n",
       "      <th>104171</th>\n",
       "      <td>223</td>\n",
       "      <td>4yohVh4qcas</td>\n",
       "      <td>EMERGENCY DEBATE: They Lied About The Economy Recovering! Is A Financial Apocalypse Coming?</td>\n",
       "      <td>Gary Stevenson</td>\n",
       "      <td>finance</td>\n",
       "      <td>4851575</td>\n",
       "      <td>98675</td>\n",
       "      <td>51092</td>\n",
       "      <td>2</td>\n",
       "      <td>2425787.50</td>\n",
       "      <td>49337.50</td>\n",
       "      <td>25546.00</td>\n",
       "    </tr>\n",
       "    <tr>\n",
       "      <th>155878</th>\n",
       "      <td>212</td>\n",
       "      <td>li70iz1NaDY</td>\n",
       "      <td>Young Men Are (Quietly) Giving Up...Here’s Why!</td>\n",
       "      <td>Logan Ury</td>\n",
       "      <td>mental health / psychology</td>\n",
       "      <td>2182115</td>\n",
       "      <td>50795</td>\n",
       "      <td>24835</td>\n",
       "      <td>2</td>\n",
       "      <td>1091057.50</td>\n",
       "      <td>25397.50</td>\n",
       "      <td>12417.50</td>\n",
       "    </tr>\n",
       "    <tr>\n",
       "      <th>155878</th>\n",
       "      <td>212</td>\n",
       "      <td>li70iz1NaDY</td>\n",
       "      <td>Young Men Are (Quietly) Giving Up...Here’s Why!</td>\n",
       "      <td>Scott Galloway</td>\n",
       "      <td>mental health / psychology</td>\n",
       "      <td>2182115</td>\n",
       "      <td>50795</td>\n",
       "      <td>24835</td>\n",
       "      <td>2</td>\n",
       "      <td>1091057.50</td>\n",
       "      <td>25397.50</td>\n",
       "      <td>12417.50</td>\n",
       "    </tr>\n",
       "    <tr>\n",
       "      <th>180916</th>\n",
       "      <td>198</td>\n",
       "      <td>zECoaEZRRFU</td>\n",
       "      <td>No.1 Nitric Oxide Expert: This is the anti-aging cure no one is talking about!</td>\n",
       "      <td>Dr Nathan Bryan</td>\n",
       "      <td>health</td>\n",
       "      <td>2440853</td>\n",
       "      <td>104461</td>\n",
       "      <td>6803</td>\n",
       "      <td>1</td>\n",
       "      <td>2440853.00</td>\n",
       "      <td>104461.00</td>\n",
       "      <td>6803.00</td>\n",
       "    </tr>\n",
       "    <tr>\n",
       "      <th>187862</th>\n",
       "      <td>135</td>\n",
       "      <td>giT0ytynSqg</td>\n",
       "      <td>Godfather of AI: They Keep Silencing Me But I’m Trying to Warn Them!</td>\n",
       "      <td>Geoffrey Hinton</td>\n",
       "      <td>religion / spirituality</td>\n",
       "      <td>10774074</td>\n",
       "      <td>240870</td>\n",
       "      <td>27956</td>\n",
       "      <td>1</td>\n",
       "      <td>10774074.00</td>\n",
       "      <td>240870.00</td>\n",
       "      <td>27956.00</td>\n",
       "    </tr>\n",
       "    <tr>\n",
       "      <th>216254</th>\n",
       "      <td>237</td>\n",
       "      <td>ffgpqk5hZBE</td>\n",
       "      <td>The Truth About Creatine &amp; Exercise! 30% Of People Will Die From This! The Healthy Ageing Doctor</td>\n",
       "      <td>Dr Vonda Wright</td>\n",
       "      <td>health</td>\n",
       "      <td>2653505</td>\n",
       "      <td>67076</td>\n",
       "      <td>3329</td>\n",
       "      <td>1</td>\n",
       "      <td>2653505.00</td>\n",
       "      <td>67076.00</td>\n",
       "      <td>3329.00</td>\n",
       "    </tr>\n",
       "    <tr>\n",
       "      <th>219667</th>\n",
       "      <td>191</td>\n",
       "      <td>ZuiIvevLg40</td>\n",
       "      <td>Former FBI Agent: If They Do This Please RUN! Narcissists Favourite Trick To Control You!</td>\n",
       "      <td>Joe Navarro</td>\n",
       "      <td>mental health / psychology</td>\n",
       "      <td>3330593</td>\n",
       "      <td>80056</td>\n",
       "      <td>4059</td>\n",
       "      <td>1</td>\n",
       "      <td>3330593.00</td>\n",
       "      <td>80056.00</td>\n",
       "      <td>4059.00</td>\n",
       "    </tr>\n",
       "    <tr>\n",
       "      <th>223868</th>\n",
       "      <td>146</td>\n",
       "      <td>ZznpMh0DegE</td>\n",
       "      <td>Invest in This – It’ll Be Worth $1.5 Million by 2030 | World Leading Investing Expert</td>\n",
       "      <td>Cathie Wood</td>\n",
       "      <td>entrepreneurship / business</td>\n",
       "      <td>5291988</td>\n",
       "      <td>131318</td>\n",
       "      <td>10125</td>\n",
       "      <td>1</td>\n",
       "      <td>5291988.00</td>\n",
       "      <td>131318.00</td>\n",
       "      <td>10125.00</td>\n",
       "    </tr>\n",
       "    <tr>\n",
       "      <th>234227</th>\n",
       "      <td>233</td>\n",
       "      <td>oIiv_335yus</td>\n",
       "      <td>No. 1 Communication Expert: This Speaking Mistake Makes People Dislike You! Vinh Giang</td>\n",
       "      <td>Vinh Giang</td>\n",
       "      <td>productivity / personal development</td>\n",
       "      <td>3084661</td>\n",
       "      <td>89186</td>\n",
       "      <td>3902</td>\n",
       "      <td>1</td>\n",
       "      <td>3084661.00</td>\n",
       "      <td>89186.00</td>\n",
       "      <td>3902.00</td>\n",
       "    </tr>\n",
       "    <tr>\n",
       "      <th>238212</th>\n",
       "      <td>139</td>\n",
       "      <td>QCaFWrT0j-g</td>\n",
       "      <td>Sex Expert (Esther Perel): The Relationship Crisis No One Talks About That's Killing Your Sex Life!</td>\n",
       "      <td>Esther Perel</td>\n",
       "      <td>relationships</td>\n",
       "      <td>1876083</td>\n",
       "      <td>42802</td>\n",
       "      <td>5794</td>\n",
       "      <td>1</td>\n",
       "      <td>1876083.00</td>\n",
       "      <td>42802.00</td>\n",
       "      <td>5794.00</td>\n",
       "    </tr>\n",
       "    <tr>\n",
       "      <th>244099</th>\n",
       "      <td>153</td>\n",
       "      <td>CMzEnLkS2rQ</td>\n",
       "      <td>The Foot Expert: Your Toes Can Predict If You’ll Die Early! This Will Fix Plantar Fasciitis!</td>\n",
       "      <td>Dr. Courtney Conley</td>\n",
       "      <td>health</td>\n",
       "      <td>2637190</td>\n",
       "      <td>85971</td>\n",
       "      <td>5365</td>\n",
       "      <td>1</td>\n",
       "      <td>2637190.00</td>\n",
       "      <td>85971.00</td>\n",
       "      <td>5365.00</td>\n",
       "    </tr>\n",
       "    <tr>\n",
       "      <th>249619</th>\n",
       "      <td>275</td>\n",
       "      <td>eOnIWDMNyfE</td>\n",
       "      <td>The Nutritional Scientist: Do Not Eat After 9pm! Link Between Chewing &amp; Belly Fat!</td>\n",
       "      <td>Dr Sarah Berry</td>\n",
       "      <td>health</td>\n",
       "      <td>749464</td>\n",
       "      <td>15169</td>\n",
       "      <td>3700</td>\n",
       "      <td>1</td>\n",
       "      <td>749464.00</td>\n",
       "      <td>15169.00</td>\n",
       "      <td>3700.00</td>\n",
       "    </tr>\n",
       "    <tr>\n",
       "      <th>253431</th>\n",
       "      <td>156</td>\n",
       "      <td>W4tqbEmplug</td>\n",
       "      <td>Simon Sinek: You're Being Lied To About AI's Real Purpose! We're Teaching Our Kids To Not Be Human!</td>\n",
       "      <td>Simon Sinek</td>\n",
       "      <td>religion/spirituality</td>\n",
       "      <td>3193537</td>\n",
       "      <td>72590</td>\n",
       "      <td>6348</td>\n",
       "      <td>1</td>\n",
       "      <td>3193537.00</td>\n",
       "      <td>72590.00</td>\n",
       "      <td>6348.00</td>\n",
       "    </tr>\n",
       "    <tr>\n",
       "      <th>259940</th>\n",
       "      <td>219</td>\n",
       "      <td>rBM6lGk4-fk</td>\n",
       "      <td>Exact Formula Used To Build A $130 Billion Company! I Said No to $3B From Mark Zuckerberg!</td>\n",
       "      <td>Evan Spiegel</td>\n",
       "      <td>entrepreneurship / business</td>\n",
       "      <td>743779</td>\n",
       "      <td>12773</td>\n",
       "      <td>834</td>\n",
       "      <td>1</td>\n",
       "      <td>743779.00</td>\n",
       "      <td>12773.00</td>\n",
       "      <td>834.00</td>\n",
       "    </tr>\n",
       "    <tr>\n",
       "      <th>260794</th>\n",
       "      <td>258</td>\n",
       "      <td>Kl-I7sUcAOY</td>\n",
       "      <td>The Man That Makes Millionaires: Turn $0 to $10k With This Step By Step Formula! Alex Hormozi</td>\n",
       "      <td>Alex Hormozi</td>\n",
       "      <td>entrepreneurship / business</td>\n",
       "      <td>2577451</td>\n",
       "      <td>55216</td>\n",
       "      <td>2487</td>\n",
       "      <td>1</td>\n",
       "      <td>2577451.00</td>\n",
       "      <td>55216.00</td>\n",
       "      <td>2487.00</td>\n",
       "    </tr>\n",
       "    <tr>\n",
       "      <th>263343</th>\n",
       "      <td>160</td>\n",
       "      <td>Fg7U-BhiZGE</td>\n",
       "      <td>They Lied About Alcohol’s Effect On Your Brain! Here’s The Proof | Dr. Sarah Wakeman</td>\n",
       "      <td>Dr. Sarah Wakeman</td>\n",
       "      <td>mental health / psychology</td>\n",
       "      <td>1353314</td>\n",
       "      <td>31199</td>\n",
       "      <td>3456</td>\n",
       "      <td>1</td>\n",
       "      <td>1353314.00</td>\n",
       "      <td>31199.00</td>\n",
       "      <td>3456.00</td>\n",
       "    </tr>\n",
       "    <tr>\n",
       "      <th>277233</th>\n",
       "      <td>282</td>\n",
       "      <td>sFkR34AMPw8</td>\n",
       "      <td>The Money Making Expert: The 7,11,4 Hack That Turns $1 Into $10K Per Month! Daniel Priestley</td>\n",
       "      <td>NaN</td>\n",
       "      <td>entrepreneurship / business</td>\n",
       "      <td>3551557</td>\n",
       "      <td>86817</td>\n",
       "      <td>9132</td>\n",
       "      <td>1</td>\n",
       "      <td>3551557.00</td>\n",
       "      <td>86817.00</td>\n",
       "      <td>9132.00</td>\n",
       "    </tr>\n",
       "    <tr>\n",
       "      <th>286496</th>\n",
       "      <td>272</td>\n",
       "      <td>6ikIGGi859w</td>\n",
       "      <td>Paul Brunson: Women Need To Lower Their Standards! If They Have These 3 Traits, Never Let Them Go!</td>\n",
       "      <td>Paul Brunson</td>\n",
       "      <td>relationships</td>\n",
       "      <td>1200300</td>\n",
       "      <td>24059</td>\n",
       "      <td>6334</td>\n",
       "      <td>1</td>\n",
       "      <td>1200300.00</td>\n",
       "      <td>24059.00</td>\n",
       "      <td>6334.00</td>\n",
       "    </tr>\n",
       "    <tr>\n",
       "      <th>292909</th>\n",
       "      <td>300</td>\n",
       "      <td>R6xbXOp7wDA</td>\n",
       "      <td>Dopamine Expert: Doing This Once A Day Fixes Your Dopamine! What Alcohol Is Doing To Your Brain!</td>\n",
       "      <td>Dr Anna Lembke</td>\n",
       "      <td>mental health / psychology</td>\n",
       "      <td>5043118</td>\n",
       "      <td>163175</td>\n",
       "      <td>13061</td>\n",
       "      <td>1</td>\n",
       "      <td>5043118.00</td>\n",
       "      <td>163175.00</td>\n",
       "      <td>13061.00</td>\n",
       "    </tr>\n",
       "    <tr>\n",
       "      <th>306271</th>\n",
       "      <td>149</td>\n",
       "      <td>yHCtfU3syM4</td>\n",
       "      <td>Jimmy Fallon: I Didn't Expect It To Be This Brutal! The Hate Was Something I Wasn’t Prepared For!</td>\n",
       "      <td>Jimmy Fallon</td>\n",
       "      <td>entertainment</td>\n",
       "      <td>2343368</td>\n",
       "      <td>58835</td>\n",
       "      <td>3655</td>\n",
       "      <td>1</td>\n",
       "      <td>2343368.00</td>\n",
       "      <td>58835.00</td>\n",
       "      <td>3655.00</td>\n",
       "    </tr>\n",
       "    <tr>\n",
       "      <th>310044</th>\n",
       "      <td>170</td>\n",
       "      <td>JMYQmGfTltY</td>\n",
       "      <td>AI AGENTS DEBATE: These Jobs Won't Exist In 24 Months!</td>\n",
       "      <td>Bret Weinstein</td>\n",
       "      <td>technology</td>\n",
       "      <td>3163223</td>\n",
       "      <td>63647</td>\n",
       "      <td>16094</td>\n",
       "      <td>3</td>\n",
       "      <td>1054407.67</td>\n",
       "      <td>21215.67</td>\n",
       "      <td>5364.67</td>\n",
       "    </tr>\n",
       "    <tr>\n",
       "      <th>310044</th>\n",
       "      <td>170</td>\n",
       "      <td>JMYQmGfTltY</td>\n",
       "      <td>AI AGENTS DEBATE: These Jobs Won't Exist In 24 Months!</td>\n",
       "      <td>Daniel Priestley</td>\n",
       "      <td>technology</td>\n",
       "      <td>3163223</td>\n",
       "      <td>63647</td>\n",
       "      <td>16094</td>\n",
       "      <td>3</td>\n",
       "      <td>1054407.67</td>\n",
       "      <td>21215.67</td>\n",
       "      <td>5364.67</td>\n",
       "    </tr>\n",
       "    <tr>\n",
       "      <th>310044</th>\n",
       "      <td>170</td>\n",
       "      <td>JMYQmGfTltY</td>\n",
       "      <td>AI AGENTS DEBATE: These Jobs Won't Exist In 24 Months!</td>\n",
       "      <td>Amjad Masad</td>\n",
       "      <td>technology</td>\n",
       "      <td>3163223</td>\n",
       "      <td>63647</td>\n",
       "      <td>16094</td>\n",
       "      <td>3</td>\n",
       "      <td>1054407.67</td>\n",
       "      <td>21215.67</td>\n",
       "      <td>5364.67</td>\n",
       "    </tr>\n",
       "    <tr>\n",
       "      <th>326475</th>\n",
       "      <td>243</td>\n",
       "      <td>19_sGcrsWhg</td>\n",
       "      <td>We Are Making Dangerous, Lonely &amp; Broken Men! - Manipulation Expert, Robert Greene! 48 Laws Of Power</td>\n",
       "      <td>Robert Greene</td>\n",
       "      <td>productivity / personal development</td>\n",
       "      <td>1135828</td>\n",
       "      <td>27582</td>\n",
       "      <td>1869</td>\n",
       "      <td>1</td>\n",
       "      <td>1135828.00</td>\n",
       "      <td>27582.00</td>\n",
       "      <td>1869.00</td>\n",
       "    </tr>\n",
       "    <tr>\n",
       "      <th>328406</th>\n",
       "      <td>226</td>\n",
       "      <td>zsuOSDb7gzQ</td>\n",
       "      <td>The Speaking Coach: The One Word All Liars Use! Stop Saying This Word, It's Making You Sound Weak!</td>\n",
       "      <td>Jefferson Fisher</td>\n",
       "      <td>productivity / personal development</td>\n",
       "      <td>4766274</td>\n",
       "      <td>149002</td>\n",
       "      <td>7744</td>\n",
       "      <td>1</td>\n",
       "      <td>4766274.00</td>\n",
       "      <td>149002.00</td>\n",
       "      <td>7744.00</td>\n",
       "    </tr>\n",
       "    <tr>\n",
       "      <th>336428</th>\n",
       "      <td>181</td>\n",
       "      <td>D67eWcX2XYQ</td>\n",
       "      <td>Michelle Obama: This Is A Scam! People Were Running From Us Because We Were Black!</td>\n",
       "      <td>Michelle Obama</td>\n",
       "      <td>religion/spirituality</td>\n",
       "      <td>1908080</td>\n",
       "      <td>68888</td>\n",
       "      <td>8751</td>\n",
       "      <td>2</td>\n",
       "      <td>954040.00</td>\n",
       "      <td>34444.00</td>\n",
       "      <td>4375.50</td>\n",
       "    </tr>\n",
       "    <tr>\n",
       "      <th>336428</th>\n",
       "      <td>181</td>\n",
       "      <td>D67eWcX2XYQ</td>\n",
       "      <td>Michelle Obama: This Is A Scam! People Were Running From Us Because We Were Black!</td>\n",
       "      <td>Craig Robinson</td>\n",
       "      <td>religion/spirituality</td>\n",
       "      <td>1908080</td>\n",
       "      <td>68888</td>\n",
       "      <td>8751</td>\n",
       "      <td>2</td>\n",
       "      <td>954040.00</td>\n",
       "      <td>34444.00</td>\n",
       "      <td>4375.50</td>\n",
       "    </tr>\n",
       "    <tr>\n",
       "      <th>342200</th>\n",
       "      <td>268</td>\n",
       "      <td>zg4Ta7vXiIM</td>\n",
       "      <td>The Charisma Teacher: Psychology Of Why People Don't Like You! People Are Attracted To These Traits!</td>\n",
       "      <td>Charlie Houpert</td>\n",
       "      <td>mental health / psychology</td>\n",
       "      <td>2589022</td>\n",
       "      <td>56655</td>\n",
       "      <td>3410</td>\n",
       "      <td>1</td>\n",
       "      <td>2589022.00</td>\n",
       "      <td>56655.00</td>\n",
       "      <td>3410.00</td>\n",
       "    </tr>\n",
       "    <tr>\n",
       "      <th>345692</th>\n",
       "      <td>167</td>\n",
       "      <td>epAVydG6IxI</td>\n",
       "      <td>Jeff Cavaliere: The TRUTH about Creatine! Melt Belly Fat With 1 Change!</td>\n",
       "      <td>Jeff Cavaliere</td>\n",
       "      <td>productivity / personal development</td>\n",
       "      <td>2050492</td>\n",
       "      <td>46124</td>\n",
       "      <td>2035</td>\n",
       "      <td>1</td>\n",
       "      <td>2050492.00</td>\n",
       "      <td>46124.00</td>\n",
       "      <td>2035.00</td>\n",
       "    </tr>\n",
       "    <tr>\n",
       "      <th>347778</th>\n",
       "      <td>209</td>\n",
       "      <td>NSsx6mkiaf8</td>\n",
       "      <td>Corrupt Cop: I Had Sex With Girls In My Police Car, Arrested Drug Dealers, Then Sold Their Drugs!</td>\n",
       "      <td>Mike Dowd</td>\n",
       "      <td>entertainment</td>\n",
       "      <td>1452899</td>\n",
       "      <td>25140</td>\n",
       "      <td>2640</td>\n",
       "      <td>1</td>\n",
       "      <td>1452899.00</td>\n",
       "      <td>25140.00</td>\n",
       "      <td>2640.00</td>\n",
       "    </tr>\n",
       "    <tr>\n",
       "      <th>350469</th>\n",
       "      <td>279</td>\n",
       "      <td>qpBnYB0I6_0</td>\n",
       "      <td>US ELECTION DEBATE: What Trump’s Return REALLY Means For The World! Is The UK About To Collapse?</td>\n",
       "      <td>Konstantin Kisin</td>\n",
       "      <td>entertainment</td>\n",
       "      <td>3527595</td>\n",
       "      <td>101258</td>\n",
       "      <td>21973</td>\n",
       "      <td>3</td>\n",
       "      <td>1175865.00</td>\n",
       "      <td>33752.67</td>\n",
       "      <td>7324.33</td>\n",
       "    </tr>\n",
       "    <tr>\n",
       "      <th>350469</th>\n",
       "      <td>279</td>\n",
       "      <td>qpBnYB0I6_0</td>\n",
       "      <td>US ELECTION DEBATE: What Trump’s Return REALLY Means For The World! Is The UK About To Collapse?</td>\n",
       "      <td>Daniel Priestley</td>\n",
       "      <td>entertainment</td>\n",
       "      <td>3527595</td>\n",
       "      <td>101258</td>\n",
       "      <td>21973</td>\n",
       "      <td>3</td>\n",
       "      <td>1175865.00</td>\n",
       "      <td>33752.67</td>\n",
       "      <td>7324.33</td>\n",
       "    </tr>\n",
       "    <tr>\n",
       "      <th>350469</th>\n",
       "      <td>279</td>\n",
       "      <td>qpBnYB0I6_0</td>\n",
       "      <td>US ELECTION DEBATE: What Trump’s Return REALLY Means For The World! Is The UK About To Collapse?</td>\n",
       "      <td>Scott Galloway</td>\n",
       "      <td>entertainment</td>\n",
       "      <td>3527595</td>\n",
       "      <td>101258</td>\n",
       "      <td>21973</td>\n",
       "      <td>3</td>\n",
       "      <td>1175865.00</td>\n",
       "      <td>33752.67</td>\n",
       "      <td>7324.33</td>\n",
       "    </tr>\n",
       "    <tr>\n",
       "      <th>372787</th>\n",
       "      <td>163</td>\n",
       "      <td>LgsJ3V9pIG0</td>\n",
       "      <td>Chronic Disease Doctor: We Can Now Reverse Some Stage 4 Cancer?</td>\n",
       "      <td>Dr. William Li</td>\n",
       "      <td>health</td>\n",
       "      <td>3658744</td>\n",
       "      <td>136560</td>\n",
       "      <td>8991</td>\n",
       "      <td>1</td>\n",
       "      <td>3658744.00</td>\n",
       "      <td>136560.00</td>\n",
       "      <td>8991.00</td>\n",
       "    </tr>\n",
       "    <tr>\n",
       "      <th>382049</th>\n",
       "      <td>261</td>\n",
       "      <td>bOi_Y4ythYY</td>\n",
       "      <td>The No.1 Brain Doctor: This Parenting Mistake Ruins Your Kids Brain &amp; Alcohol Will Ruin Yours!</td>\n",
       "      <td>Dr Daniel Amen</td>\n",
       "      <td>mental health / psychology</td>\n",
       "      <td>3571011</td>\n",
       "      <td>85813</td>\n",
       "      <td>6561</td>\n",
       "      <td>1</td>\n",
       "      <td>3571011.00</td>\n",
       "      <td>85813.00</td>\n",
       "      <td>6561.00</td>\n",
       "    </tr>\n",
       "    <tr>\n",
       "      <th>388748</th>\n",
       "      <td>174</td>\n",
       "      <td>OsAlLgGf9JM</td>\n",
       "      <td>Chris Eubank Jr: I Was Paid $***** For The Fight! The Night Before, Dad Finally Opened Up!</td>\n",
       "      <td>Chris Eubank Jr.</td>\n",
       "      <td>entertainment</td>\n",
       "      <td>1382321</td>\n",
       "      <td>29589</td>\n",
       "      <td>4129</td>\n",
       "      <td>1</td>\n",
       "      <td>1382321.00</td>\n",
       "      <td>29589.00</td>\n",
       "      <td>4129.00</td>\n",
       "    </tr>\n",
       "    <tr>\n",
       "      <th>392954</th>\n",
       "      <td>251</td>\n",
       "      <td>FjrJ2DJN_pA</td>\n",
       "      <td>MrBeast: If You Want To Be Liked, Don't Help People &amp; I Lost Tens Of Millions On Beast Games!</td>\n",
       "      <td>MrBeast</td>\n",
       "      <td>entertainment</td>\n",
       "      <td>3760693</td>\n",
       "      <td>101905</td>\n",
       "      <td>8938</td>\n",
       "      <td>1</td>\n",
       "      <td>3760693.00</td>\n",
       "      <td>101905.00</td>\n",
       "      <td>8938.00</td>\n",
       "    </tr>\n",
       "  </tbody>\n",
       "</table>\n",
       "</div>"
      ],
      "text/plain": [
       "        days_since_published     video_id  \\\n",
       "0                        286  B7tnfSPySb0   \n",
       "6409                     132  ZHuZ_8VYCWA   \n",
       "6409                     132  ZHuZ_8VYCWA   \n",
       "6409                     132  ZHuZ_8VYCWA   \n",
       "30960                    247  7l_0ZcSuRwg   \n",
       "30960                    247  7l_0ZcSuRwg   \n",
       "36537                    184  uxu37dqVR90   \n",
       "43370                    254  9gk3mNJs2FY   \n",
       "46629                    205  ZxXruY7llcc   \n",
       "48796                    216  0GQozcTPyO0   \n",
       "51027                    177  EdlXcVu1CTs   \n",
       "52785                    296  It5_C6AF1pk   \n",
       "55933                    289  Hik6OY-nk4c   \n",
       "62446                    188  atejm2w2jWY   \n",
       "67587                    202  ldizQkuWpDE   \n",
       "67587                    202  ldizQkuWpDE   \n",
       "73340                    265  NyFSkGMWP5Q   \n",
       "84138                    230  G4hkYDjPSFs   \n",
       "87243                    239  cialLfVZqm4   \n",
       "100021                   195  rCtvAvZtJyE   \n",
       "103327                   293  IgW1jepnJp4   \n",
       "104171                   223  4yohVh4qcas   \n",
       "104171                   223  4yohVh4qcas   \n",
       "155878                   212  li70iz1NaDY   \n",
       "155878                   212  li70iz1NaDY   \n",
       "180916                   198  zECoaEZRRFU   \n",
       "187862                   135  giT0ytynSqg   \n",
       "216254                   237  ffgpqk5hZBE   \n",
       "219667                   191  ZuiIvevLg40   \n",
       "223868                   146  ZznpMh0DegE   \n",
       "234227                   233  oIiv_335yus   \n",
       "238212                   139  QCaFWrT0j-g   \n",
       "244099                   153  CMzEnLkS2rQ   \n",
       "249619                   275  eOnIWDMNyfE   \n",
       "253431                   156  W4tqbEmplug   \n",
       "259940                   219  rBM6lGk4-fk   \n",
       "260794                   258  Kl-I7sUcAOY   \n",
       "263343                   160  Fg7U-BhiZGE   \n",
       "277233                   282  sFkR34AMPw8   \n",
       "286496                   272  6ikIGGi859w   \n",
       "292909                   300  R6xbXOp7wDA   \n",
       "306271                   149  yHCtfU3syM4   \n",
       "310044                   170  JMYQmGfTltY   \n",
       "310044                   170  JMYQmGfTltY   \n",
       "310044                   170  JMYQmGfTltY   \n",
       "326475                   243  19_sGcrsWhg   \n",
       "328406                   226  zsuOSDb7gzQ   \n",
       "336428                   181  D67eWcX2XYQ   \n",
       "336428                   181  D67eWcX2XYQ   \n",
       "342200                   268  zg4Ta7vXiIM   \n",
       "345692                   167  epAVydG6IxI   \n",
       "347778                   209  NSsx6mkiaf8   \n",
       "350469                   279  qpBnYB0I6_0   \n",
       "350469                   279  qpBnYB0I6_0   \n",
       "350469                   279  qpBnYB0I6_0   \n",
       "372787                   163  LgsJ3V9pIG0   \n",
       "382049                   261  bOi_Y4ythYY   \n",
       "388748                   174  OsAlLgGf9JM   \n",
       "392954                   251  FjrJ2DJN_pA   \n",
       "\n",
       "                                                                                                 video_title  \\\n",
       "0          The Keto Psychiatrist: What Keto Is Really Doing To Your Body! Can It Cure 43% Of Mental Illness?   \n",
       "6409                                                            DEBATE: Feminist Women Vs Non-Feminist Women   \n",
       "6409                                                            DEBATE: Feminist Women Vs Non-Feminist Women   \n",
       "6409                                                            DEBATE: Feminist Women Vs Non-Feminist Women   \n",
       "30960   Secret Agent: If You’re Easily Offended, You’re Easily Manipulated! This 1 Trick Catches A Lie In 2s   \n",
       "30960   Secret Agent: If You’re Easily Offended, You’re Easily Manipulated! This 1 Trick Catches A Lie In 2s   \n",
       "36537      The Savings Expert: The Truth About America Collapsing! The Cost Of Living Is About To Skyrocket!   \n",
       "43370        The Sex Psychologist: We're Not Having Enough Sex! Fat Makes You Attractive! Dr Bill Von Hippel   \n",
       "46629      Peter Attia: Anti-aging Cure No One Talks About! 50% Chance You’ll Die In A Year If This Happens!   \n",
       "48796       Hormone Expert: Control Your Hormones Control Your Belly Fat! Cortisol, oestrogen, testosterone.   \n",
       "51027       The Business Expert: How To Build A Brand In 2025! They're Lying To You About Work-Life Balance!   \n",
       "52785     Exercise & Nutrition Scientist: The Truth About Exercise On Your Period! Take These 4 Supplements!   \n",
       "55933            Jordan B Peterson: You Need To Listen To Your Wife! We've Built A Lonely & Sexless Society!   \n",
       "62446     Shaolin Warrior Master: Hidden Epidemic Nobody Talks About! This Modern Habit Is Killing Millions!   \n",
       "67587                                                   Body Language Expert Explains Why People Dislike You   \n",
       "67587                                                   Body Language Expert Explains Why People Dislike You   \n",
       "73340                           The Insulin & Glucose Doctor: This Will Strip Your Fat Faster Than Anything!   \n",
       "84138         Secret To Living Without Fear & Anxiety Forever! Your Mind Can Heal Itself! - Dr. Joe Dispenza   \n",
       "87243      Child Attachment Expert: We're Stressing Newborns & It's Causing ADHD! Hidden Dangers Of Daycare!   \n",
       "100021               (Major Discovery) No.1 Neuroscientist: Anxiety Is Just A Predictive Error In The Brain!   \n",
       "103327  Get Your Sex Life Back! What Everyone Gets Wrong About Sex, Libido & Erectile Dysfunction - Dr Khera   \n",
       "104171           EMERGENCY DEBATE: They Lied About The Economy Recovering! Is A Financial Apocalypse Coming?   \n",
       "104171           EMERGENCY DEBATE: They Lied About The Economy Recovering! Is A Financial Apocalypse Coming?   \n",
       "155878                                                       Young Men Are (Quietly) Giving Up...Here’s Why!   \n",
       "155878                                                       Young Men Are (Quietly) Giving Up...Here’s Why!   \n",
       "180916                        No.1 Nitric Oxide Expert: This is the anti-aging cure no one is talking about!   \n",
       "187862                                  Godfather of AI: They Keep Silencing Me But I’m Trying to Warn Them!   \n",
       "216254      The Truth About Creatine & Exercise! 30% Of People Will Die From This! The Healthy Ageing Doctor   \n",
       "219667             Former FBI Agent: If They Do This Please RUN! Narcissists Favourite Trick To Control You!   \n",
       "223868                 Invest in This – It’ll Be Worth $1.5 Million by 2030 | World Leading Investing Expert   \n",
       "234227                No. 1 Communication Expert: This Speaking Mistake Makes People Dislike You! Vinh Giang   \n",
       "238212   Sex Expert (Esther Perel): The Relationship Crisis No One Talks About That's Killing Your Sex Life!   \n",
       "244099          The Foot Expert: Your Toes Can Predict If You’ll Die Early! This Will Fix Plantar Fasciitis!   \n",
       "249619                    The Nutritional Scientist: Do Not Eat After 9pm! Link Between Chewing & Belly Fat!   \n",
       "253431   Simon Sinek: You're Being Lied To About AI's Real Purpose! We're Teaching Our Kids To Not Be Human!   \n",
       "259940            Exact Formula Used To Build A $130 Billion Company! I Said No to $3B From Mark Zuckerberg!   \n",
       "260794         The Man That Makes Millionaires: Turn $0 to $10k With This Step By Step Formula! Alex Hormozi   \n",
       "263343                  They Lied About Alcohol’s Effect On Your Brain! Here’s The Proof | Dr. Sarah Wakeman   \n",
       "277233          The Money Making Expert: The 7,11,4 Hack That Turns $1 Into $10K Per Month! Daniel Priestley   \n",
       "286496    Paul Brunson: Women Need To Lower Their Standards! If They Have These 3 Traits, Never Let Them Go!   \n",
       "292909      Dopamine Expert: Doing This Once A Day Fixes Your Dopamine! What Alcohol Is Doing To Your Brain!   \n",
       "306271     Jimmy Fallon: I Didn't Expect It To Be This Brutal! The Hate Was Something I Wasn’t Prepared For!   \n",
       "310044                                                AI AGENTS DEBATE: These Jobs Won't Exist In 24 Months!   \n",
       "310044                                                AI AGENTS DEBATE: These Jobs Won't Exist In 24 Months!   \n",
       "310044                                                AI AGENTS DEBATE: These Jobs Won't Exist In 24 Months!   \n",
       "326475  We Are Making Dangerous, Lonely & Broken Men! - Manipulation Expert, Robert Greene! 48 Laws Of Power   \n",
       "328406    The Speaking Coach: The One Word All Liars Use! Stop Saying This Word, It's Making You Sound Weak!   \n",
       "336428                    Michelle Obama: This Is A Scam! People Were Running From Us Because We Were Black!   \n",
       "336428                    Michelle Obama: This Is A Scam! People Were Running From Us Because We Were Black!   \n",
       "342200  The Charisma Teacher: Psychology Of Why People Don't Like You! People Are Attracted To These Traits!   \n",
       "345692                               Jeff Cavaliere: The TRUTH about Creatine! Melt Belly Fat With 1 Change!   \n",
       "347778     Corrupt Cop: I Had Sex With Girls In My Police Car, Arrested Drug Dealers, Then Sold Their Drugs!   \n",
       "350469      US ELECTION DEBATE: What Trump’s Return REALLY Means For The World! Is The UK About To Collapse?   \n",
       "350469      US ELECTION DEBATE: What Trump’s Return REALLY Means For The World! Is The UK About To Collapse?   \n",
       "350469      US ELECTION DEBATE: What Trump’s Return REALLY Means For The World! Is The UK About To Collapse?   \n",
       "372787                                       Chronic Disease Doctor: We Can Now Reverse Some Stage 4 Cancer?   \n",
       "382049        The No.1 Brain Doctor: This Parenting Mistake Ruins Your Kids Brain & Alcohol Will Ruin Yours!   \n",
       "388748            Chris Eubank Jr: I Was Paid $***** For The Fight! The Night Before, Dad Finally Opened Up!   \n",
       "392954         MrBeast: If You Want To Be Liked, Don't Help People & I Lost Tens Of Millions On Beast Games!   \n",
       "\n",
       "                           guest                       Topic_Category  \\\n",
       "0                 Dr Georgia Ede           mental health / psychology   \n",
       "6409                Louise Perry                        relationships   \n",
       "6409       Deborah Frances-White                        relationships   \n",
       "6409               Erica Komisar                        relationships   \n",
       "30960                     Steven  productivity / personal development   \n",
       "30960             Evy Poumpouras  productivity / personal development   \n",
       "36537              Morgan Housel                              finance   \n",
       "43370         Dr Bill von Hippel           mental health / psychology   \n",
       "46629             Dr Peter Attia                               health   \n",
       "48796              Dr. Sara Szal                               health   \n",
       "51027                 Emma Grede  productivity / personal development   \n",
       "52785              Dr Stacy Sims                               health   \n",
       "55933         Dr Jordan Peterson                religion/spirituality   \n",
       "62446         Master Shi Heng Yi                               health   \n",
       "67587                     Steven           mental health / psychology   \n",
       "67587        Vanessa Van Edwards           mental health / psychology   \n",
       "73340         Dr Benjamin Bikman                               health   \n",
       "84138            Dr Joe Dispenza           mental health / psychology   \n",
       "87243              Erica Komisar           mental health / psychology   \n",
       "100021  Dr. Lisa Feldman Barrett           mental health / psychology   \n",
       "103327            Dr Mohit Khera                        relationships   \n",
       "104171          Daniel Priestley                              finance   \n",
       "104171            Gary Stevenson                              finance   \n",
       "155878                 Logan Ury           mental health / psychology   \n",
       "155878            Scott Galloway           mental health / psychology   \n",
       "180916           Dr Nathan Bryan                               health   \n",
       "187862           Geoffrey Hinton              religion / spirituality   \n",
       "216254           Dr Vonda Wright                               health   \n",
       "219667               Joe Navarro           mental health / psychology   \n",
       "223868               Cathie Wood          entrepreneurship / business   \n",
       "234227                Vinh Giang  productivity / personal development   \n",
       "238212              Esther Perel                        relationships   \n",
       "244099       Dr. Courtney Conley                               health   \n",
       "249619            Dr Sarah Berry                               health   \n",
       "253431               Simon Sinek                religion/spirituality   \n",
       "259940              Evan Spiegel          entrepreneurship / business   \n",
       "260794              Alex Hormozi          entrepreneurship / business   \n",
       "263343         Dr. Sarah Wakeman           mental health / psychology   \n",
       "277233                       NaN          entrepreneurship / business   \n",
       "286496              Paul Brunson                        relationships   \n",
       "292909            Dr Anna Lembke           mental health / psychology   \n",
       "306271              Jimmy Fallon                        entertainment   \n",
       "310044            Bret Weinstein                           technology   \n",
       "310044          Daniel Priestley                           technology   \n",
       "310044               Amjad Masad                           technology   \n",
       "326475             Robert Greene  productivity / personal development   \n",
       "328406          Jefferson Fisher  productivity / personal development   \n",
       "336428            Michelle Obama                religion/spirituality   \n",
       "336428            Craig Robinson                religion/spirituality   \n",
       "342200           Charlie Houpert           mental health / psychology   \n",
       "345692            Jeff Cavaliere  productivity / personal development   \n",
       "347778                 Mike Dowd                        entertainment   \n",
       "350469          Konstantin Kisin                        entertainment   \n",
       "350469          Daniel Priestley                        entertainment   \n",
       "350469            Scott Galloway                        entertainment   \n",
       "372787            Dr. William Li                               health   \n",
       "382049            Dr Daniel Amen           mental health / psychology   \n",
       "388748          Chris Eubank Jr.                        entertainment   \n",
       "392954                   MrBeast                        entertainment   \n",
       "\n",
       "        view_count  video_like_count  comment_count  n_guests  \\\n",
       "0          2038491             61491           6274         1   \n",
       "6409       1968583             46664          24218         3   \n",
       "6409       1968583             46664          24218         3   \n",
       "6409       1968583             46664          24218         3   \n",
       "30960      3806975            112769           5411         2   \n",
       "30960      3806975            112769           5411         2   \n",
       "36537      2820273             57474           6755         1   \n",
       "43370      1095572             21074           3206         1   \n",
       "46629      1450645             31924           2108         1   \n",
       "48796       932985             28358           2168         1   \n",
       "51027       854152             14482           1738         1   \n",
       "52785      1624462             48760           3137         1   \n",
       "55933      2046763             54184           6392         1   \n",
       "62446      2868687             83672           5055         1   \n",
       "67587      2224325             58672           5625         2   \n",
       "67587      2224325             58672           5625         2   \n",
       "73340      5387358            162020          10597         1   \n",
       "84138      2707502             59209           2976         1   \n",
       "87243      3248752             85762          12441         1   \n",
       "100021     1739040             46726           3249         1   \n",
       "103327      729839             12731            826         1   \n",
       "104171     4851575             98675          51092         2   \n",
       "104171     4851575             98675          51092         2   \n",
       "155878     2182115             50795          24835         2   \n",
       "155878     2182115             50795          24835         2   \n",
       "180916     2440853            104461           6803         1   \n",
       "187862    10774074            240870          27956         1   \n",
       "216254     2653505             67076           3329         1   \n",
       "219667     3330593             80056           4059         1   \n",
       "223868     5291988            131318          10125         1   \n",
       "234227     3084661             89186           3902         1   \n",
       "238212     1876083             42802           5794         1   \n",
       "244099     2637190             85971           5365         1   \n",
       "249619      749464             15169           3700         1   \n",
       "253431     3193537             72590           6348         1   \n",
       "259940      743779             12773            834         1   \n",
       "260794     2577451             55216           2487         1   \n",
       "263343     1353314             31199           3456         1   \n",
       "277233     3551557             86817           9132         1   \n",
       "286496     1200300             24059           6334         1   \n",
       "292909     5043118            163175          13061         1   \n",
       "306271     2343368             58835           3655         1   \n",
       "310044     3163223             63647          16094         3   \n",
       "310044     3163223             63647          16094         3   \n",
       "310044     3163223             63647          16094         3   \n",
       "326475     1135828             27582           1869         1   \n",
       "328406     4766274            149002           7744         1   \n",
       "336428     1908080             68888           8751         2   \n",
       "336428     1908080             68888           8751         2   \n",
       "342200     2589022             56655           3410         1   \n",
       "345692     2050492             46124           2035         1   \n",
       "347778     1452899             25140           2640         1   \n",
       "350469     3527595            101258          21973         3   \n",
       "350469     3527595            101258          21973         3   \n",
       "350469     3527595            101258          21973         3   \n",
       "372787     3658744            136560           8991         1   \n",
       "382049     3571011             85813           6561         1   \n",
       "388748     1382321             29589           4129         1   \n",
       "392954     3760693            101905           8938         1   \n",
       "\n",
       "        views_per_guest  likes_per_guest  comments_per_guest  \n",
       "0            2038491.00         61491.00             6274.00  \n",
       "6409          656194.33         15554.67             8072.67  \n",
       "6409          656194.33         15554.67             8072.67  \n",
       "6409          656194.33         15554.67             8072.67  \n",
       "30960        1903487.50         56384.50             2705.50  \n",
       "30960        1903487.50         56384.50             2705.50  \n",
       "36537        2820273.00         57474.00             6755.00  \n",
       "43370        1095572.00         21074.00             3206.00  \n",
       "46629        1450645.00         31924.00             2108.00  \n",
       "48796         932985.00         28358.00             2168.00  \n",
       "51027         854152.00         14482.00             1738.00  \n",
       "52785        1624462.00         48760.00             3137.00  \n",
       "55933        2046763.00         54184.00             6392.00  \n",
       "62446        2868687.00         83672.00             5055.00  \n",
       "67587        1112162.50         29336.00             2812.50  \n",
       "67587        1112162.50         29336.00             2812.50  \n",
       "73340        5387358.00        162020.00            10597.00  \n",
       "84138        2707502.00         59209.00             2976.00  \n",
       "87243        3248752.00         85762.00            12441.00  \n",
       "100021       1739040.00         46726.00             3249.00  \n",
       "103327        729839.00         12731.00              826.00  \n",
       "104171       2425787.50         49337.50            25546.00  \n",
       "104171       2425787.50         49337.50            25546.00  \n",
       "155878       1091057.50         25397.50            12417.50  \n",
       "155878       1091057.50         25397.50            12417.50  \n",
       "180916       2440853.00        104461.00             6803.00  \n",
       "187862      10774074.00        240870.00            27956.00  \n",
       "216254       2653505.00         67076.00             3329.00  \n",
       "219667       3330593.00         80056.00             4059.00  \n",
       "223868       5291988.00        131318.00            10125.00  \n",
       "234227       3084661.00         89186.00             3902.00  \n",
       "238212       1876083.00         42802.00             5794.00  \n",
       "244099       2637190.00         85971.00             5365.00  \n",
       "249619        749464.00         15169.00             3700.00  \n",
       "253431       3193537.00         72590.00             6348.00  \n",
       "259940        743779.00         12773.00              834.00  \n",
       "260794       2577451.00         55216.00             2487.00  \n",
       "263343       1353314.00         31199.00             3456.00  \n",
       "277233       3551557.00         86817.00             9132.00  \n",
       "286496       1200300.00         24059.00             6334.00  \n",
       "292909       5043118.00        163175.00            13061.00  \n",
       "306271       2343368.00         58835.00             3655.00  \n",
       "310044       1054407.67         21215.67             5364.67  \n",
       "310044       1054407.67         21215.67             5364.67  \n",
       "310044       1054407.67         21215.67             5364.67  \n",
       "326475       1135828.00         27582.00             1869.00  \n",
       "328406       4766274.00        149002.00             7744.00  \n",
       "336428        954040.00         34444.00             4375.50  \n",
       "336428        954040.00         34444.00             4375.50  \n",
       "342200       2589022.00         56655.00             3410.00  \n",
       "345692       2050492.00         46124.00             2035.00  \n",
       "347778       1452899.00         25140.00             2640.00  \n",
       "350469       1175865.00         33752.67             7324.33  \n",
       "350469       1175865.00         33752.67             7324.33  \n",
       "350469       1175865.00         33752.67             7324.33  \n",
       "372787       3658744.00        136560.00             8991.00  \n",
       "382049       3571011.00         85813.00             6561.00  \n",
       "388748       1382321.00         29589.00             4129.00  \n",
       "392954       3760693.00        101905.00             8938.00  "
      ]
     },
     "execution_count": 28,
     "metadata": {},
     "output_type": "execute_result"
    }
   ],
   "source": [
    "pd.set_option(\"display.max_colwidth\", None)\n",
    "\n",
    "print(guest_df.shape)\n",
    "guest_df"
   ]
  },
  {
   "cell_type": "code",
   "execution_count": 29,
   "id": "c46c9460",
   "metadata": {},
   "outputs": [],
   "source": [
    "#### Aggregate metrics by guest\n",
    "#### Use mean as your main ranking metric (fair and consistent). #####\n",
    "\n",
    "guest_stats = (\n",
    "    guest_df.groupby(\"guest\", as_index=False)\n",
    "             .agg({\n",
    "                 \"views_per_guest\": \"mean\",\n",
    "                 \"likes_per_guest\": \"mean\",\n",
    "                 \"comments_per_guest\": \"mean\",\n",
    "                 \"video_id\": \"count\"\n",
    "             })\n",
    "             .rename(columns={\"video_id\": \"appearances\"})\n",
    ")\n"
   ]
  },
  {
   "cell_type": "code",
   "execution_count": 30,
   "id": "c78b1096",
   "metadata": {},
   "outputs": [
    {
     "data": {
      "text/html": [
       "<div>\n",
       "<style scoped>\n",
       "    .dataframe tbody tr th:only-of-type {\n",
       "        vertical-align: middle;\n",
       "    }\n",
       "\n",
       "    .dataframe tbody tr th {\n",
       "        vertical-align: top;\n",
       "    }\n",
       "\n",
       "    .dataframe thead th {\n",
       "        text-align: right;\n",
       "    }\n",
       "</style>\n",
       "<table border=\"1\" class=\"dataframe\">\n",
       "  <thead>\n",
       "    <tr style=\"text-align: right;\">\n",
       "      <th></th>\n",
       "      <th>guest</th>\n",
       "      <th>views_per_guest</th>\n",
       "      <th>likes_per_guest</th>\n",
       "      <th>comments_per_guest</th>\n",
       "      <th>appearances</th>\n",
       "    </tr>\n",
       "  </thead>\n",
       "  <tbody>\n",
       "    <tr>\n",
       "      <th>0</th>\n",
       "      <td>Alex Hormozi</td>\n",
       "      <td>2.577451e+06</td>\n",
       "      <td>55216.000000</td>\n",
       "      <td>2487.000</td>\n",
       "      <td>1</td>\n",
       "    </tr>\n",
       "    <tr>\n",
       "      <th>1</th>\n",
       "      <td>Amjad Masad</td>\n",
       "      <td>1.054408e+06</td>\n",
       "      <td>21215.670000</td>\n",
       "      <td>5364.670</td>\n",
       "      <td>1</td>\n",
       "    </tr>\n",
       "    <tr>\n",
       "      <th>2</th>\n",
       "      <td>Bret Weinstein</td>\n",
       "      <td>1.054408e+06</td>\n",
       "      <td>21215.670000</td>\n",
       "      <td>5364.670</td>\n",
       "      <td>1</td>\n",
       "    </tr>\n",
       "    <tr>\n",
       "      <th>3</th>\n",
       "      <td>Cathie Wood</td>\n",
       "      <td>5.291988e+06</td>\n",
       "      <td>131318.000000</td>\n",
       "      <td>10125.000</td>\n",
       "      <td>1</td>\n",
       "    </tr>\n",
       "    <tr>\n",
       "      <th>4</th>\n",
       "      <td>Charlie Houpert</td>\n",
       "      <td>2.589022e+06</td>\n",
       "      <td>56655.000000</td>\n",
       "      <td>3410.000</td>\n",
       "      <td>1</td>\n",
       "    </tr>\n",
       "    <tr>\n",
       "      <th>5</th>\n",
       "      <td>Chris Eubank Jr.</td>\n",
       "      <td>1.382321e+06</td>\n",
       "      <td>29589.000000</td>\n",
       "      <td>4129.000</td>\n",
       "      <td>1</td>\n",
       "    </tr>\n",
       "    <tr>\n",
       "      <th>6</th>\n",
       "      <td>Craig Robinson</td>\n",
       "      <td>9.540400e+05</td>\n",
       "      <td>34444.000000</td>\n",
       "      <td>4375.500</td>\n",
       "      <td>1</td>\n",
       "    </tr>\n",
       "    <tr>\n",
       "      <th>7</th>\n",
       "      <td>Daniel Priestley</td>\n",
       "      <td>1.552020e+06</td>\n",
       "      <td>34768.613333</td>\n",
       "      <td>12745.000</td>\n",
       "      <td>3</td>\n",
       "    </tr>\n",
       "    <tr>\n",
       "      <th>8</th>\n",
       "      <td>Deborah Frances-White</td>\n",
       "      <td>6.561943e+05</td>\n",
       "      <td>15554.670000</td>\n",
       "      <td>8072.670</td>\n",
       "      <td>1</td>\n",
       "    </tr>\n",
       "    <tr>\n",
       "      <th>9</th>\n",
       "      <td>Dr Anna Lembke</td>\n",
       "      <td>5.043118e+06</td>\n",
       "      <td>163175.000000</td>\n",
       "      <td>13061.000</td>\n",
       "      <td>1</td>\n",
       "    </tr>\n",
       "    <tr>\n",
       "      <th>10</th>\n",
       "      <td>Dr Benjamin Bikman</td>\n",
       "      <td>5.387358e+06</td>\n",
       "      <td>162020.000000</td>\n",
       "      <td>10597.000</td>\n",
       "      <td>1</td>\n",
       "    </tr>\n",
       "    <tr>\n",
       "      <th>11</th>\n",
       "      <td>Dr Bill von Hippel</td>\n",
       "      <td>1.095572e+06</td>\n",
       "      <td>21074.000000</td>\n",
       "      <td>3206.000</td>\n",
       "      <td>1</td>\n",
       "    </tr>\n",
       "    <tr>\n",
       "      <th>12</th>\n",
       "      <td>Dr Daniel Amen</td>\n",
       "      <td>3.571011e+06</td>\n",
       "      <td>85813.000000</td>\n",
       "      <td>6561.000</td>\n",
       "      <td>1</td>\n",
       "    </tr>\n",
       "    <tr>\n",
       "      <th>13</th>\n",
       "      <td>Dr Georgia Ede</td>\n",
       "      <td>2.038491e+06</td>\n",
       "      <td>61491.000000</td>\n",
       "      <td>6274.000</td>\n",
       "      <td>1</td>\n",
       "    </tr>\n",
       "    <tr>\n",
       "      <th>14</th>\n",
       "      <td>Dr Joe Dispenza</td>\n",
       "      <td>2.707502e+06</td>\n",
       "      <td>59209.000000</td>\n",
       "      <td>2976.000</td>\n",
       "      <td>1</td>\n",
       "    </tr>\n",
       "    <tr>\n",
       "      <th>15</th>\n",
       "      <td>Dr Jordan Peterson</td>\n",
       "      <td>2.046763e+06</td>\n",
       "      <td>54184.000000</td>\n",
       "      <td>6392.000</td>\n",
       "      <td>1</td>\n",
       "    </tr>\n",
       "    <tr>\n",
       "      <th>16</th>\n",
       "      <td>Dr Mohit Khera</td>\n",
       "      <td>7.298390e+05</td>\n",
       "      <td>12731.000000</td>\n",
       "      <td>826.000</td>\n",
       "      <td>1</td>\n",
       "    </tr>\n",
       "    <tr>\n",
       "      <th>17</th>\n",
       "      <td>Dr Nathan Bryan</td>\n",
       "      <td>2.440853e+06</td>\n",
       "      <td>104461.000000</td>\n",
       "      <td>6803.000</td>\n",
       "      <td>1</td>\n",
       "    </tr>\n",
       "    <tr>\n",
       "      <th>18</th>\n",
       "      <td>Dr Peter Attia</td>\n",
       "      <td>1.450645e+06</td>\n",
       "      <td>31924.000000</td>\n",
       "      <td>2108.000</td>\n",
       "      <td>1</td>\n",
       "    </tr>\n",
       "    <tr>\n",
       "      <th>19</th>\n",
       "      <td>Dr Sarah Berry</td>\n",
       "      <td>7.494640e+05</td>\n",
       "      <td>15169.000000</td>\n",
       "      <td>3700.000</td>\n",
       "      <td>1</td>\n",
       "    </tr>\n",
       "    <tr>\n",
       "      <th>20</th>\n",
       "      <td>Dr Stacy Sims</td>\n",
       "      <td>1.624462e+06</td>\n",
       "      <td>48760.000000</td>\n",
       "      <td>3137.000</td>\n",
       "      <td>1</td>\n",
       "    </tr>\n",
       "    <tr>\n",
       "      <th>21</th>\n",
       "      <td>Dr Vonda Wright</td>\n",
       "      <td>2.653505e+06</td>\n",
       "      <td>67076.000000</td>\n",
       "      <td>3329.000</td>\n",
       "      <td>1</td>\n",
       "    </tr>\n",
       "    <tr>\n",
       "      <th>22</th>\n",
       "      <td>Dr. Courtney Conley</td>\n",
       "      <td>2.637190e+06</td>\n",
       "      <td>85971.000000</td>\n",
       "      <td>5365.000</td>\n",
       "      <td>1</td>\n",
       "    </tr>\n",
       "    <tr>\n",
       "      <th>23</th>\n",
       "      <td>Dr. Lisa Feldman Barrett</td>\n",
       "      <td>1.739040e+06</td>\n",
       "      <td>46726.000000</td>\n",
       "      <td>3249.000</td>\n",
       "      <td>1</td>\n",
       "    </tr>\n",
       "    <tr>\n",
       "      <th>24</th>\n",
       "      <td>Dr. Sara Szal</td>\n",
       "      <td>9.329850e+05</td>\n",
       "      <td>28358.000000</td>\n",
       "      <td>2168.000</td>\n",
       "      <td>1</td>\n",
       "    </tr>\n",
       "    <tr>\n",
       "      <th>25</th>\n",
       "      <td>Dr. Sarah Wakeman</td>\n",
       "      <td>1.353314e+06</td>\n",
       "      <td>31199.000000</td>\n",
       "      <td>3456.000</td>\n",
       "      <td>1</td>\n",
       "    </tr>\n",
       "    <tr>\n",
       "      <th>26</th>\n",
       "      <td>Dr. William Li</td>\n",
       "      <td>3.658744e+06</td>\n",
       "      <td>136560.000000</td>\n",
       "      <td>8991.000</td>\n",
       "      <td>1</td>\n",
       "    </tr>\n",
       "    <tr>\n",
       "      <th>27</th>\n",
       "      <td>Emma Grede</td>\n",
       "      <td>8.541520e+05</td>\n",
       "      <td>14482.000000</td>\n",
       "      <td>1738.000</td>\n",
       "      <td>1</td>\n",
       "    </tr>\n",
       "    <tr>\n",
       "      <th>28</th>\n",
       "      <td>Erica Komisar</td>\n",
       "      <td>1.952473e+06</td>\n",
       "      <td>50658.335000</td>\n",
       "      <td>10256.835</td>\n",
       "      <td>2</td>\n",
       "    </tr>\n",
       "    <tr>\n",
       "      <th>29</th>\n",
       "      <td>Esther Perel</td>\n",
       "      <td>1.876083e+06</td>\n",
       "      <td>42802.000000</td>\n",
       "      <td>5794.000</td>\n",
       "      <td>1</td>\n",
       "    </tr>\n",
       "    <tr>\n",
       "      <th>30</th>\n",
       "      <td>Evan Spiegel</td>\n",
       "      <td>7.437790e+05</td>\n",
       "      <td>12773.000000</td>\n",
       "      <td>834.000</td>\n",
       "      <td>1</td>\n",
       "    </tr>\n",
       "    <tr>\n",
       "      <th>31</th>\n",
       "      <td>Evy Poumpouras</td>\n",
       "      <td>1.903488e+06</td>\n",
       "      <td>56384.500000</td>\n",
       "      <td>2705.500</td>\n",
       "      <td>1</td>\n",
       "    </tr>\n",
       "    <tr>\n",
       "      <th>32</th>\n",
       "      <td>Gary Stevenson</td>\n",
       "      <td>2.425788e+06</td>\n",
       "      <td>49337.500000</td>\n",
       "      <td>25546.000</td>\n",
       "      <td>1</td>\n",
       "    </tr>\n",
       "    <tr>\n",
       "      <th>33</th>\n",
       "      <td>Geoffrey Hinton</td>\n",
       "      <td>1.077407e+07</td>\n",
       "      <td>240870.000000</td>\n",
       "      <td>27956.000</td>\n",
       "      <td>1</td>\n",
       "    </tr>\n",
       "    <tr>\n",
       "      <th>34</th>\n",
       "      <td>Jeff Cavaliere</td>\n",
       "      <td>2.050492e+06</td>\n",
       "      <td>46124.000000</td>\n",
       "      <td>2035.000</td>\n",
       "      <td>1</td>\n",
       "    </tr>\n",
       "    <tr>\n",
       "      <th>35</th>\n",
       "      <td>Jefferson Fisher</td>\n",
       "      <td>4.766274e+06</td>\n",
       "      <td>149002.000000</td>\n",
       "      <td>7744.000</td>\n",
       "      <td>1</td>\n",
       "    </tr>\n",
       "    <tr>\n",
       "      <th>36</th>\n",
       "      <td>Jimmy Fallon</td>\n",
       "      <td>2.343368e+06</td>\n",
       "      <td>58835.000000</td>\n",
       "      <td>3655.000</td>\n",
       "      <td>1</td>\n",
       "    </tr>\n",
       "    <tr>\n",
       "      <th>37</th>\n",
       "      <td>Joe Navarro</td>\n",
       "      <td>3.330593e+06</td>\n",
       "      <td>80056.000000</td>\n",
       "      <td>4059.000</td>\n",
       "      <td>1</td>\n",
       "    </tr>\n",
       "    <tr>\n",
       "      <th>38</th>\n",
       "      <td>Konstantin Kisin</td>\n",
       "      <td>1.175865e+06</td>\n",
       "      <td>33752.670000</td>\n",
       "      <td>7324.330</td>\n",
       "      <td>1</td>\n",
       "    </tr>\n",
       "    <tr>\n",
       "      <th>39</th>\n",
       "      <td>Logan Ury</td>\n",
       "      <td>1.091058e+06</td>\n",
       "      <td>25397.500000</td>\n",
       "      <td>12417.500</td>\n",
       "      <td>1</td>\n",
       "    </tr>\n",
       "    <tr>\n",
       "      <th>40</th>\n",
       "      <td>Louise Perry</td>\n",
       "      <td>6.561943e+05</td>\n",
       "      <td>15554.670000</td>\n",
       "      <td>8072.670</td>\n",
       "      <td>1</td>\n",
       "    </tr>\n",
       "    <tr>\n",
       "      <th>41</th>\n",
       "      <td>Master Shi Heng Yi</td>\n",
       "      <td>2.868687e+06</td>\n",
       "      <td>83672.000000</td>\n",
       "      <td>5055.000</td>\n",
       "      <td>1</td>\n",
       "    </tr>\n",
       "    <tr>\n",
       "      <th>42</th>\n",
       "      <td>Michelle Obama</td>\n",
       "      <td>9.540400e+05</td>\n",
       "      <td>34444.000000</td>\n",
       "      <td>4375.500</td>\n",
       "      <td>1</td>\n",
       "    </tr>\n",
       "    <tr>\n",
       "      <th>43</th>\n",
       "      <td>Mike Dowd</td>\n",
       "      <td>1.452899e+06</td>\n",
       "      <td>25140.000000</td>\n",
       "      <td>2640.000</td>\n",
       "      <td>1</td>\n",
       "    </tr>\n",
       "    <tr>\n",
       "      <th>44</th>\n",
       "      <td>Morgan Housel</td>\n",
       "      <td>2.820273e+06</td>\n",
       "      <td>57474.000000</td>\n",
       "      <td>6755.000</td>\n",
       "      <td>1</td>\n",
       "    </tr>\n",
       "    <tr>\n",
       "      <th>45</th>\n",
       "      <td>MrBeast</td>\n",
       "      <td>3.760693e+06</td>\n",
       "      <td>101905.000000</td>\n",
       "      <td>8938.000</td>\n",
       "      <td>1</td>\n",
       "    </tr>\n",
       "    <tr>\n",
       "      <th>46</th>\n",
       "      <td>Paul Brunson</td>\n",
       "      <td>1.200300e+06</td>\n",
       "      <td>24059.000000</td>\n",
       "      <td>6334.000</td>\n",
       "      <td>1</td>\n",
       "    </tr>\n",
       "    <tr>\n",
       "      <th>47</th>\n",
       "      <td>Robert Greene</td>\n",
       "      <td>1.135828e+06</td>\n",
       "      <td>27582.000000</td>\n",
       "      <td>1869.000</td>\n",
       "      <td>1</td>\n",
       "    </tr>\n",
       "    <tr>\n",
       "      <th>48</th>\n",
       "      <td>Scott Galloway</td>\n",
       "      <td>1.133461e+06</td>\n",
       "      <td>29575.085000</td>\n",
       "      <td>9870.915</td>\n",
       "      <td>2</td>\n",
       "    </tr>\n",
       "    <tr>\n",
       "      <th>49</th>\n",
       "      <td>Simon Sinek</td>\n",
       "      <td>3.193537e+06</td>\n",
       "      <td>72590.000000</td>\n",
       "      <td>6348.000</td>\n",
       "      <td>1</td>\n",
       "    </tr>\n",
       "    <tr>\n",
       "      <th>50</th>\n",
       "      <td>Steven</td>\n",
       "      <td>1.507825e+06</td>\n",
       "      <td>42860.250000</td>\n",
       "      <td>2759.000</td>\n",
       "      <td>2</td>\n",
       "    </tr>\n",
       "    <tr>\n",
       "      <th>51</th>\n",
       "      <td>Vanessa Van Edwards</td>\n",
       "      <td>1.112162e+06</td>\n",
       "      <td>29336.000000</td>\n",
       "      <td>2812.500</td>\n",
       "      <td>1</td>\n",
       "    </tr>\n",
       "    <tr>\n",
       "      <th>52</th>\n",
       "      <td>Vinh Giang</td>\n",
       "      <td>3.084661e+06</td>\n",
       "      <td>89186.000000</td>\n",
       "      <td>3902.000</td>\n",
       "      <td>1</td>\n",
       "    </tr>\n",
       "  </tbody>\n",
       "</table>\n",
       "</div>"
      ],
      "text/plain": [
       "                       guest  views_per_guest  likes_per_guest  \\\n",
       "0               Alex Hormozi     2.577451e+06     55216.000000   \n",
       "1                Amjad Masad     1.054408e+06     21215.670000   \n",
       "2             Bret Weinstein     1.054408e+06     21215.670000   \n",
       "3                Cathie Wood     5.291988e+06    131318.000000   \n",
       "4            Charlie Houpert     2.589022e+06     56655.000000   \n",
       "5           Chris Eubank Jr.     1.382321e+06     29589.000000   \n",
       "6             Craig Robinson     9.540400e+05     34444.000000   \n",
       "7           Daniel Priestley     1.552020e+06     34768.613333   \n",
       "8      Deborah Frances-White     6.561943e+05     15554.670000   \n",
       "9             Dr Anna Lembke     5.043118e+06    163175.000000   \n",
       "10        Dr Benjamin Bikman     5.387358e+06    162020.000000   \n",
       "11        Dr Bill von Hippel     1.095572e+06     21074.000000   \n",
       "12            Dr Daniel Amen     3.571011e+06     85813.000000   \n",
       "13            Dr Georgia Ede     2.038491e+06     61491.000000   \n",
       "14           Dr Joe Dispenza     2.707502e+06     59209.000000   \n",
       "15        Dr Jordan Peterson     2.046763e+06     54184.000000   \n",
       "16            Dr Mohit Khera     7.298390e+05     12731.000000   \n",
       "17           Dr Nathan Bryan     2.440853e+06    104461.000000   \n",
       "18            Dr Peter Attia     1.450645e+06     31924.000000   \n",
       "19            Dr Sarah Berry     7.494640e+05     15169.000000   \n",
       "20             Dr Stacy Sims     1.624462e+06     48760.000000   \n",
       "21           Dr Vonda Wright     2.653505e+06     67076.000000   \n",
       "22       Dr. Courtney Conley     2.637190e+06     85971.000000   \n",
       "23  Dr. Lisa Feldman Barrett     1.739040e+06     46726.000000   \n",
       "24             Dr. Sara Szal     9.329850e+05     28358.000000   \n",
       "25         Dr. Sarah Wakeman     1.353314e+06     31199.000000   \n",
       "26            Dr. William Li     3.658744e+06    136560.000000   \n",
       "27                Emma Grede     8.541520e+05     14482.000000   \n",
       "28             Erica Komisar     1.952473e+06     50658.335000   \n",
       "29              Esther Perel     1.876083e+06     42802.000000   \n",
       "30              Evan Spiegel     7.437790e+05     12773.000000   \n",
       "31            Evy Poumpouras     1.903488e+06     56384.500000   \n",
       "32            Gary Stevenson     2.425788e+06     49337.500000   \n",
       "33           Geoffrey Hinton     1.077407e+07    240870.000000   \n",
       "34            Jeff Cavaliere     2.050492e+06     46124.000000   \n",
       "35          Jefferson Fisher     4.766274e+06    149002.000000   \n",
       "36              Jimmy Fallon     2.343368e+06     58835.000000   \n",
       "37               Joe Navarro     3.330593e+06     80056.000000   \n",
       "38          Konstantin Kisin     1.175865e+06     33752.670000   \n",
       "39                 Logan Ury     1.091058e+06     25397.500000   \n",
       "40              Louise Perry     6.561943e+05     15554.670000   \n",
       "41        Master Shi Heng Yi     2.868687e+06     83672.000000   \n",
       "42            Michelle Obama     9.540400e+05     34444.000000   \n",
       "43                 Mike Dowd     1.452899e+06     25140.000000   \n",
       "44             Morgan Housel     2.820273e+06     57474.000000   \n",
       "45                   MrBeast     3.760693e+06    101905.000000   \n",
       "46              Paul Brunson     1.200300e+06     24059.000000   \n",
       "47             Robert Greene     1.135828e+06     27582.000000   \n",
       "48            Scott Galloway     1.133461e+06     29575.085000   \n",
       "49               Simon Sinek     3.193537e+06     72590.000000   \n",
       "50                    Steven     1.507825e+06     42860.250000   \n",
       "51       Vanessa Van Edwards     1.112162e+06     29336.000000   \n",
       "52                Vinh Giang     3.084661e+06     89186.000000   \n",
       "\n",
       "    comments_per_guest  appearances  \n",
       "0             2487.000            1  \n",
       "1             5364.670            1  \n",
       "2             5364.670            1  \n",
       "3            10125.000            1  \n",
       "4             3410.000            1  \n",
       "5             4129.000            1  \n",
       "6             4375.500            1  \n",
       "7            12745.000            3  \n",
       "8             8072.670            1  \n",
       "9            13061.000            1  \n",
       "10           10597.000            1  \n",
       "11            3206.000            1  \n",
       "12            6561.000            1  \n",
       "13            6274.000            1  \n",
       "14            2976.000            1  \n",
       "15            6392.000            1  \n",
       "16             826.000            1  \n",
       "17            6803.000            1  \n",
       "18            2108.000            1  \n",
       "19            3700.000            1  \n",
       "20            3137.000            1  \n",
       "21            3329.000            1  \n",
       "22            5365.000            1  \n",
       "23            3249.000            1  \n",
       "24            2168.000            1  \n",
       "25            3456.000            1  \n",
       "26            8991.000            1  \n",
       "27            1738.000            1  \n",
       "28           10256.835            2  \n",
       "29            5794.000            1  \n",
       "30             834.000            1  \n",
       "31            2705.500            1  \n",
       "32           25546.000            1  \n",
       "33           27956.000            1  \n",
       "34            2035.000            1  \n",
       "35            7744.000            1  \n",
       "36            3655.000            1  \n",
       "37            4059.000            1  \n",
       "38            7324.330            1  \n",
       "39           12417.500            1  \n",
       "40            8072.670            1  \n",
       "41            5055.000            1  \n",
       "42            4375.500            1  \n",
       "43            2640.000            1  \n",
       "44            6755.000            1  \n",
       "45            8938.000            1  \n",
       "46            6334.000            1  \n",
       "47            1869.000            1  \n",
       "48            9870.915            2  \n",
       "49            6348.000            1  \n",
       "50            2759.000            2  \n",
       "51            2812.500            1  \n",
       "52            3902.000            1  "
      ]
     },
     "execution_count": 30,
     "metadata": {},
     "output_type": "execute_result"
    }
   ],
   "source": [
    "guest_stats"
   ]
  },
  {
   "cell_type": "code",
   "execution_count": 31,
   "id": "1d17430d",
   "metadata": {},
   "outputs": [],
   "source": [
    "#### Normalize each metric\n",
    "\n",
    "from sklearn.preprocessing import MinMaxScaler\n",
    "\n",
    "scaler = MinMaxScaler()\n",
    "for col in [\"views_per_guest\", \"likes_per_guest\", \"comments_per_guest\"]:\n",
    "    guest_stats[f\"{col}_norm\"] = scaler.fit_transform(guest_stats[[col]])"
   ]
  },
  {
   "cell_type": "code",
   "execution_count": 32,
   "id": "4cb42319",
   "metadata": {},
   "outputs": [],
   "source": [
    "#### Apply weights\n",
    "\n",
    "guest_stats[\"weighted_score\"] = (\n",
    "    0.5 * guest_stats[\"comments_per_guest_norm\"] +\n",
    "    0.3 * guest_stats[\"likes_per_guest_norm\"] +\n",
    "    0.2 * guest_stats[\"views_per_guest_norm\"]\n",
    ").round(2)\n"
   ]
  },
  {
   "cell_type": "code",
   "execution_count": 33,
   "id": "7e27dfec",
   "metadata": {},
   "outputs": [
    {
     "data": {
      "text/html": [
       "<div>\n",
       "<style scoped>\n",
       "    .dataframe tbody tr th:only-of-type {\n",
       "        vertical-align: middle;\n",
       "    }\n",
       "\n",
       "    .dataframe tbody tr th {\n",
       "        vertical-align: top;\n",
       "    }\n",
       "\n",
       "    .dataframe thead th {\n",
       "        text-align: right;\n",
       "    }\n",
       "</style>\n",
       "<table border=\"1\" class=\"dataframe\">\n",
       "  <thead>\n",
       "    <tr style=\"text-align: right;\">\n",
       "      <th></th>\n",
       "      <th>guest</th>\n",
       "      <th>views_per_guest</th>\n",
       "      <th>likes_per_guest</th>\n",
       "      <th>comments_per_guest</th>\n",
       "      <th>appearances</th>\n",
       "      <th>views_per_guest_norm</th>\n",
       "      <th>likes_per_guest_norm</th>\n",
       "      <th>comments_per_guest_norm</th>\n",
       "      <th>weighted_score</th>\n",
       "      <th>rank</th>\n",
       "    </tr>\n",
       "  </thead>\n",
       "  <tbody>\n",
       "    <tr>\n",
       "      <th>33</th>\n",
       "      <td>Geoffrey Hinton</td>\n",
       "      <td>1.077407e+07</td>\n",
       "      <td>240870.000000</td>\n",
       "      <td>27956.0</td>\n",
       "      <td>1</td>\n",
       "      <td>1.000000</td>\n",
       "      <td>1.000000</td>\n",
       "      <td>1.000000</td>\n",
       "      <td>1.00</td>\n",
       "      <td>1</td>\n",
       "    </tr>\n",
       "    <tr>\n",
       "      <th>32</th>\n",
       "      <td>Gary Stevenson</td>\n",
       "      <td>2.425788e+06</td>\n",
       "      <td>49337.500000</td>\n",
       "      <td>25546.0</td>\n",
       "      <td>1</td>\n",
       "      <td>0.174898</td>\n",
       "      <td>0.160457</td>\n",
       "      <td>0.911168</td>\n",
       "      <td>0.54</td>\n",
       "      <td>2</td>\n",
       "    </tr>\n",
       "    <tr>\n",
       "      <th>9</th>\n",
       "      <td>Dr Anna Lembke</td>\n",
       "      <td>5.043118e+06</td>\n",
       "      <td>163175.000000</td>\n",
       "      <td>13061.0</td>\n",
       "      <td>1</td>\n",
       "      <td>0.433581</td>\n",
       "      <td>0.659440</td>\n",
       "      <td>0.450977</td>\n",
       "      <td>0.51</td>\n",
       "      <td>3</td>\n",
       "    </tr>\n",
       "    <tr>\n",
       "      <th>10</th>\n",
       "      <td>Dr Benjamin Bikman</td>\n",
       "      <td>5.387358e+06</td>\n",
       "      <td>162020.000000</td>\n",
       "      <td>10597.0</td>\n",
       "      <td>1</td>\n",
       "      <td>0.467604</td>\n",
       "      <td>0.654377</td>\n",
       "      <td>0.360155</td>\n",
       "      <td>0.47</td>\n",
       "      <td>4</td>\n",
       "    </tr>\n",
       "    <tr>\n",
       "      <th>3</th>\n",
       "      <td>Cathie Wood</td>\n",
       "      <td>5.291988e+06</td>\n",
       "      <td>131318.000000</td>\n",
       "      <td>10125.0</td>\n",
       "      <td>1</td>\n",
       "      <td>0.458178</td>\n",
       "      <td>0.519802</td>\n",
       "      <td>0.342757</td>\n",
       "      <td>0.42</td>\n",
       "      <td>5</td>\n",
       "    </tr>\n",
       "    <tr>\n",
       "      <th>35</th>\n",
       "      <td>Jefferson Fisher</td>\n",
       "      <td>4.766274e+06</td>\n",
       "      <td>149002.000000</td>\n",
       "      <td>7744.0</td>\n",
       "      <td>1</td>\n",
       "      <td>0.406219</td>\n",
       "      <td>0.597316</td>\n",
       "      <td>0.254994</td>\n",
       "      <td>0.39</td>\n",
       "      <td>6</td>\n",
       "    </tr>\n",
       "    <tr>\n",
       "      <th>26</th>\n",
       "      <td>Dr. William Li</td>\n",
       "      <td>3.658744e+06</td>\n",
       "      <td>136560.000000</td>\n",
       "      <td>8991.0</td>\n",
       "      <td>1</td>\n",
       "      <td>0.296757</td>\n",
       "      <td>0.542779</td>\n",
       "      <td>0.300958</td>\n",
       "      <td>0.37</td>\n",
       "      <td>7</td>\n",
       "    </tr>\n",
       "    <tr>\n",
       "      <th>45</th>\n",
       "      <td>MrBeast</td>\n",
       "      <td>3.760693e+06</td>\n",
       "      <td>101905.000000</td>\n",
       "      <td>8938.0</td>\n",
       "      <td>1</td>\n",
       "      <td>0.306833</td>\n",
       "      <td>0.390876</td>\n",
       "      <td>0.299005</td>\n",
       "      <td>0.33</td>\n",
       "      <td>8</td>\n",
       "    </tr>\n",
       "    <tr>\n",
       "      <th>7</th>\n",
       "      <td>Daniel Priestley</td>\n",
       "      <td>1.552020e+06</td>\n",
       "      <td>34768.613333</td>\n",
       "      <td>12745.0</td>\n",
       "      <td>3</td>\n",
       "      <td>0.088539</td>\n",
       "      <td>0.096597</td>\n",
       "      <td>0.439329</td>\n",
       "      <td>0.27</td>\n",
       "      <td>9</td>\n",
       "    </tr>\n",
       "    <tr>\n",
       "      <th>17</th>\n",
       "      <td>Dr Nathan Bryan</td>\n",
       "      <td>2.440853e+06</td>\n",
       "      <td>104461.000000</td>\n",
       "      <td>6803.0</td>\n",
       "      <td>1</td>\n",
       "      <td>0.176387</td>\n",
       "      <td>0.402079</td>\n",
       "      <td>0.220310</td>\n",
       "      <td>0.27</td>\n",
       "      <td>9</td>\n",
       "    </tr>\n",
       "  </tbody>\n",
       "</table>\n",
       "</div>"
      ],
      "text/plain": [
       "                 guest  views_per_guest  likes_per_guest  comments_per_guest  \\\n",
       "33     Geoffrey Hinton     1.077407e+07    240870.000000             27956.0   \n",
       "32      Gary Stevenson     2.425788e+06     49337.500000             25546.0   \n",
       "9       Dr Anna Lembke     5.043118e+06    163175.000000             13061.0   \n",
       "10  Dr Benjamin Bikman     5.387358e+06    162020.000000             10597.0   \n",
       "3          Cathie Wood     5.291988e+06    131318.000000             10125.0   \n",
       "35    Jefferson Fisher     4.766274e+06    149002.000000              7744.0   \n",
       "26      Dr. William Li     3.658744e+06    136560.000000              8991.0   \n",
       "45             MrBeast     3.760693e+06    101905.000000              8938.0   \n",
       "7     Daniel Priestley     1.552020e+06     34768.613333             12745.0   \n",
       "17     Dr Nathan Bryan     2.440853e+06    104461.000000              6803.0   \n",
       "\n",
       "    appearances  views_per_guest_norm  likes_per_guest_norm  \\\n",
       "33            1              1.000000              1.000000   \n",
       "32            1              0.174898              0.160457   \n",
       "9             1              0.433581              0.659440   \n",
       "10            1              0.467604              0.654377   \n",
       "3             1              0.458178              0.519802   \n",
       "35            1              0.406219              0.597316   \n",
       "26            1              0.296757              0.542779   \n",
       "45            1              0.306833              0.390876   \n",
       "7             3              0.088539              0.096597   \n",
       "17            1              0.176387              0.402079   \n",
       "\n",
       "    comments_per_guest_norm  weighted_score  rank  \n",
       "33                 1.000000            1.00     1  \n",
       "32                 0.911168            0.54     2  \n",
       "9                  0.450977            0.51     3  \n",
       "10                 0.360155            0.47     4  \n",
       "3                  0.342757            0.42     5  \n",
       "35                 0.254994            0.39     6  \n",
       "26                 0.300958            0.37     7  \n",
       "45                 0.299005            0.33     8  \n",
       "7                  0.439329            0.27     9  \n",
       "17                 0.220310            0.27     9  "
      ]
     },
     "execution_count": 33,
     "metadata": {},
     "output_type": "execute_result"
    }
   ],
   "source": [
    "guest_stats[\"rank\"] = guest_stats[\"weighted_score\"].rank(ascending=False)\n",
    "guest_stats['rank'] = guest_stats['rank'].astype(int)\n",
    "\n",
    "guest_stats.sort_values(\"weighted_score\", ascending=False).head(10)"
   ]
  },
  {
   "cell_type": "markdown",
   "id": "28d3cd6e",
   "metadata": {},
   "source": [
    "## Plot Results For Guests"
   ]
  },
  {
   "cell_type": "code",
   "execution_count": 34,
   "id": "83b5fff2",
   "metadata": {},
   "outputs": [
    {
     "data": {
      "application/vnd.plotly.v1+json": {
       "config": {
        "plotlyServerURL": "https://plot.ly"
       },
       "data": [
        {
         "hovertemplate": "weighted_score=%{marker.color}<br>guest=%{y}<extra></extra>",
         "legendgroup": "",
         "marker": {
          "color": {
           "bdata": "AAAAAAAAAAAAAAAAAAAAAHsUrkfhepQ/mpmZmZmZqT+amZmZmZmpP7gehetRuK4/uB6F61G4rj+4HoXrUbiuP+xRuB6F67E/7FG4HoXrsT8K16NwPQq3PwrXo3A9Crc/CtejcD0Ktz+amZmZmZm5P5qZmZmZmbk/mpmZmZmZuT+amZmZmZm5P5qZmZmZmbk/KVyPwvUovD8pXI/C9Si8P7gehetRuL4/uB6F61G4vj+kcD0K16PAP+xRuB6F68E/7FG4HoXrwT/sUbgehevBP+xRuB6F68E/MzMzMzMzwz97FK5H4XrEP3sUrkfhesQ/exSuR+F6xD8K16NwPQrHP1K4HoXrUcg/mpmZmZmZyT+amZmZmZnJP+F6FK5H4co/4XoUrkfhyj/hehSuR+HKPylcj8L1KMw/cT0K16NwzT+4HoXrUbjOPwAAAAAAANA/pHA9Ctej0D9I4XoUrkfRP0jhehSuR9E/H4XrUbge1T+uR+F6FK7XP/YoXI/C9dg/4XoUrkfh2j8UrkfhehTeP1K4HoXrUeA/SOF6FK5H4T8AAAAAAADwPw==",
           "dtype": "f8"
          },
          "coloraxis": "coloraxis",
          "pattern": {
           "shape": ""
          }
         },
         "name": "",
         "orientation": "h",
         "showlegend": false,
         "text": {
          "bdata": "AAAAAAAAAAAAAAAAAAAAAHsUrkfhepQ/mpmZmZmZqT+amZmZmZmpP7gehetRuK4/uB6F61G4rj+4HoXrUbiuP+xRuB6F67E/7FG4HoXrsT8K16NwPQq3PwrXo3A9Crc/CtejcD0Ktz+amZmZmZm5P5qZmZmZmbk/mpmZmZmZuT+amZmZmZm5P5qZmZmZmbk/KVyPwvUovD8pXI/C9Si8P7gehetRuL4/uB6F61G4vj+kcD0K16PAP+xRuB6F68E/7FG4HoXrwT/sUbgehevBP+xRuB6F68E/MzMzMzMzwz97FK5H4XrEP3sUrkfhesQ/exSuR+F6xD8K16NwPQrHP1K4HoXrUcg/mpmZmZmZyT+amZmZmZnJP+F6FK5H4co/4XoUrkfhyj/hehSuR+HKPylcj8L1KMw/cT0K16NwzT+4HoXrUbjOPwAAAAAAANA/pHA9Ctej0D9I4XoUrkfRP0jhehSuR9E/H4XrUbge1T+uR+F6FK7XP/YoXI/C9dg/4XoUrkfh2j8UrkfhehTeP1K4HoXrUeA/SOF6FK5H4T8AAAAAAADwPw==",
          "dtype": "f8"
         },
         "textposition": "outside",
         "texttemplate": "%{text:.2f}",
         "type": "bar",
         "x": {
          "bdata": "AAAAAAAAAAAAAAAAAAAAAHsUrkfhepQ/mpmZmZmZqT+amZmZmZmpP7gehetRuK4/uB6F61G4rj+4HoXrUbiuP+xRuB6F67E/7FG4HoXrsT8K16NwPQq3PwrXo3A9Crc/CtejcD0Ktz+amZmZmZm5P5qZmZmZmbk/mpmZmZmZuT+amZmZmZm5P5qZmZmZmbk/KVyPwvUovD8pXI/C9Si8P7gehetRuL4/uB6F61G4vj+kcD0K16PAP+xRuB6F68E/7FG4HoXrwT/sUbgehevBP+xRuB6F68E/MzMzMzMzwz97FK5H4XrEP3sUrkfhesQ/exSuR+F6xD8K16NwPQrHP1K4HoXrUcg/mpmZmZmZyT+amZmZmZnJP+F6FK5H4co/4XoUrkfhyj/hehSuR+HKPylcj8L1KMw/cT0K16NwzT+4HoXrUbjOPwAAAAAAANA/pHA9Ctej0D9I4XoUrkfRP0jhehSuR9E/H4XrUbge1T+uR+F6FK7XP/YoXI/C9dg/4XoUrkfh2j8UrkfhehTeP1K4HoXrUeA/SOF6FK5H4T8AAAAAAADwPw==",
          "dtype": "f8"
         },
         "xaxis": "x",
         "y": [
          "Dr Mohit Khera",
          "Evan Spiegel",
          "Emma Grede",
          "Dr. Sara Szal",
          "Robert Greene",
          "Dr Bill von Hippel",
          "Dr Sarah Berry",
          "Dr Peter Attia",
          "Vanessa Van Edwards",
          "Mike Dowd",
          "Jeff Cavaliere",
          "Steven",
          "Dr. Sarah Wakeman",
          "Craig Robinson",
          "Chris Eubank Jr.",
          "Bret Weinstein",
          "Amjad Masad",
          "Michelle Obama",
          "Dr. Lisa Feldman Barrett",
          "Dr Stacy Sims",
          "Evy Poumpouras",
          "Alex Hormozi",
          "Paul Brunson",
          "Dr Joe Dispenza",
          "Deborah Frances-White",
          "Louise Perry",
          "Charlie Houpert",
          "Jimmy Fallon",
          "Esther Perel",
          "Konstantin Kisin",
          "Dr Vonda Wright",
          "Dr Jordan Peterson",
          "Dr Georgia Ede",
          "Joe Navarro",
          "Scott Galloway",
          "Morgan Housel",
          "Master Shi Heng Yi",
          "Vinh Giang",
          "Dr. Courtney Conley",
          "Simon Sinek",
          "Logan Ury",
          "Erica Komisar",
          "Dr Daniel Amen",
          "Dr Nathan Bryan",
          "Daniel Priestley",
          "MrBeast",
          "Dr. William Li",
          "Jefferson Fisher",
          "Cathie Wood",
          "Dr Benjamin Bikman",
          "Dr Anna Lembke",
          "Gary Stevenson",
          "Geoffrey Hinton"
         ],
         "yaxis": "y"
        }
       ],
       "layout": {
        "barmode": "relative",
        "coloraxis": {
         "colorbar": {
          "title": {
           "text": "weighted_score"
          }
         },
         "colorscale": [
          [
           0,
           "rgb(247,251,255)"
          ],
          [
           0.125,
           "rgb(222,235,247)"
          ],
          [
           0.25,
           "rgb(198,219,239)"
          ],
          [
           0.375,
           "rgb(158,202,225)"
          ],
          [
           0.5,
           "rgb(107,174,214)"
          ],
          [
           0.625,
           "rgb(66,146,198)"
          ],
          [
           0.75,
           "rgb(33,113,181)"
          ],
          [
           0.875,
           "rgb(8,81,156)"
          ],
          [
           1,
           "rgb(8,48,107)"
          ]
         ]
        },
        "height": 600,
        "legend": {
         "tracegroupgap": 0
        },
        "template": {
         "data": {
          "bar": [
           {
            "error_x": {
             "color": "#2a3f5f"
            },
            "error_y": {
             "color": "#2a3f5f"
            },
            "marker": {
             "line": {
              "color": "#E5ECF6",
              "width": 0.5
             },
             "pattern": {
              "fillmode": "overlay",
              "size": 10,
              "solidity": 0.2
             }
            },
            "type": "bar"
           }
          ],
          "barpolar": [
           {
            "marker": {
             "line": {
              "color": "#E5ECF6",
              "width": 0.5
             },
             "pattern": {
              "fillmode": "overlay",
              "size": 10,
              "solidity": 0.2
             }
            },
            "type": "barpolar"
           }
          ],
          "carpet": [
           {
            "aaxis": {
             "endlinecolor": "#2a3f5f",
             "gridcolor": "white",
             "linecolor": "white",
             "minorgridcolor": "white",
             "startlinecolor": "#2a3f5f"
            },
            "baxis": {
             "endlinecolor": "#2a3f5f",
             "gridcolor": "white",
             "linecolor": "white",
             "minorgridcolor": "white",
             "startlinecolor": "#2a3f5f"
            },
            "type": "carpet"
           }
          ],
          "choropleth": [
           {
            "colorbar": {
             "outlinewidth": 0,
             "ticks": ""
            },
            "type": "choropleth"
           }
          ],
          "contour": [
           {
            "colorbar": {
             "outlinewidth": 0,
             "ticks": ""
            },
            "colorscale": [
             [
              0,
              "#0d0887"
             ],
             [
              0.1111111111111111,
              "#46039f"
             ],
             [
              0.2222222222222222,
              "#7201a8"
             ],
             [
              0.3333333333333333,
              "#9c179e"
             ],
             [
              0.4444444444444444,
              "#bd3786"
             ],
             [
              0.5555555555555556,
              "#d8576b"
             ],
             [
              0.6666666666666666,
              "#ed7953"
             ],
             [
              0.7777777777777778,
              "#fb9f3a"
             ],
             [
              0.8888888888888888,
              "#fdca26"
             ],
             [
              1,
              "#f0f921"
             ]
            ],
            "type": "contour"
           }
          ],
          "contourcarpet": [
           {
            "colorbar": {
             "outlinewidth": 0,
             "ticks": ""
            },
            "type": "contourcarpet"
           }
          ],
          "heatmap": [
           {
            "colorbar": {
             "outlinewidth": 0,
             "ticks": ""
            },
            "colorscale": [
             [
              0,
              "#0d0887"
             ],
             [
              0.1111111111111111,
              "#46039f"
             ],
             [
              0.2222222222222222,
              "#7201a8"
             ],
             [
              0.3333333333333333,
              "#9c179e"
             ],
             [
              0.4444444444444444,
              "#bd3786"
             ],
             [
              0.5555555555555556,
              "#d8576b"
             ],
             [
              0.6666666666666666,
              "#ed7953"
             ],
             [
              0.7777777777777778,
              "#fb9f3a"
             ],
             [
              0.8888888888888888,
              "#fdca26"
             ],
             [
              1,
              "#f0f921"
             ]
            ],
            "type": "heatmap"
           }
          ],
          "histogram": [
           {
            "marker": {
             "pattern": {
              "fillmode": "overlay",
              "size": 10,
              "solidity": 0.2
             }
            },
            "type": "histogram"
           }
          ],
          "histogram2d": [
           {
            "colorbar": {
             "outlinewidth": 0,
             "ticks": ""
            },
            "colorscale": [
             [
              0,
              "#0d0887"
             ],
             [
              0.1111111111111111,
              "#46039f"
             ],
             [
              0.2222222222222222,
              "#7201a8"
             ],
             [
              0.3333333333333333,
              "#9c179e"
             ],
             [
              0.4444444444444444,
              "#bd3786"
             ],
             [
              0.5555555555555556,
              "#d8576b"
             ],
             [
              0.6666666666666666,
              "#ed7953"
             ],
             [
              0.7777777777777778,
              "#fb9f3a"
             ],
             [
              0.8888888888888888,
              "#fdca26"
             ],
             [
              1,
              "#f0f921"
             ]
            ],
            "type": "histogram2d"
           }
          ],
          "histogram2dcontour": [
           {
            "colorbar": {
             "outlinewidth": 0,
             "ticks": ""
            },
            "colorscale": [
             [
              0,
              "#0d0887"
             ],
             [
              0.1111111111111111,
              "#46039f"
             ],
             [
              0.2222222222222222,
              "#7201a8"
             ],
             [
              0.3333333333333333,
              "#9c179e"
             ],
             [
              0.4444444444444444,
              "#bd3786"
             ],
             [
              0.5555555555555556,
              "#d8576b"
             ],
             [
              0.6666666666666666,
              "#ed7953"
             ],
             [
              0.7777777777777778,
              "#fb9f3a"
             ],
             [
              0.8888888888888888,
              "#fdca26"
             ],
             [
              1,
              "#f0f921"
             ]
            ],
            "type": "histogram2dcontour"
           }
          ],
          "mesh3d": [
           {
            "colorbar": {
             "outlinewidth": 0,
             "ticks": ""
            },
            "type": "mesh3d"
           }
          ],
          "parcoords": [
           {
            "line": {
             "colorbar": {
              "outlinewidth": 0,
              "ticks": ""
             }
            },
            "type": "parcoords"
           }
          ],
          "pie": [
           {
            "automargin": true,
            "type": "pie"
           }
          ],
          "scatter": [
           {
            "fillpattern": {
             "fillmode": "overlay",
             "size": 10,
             "solidity": 0.2
            },
            "type": "scatter"
           }
          ],
          "scatter3d": [
           {
            "line": {
             "colorbar": {
              "outlinewidth": 0,
              "ticks": ""
             }
            },
            "marker": {
             "colorbar": {
              "outlinewidth": 0,
              "ticks": ""
             }
            },
            "type": "scatter3d"
           }
          ],
          "scattercarpet": [
           {
            "marker": {
             "colorbar": {
              "outlinewidth": 0,
              "ticks": ""
             }
            },
            "type": "scattercarpet"
           }
          ],
          "scattergeo": [
           {
            "marker": {
             "colorbar": {
              "outlinewidth": 0,
              "ticks": ""
             }
            },
            "type": "scattergeo"
           }
          ],
          "scattergl": [
           {
            "marker": {
             "colorbar": {
              "outlinewidth": 0,
              "ticks": ""
             }
            },
            "type": "scattergl"
           }
          ],
          "scattermap": [
           {
            "marker": {
             "colorbar": {
              "outlinewidth": 0,
              "ticks": ""
             }
            },
            "type": "scattermap"
           }
          ],
          "scattermapbox": [
           {
            "marker": {
             "colorbar": {
              "outlinewidth": 0,
              "ticks": ""
             }
            },
            "type": "scattermapbox"
           }
          ],
          "scatterpolar": [
           {
            "marker": {
             "colorbar": {
              "outlinewidth": 0,
              "ticks": ""
             }
            },
            "type": "scatterpolar"
           }
          ],
          "scatterpolargl": [
           {
            "marker": {
             "colorbar": {
              "outlinewidth": 0,
              "ticks": ""
             }
            },
            "type": "scatterpolargl"
           }
          ],
          "scatterternary": [
           {
            "marker": {
             "colorbar": {
              "outlinewidth": 0,
              "ticks": ""
             }
            },
            "type": "scatterternary"
           }
          ],
          "surface": [
           {
            "colorbar": {
             "outlinewidth": 0,
             "ticks": ""
            },
            "colorscale": [
             [
              0,
              "#0d0887"
             ],
             [
              0.1111111111111111,
              "#46039f"
             ],
             [
              0.2222222222222222,
              "#7201a8"
             ],
             [
              0.3333333333333333,
              "#9c179e"
             ],
             [
              0.4444444444444444,
              "#bd3786"
             ],
             [
              0.5555555555555556,
              "#d8576b"
             ],
             [
              0.6666666666666666,
              "#ed7953"
             ],
             [
              0.7777777777777778,
              "#fb9f3a"
             ],
             [
              0.8888888888888888,
              "#fdca26"
             ],
             [
              1,
              "#f0f921"
             ]
            ],
            "type": "surface"
           }
          ],
          "table": [
           {
            "cells": {
             "fill": {
              "color": "#EBF0F8"
             },
             "line": {
              "color": "white"
             }
            },
            "header": {
             "fill": {
              "color": "#C8D4E3"
             },
             "line": {
              "color": "white"
             }
            },
            "type": "table"
           }
          ]
         },
         "layout": {
          "annotationdefaults": {
           "arrowcolor": "#2a3f5f",
           "arrowhead": 0,
           "arrowwidth": 1
          },
          "autotypenumbers": "strict",
          "coloraxis": {
           "colorbar": {
            "outlinewidth": 0,
            "ticks": ""
           }
          },
          "colorscale": {
           "diverging": [
            [
             0,
             "#8e0152"
            ],
            [
             0.1,
             "#c51b7d"
            ],
            [
             0.2,
             "#de77ae"
            ],
            [
             0.3,
             "#f1b6da"
            ],
            [
             0.4,
             "#fde0ef"
            ],
            [
             0.5,
             "#f7f7f7"
            ],
            [
             0.6,
             "#e6f5d0"
            ],
            [
             0.7,
             "#b8e186"
            ],
            [
             0.8,
             "#7fbc41"
            ],
            [
             0.9,
             "#4d9221"
            ],
            [
             1,
             "#276419"
            ]
           ],
           "sequential": [
            [
             0,
             "#0d0887"
            ],
            [
             0.1111111111111111,
             "#46039f"
            ],
            [
             0.2222222222222222,
             "#7201a8"
            ],
            [
             0.3333333333333333,
             "#9c179e"
            ],
            [
             0.4444444444444444,
             "#bd3786"
            ],
            [
             0.5555555555555556,
             "#d8576b"
            ],
            [
             0.6666666666666666,
             "#ed7953"
            ],
            [
             0.7777777777777778,
             "#fb9f3a"
            ],
            [
             0.8888888888888888,
             "#fdca26"
            ],
            [
             1,
             "#f0f921"
            ]
           ],
           "sequentialminus": [
            [
             0,
             "#0d0887"
            ],
            [
             0.1111111111111111,
             "#46039f"
            ],
            [
             0.2222222222222222,
             "#7201a8"
            ],
            [
             0.3333333333333333,
             "#9c179e"
            ],
            [
             0.4444444444444444,
             "#bd3786"
            ],
            [
             0.5555555555555556,
             "#d8576b"
            ],
            [
             0.6666666666666666,
             "#ed7953"
            ],
            [
             0.7777777777777778,
             "#fb9f3a"
            ],
            [
             0.8888888888888888,
             "#fdca26"
            ],
            [
             1,
             "#f0f921"
            ]
           ]
          },
          "colorway": [
           "#636efa",
           "#EF553B",
           "#00cc96",
           "#ab63fa",
           "#FFA15A",
           "#19d3f3",
           "#FF6692",
           "#B6E880",
           "#FF97FF",
           "#FECB52"
          ],
          "font": {
           "color": "#2a3f5f"
          },
          "geo": {
           "bgcolor": "white",
           "lakecolor": "white",
           "landcolor": "#E5ECF6",
           "showlakes": true,
           "showland": true,
           "subunitcolor": "white"
          },
          "hoverlabel": {
           "align": "left"
          },
          "hovermode": "closest",
          "mapbox": {
           "style": "light"
          },
          "paper_bgcolor": "white",
          "plot_bgcolor": "#E5ECF6",
          "polar": {
           "angularaxis": {
            "gridcolor": "white",
            "linecolor": "white",
            "ticks": ""
           },
           "bgcolor": "#E5ECF6",
           "radialaxis": {
            "gridcolor": "white",
            "linecolor": "white",
            "ticks": ""
           }
          },
          "scene": {
           "xaxis": {
            "backgroundcolor": "#E5ECF6",
            "gridcolor": "white",
            "gridwidth": 2,
            "linecolor": "white",
            "showbackground": true,
            "ticks": "",
            "zerolinecolor": "white"
           },
           "yaxis": {
            "backgroundcolor": "#E5ECF6",
            "gridcolor": "white",
            "gridwidth": 2,
            "linecolor": "white",
            "showbackground": true,
            "ticks": "",
            "zerolinecolor": "white"
           },
           "zaxis": {
            "backgroundcolor": "#E5ECF6",
            "gridcolor": "white",
            "gridwidth": 2,
            "linecolor": "white",
            "showbackground": true,
            "ticks": "",
            "zerolinecolor": "white"
           }
          },
          "shapedefaults": {
           "line": {
            "color": "#2a3f5f"
           }
          },
          "ternary": {
           "aaxis": {
            "gridcolor": "white",
            "linecolor": "white",
            "ticks": ""
           },
           "baxis": {
            "gridcolor": "white",
            "linecolor": "white",
            "ticks": ""
           },
           "bgcolor": "#E5ECF6",
           "caxis": {
            "gridcolor": "white",
            "linecolor": "white",
            "ticks": ""
           }
          },
          "title": {
           "x": 0.05
          },
          "xaxis": {
           "automargin": true,
           "gridcolor": "white",
           "linecolor": "white",
           "ticks": "",
           "title": {
            "standoff": 15
           },
           "zerolinecolor": "white",
           "zerolinewidth": 2
          },
          "yaxis": {
           "automargin": true,
           "gridcolor": "white",
           "linecolor": "white",
           "ticks": "",
           "title": {
            "standoff": 15
           },
           "zerolinecolor": "white",
           "zerolinewidth": 2
          }
         }
        },
        "title": {
         "text": "Top Guests by Weighted Engagement Score"
        },
        "xaxis": {
         "anchor": "y",
         "domain": [
          0,
          1
         ],
         "title": {
          "text": "Weighted Score"
         }
        },
        "yaxis": {
         "anchor": "x",
         "domain": [
          0,
          1
         ],
         "title": {
          "text": "Guest"
         }
        }
       }
      }
     },
     "metadata": {},
     "output_type": "display_data"
    }
   ],
   "source": [
    "# “Top Guests by Engagement Score”\n",
    "\n",
    "import plotly.express as px\n",
    "\n",
    "fig = px.bar(\n",
    "    guest_stats.sort_values(\"weighted_score\", ascending=True),\n",
    "    x=\"weighted_score\",\n",
    "    y=\"guest\",\n",
    "    orientation=\"h\",\n",
    "    title=\"Top Guests by Weighted Engagement Score\",\n",
    "    text=\"weighted_score\",\n",
    "    color=\"weighted_score\",\n",
    "    color_continuous_scale=\"Blues\"\n",
    ")\n",
    "fig.update_traces(texttemplate=\"%{text:.2f}\", textposition=\"outside\")\n",
    "fig.update_layout(xaxis_title=\"Weighted Score\", yaxis_title=\"Guest\", height=600)\n",
    "fig.show()\n"
   ]
  },
  {
   "cell_type": "code",
   "execution_count": 35,
   "id": "5096e310",
   "metadata": {},
   "outputs": [
    {
     "data": {
      "application/vnd.plotly.v1+json": {
       "config": {
        "plotlyServerURL": "https://plot.ly"
       },
       "data": [
        {
         "hovertemplate": "<b>%{hovertext}</b><br><br>views_per_guest=%{x}<br>comments_per_guest=%{y}<br>likes_per_guest=%{marker.size}<br>weighted_score=%{marker.color}<extra></extra>",
         "hovertext": [
          "Alex Hormozi",
          "Amjad Masad",
          "Bret Weinstein",
          "Cathie Wood",
          "Charlie Houpert",
          "Chris Eubank Jr.",
          "Craig Robinson",
          "Daniel Priestley",
          "Deborah Frances-White",
          "Dr Anna Lembke",
          "Dr Benjamin Bikman",
          "Dr Bill von Hippel",
          "Dr Daniel Amen",
          "Dr Georgia Ede",
          "Dr Joe Dispenza",
          "Dr Jordan Peterson",
          "Dr Mohit Khera",
          "Dr Nathan Bryan",
          "Dr Peter Attia",
          "Dr Sarah Berry",
          "Dr Stacy Sims",
          "Dr Vonda Wright",
          "Dr. Courtney Conley",
          "Dr. Lisa Feldman Barrett",
          "Dr. Sara Szal",
          "Dr. Sarah Wakeman",
          "Dr. William Li",
          "Emma Grede",
          "Erica Komisar",
          "Esther Perel",
          "Evan Spiegel",
          "Evy Poumpouras",
          "Gary Stevenson",
          "Geoffrey Hinton",
          "Jeff Cavaliere",
          "Jefferson Fisher",
          "Jimmy Fallon",
          "Joe Navarro",
          "Konstantin Kisin",
          "Logan Ury",
          "Louise Perry",
          "Master Shi Heng Yi",
          "Michelle Obama",
          "Mike Dowd",
          "Morgan Housel",
          "MrBeast",
          "Paul Brunson",
          "Robert Greene",
          "Scott Galloway",
          "Simon Sinek",
          "Steven",
          "Vanessa Van Edwards",
          "Vinh Giang"
         ],
         "legendgroup": "",
         "marker": {
          "color": {
           "bdata": "uB6F61G4vj+amZmZmZm5P5qZmZmZmbk/4XoUrkfh2j/sUbgehevBP5qZmZmZmbk/mpmZmZmZuT9I4XoUrkfRP+xRuB6F68E/UrgehetR4D8UrkfhehTeP7gehetRuK4/pHA9Ctej0D9SuB6F61HIP+xRuB6F68E/CtejcD0Kxz8AAAAAAAAAAEjhehSuR9E/uB6F61G4rj+4HoXrUbiuPylcj8L1KLw/exSuR+F6xD8pXI/C9SjMPylcj8L1KLw/mpmZmZmZqT8K16NwPQq3P65H4XoUrtc/exSuR+F6lD8AAAAAAADQP3sUrkfhesQ/AAAAAAAAAAC4HoXrUbi+P0jhehSuR+E/AAAAAAAA8D8K16NwPQq3P/YoXI/C9dg/MzMzMzMzwz+amZmZmZnJP3sUrkfhesQ/uB6F61G4zj/sUbgehevBP+F6FK5H4co/mpmZmZmZuT/sUbgeheuxP+F6FK5H4co/H4XrUbge1T+kcD0K16PAP5qZmZmZmak/mpmZmZmZyT9xPQrXo3DNPwrXo3A9Crc/7FG4HoXrsT/hehSuR+HKPw==",
           "dtype": "f8"
          },
          "coloraxis": "coloraxis",
          "size": {
           "bdata": "AAAAAAD26kAUrkfh6rfUQBSuR+Hqt9RAAAAAALAHAEEAAAAA4KnrQAAAAABA5dxAAAAAAIDR4EAHOm2gE/rgQClcj8JVYc5AAAAAADjrA0EAAAAAIMcDQQAAAACAlNRAAAAAAFDz9EAAAAAAYAbuQAAAAAAg6exAAAAAAAB16kAAAAAAgN3IQAAAAADQgPlAAAAAAAAt30AAAAAAgKDNQAAAAAAAz+dAAAAAAEBg8EAAAAAAMP30QAAAAADA0OZAAAAAAICx20AAAAAAwHfeQAAAAACAqwBBAAAAAABJzECF61G4SrzoQAAAAABA5uRAAAAAAIDyyEAAAAAAEIjrQAAAAAAwF+hAAAAAADBnDUEAAAAAgIXmQAAAAABQMAJBAAAAAGC67EAAAAAAgIvzQArXo3AVe+BAAAAAAGDN2EApXI/CVWHOQAAAAACAbfRAAAAAAIDR4EAAAAAAAI3YQAAAAABAEOxAAAAAABDh+EAAAAAAwH7XQAAAAACA79pACtejcMXh3EAAAAAA4LjxQAAAAACI7eRAAAAAAACm3EAAAAAAIMb1QA==",
           "dtype": "f8"
          },
          "sizemode": "area",
          "sizeref": 150.54375,
          "symbol": "circle"
         },
         "mode": "markers",
         "name": "",
         "orientation": "v",
         "showlegend": false,
         "type": "scatter",
         "x": {
          "bdata": "AAAAgBWqQ0G4HoWrxxYwQbgehavHFjBBAAAAAPUvVEEAAAAAr8BDQQAAAACxFzVBAAAAAHAdLUHotIEOlK43QY/C9aiEBiRBAAAAgOs8U0EAAACAF41UQQAAAACUtzBBAAAAgKE+S0EAAAAA2xo/QQAAAAAXqERBAAAAACs7P0EAAAAA3kUmQQAAAIBKn0JBAAAAAJUiNkEAAAAAMN8mQQAAAACOyThBAAAAgKA+REEAAAAAwx5EQQAAAAAgiTpBAAAAAPJ4LEEAAAAAYqY0QQAAAAD86UtBAAAAABARKkGkcD0q2co9QQAAAABzoDxBAAAAAMayJkEAAACAfws9QQAAAMDdgUJBAAAAQMeMZEEAAAAAvEk/QQAAAICQLlJBAAAAAOTgQUEAAACAEGlJQQAAAAA58TFBAAAAgPGlMEGPwvWohAYkQQAAAIDn4kVBAAAAAHAdLUEAAAAAYys2QQAAAIBYhEVBAAAAgBqxTEEAAAAArFAyQQAAAADUVDFBAAAAQJVLMUEAAACAYF1IQQAAAADxATdBAAAAgGL4MEEAAACAuohHQQ==",
          "dtype": "f8"
         },
         "xaxis": "x",
         "y": {
          "bdata": "AAAAAABuo0BSuB6Fq/S0QFK4HoWr9LRAAAAAAIDGw0AAAAAAAKSqQAAAAAAAIbBAAAAAAIAXsUAAAAAAgOTIQFK4HoWriL9AAAAAAICCyUAAAAAAgLLEQAAAAAAADKlAAAAAAAChuUAAAAAAAIK4QAAAAAAAQKdAAAAAAAD4uEAAAAAAANCJQAAAAAAAk7pAAAAAAAB4oEAAAAAAAOisQAAAAAAAgqhAAAAAAAACqkAAAAAAAPW0QAAAAAAAYqlAAAAAAADwoEAAAAAAAACrQAAAAACAj8FAAAAAAAAom0AUrkfhagjEQAAAAAAAorZAAAAAAAAQikAAAAAAACOlQAAAAACA8thAAAAAAABN20AAAAAAAMyfQAAAAAAAQL5AAAAAAACOrEAAAAAAALavQK5H4XpUnLxAAAAAAMBAyEBSuB6Fq4i/QAAAAAAAv7NAAAAAAIAXsUAAAAAAAKCkQAAAAAAAY7pAAAAAAAB1wUAAAAAAAL64QAAAAAAANJ1A7FG4HnVHw0AAAAAAAMy4QAAAAAAAjqVAAAAAAAD5pUAAAAAAAHyuQA==",
          "dtype": "f8"
         },
         "yaxis": "y"
        }
       ],
       "layout": {
        "coloraxis": {
         "colorbar": {
          "title": {
           "text": "weighted_score"
          }
         },
         "colorscale": [
          [
           0,
           "#440154"
          ],
          [
           0.1111111111111111,
           "#482878"
          ],
          [
           0.2222222222222222,
           "#3e4989"
          ],
          [
           0.3333333333333333,
           "#31688e"
          ],
          [
           0.4444444444444444,
           "#26828e"
          ],
          [
           0.5555555555555556,
           "#1f9e89"
          ],
          [
           0.6666666666666666,
           "#35b779"
          ],
          [
           0.7777777777777778,
           "#6ece58"
          ],
          [
           0.8888888888888888,
           "#b5de2b"
          ],
          [
           1,
           "#fde725"
          ]
         ]
        },
        "height": 600,
        "legend": {
         "itemsizing": "constant",
         "tracegroupgap": 0
        },
        "template": {
         "data": {
          "bar": [
           {
            "error_x": {
             "color": "#2a3f5f"
            },
            "error_y": {
             "color": "#2a3f5f"
            },
            "marker": {
             "line": {
              "color": "#E5ECF6",
              "width": 0.5
             },
             "pattern": {
              "fillmode": "overlay",
              "size": 10,
              "solidity": 0.2
             }
            },
            "type": "bar"
           }
          ],
          "barpolar": [
           {
            "marker": {
             "line": {
              "color": "#E5ECF6",
              "width": 0.5
             },
             "pattern": {
              "fillmode": "overlay",
              "size": 10,
              "solidity": 0.2
             }
            },
            "type": "barpolar"
           }
          ],
          "carpet": [
           {
            "aaxis": {
             "endlinecolor": "#2a3f5f",
             "gridcolor": "white",
             "linecolor": "white",
             "minorgridcolor": "white",
             "startlinecolor": "#2a3f5f"
            },
            "baxis": {
             "endlinecolor": "#2a3f5f",
             "gridcolor": "white",
             "linecolor": "white",
             "minorgridcolor": "white",
             "startlinecolor": "#2a3f5f"
            },
            "type": "carpet"
           }
          ],
          "choropleth": [
           {
            "colorbar": {
             "outlinewidth": 0,
             "ticks": ""
            },
            "type": "choropleth"
           }
          ],
          "contour": [
           {
            "colorbar": {
             "outlinewidth": 0,
             "ticks": ""
            },
            "colorscale": [
             [
              0,
              "#0d0887"
             ],
             [
              0.1111111111111111,
              "#46039f"
             ],
             [
              0.2222222222222222,
              "#7201a8"
             ],
             [
              0.3333333333333333,
              "#9c179e"
             ],
             [
              0.4444444444444444,
              "#bd3786"
             ],
             [
              0.5555555555555556,
              "#d8576b"
             ],
             [
              0.6666666666666666,
              "#ed7953"
             ],
             [
              0.7777777777777778,
              "#fb9f3a"
             ],
             [
              0.8888888888888888,
              "#fdca26"
             ],
             [
              1,
              "#f0f921"
             ]
            ],
            "type": "contour"
           }
          ],
          "contourcarpet": [
           {
            "colorbar": {
             "outlinewidth": 0,
             "ticks": ""
            },
            "type": "contourcarpet"
           }
          ],
          "heatmap": [
           {
            "colorbar": {
             "outlinewidth": 0,
             "ticks": ""
            },
            "colorscale": [
             [
              0,
              "#0d0887"
             ],
             [
              0.1111111111111111,
              "#46039f"
             ],
             [
              0.2222222222222222,
              "#7201a8"
             ],
             [
              0.3333333333333333,
              "#9c179e"
             ],
             [
              0.4444444444444444,
              "#bd3786"
             ],
             [
              0.5555555555555556,
              "#d8576b"
             ],
             [
              0.6666666666666666,
              "#ed7953"
             ],
             [
              0.7777777777777778,
              "#fb9f3a"
             ],
             [
              0.8888888888888888,
              "#fdca26"
             ],
             [
              1,
              "#f0f921"
             ]
            ],
            "type": "heatmap"
           }
          ],
          "histogram": [
           {
            "marker": {
             "pattern": {
              "fillmode": "overlay",
              "size": 10,
              "solidity": 0.2
             }
            },
            "type": "histogram"
           }
          ],
          "histogram2d": [
           {
            "colorbar": {
             "outlinewidth": 0,
             "ticks": ""
            },
            "colorscale": [
             [
              0,
              "#0d0887"
             ],
             [
              0.1111111111111111,
              "#46039f"
             ],
             [
              0.2222222222222222,
              "#7201a8"
             ],
             [
              0.3333333333333333,
              "#9c179e"
             ],
             [
              0.4444444444444444,
              "#bd3786"
             ],
             [
              0.5555555555555556,
              "#d8576b"
             ],
             [
              0.6666666666666666,
              "#ed7953"
             ],
             [
              0.7777777777777778,
              "#fb9f3a"
             ],
             [
              0.8888888888888888,
              "#fdca26"
             ],
             [
              1,
              "#f0f921"
             ]
            ],
            "type": "histogram2d"
           }
          ],
          "histogram2dcontour": [
           {
            "colorbar": {
             "outlinewidth": 0,
             "ticks": ""
            },
            "colorscale": [
             [
              0,
              "#0d0887"
             ],
             [
              0.1111111111111111,
              "#46039f"
             ],
             [
              0.2222222222222222,
              "#7201a8"
             ],
             [
              0.3333333333333333,
              "#9c179e"
             ],
             [
              0.4444444444444444,
              "#bd3786"
             ],
             [
              0.5555555555555556,
              "#d8576b"
             ],
             [
              0.6666666666666666,
              "#ed7953"
             ],
             [
              0.7777777777777778,
              "#fb9f3a"
             ],
             [
              0.8888888888888888,
              "#fdca26"
             ],
             [
              1,
              "#f0f921"
             ]
            ],
            "type": "histogram2dcontour"
           }
          ],
          "mesh3d": [
           {
            "colorbar": {
             "outlinewidth": 0,
             "ticks": ""
            },
            "type": "mesh3d"
           }
          ],
          "parcoords": [
           {
            "line": {
             "colorbar": {
              "outlinewidth": 0,
              "ticks": ""
             }
            },
            "type": "parcoords"
           }
          ],
          "pie": [
           {
            "automargin": true,
            "type": "pie"
           }
          ],
          "scatter": [
           {
            "fillpattern": {
             "fillmode": "overlay",
             "size": 10,
             "solidity": 0.2
            },
            "type": "scatter"
           }
          ],
          "scatter3d": [
           {
            "line": {
             "colorbar": {
              "outlinewidth": 0,
              "ticks": ""
             }
            },
            "marker": {
             "colorbar": {
              "outlinewidth": 0,
              "ticks": ""
             }
            },
            "type": "scatter3d"
           }
          ],
          "scattercarpet": [
           {
            "marker": {
             "colorbar": {
              "outlinewidth": 0,
              "ticks": ""
             }
            },
            "type": "scattercarpet"
           }
          ],
          "scattergeo": [
           {
            "marker": {
             "colorbar": {
              "outlinewidth": 0,
              "ticks": ""
             }
            },
            "type": "scattergeo"
           }
          ],
          "scattergl": [
           {
            "marker": {
             "colorbar": {
              "outlinewidth": 0,
              "ticks": ""
             }
            },
            "type": "scattergl"
           }
          ],
          "scattermap": [
           {
            "marker": {
             "colorbar": {
              "outlinewidth": 0,
              "ticks": ""
             }
            },
            "type": "scattermap"
           }
          ],
          "scattermapbox": [
           {
            "marker": {
             "colorbar": {
              "outlinewidth": 0,
              "ticks": ""
             }
            },
            "type": "scattermapbox"
           }
          ],
          "scatterpolar": [
           {
            "marker": {
             "colorbar": {
              "outlinewidth": 0,
              "ticks": ""
             }
            },
            "type": "scatterpolar"
           }
          ],
          "scatterpolargl": [
           {
            "marker": {
             "colorbar": {
              "outlinewidth": 0,
              "ticks": ""
             }
            },
            "type": "scatterpolargl"
           }
          ],
          "scatterternary": [
           {
            "marker": {
             "colorbar": {
              "outlinewidth": 0,
              "ticks": ""
             }
            },
            "type": "scatterternary"
           }
          ],
          "surface": [
           {
            "colorbar": {
             "outlinewidth": 0,
             "ticks": ""
            },
            "colorscale": [
             [
              0,
              "#0d0887"
             ],
             [
              0.1111111111111111,
              "#46039f"
             ],
             [
              0.2222222222222222,
              "#7201a8"
             ],
             [
              0.3333333333333333,
              "#9c179e"
             ],
             [
              0.4444444444444444,
              "#bd3786"
             ],
             [
              0.5555555555555556,
              "#d8576b"
             ],
             [
              0.6666666666666666,
              "#ed7953"
             ],
             [
              0.7777777777777778,
              "#fb9f3a"
             ],
             [
              0.8888888888888888,
              "#fdca26"
             ],
             [
              1,
              "#f0f921"
             ]
            ],
            "type": "surface"
           }
          ],
          "table": [
           {
            "cells": {
             "fill": {
              "color": "#EBF0F8"
             },
             "line": {
              "color": "white"
             }
            },
            "header": {
             "fill": {
              "color": "#C8D4E3"
             },
             "line": {
              "color": "white"
             }
            },
            "type": "table"
           }
          ]
         },
         "layout": {
          "annotationdefaults": {
           "arrowcolor": "#2a3f5f",
           "arrowhead": 0,
           "arrowwidth": 1
          },
          "autotypenumbers": "strict",
          "coloraxis": {
           "colorbar": {
            "outlinewidth": 0,
            "ticks": ""
           }
          },
          "colorscale": {
           "diverging": [
            [
             0,
             "#8e0152"
            ],
            [
             0.1,
             "#c51b7d"
            ],
            [
             0.2,
             "#de77ae"
            ],
            [
             0.3,
             "#f1b6da"
            ],
            [
             0.4,
             "#fde0ef"
            ],
            [
             0.5,
             "#f7f7f7"
            ],
            [
             0.6,
             "#e6f5d0"
            ],
            [
             0.7,
             "#b8e186"
            ],
            [
             0.8,
             "#7fbc41"
            ],
            [
             0.9,
             "#4d9221"
            ],
            [
             1,
             "#276419"
            ]
           ],
           "sequential": [
            [
             0,
             "#0d0887"
            ],
            [
             0.1111111111111111,
             "#46039f"
            ],
            [
             0.2222222222222222,
             "#7201a8"
            ],
            [
             0.3333333333333333,
             "#9c179e"
            ],
            [
             0.4444444444444444,
             "#bd3786"
            ],
            [
             0.5555555555555556,
             "#d8576b"
            ],
            [
             0.6666666666666666,
             "#ed7953"
            ],
            [
             0.7777777777777778,
             "#fb9f3a"
            ],
            [
             0.8888888888888888,
             "#fdca26"
            ],
            [
             1,
             "#f0f921"
            ]
           ],
           "sequentialminus": [
            [
             0,
             "#0d0887"
            ],
            [
             0.1111111111111111,
             "#46039f"
            ],
            [
             0.2222222222222222,
             "#7201a8"
            ],
            [
             0.3333333333333333,
             "#9c179e"
            ],
            [
             0.4444444444444444,
             "#bd3786"
            ],
            [
             0.5555555555555556,
             "#d8576b"
            ],
            [
             0.6666666666666666,
             "#ed7953"
            ],
            [
             0.7777777777777778,
             "#fb9f3a"
            ],
            [
             0.8888888888888888,
             "#fdca26"
            ],
            [
             1,
             "#f0f921"
            ]
           ]
          },
          "colorway": [
           "#636efa",
           "#EF553B",
           "#00cc96",
           "#ab63fa",
           "#FFA15A",
           "#19d3f3",
           "#FF6692",
           "#B6E880",
           "#FF97FF",
           "#FECB52"
          ],
          "font": {
           "color": "#2a3f5f"
          },
          "geo": {
           "bgcolor": "white",
           "lakecolor": "white",
           "landcolor": "#E5ECF6",
           "showlakes": true,
           "showland": true,
           "subunitcolor": "white"
          },
          "hoverlabel": {
           "align": "left"
          },
          "hovermode": "closest",
          "mapbox": {
           "style": "light"
          },
          "paper_bgcolor": "white",
          "plot_bgcolor": "#E5ECF6",
          "polar": {
           "angularaxis": {
            "gridcolor": "white",
            "linecolor": "white",
            "ticks": ""
           },
           "bgcolor": "#E5ECF6",
           "radialaxis": {
            "gridcolor": "white",
            "linecolor": "white",
            "ticks": ""
           }
          },
          "scene": {
           "xaxis": {
            "backgroundcolor": "#E5ECF6",
            "gridcolor": "white",
            "gridwidth": 2,
            "linecolor": "white",
            "showbackground": true,
            "ticks": "",
            "zerolinecolor": "white"
           },
           "yaxis": {
            "backgroundcolor": "#E5ECF6",
            "gridcolor": "white",
            "gridwidth": 2,
            "linecolor": "white",
            "showbackground": true,
            "ticks": "",
            "zerolinecolor": "white"
           },
           "zaxis": {
            "backgroundcolor": "#E5ECF6",
            "gridcolor": "white",
            "gridwidth": 2,
            "linecolor": "white",
            "showbackground": true,
            "ticks": "",
            "zerolinecolor": "white"
           }
          },
          "shapedefaults": {
           "line": {
            "color": "#2a3f5f"
           }
          },
          "ternary": {
           "aaxis": {
            "gridcolor": "white",
            "linecolor": "white",
            "ticks": ""
           },
           "baxis": {
            "gridcolor": "white",
            "linecolor": "white",
            "ticks": ""
           },
           "bgcolor": "#E5ECF6",
           "caxis": {
            "gridcolor": "white",
            "linecolor": "white",
            "ticks": ""
           }
          },
          "title": {
           "x": 0.05
          },
          "xaxis": {
           "automargin": true,
           "gridcolor": "white",
           "linecolor": "white",
           "ticks": "",
           "title": {
            "standoff": 15
           },
           "zerolinecolor": "white",
           "zerolinewidth": 2
          },
          "yaxis": {
           "automargin": true,
           "gridcolor": "white",
           "linecolor": "white",
           "ticks": "",
           "title": {
            "standoff": 15
           },
           "zerolinecolor": "white",
           "zerolinewidth": 2
          }
         }
        },
        "title": {
         "text": "Guest Engagement Landscape: Views vs Comments (Bubble = Likes)"
        },
        "xaxis": {
         "anchor": "y",
         "domain": [
          0,
          1
         ],
         "title": {
          "text": "Views per Guest"
         }
        },
        "yaxis": {
         "anchor": "x",
         "domain": [
          0,
          1
         ],
         "title": {
          "text": "Comments per Guest"
         }
        }
       }
      }
     },
     "metadata": {},
     "output_type": "display_data"
    }
   ],
   "source": [
    "#### Scatter (Bubble) Chart — “Engagement Landscape”\n",
    "\n",
    "fig = px.scatter(\n",
    "    guest_stats,\n",
    "    x=\"views_per_guest\",\n",
    "    y=\"comments_per_guest\",\n",
    "    size=\"likes_per_guest\",\n",
    "    color=\"weighted_score\",\n",
    "    hover_name=\"guest\",\n",
    "    title=\"Guest Engagement Landscape: Views vs Comments (Bubble = Likes)\",\n",
    "    color_continuous_scale=\"Viridis\",\n",
    "    size_max=40\n",
    ")\n",
    "fig.update_layout(xaxis_title=\"Views per Guest\", yaxis_title=\"Comments per Guest\", height=600)\n",
    "fig.show()\n"
   ]
  },
  {
   "cell_type": "code",
   "execution_count": 36,
   "id": "e169bd1b",
   "metadata": {},
   "outputs": [
    {
     "data": {
      "application/vnd.plotly.v1+json": {
       "config": {
        "plotlyServerURL": "https://plot.ly"
       },
       "data": [
        {
         "alignmentgroup": "True",
         "hovertemplate": "Metric=views_per_guest<br>guest=%{x}<br>Score=%{y}<extra></extra>",
         "legendgroup": "views_per_guest",
         "marker": {
          "color": "rgb(8,29,88)",
          "line": {
           "color": "black",
           "width": 0.5
          },
          "pattern": {
           "shape": ""
          }
         },
         "name": "views_per_guest",
         "offsetgroup": "views_per_guest",
         "opacity": 0.9,
         "orientation": "v",
         "showlegend": true,
         "textposition": "outside",
         "texttemplate": "%{y:.0f}",
         "type": "bar",
         "x": [
          "Geoffrey Hinton",
          "Gary Stevenson",
          "Dr Anna Lembke",
          "Dr Benjamin Bikman",
          "Cathie Wood",
          "Jefferson Fisher",
          "Dr. William Li",
          "MrBeast",
          "Daniel Priestley",
          "Dr Nathan Bryan",
          "Dr Daniel Amen",
          "Erica Komisar",
          "Logan Ury",
          "Simon Sinek",
          "Dr. Courtney Conley",
          "Master Shi Heng Yi",
          "Morgan Housel",
          "Vinh Giang",
          "Joe Navarro",
          "Scott Galloway",
          "Dr Georgia Ede",
          "Dr Jordan Peterson",
          "Dr Vonda Wright",
          "Konstantin Kisin",
          "Esther Perel",
          "Jimmy Fallon",
          "Dr Joe Dispenza",
          "Louise Perry",
          "Deborah Frances-White",
          "Charlie Houpert",
          "Paul Brunson",
          "Alex Hormozi",
          "Evy Poumpouras",
          "Dr. Lisa Feldman Barrett",
          "Dr Stacy Sims",
          "Bret Weinstein",
          "Amjad Masad",
          "Craig Robinson",
          "Michelle Obama",
          "Chris Eubank Jr.",
          "Jeff Cavaliere",
          "Dr. Sarah Wakeman",
          "Steven",
          "Vanessa Van Edwards",
          "Mike Dowd",
          "Dr Peter Attia",
          "Dr Sarah Berry",
          "Dr Bill von Hippel",
          "Robert Greene",
          "Dr. Sara Szal",
          "Emma Grede",
          "Evan Spiegel",
          "Dr Mohit Khera"
         ],
         "xaxis": "x",
         "y": {
          "bdata": "AAAAQMeMZEEAAADA3YFCQQAAAIDrPFNBAAAAgBeNVEEAAAAA9S9UQQAAAICQLlJBAAAAAPzpS0EAAACAGrFMQei0gQ6UrjdBAAAAgEqfQkEAAACAoT5LQaRwPSrZyj1BAAAAgPGlMEEAAACAYF1IQQAAAADDHkRBAAAAgOfiRUEAAACAWIRFQQAAAIC6iEdBAAAAgBBpSUEAAABAlUsxQQAAAADbGj9BAAAAACs7P0EAAACAoD5EQQAAAAA58TFBAAAAAHOgPEEAAAAA5OBBQQAAAAAXqERBj8L1qIQGJEGPwvWohAYkQQAAAACvwENBAAAAAKxQMkEAAACAFapDQQAAAIB/Cz1BAAAAACCJOkEAAAAAjsk4QbgehavHFjBBuB6Fq8cWMEEAAAAAcB0tQQAAAABwHS1BAAAAALEXNUEAAAAAvEk/QQAAAABipjRBAAAAAPEBN0EAAACAYvgwQQAAAABjKzZBAAAAAJUiNkEAAAAAMN8mQQAAAACUtzBBAAAAANRUMUEAAAAA8ngsQQAAAAAQESpBAAAAAMayJkEAAAAA3kUmQQ==",
          "dtype": "f8"
         },
         "yaxis": "y"
        },
        {
         "alignmentgroup": "True",
         "hovertemplate": "Metric=likes_per_guest<br>guest=%{x}<br>Score=%{y}<extra></extra>",
         "legendgroup": "likes_per_guest",
         "marker": {
          "color": "rgb(37,52,148)",
          "line": {
           "color": "black",
           "width": 0.5
          },
          "pattern": {
           "shape": ""
          }
         },
         "name": "likes_per_guest",
         "offsetgroup": "likes_per_guest",
         "opacity": 0.9,
         "orientation": "v",
         "showlegend": true,
         "textposition": "outside",
         "texttemplate": "%{y:.0f}",
         "type": "bar",
         "x": [
          "Geoffrey Hinton",
          "Gary Stevenson",
          "Dr Anna Lembke",
          "Dr Benjamin Bikman",
          "Cathie Wood",
          "Jefferson Fisher",
          "Dr. William Li",
          "MrBeast",
          "Daniel Priestley",
          "Dr Nathan Bryan",
          "Dr Daniel Amen",
          "Erica Komisar",
          "Logan Ury",
          "Simon Sinek",
          "Dr. Courtney Conley",
          "Master Shi Heng Yi",
          "Morgan Housel",
          "Vinh Giang",
          "Joe Navarro",
          "Scott Galloway",
          "Dr Georgia Ede",
          "Dr Jordan Peterson",
          "Dr Vonda Wright",
          "Konstantin Kisin",
          "Esther Perel",
          "Jimmy Fallon",
          "Dr Joe Dispenza",
          "Louise Perry",
          "Deborah Frances-White",
          "Charlie Houpert",
          "Paul Brunson",
          "Alex Hormozi",
          "Evy Poumpouras",
          "Dr. Lisa Feldman Barrett",
          "Dr Stacy Sims",
          "Bret Weinstein",
          "Amjad Masad",
          "Craig Robinson",
          "Michelle Obama",
          "Chris Eubank Jr.",
          "Jeff Cavaliere",
          "Dr. Sarah Wakeman",
          "Steven",
          "Vanessa Van Edwards",
          "Mike Dowd",
          "Dr Peter Attia",
          "Dr Sarah Berry",
          "Dr Bill von Hippel",
          "Robert Greene",
          "Dr. Sara Szal",
          "Emma Grede",
          "Evan Spiegel",
          "Dr Mohit Khera"
         ],
         "xaxis": "x",
         "y": {
          "bdata": "AAAAADBnDUEAAAAAMBfoQAAAAAA46wNBAAAAACDHA0EAAAAAsAcAQQAAAABQMAJBAAAAAICrAEEAAAAAEOH4QAc6baAT+uBAAAAAANCA+UAAAAAAUPP0QIXrUbhKvOhAAAAAAGDN2EAAAAAA4LjxQAAAAAAw/fRAAAAAAIBt9EAAAAAAQBDsQAAAAAAgxvVAAAAAAICL80AK16NwxeHcQAAAAABgBu5AAAAAAAB16kAAAAAAQGDwQArXo3AVe+BAAAAAAEDm5EAAAAAAYLrsQAAAAAAg6exAKVyPwlVhzkApXI/CVWHOQAAAAADgqetAAAAAAMB+10AAAAAAAPbqQAAAAAAQiOtAAAAAAMDQ5kAAAAAAAM/nQBSuR+Hqt9RAFK5H4eq31EAAAAAAgNHgQAAAAACA0eBAAAAAAEDl3EAAAAAAgIXmQAAAAADAd95AAAAAAIjt5EAAAAAAAKbcQAAAAAAAjdhAAAAAAAAt30AAAAAAgKDNQAAAAACAlNRAAAAAAIDv2kAAAAAAgLHbQAAAAAAAScxAAAAAAIDyyEAAAAAAgN3IQA==",
          "dtype": "f8"
         },
         "yaxis": "y"
        },
        {
         "alignmentgroup": "True",
         "hovertemplate": "Metric=comments_per_guest<br>guest=%{x}<br>Score=%{y}<extra></extra>",
         "legendgroup": "comments_per_guest",
         "marker": {
          "color": "rgb(34,94,168)",
          "line": {
           "color": "black",
           "width": 0.5
          },
          "pattern": {
           "shape": ""
          }
         },
         "name": "comments_per_guest",
         "offsetgroup": "comments_per_guest",
         "opacity": 0.9,
         "orientation": "v",
         "showlegend": true,
         "textposition": "outside",
         "texttemplate": "%{y:.0f}",
         "type": "bar",
         "x": [
          "Geoffrey Hinton",
          "Gary Stevenson",
          "Dr Anna Lembke",
          "Dr Benjamin Bikman",
          "Cathie Wood",
          "Jefferson Fisher",
          "Dr. William Li",
          "MrBeast",
          "Daniel Priestley",
          "Dr Nathan Bryan",
          "Dr Daniel Amen",
          "Erica Komisar",
          "Logan Ury",
          "Simon Sinek",
          "Dr. Courtney Conley",
          "Master Shi Heng Yi",
          "Morgan Housel",
          "Vinh Giang",
          "Joe Navarro",
          "Scott Galloway",
          "Dr Georgia Ede",
          "Dr Jordan Peterson",
          "Dr Vonda Wright",
          "Konstantin Kisin",
          "Esther Perel",
          "Jimmy Fallon",
          "Dr Joe Dispenza",
          "Louise Perry",
          "Deborah Frances-White",
          "Charlie Houpert",
          "Paul Brunson",
          "Alex Hormozi",
          "Evy Poumpouras",
          "Dr. Lisa Feldman Barrett",
          "Dr Stacy Sims",
          "Bret Weinstein",
          "Amjad Masad",
          "Craig Robinson",
          "Michelle Obama",
          "Chris Eubank Jr.",
          "Jeff Cavaliere",
          "Dr. Sarah Wakeman",
          "Steven",
          "Vanessa Van Edwards",
          "Mike Dowd",
          "Dr Peter Attia",
          "Dr Sarah Berry",
          "Dr Bill von Hippel",
          "Robert Greene",
          "Dr. Sara Szal",
          "Emma Grede",
          "Evan Spiegel",
          "Dr Mohit Khera"
         ],
         "xaxis": "x",
         "y": {
          "bdata": "AAAAAABN20AAAAAAgPLYQAAAAACAgslAAAAAAICyxEAAAAAAgMbDQAAAAAAAQL5AAAAAAICPwUAAAAAAAHXBQAAAAACA5MhAAAAAAACTukAAAAAAAKG5QBSuR+FqCMRAAAAAAMBAyEAAAAAAAMy4QAAAAAAA9bRAAAAAAAC/s0AAAAAAAGO6QAAAAAAAfK5AAAAAAAC2r0DsUbgedUfDQAAAAAAAgrhAAAAAAAD4uEAAAAAAAAKqQK5H4XpUnLxAAAAAAACitkAAAAAAAI6sQAAAAAAAQKdAUrgehauIv0BSuB6Fq4i/QAAAAAAApKpAAAAAAAC+uEAAAAAAAG6jQAAAAAAAI6VAAAAAAABiqUAAAAAAAIKoQFK4HoWr9LRAUrgehav0tEAAAAAAgBexQAAAAACAF7FAAAAAAAAhsEAAAAAAAMyfQAAAAAAAAKtAAAAAAACOpUAAAAAAAPmlQAAAAAAAoKRAAAAAAAB4oEAAAAAAAOisQAAAAAAADKlAAAAAAAA0nUAAAAAAAPCgQAAAAAAAKJtAAAAAAAAQikAAAAAAANCJQA==",
          "dtype": "f8"
         },
         "yaxis": "y"
        }
       ],
       "layout": {
        "bargap": 0.25,
        "bargroupgap": 0.05,
        "barmode": "group",
        "font": {
         "color": "black",
         "size": 12
        },
        "height": 600,
        "legend": {
         "title": {
          "text": "Metric"
         },
         "tracegroupgap": 0
        },
        "paper_bgcolor": "white",
        "plot_bgcolor": "white",
        "template": {
         "data": {
          "bar": [
           {
            "error_x": {
             "color": "#2a3f5f"
            },
            "error_y": {
             "color": "#2a3f5f"
            },
            "marker": {
             "line": {
              "color": "#E5ECF6",
              "width": 0.5
             },
             "pattern": {
              "fillmode": "overlay",
              "size": 10,
              "solidity": 0.2
             }
            },
            "type": "bar"
           }
          ],
          "barpolar": [
           {
            "marker": {
             "line": {
              "color": "#E5ECF6",
              "width": 0.5
             },
             "pattern": {
              "fillmode": "overlay",
              "size": 10,
              "solidity": 0.2
             }
            },
            "type": "barpolar"
           }
          ],
          "carpet": [
           {
            "aaxis": {
             "endlinecolor": "#2a3f5f",
             "gridcolor": "white",
             "linecolor": "white",
             "minorgridcolor": "white",
             "startlinecolor": "#2a3f5f"
            },
            "baxis": {
             "endlinecolor": "#2a3f5f",
             "gridcolor": "white",
             "linecolor": "white",
             "minorgridcolor": "white",
             "startlinecolor": "#2a3f5f"
            },
            "type": "carpet"
           }
          ],
          "choropleth": [
           {
            "colorbar": {
             "outlinewidth": 0,
             "ticks": ""
            },
            "type": "choropleth"
           }
          ],
          "contour": [
           {
            "colorbar": {
             "outlinewidth": 0,
             "ticks": ""
            },
            "colorscale": [
             [
              0,
              "#0d0887"
             ],
             [
              0.1111111111111111,
              "#46039f"
             ],
             [
              0.2222222222222222,
              "#7201a8"
             ],
             [
              0.3333333333333333,
              "#9c179e"
             ],
             [
              0.4444444444444444,
              "#bd3786"
             ],
             [
              0.5555555555555556,
              "#d8576b"
             ],
             [
              0.6666666666666666,
              "#ed7953"
             ],
             [
              0.7777777777777778,
              "#fb9f3a"
             ],
             [
              0.8888888888888888,
              "#fdca26"
             ],
             [
              1,
              "#f0f921"
             ]
            ],
            "type": "contour"
           }
          ],
          "contourcarpet": [
           {
            "colorbar": {
             "outlinewidth": 0,
             "ticks": ""
            },
            "type": "contourcarpet"
           }
          ],
          "heatmap": [
           {
            "colorbar": {
             "outlinewidth": 0,
             "ticks": ""
            },
            "colorscale": [
             [
              0,
              "#0d0887"
             ],
             [
              0.1111111111111111,
              "#46039f"
             ],
             [
              0.2222222222222222,
              "#7201a8"
             ],
             [
              0.3333333333333333,
              "#9c179e"
             ],
             [
              0.4444444444444444,
              "#bd3786"
             ],
             [
              0.5555555555555556,
              "#d8576b"
             ],
             [
              0.6666666666666666,
              "#ed7953"
             ],
             [
              0.7777777777777778,
              "#fb9f3a"
             ],
             [
              0.8888888888888888,
              "#fdca26"
             ],
             [
              1,
              "#f0f921"
             ]
            ],
            "type": "heatmap"
           }
          ],
          "histogram": [
           {
            "marker": {
             "pattern": {
              "fillmode": "overlay",
              "size": 10,
              "solidity": 0.2
             }
            },
            "type": "histogram"
           }
          ],
          "histogram2d": [
           {
            "colorbar": {
             "outlinewidth": 0,
             "ticks": ""
            },
            "colorscale": [
             [
              0,
              "#0d0887"
             ],
             [
              0.1111111111111111,
              "#46039f"
             ],
             [
              0.2222222222222222,
              "#7201a8"
             ],
             [
              0.3333333333333333,
              "#9c179e"
             ],
             [
              0.4444444444444444,
              "#bd3786"
             ],
             [
              0.5555555555555556,
              "#d8576b"
             ],
             [
              0.6666666666666666,
              "#ed7953"
             ],
             [
              0.7777777777777778,
              "#fb9f3a"
             ],
             [
              0.8888888888888888,
              "#fdca26"
             ],
             [
              1,
              "#f0f921"
             ]
            ],
            "type": "histogram2d"
           }
          ],
          "histogram2dcontour": [
           {
            "colorbar": {
             "outlinewidth": 0,
             "ticks": ""
            },
            "colorscale": [
             [
              0,
              "#0d0887"
             ],
             [
              0.1111111111111111,
              "#46039f"
             ],
             [
              0.2222222222222222,
              "#7201a8"
             ],
             [
              0.3333333333333333,
              "#9c179e"
             ],
             [
              0.4444444444444444,
              "#bd3786"
             ],
             [
              0.5555555555555556,
              "#d8576b"
             ],
             [
              0.6666666666666666,
              "#ed7953"
             ],
             [
              0.7777777777777778,
              "#fb9f3a"
             ],
             [
              0.8888888888888888,
              "#fdca26"
             ],
             [
              1,
              "#f0f921"
             ]
            ],
            "type": "histogram2dcontour"
           }
          ],
          "mesh3d": [
           {
            "colorbar": {
             "outlinewidth": 0,
             "ticks": ""
            },
            "type": "mesh3d"
           }
          ],
          "parcoords": [
           {
            "line": {
             "colorbar": {
              "outlinewidth": 0,
              "ticks": ""
             }
            },
            "type": "parcoords"
           }
          ],
          "pie": [
           {
            "automargin": true,
            "type": "pie"
           }
          ],
          "scatter": [
           {
            "fillpattern": {
             "fillmode": "overlay",
             "size": 10,
             "solidity": 0.2
            },
            "type": "scatter"
           }
          ],
          "scatter3d": [
           {
            "line": {
             "colorbar": {
              "outlinewidth": 0,
              "ticks": ""
             }
            },
            "marker": {
             "colorbar": {
              "outlinewidth": 0,
              "ticks": ""
             }
            },
            "type": "scatter3d"
           }
          ],
          "scattercarpet": [
           {
            "marker": {
             "colorbar": {
              "outlinewidth": 0,
              "ticks": ""
             }
            },
            "type": "scattercarpet"
           }
          ],
          "scattergeo": [
           {
            "marker": {
             "colorbar": {
              "outlinewidth": 0,
              "ticks": ""
             }
            },
            "type": "scattergeo"
           }
          ],
          "scattergl": [
           {
            "marker": {
             "colorbar": {
              "outlinewidth": 0,
              "ticks": ""
             }
            },
            "type": "scattergl"
           }
          ],
          "scattermap": [
           {
            "marker": {
             "colorbar": {
              "outlinewidth": 0,
              "ticks": ""
             }
            },
            "type": "scattermap"
           }
          ],
          "scattermapbox": [
           {
            "marker": {
             "colorbar": {
              "outlinewidth": 0,
              "ticks": ""
             }
            },
            "type": "scattermapbox"
           }
          ],
          "scatterpolar": [
           {
            "marker": {
             "colorbar": {
              "outlinewidth": 0,
              "ticks": ""
             }
            },
            "type": "scatterpolar"
           }
          ],
          "scatterpolargl": [
           {
            "marker": {
             "colorbar": {
              "outlinewidth": 0,
              "ticks": ""
             }
            },
            "type": "scatterpolargl"
           }
          ],
          "scatterternary": [
           {
            "marker": {
             "colorbar": {
              "outlinewidth": 0,
              "ticks": ""
             }
            },
            "type": "scatterternary"
           }
          ],
          "surface": [
           {
            "colorbar": {
             "outlinewidth": 0,
             "ticks": ""
            },
            "colorscale": [
             [
              0,
              "#0d0887"
             ],
             [
              0.1111111111111111,
              "#46039f"
             ],
             [
              0.2222222222222222,
              "#7201a8"
             ],
             [
              0.3333333333333333,
              "#9c179e"
             ],
             [
              0.4444444444444444,
              "#bd3786"
             ],
             [
              0.5555555555555556,
              "#d8576b"
             ],
             [
              0.6666666666666666,
              "#ed7953"
             ],
             [
              0.7777777777777778,
              "#fb9f3a"
             ],
             [
              0.8888888888888888,
              "#fdca26"
             ],
             [
              1,
              "#f0f921"
             ]
            ],
            "type": "surface"
           }
          ],
          "table": [
           {
            "cells": {
             "fill": {
              "color": "#EBF0F8"
             },
             "line": {
              "color": "white"
             }
            },
            "header": {
             "fill": {
              "color": "#C8D4E3"
             },
             "line": {
              "color": "white"
             }
            },
            "type": "table"
           }
          ]
         },
         "layout": {
          "annotationdefaults": {
           "arrowcolor": "#2a3f5f",
           "arrowhead": 0,
           "arrowwidth": 1
          },
          "autotypenumbers": "strict",
          "coloraxis": {
           "colorbar": {
            "outlinewidth": 0,
            "ticks": ""
           }
          },
          "colorscale": {
           "diverging": [
            [
             0,
             "#8e0152"
            ],
            [
             0.1,
             "#c51b7d"
            ],
            [
             0.2,
             "#de77ae"
            ],
            [
             0.3,
             "#f1b6da"
            ],
            [
             0.4,
             "#fde0ef"
            ],
            [
             0.5,
             "#f7f7f7"
            ],
            [
             0.6,
             "#e6f5d0"
            ],
            [
             0.7,
             "#b8e186"
            ],
            [
             0.8,
             "#7fbc41"
            ],
            [
             0.9,
             "#4d9221"
            ],
            [
             1,
             "#276419"
            ]
           ],
           "sequential": [
            [
             0,
             "#0d0887"
            ],
            [
             0.1111111111111111,
             "#46039f"
            ],
            [
             0.2222222222222222,
             "#7201a8"
            ],
            [
             0.3333333333333333,
             "#9c179e"
            ],
            [
             0.4444444444444444,
             "#bd3786"
            ],
            [
             0.5555555555555556,
             "#d8576b"
            ],
            [
             0.6666666666666666,
             "#ed7953"
            ],
            [
             0.7777777777777778,
             "#fb9f3a"
            ],
            [
             0.8888888888888888,
             "#fdca26"
            ],
            [
             1,
             "#f0f921"
            ]
           ],
           "sequentialminus": [
            [
             0,
             "#0d0887"
            ],
            [
             0.1111111111111111,
             "#46039f"
            ],
            [
             0.2222222222222222,
             "#7201a8"
            ],
            [
             0.3333333333333333,
             "#9c179e"
            ],
            [
             0.4444444444444444,
             "#bd3786"
            ],
            [
             0.5555555555555556,
             "#d8576b"
            ],
            [
             0.6666666666666666,
             "#ed7953"
            ],
            [
             0.7777777777777778,
             "#fb9f3a"
            ],
            [
             0.8888888888888888,
             "#fdca26"
            ],
            [
             1,
             "#f0f921"
            ]
           ]
          },
          "colorway": [
           "#636efa",
           "#EF553B",
           "#00cc96",
           "#ab63fa",
           "#FFA15A",
           "#19d3f3",
           "#FF6692",
           "#B6E880",
           "#FF97FF",
           "#FECB52"
          ],
          "font": {
           "color": "#2a3f5f"
          },
          "geo": {
           "bgcolor": "white",
           "lakecolor": "white",
           "landcolor": "#E5ECF6",
           "showlakes": true,
           "showland": true,
           "subunitcolor": "white"
          },
          "hoverlabel": {
           "align": "left"
          },
          "hovermode": "closest",
          "mapbox": {
           "style": "light"
          },
          "paper_bgcolor": "white",
          "plot_bgcolor": "#E5ECF6",
          "polar": {
           "angularaxis": {
            "gridcolor": "white",
            "linecolor": "white",
            "ticks": ""
           },
           "bgcolor": "#E5ECF6",
           "radialaxis": {
            "gridcolor": "white",
            "linecolor": "white",
            "ticks": ""
           }
          },
          "scene": {
           "xaxis": {
            "backgroundcolor": "#E5ECF6",
            "gridcolor": "white",
            "gridwidth": 2,
            "linecolor": "white",
            "showbackground": true,
            "ticks": "",
            "zerolinecolor": "white"
           },
           "yaxis": {
            "backgroundcolor": "#E5ECF6",
            "gridcolor": "white",
            "gridwidth": 2,
            "linecolor": "white",
            "showbackground": true,
            "ticks": "",
            "zerolinecolor": "white"
           },
           "zaxis": {
            "backgroundcolor": "#E5ECF6",
            "gridcolor": "white",
            "gridwidth": 2,
            "linecolor": "white",
            "showbackground": true,
            "ticks": "",
            "zerolinecolor": "white"
           }
          },
          "shapedefaults": {
           "line": {
            "color": "#2a3f5f"
           }
          },
          "ternary": {
           "aaxis": {
            "gridcolor": "white",
            "linecolor": "white",
            "ticks": ""
           },
           "baxis": {
            "gridcolor": "white",
            "linecolor": "white",
            "ticks": ""
           },
           "bgcolor": "#E5ECF6",
           "caxis": {
            "gridcolor": "white",
            "linecolor": "white",
            "ticks": ""
           }
          },
          "title": {
           "x": 0.05
          },
          "xaxis": {
           "automargin": true,
           "gridcolor": "white",
           "linecolor": "white",
           "ticks": "",
           "title": {
            "standoff": 15
           },
           "zerolinecolor": "white",
           "zerolinewidth": 2
          },
          "yaxis": {
           "automargin": true,
           "gridcolor": "white",
           "linecolor": "white",
           "ticks": "",
           "title": {
            "standoff": 15
           },
           "zerolinecolor": "white",
           "zerolinewidth": 2
          }
         }
        },
        "title": {
         "text": "Guest KPI Comparison (Log Scale, Sorted by Weighted Engagement)"
        },
        "xaxis": {
         "anchor": "y",
         "domain": [
          0,
          1
         ],
         "tickangle": 45,
         "title": {
          "text": "Guest"
         }
        },
        "yaxis": {
         "anchor": "x",
         "domain": [
          0,
          1
         ],
         "title": {
          "text": "KPI (Log Scale)"
         },
         "type": "log"
        }
       }
      }
     },
     "metadata": {},
     "output_type": "display_data"
    }
   ],
   "source": [
    "import plotly.express as px\n",
    "\n",
    "# Sort guests by weighted_score descending\n",
    "guest_stats = guest_stats.sort_values(\"weighted_score\", ascending=False)\n",
    "\n",
    "# Melt for multi-metric comparison\n",
    "melted = guest_stats.melt(\n",
    "    id_vars=[\"guest\"],\n",
    "    value_vars=[\"views_per_guest\", \"likes_per_guest\", \"comments_per_guest\"],\n",
    "    var_name=\"Metric\",\n",
    "    value_name=\"Score\"\n",
    ")\n",
    "\n",
    "fig = px.bar(\n",
    "    melted,\n",
    "    x=\"guest\",\n",
    "    y=\"Score\",\n",
    "    color=\"Metric\",\n",
    "    barmode=\"group\",\n",
    "    title=\"Guest KPI Comparison (Log Scale, Sorted by Weighted Engagement)\",\n",
    "    color_discrete_sequence=px.colors.sequential.YlGnBu[::-1]  # richer colors (reversed palette)\n",
    ")\n",
    "\n",
    "# Layout improvements\n",
    "fig.update_layout(\n",
    "    xaxis_title=\"Guest\",\n",
    "    yaxis_title=\"KPI (Log Scale)\",\n",
    "    yaxis_type=\"log\",\n",
    "    bargap=0.25,\n",
    "    bargroupgap=0.05,\n",
    "    height=600,\n",
    "    legend_title_text=\"Metric\",\n",
    "    plot_bgcolor=\"white\",\n",
    "    paper_bgcolor=\"white\",\n",
    "    font=dict(color=\"black\", size=12),\n",
    ")\n",
    "\n",
    "# Rotate names and tidy up bars\n",
    "fig.update_xaxes(tickangle=45)\n",
    "fig.update_traces(\n",
    "    marker_line_color=\"black\",\n",
    "    marker_line_width=0.5,\n",
    "    opacity=0.9,\n",
    "    texttemplate=\"%{y:.0f}\",\n",
    "    textposition=\"outside\"\n",
    ")\n",
    "\n",
    "fig.show()\n"
   ]
  },
  {
   "cell_type": "code",
   "execution_count": 37,
   "id": "2a2a78b3",
   "metadata": {},
   "outputs": [
    {
     "data": {
      "application/vnd.plotly.v1+json": {
       "config": {
        "plotlyServerURL": "https://plot.ly"
       },
       "data": [
        {
         "colorscale": [
          [
           0,
           "rgb(255,255,217)"
          ],
          [
           0.125,
           "rgb(237,248,177)"
          ],
          [
           0.25,
           "rgb(199,233,180)"
          ],
          [
           0.375,
           "rgb(127,205,187)"
          ],
          [
           0.5,
           "rgb(65,182,196)"
          ],
          [
           0.625,
           "rgb(29,145,192)"
          ],
          [
           0.75,
           "rgb(34,94,168)"
          ],
          [
           0.875,
           "rgb(37,52,148)"
          ],
          [
           1,
           "rgb(8,29,88)"
          ]
         ],
         "reversescale": false,
         "showscale": true,
         "type": "heatmap",
         "x": [
          "Views",
          "Likes",
          "Comments"
         ],
         "y": [
          "Dr Mohit Khera",
          "Evan Spiegel",
          "Emma Grede",
          "Robert Greene",
          "Jeff Cavaliere",
          "Dr Peter Attia",
          "Dr. Sara Szal",
          "Alex Hormozi",
          "Mike Dowd",
          "Evy Poumpouras",
          "Steven",
          "Vanessa Van Edwards",
          "Dr Joe Dispenza",
          "Dr Stacy Sims",
          "Dr Bill von Hippel",
          "Dr. Lisa Feldman Barrett",
          "Dr Vonda Wright",
          "Charlie Houpert",
          "Dr. Sarah Wakeman",
          "Jimmy Fallon",
          "Dr Sarah Berry",
          "Vinh Giang",
          "Joe Navarro",
          "Chris Eubank Jr.",
          "Craig Robinson",
          "Michelle Obama",
          "Master Shi Heng Yi",
          "Bret Weinstein",
          "Amjad Masad",
          "Dr. Courtney Conley",
          "Esther Perel",
          "Dr Georgia Ede",
          "Paul Brunson",
          "Simon Sinek",
          "Dr Jordan Peterson",
          "Dr Daniel Amen",
          "Morgan Housel",
          "Dr Nathan Bryan",
          "Konstantin Kisin",
          "Jefferson Fisher",
          "Louise Perry",
          "Deborah Frances-White",
          "MrBeast",
          "Dr. William Li",
          "Scott Galloway",
          "Cathie Wood",
          "Erica Komisar",
          "Dr Benjamin Bikman",
          "Logan Ury",
          "Daniel Priestley",
          "Dr Anna Lembke",
          "Gary Stevenson",
          "Geoffrey Hinton"
         ],
         "z": {
          "bdata": "cML0HDzQfT8AAAAAAAAAAAAAAAAAAAAASBMDvnW6gT8AnB1HUCEoP4ArAAM1UzM/3NIS6OEIlD9Ah9co+W9/P7omrDYbNqE/voVrNGlFqD+Amn5VJqqwP0pszj4Ar6M/OPt51JqjwT9EFFxiS7zCP1bzylb90KY/ZdcFT9oZtD+Bs2Cdcom1P3C2Qd6rMag/2JWwkl0DnD8iMvfxEImxP/y4bvmLU6k/dlEH+TlOyD/AmVi2MdbHP4gGHr23WK8/CxfY1XMotD+SxLEBTtmrP4RmaDTzHbE/a3PedQaPvz+OzmsiB37IP+j3cHYsvLE/LeyYwjiMtT+218syhOfAPwoJ9ehoPbI/4MmmHtYSpz+7wVeGAqKyPy0aeVulvrI/jDMKo2nzyT9ccBc4txPKP6Zt5uaZSbQ/HxLnU7V/uD9UAz5g6DbEPxHRwnGEzrU/oENRNuo7pj+QMFM4R7miP4iy/BoydbY/1ad8tttluz+0kwXCwhLDP3LT7FcR3bY/ykKUZYlEyT9GE7iiqn3OPyTVCmpRnrc/8GRAWLNzyD/Y1T9Y4aTIP902yeL7Ybg/PbEkeGqjsT//tu6DLrm0P9d3mlMa0bg/hnFgrB5YxT9A4qlX/93JPxEcRRrQsbo/IAuRiwvhgj+AeQZiyeKFPwX9dSSEHrs/Eio1d+O4zj+eahGdrnLVP0/BAR95Br0/vNnKT6/q0D9ufiPTAOPSP6OkXA+6gb4/lf1vJ01fsj/RVEYBsOqyPyHmNh/SKr8/qFktFOEknj/LK7YFWl24P66tUfgiv8A/qFktFOEknj/LK7YFWl24P66tUfgiv8A/OorQHG79yz/+Njl8sObTP+QcqavY88M/sJ4V4aYmpD9qNRbjqwqjP4pjgsXeacU/sJ4V4aYmpD9qNRbjqwqjP4pjgsXeacU/OMNh1bIPyT9ZwlxIy4vUPy9Aw85EasU/R4pSAIXdvj/4Fq1cJt/AP7y0I8xrcMc/YvhL87x8wT/kF4i6e1vLP9W5fQIstMk/Cmrj7pyIqz9ixKO4PWypP3j6SAmk/Mk/71m7mb8M0D9EPTRy08rQP56aq9eMDco/mgWcKYeXwT8CLX9b90HHPxXbc6mxQso/9SCgGP9v0j8wRXh5coDUP+GMY4nQDss/gi8Rq6Jgyz8whpq/gxrJP/DuJ2wh+cs/kofDRdaTxj+DMONgq7vZP3PvMAsbM8w/YJyq6hFMqj/rHQH/wZa3P5+Bo4LGqM4/ZbGq7X//2T/POlvBNR3jP7i0eFTUUdA/AAAAAAAAAAAQw24NGVmJPyUg38hQGNE/AAAAAAAAAAAQw24NGVmJPyUg38hQGNE/xGeAliaj0z8gxuqrGwTZPw+reP7kItM/e4bRQxD+0j82DpiHcV7hP1ejRc7mQtM/UmKlO8AmqD+5DB20sOayPyxZ/ttJVtU/ckmNZMtS3T8lsYXONqLgP1v533S779U/msyGoihmwD+AFCKhkUfFP+UiPC1ZP9Y/Dmqqbjrt3T/tyTbSqPDkP907zMLGDNc/RCigjG4Bpj8O93HSPm2sP4bxqnYwWNs/qRHu5nuqtj+fY1Dombq4P0OnNQn4Hdw/wKti4su/2z/SBDEUIhrlP/FIs7TN3Nw/ugt1pwtjxj8ceTLk2onEP5sBx7tKKO0/AQAAAAAA8D8AAAAAAADwP////////+8/",
          "dtype": "f8",
          "shape": "53, 3"
         }
        }
       ],
       "layout": {
        "annotations": [
         {
          "font": {
           "color": "#000000"
          },
          "showarrow": false,
          "text": "0.007278666321597002",
          "x": "Views",
          "xref": "x",
          "y": "Dr Mohit Khera",
          "yref": "y"
         },
         {
          "font": {
           "color": "#000000"
          },
          "showarrow": false,
          "text": "0.0",
          "x": "Likes",
          "xref": "x",
          "y": "Dr Mohit Khera",
          "yref": "y"
         },
         {
          "font": {
           "color": "#000000"
          },
          "showarrow": false,
          "text": "0.0",
          "x": "Comments",
          "xref": "x",
          "y": "Dr Mohit Khera",
          "yref": "y"
         },
         {
          "font": {
           "color": "#000000"
          },
          "showarrow": false,
          "text": "0.008656425343710375",
          "x": "Views",
          "xref": "x",
          "y": "Evan Spiegel",
          "yref": "y"
         },
         {
          "font": {
           "color": "#000000"
          },
          "showarrow": false,
          "text": "0.00018409829095419883",
          "x": "Likes",
          "xref": "x",
          "y": "Evan Spiegel",
          "yref": "y"
         },
         {
          "font": {
           "color": "#000000"
          },
          "showarrow": false,
          "text": "0.00029487652045705887",
          "x": "Comments",
          "xref": "x",
          "y": "Evan Spiegel",
          "yref": "y"
         },
         {
          "font": {
           "color": "#000000"
          },
          "showarrow": false,
          "text": "0.019565133847850955",
          "x": "Views",
          "xref": "x",
          "y": "Emma Grede",
          "yref": "y"
         },
         {
          "font": {
           "color": "#000000"
          },
          "showarrow": false,
          "text": "0.0076751454157333865",
          "x": "Likes",
          "xref": "x",
          "y": "Emma Grede",
          "yref": "y"
         },
         {
          "font": {
           "color": "#000000"
          },
          "showarrow": false,
          "text": "0.03361592333210468",
          "x": "Comments",
          "xref": "x",
          "y": "Emma Grede",
          "yref": "y"
         },
         {
          "font": {
           "color": "#000000"
          },
          "showarrow": false,
          "text": "0.04740456356899923",
          "x": "Views",
          "xref": "x",
          "y": "Robert Greene",
          "yref": "y"
         },
         {
          "font": {
           "color": "#000000"
          },
          "showarrow": false,
          "text": "0.0650962790228764",
          "x": "Likes",
          "xref": "x",
          "y": "Robert Greene",
          "yref": "y"
         },
         {
          "font": {
           "color": "#000000"
          },
          "showarrow": false,
          "text": "0.03844452635458902",
          "x": "Comments",
          "xref": "x",
          "y": "Robert Greene",
          "yref": "y"
         },
         {
          "font": {
           "color": "#000000"
          },
          "showarrow": false,
          "text": "0.13780532240704146",
          "x": "Views",
          "xref": "x",
          "y": "Jeff Cavaliere",
          "yref": "y"
         },
         {
          "font": {
           "color": "#000000"
          },
          "showarrow": false,
          "text": "0.14637129118651349",
          "x": "Likes",
          "xref": "x",
          "y": "Jeff Cavaliere",
          "yref": "y"
         },
         {
          "font": {
           "color": "#000000"
          },
          "showarrow": false,
          "text": "0.04456321415407298",
          "x": "Comments",
          "xref": "x",
          "y": "Jeff Cavaliere",
          "yref": "y"
         },
         {
          "font": {
           "color": "#000000"
          },
          "showarrow": false,
          "text": "0.07851948193805709",
          "x": "Views",
          "xref": "x",
          "y": "Dr Peter Attia",
          "yref": "y"
         },
         {
          "font": {
           "color": "#000000"
          },
          "showarrow": false,
          "text": "0.08412853567342717",
          "x": "Likes",
          "xref": "x",
          "y": "Dr Peter Attia",
          "yref": "y"
         },
         {
          "font": {
           "color": "#000000"
          },
          "showarrow": false,
          "text": "0.04725396240324364",
          "x": "Comments",
          "xref": "x",
          "y": "Dr Peter Attia",
          "yref": "y"
         },
         {
          "font": {
           "color": "#000000"
          },
          "showarrow": false,
          "text": "0.02735658843825725",
          "x": "Views",
          "xref": "x",
          "y": "Dr. Sara Szal",
          "yref": "y"
         },
         {
          "font": {
           "color": "#000000"
          },
          "showarrow": false,
          "text": "0.06849771411288733",
          "x": "Likes",
          "xref": "x",
          "y": "Dr. Sara Szal",
          "yref": "y"
         },
         {
          "font": {
           "color": "#000000"
          },
          "showarrow": false,
          "text": "0.04946553630667158",
          "x": "Comments",
          "xref": "x",
          "y": "Dr. Sara Szal",
          "yref": "y"
         },
         {
          "font": {
           "color": "#000000"
          },
          "showarrow": false,
          "text": "0.18988728198622667",
          "x": "Views",
          "xref": "x",
          "y": "Alex Hormozi",
          "yref": "y"
         },
         {
          "font": {
           "color": "#000000"
          },
          "showarrow": false,
          "text": "0.1862241878854558",
          "x": "Likes",
          "xref": "x",
          "y": "Alex Hormozi",
          "yref": "y"
         },
         {
          "font": {
           "color": "#000000"
          },
          "showarrow": false,
          "text": "0.061223737559896796",
          "x": "Comments",
          "xref": "x",
          "y": "Alex Hormozi",
          "yref": "y"
         },
         {
          "font": {
           "color": "#000000"
          },
          "showarrow": false,
          "text": "0.07874225588610899",
          "x": "Views",
          "xref": "x",
          "y": "Mike Dowd",
          "yref": "y"
         },
         {
          "font": {
           "color": "#000000"
          },
          "showarrow": false,
          "text": "0.05439227839168227",
          "x": "Likes",
          "xref": "x",
          "y": "Mike Dowd",
          "yref": "y"
         },
         {
          "font": {
           "color": "#000000"
          },
          "showarrow": false,
          "text": "0.06686325101363805",
          "x": "Comments",
          "xref": "x",
          "y": "Mike Dowd",
          "yref": "y"
         },
         {
          "font": {
           "color": "#000000"
          },
          "showarrow": false,
          "text": "0.12327614190730933",
          "x": "Views",
          "xref": "x",
          "y": "Evy Poumpouras",
          "yref": "y"
         },
         {
          "font": {
           "color": "#000000"
          },
          "showarrow": false,
          "text": "0.19134606533736015",
          "x": "Likes",
          "xref": "x",
          "y": "Evy Poumpouras",
          "yref": "y"
         },
         {
          "font": {
           "color": "#000000"
          },
          "showarrow": false,
          "text": "0.06927755252488021",
          "x": "Comments",
          "xref": "x",
          "y": "Evy Poumpouras",
          "yref": "y"
         },
         {
          "font": {
           "color": "#000000"
          },
          "showarrow": false,
          "text": "0.08417086363708455",
          "x": "Views",
          "xref": "x",
          "y": "Steven",
          "yref": "y"
         },
         {
          "font": {
           "color": "#000000"
          },
          "showarrow": false,
          "text": "0.13206531982694764",
          "x": "Likes",
          "xref": "x",
          "y": "Steven",
          "yref": "y"
         },
         {
          "font": {
           "color": "#000000"
          },
          "showarrow": false,
          "text": "0.07124953925543678",
          "x": "Comments",
          "xref": "x",
          "y": "Steven",
          "yref": "y"
         },
         {
          "font": {
           "color": "#000000"
          },
          "showarrow": false,
          "text": "0.045065585366859784",
          "x": "Views",
          "xref": "x",
          "y": "Vanessa Van Edwards",
          "yref": "y"
         },
         {
          "font": {
           "color": "#000000"
          },
          "showarrow": false,
          "text": "0.07278457431653511",
          "x": "Likes",
          "xref": "x",
          "y": "Vanessa Van Edwards",
          "yref": "y"
         },
         {
          "font": {
           "color": "#000000"
          },
          "showarrow": false,
          "text": "0.07322152598599337",
          "x": "Comments",
          "xref": "x",
          "y": "Vanessa Van Edwards",
          "yref": "y"
         },
         {
          "font": {
           "color": "#000000"
          },
          "showarrow": false,
          "text": "0.20274086438112382",
          "x": "Views",
          "xref": "x",
          "y": "Dr Joe Dispenza",
          "yref": "y"
         },
         {
          "font": {
           "color": "#000000"
          },
          "showarrow": false,
          "text": "0.20372667540403",
          "x": "Likes",
          "xref": "x",
          "y": "Dr Joe Dispenza",
          "yref": "y"
         },
         {
          "font": {
           "color": "#000000"
          },
          "showarrow": false,
          "text": "0.0792480648728345",
          "x": "Comments",
          "xref": "x",
          "y": "Dr Joe Dispenza",
          "yref": "y"
         },
         {
          "font": {
           "color": "#000000"
          },
          "showarrow": false,
          "text": "0.09569867418674292",
          "x": "Views",
          "xref": "x",
          "y": "Dr Stacy Sims",
          "yref": "y"
         },
         {
          "font": {
           "color": "#000000"
          },
          "showarrow": false,
          "text": "0.15792565059021035",
          "x": "Likes",
          "xref": "x",
          "y": "Dr Stacy Sims",
          "yref": "y"
         },
         {
          "font": {
           "color": "#000000"
          },
          "showarrow": false,
          "text": "0.08518245484703281",
          "x": "Comments",
          "xref": "x",
          "y": "Dr Stacy Sims",
          "yref": "y"
         },
         {
          "font": {
           "color": "#000000"
          },
          "showarrow": false,
          "text": "0.04342586434416451",
          "x": "Views",
          "xref": "x",
          "y": "Dr Bill von Hippel",
          "yref": "y"
         },
         {
          "font": {
           "color": "#000000"
          },
          "showarrow": false,
          "text": "0.03656981051025909",
          "x": "Likes",
          "xref": "x",
          "y": "Dr Bill von Hippel",
          "yref": "y"
         },
         {
          "font": {
           "color": "#000000"
          },
          "showarrow": false,
          "text": "0.08772576483597494",
          "x": "Comments",
          "xref": "x",
          "y": "Dr Bill von Hippel",
          "yref": "y"
         },
         {
          "font": {
           "color": "#000000"
          },
          "showarrow": false,
          "text": "0.10702298360106906",
          "x": "Views",
          "xref": "x",
          "y": "Dr. Lisa Feldman Barrett",
          "yref": "y"
         },
         {
          "font": {
           "color": "#000000"
          },
          "showarrow": false,
          "text": "0.14901003335685703",
          "x": "Likes",
          "xref": "x",
          "y": "Dr. Lisa Feldman Barrett",
          "yref": "y"
         },
         {
          "font": {
           "color": "#000000"
          },
          "showarrow": false,
          "text": "0.08931072613343163",
          "x": "Comments",
          "xref": "x",
          "y": "Dr. Lisa Feldman Barrett",
          "yref": "y"
         },
         {
          "font": {
           "color": "#000000"
          },
          "showarrow": false,
          "text": "0.19740407428664347",
          "x": "Views",
          "xref": "x",
          "y": "Dr Vonda Wright",
          "yref": "y"
         },
         {
          "font": {
           "color": "#000000"
          },
          "showarrow": false,
          "text": "0.23821003861680817",
          "x": "Likes",
          "xref": "x",
          "y": "Dr Vonda Wright",
          "yref": "y"
         },
         {
          "font": {
           "color": "#000000"
          },
          "showarrow": false,
          "text": "0.09225949133800221",
          "x": "Comments",
          "xref": "x",
          "y": "Dr Vonda Wright",
          "yref": "y"
         },
         {
          "font": {
           "color": "#000000"
          },
          "showarrow": false,
          "text": "0.1910309010425304",
          "x": "Views",
          "xref": "x",
          "y": "Charlie Houpert",
          "yref": "y"
         },
         {
          "font": {
           "color": "#000000"
          },
          "showarrow": false,
          "text": "0.192531745996958",
          "x": "Likes",
          "xref": "x",
          "y": "Charlie Houpert",
          "yref": "y"
         },
         {
          "font": {
           "color": "#000000"
          },
          "showarrow": false,
          "text": "0.09524511610762994",
          "x": "Comments",
          "xref": "x",
          "y": "Charlie Houpert",
          "yref": "y"
         },
         {
          "font": {
           "color": "#000000"
          },
          "showarrow": false,
          "text": "0.06889977868258242",
          "x": "Views",
          "xref": "x",
          "y": "Dr. Sarah Wakeman",
          "yref": "y"
         },
         {
          "font": {
           "color": "#000000"
          },
          "showarrow": false,
          "text": "0.08095064850814636",
          "x": "Likes",
          "xref": "x",
          "y": "Dr. Sarah Wakeman",
          "yref": "y"
         },
         {
          "font": {
           "color": "#000000"
          },
          "showarrow": false,
          "text": "0.09694065610025802",
          "x": "Comments",
          "xref": "x",
          "y": "Dr. Sarah Wakeman",
          "yref": "y"
         },
         {
          "font": {
           "color": "#000000"
          },
          "showarrow": false,
          "text": "0.16675170342285756",
          "x": "Views",
          "xref": "x",
          "y": "Jimmy Fallon",
          "yref": "y"
         },
         {
          "font": {
           "color": "#000000"
          },
          "showarrow": false,
          "text": "0.20208732395600926",
          "x": "Likes",
          "xref": "x",
          "y": "Jimmy Fallon",
          "yref": "y"
         },
         {
          "font": {
           "color": "#000000"
          },
          "showarrow": false,
          "text": "0.10427570954662736",
          "x": "Comments",
          "xref": "x",
          "y": "Jimmy Fallon",
          "yref": "y"
         },
         {
          "font": {
           "color": "#000000"
          },
          "showarrow": false,
          "text": "0.009218301960691344",
          "x": "Views",
          "xref": "x",
          "y": "Dr Sarah Berry",
          "yref": "y"
         },
         {
          "font": {
           "color": "#000000"
          },
          "showarrow": false,
          "text": "0.01068646746062707",
          "x": "Likes",
          "xref": "x",
          "y": "Dr Sarah Berry",
          "yref": "y"
         },
         {
          "font": {
           "color": "#000000"
          },
          "showarrow": false,
          "text": "0.10593438997419831",
          "x": "Comments",
          "xref": "x",
          "y": "Dr Sarah Berry",
          "yref": "y"
         },
         {
          "font": {
           "color": "#000000"
          },
          "showarrow": false,
          "text": "0.24001735039412658",
          "x": "Views",
          "xref": "x",
          "y": "Vinh Giang",
          "yref": "y"
         },
         {
          "font": {
           "color": "#000000"
          },
          "showarrow": false,
          "text": "0.33512463892626865",
          "x": "Likes",
          "xref": "x",
          "y": "Vinh Giang",
          "yref": "y"
         },
         {
          "font": {
           "color": "#000000"
          },
          "showarrow": false,
          "text": "0.11338002211573904",
          "x": "Comments",
          "xref": "x",
          "y": "Vinh Giang",
          "yref": "y"
         },
         {
          "font": {
           "color": "#000000"
          },
          "showarrow": false,
          "text": "0.2643240241262921",
          "x": "Views",
          "xref": "x",
          "y": "Joe Navarro",
          "yref": "y"
         },
         {
          "font": {
           "color": "#000000"
          },
          "showarrow": false,
          "text": "0.2951051771069392",
          "x": "Likes",
          "xref": "x",
          "y": "Joe Navarro",
          "yref": "y"
         },
         {
          "font": {
           "color": "#000000"
          },
          "showarrow": false,
          "text": "0.1191669738297088",
          "x": "Comments",
          "xref": "x",
          "y": "Joe Navarro",
          "yref": "y"
         },
         {
          "font": {
           "color": "#000000"
          },
          "showarrow": false,
          "text": "0.07176668370083512",
          "x": "Views",
          "xref": "x",
          "y": "Chris Eubank Jr.",
          "yref": "y"
         },
         {
          "font": {
           "color": "#000000"
          },
          "showarrow": false,
          "text": "0.07389354735490207",
          "x": "Likes",
          "xref": "x",
          "y": "Chris Eubank Jr.",
          "yref": "y"
         },
         {
          "font": {
           "color": "#000000"
          },
          "showarrow": false,
          "text": "0.12174714338370808",
          "x": "Comments",
          "xref": "x",
          "y": "Chris Eubank Jr.",
          "yref": "y"
         },
         {
          "font": {
           "color": "#000000"
          },
          "showarrow": false,
          "text": "0.02943755803729578",
          "x": "Views",
          "xref": "x",
          "y": "Craig Robinson",
          "yref": "y"
         },
         {
          "font": {
           "color": "#000000"
          },
          "showarrow": false,
          "text": "0.09517443313067912",
          "x": "Likes",
          "xref": "x",
          "y": "Craig Robinson",
          "yref": "y"
         },
         {
          "font": {
           "color": "#000000"
          },
          "showarrow": false,
          "text": "0.1308330261702912",
          "x": "Comments",
          "xref": "x",
          "y": "Craig Robinson",
          "yref": "y"
         },
         {
          "font": {
           "color": "#000000"
          },
          "showarrow": false,
          "text": "0.02943755803729578",
          "x": "Views",
          "xref": "x",
          "y": "Michelle Obama",
          "yref": "y"
         },
         {
          "font": {
           "color": "#000000"
          },
          "showarrow": false,
          "text": "0.09517443313067912",
          "x": "Likes",
          "xref": "x",
          "y": "Michelle Obama",
          "yref": "y"
         },
         {
          "font": {
           "color": "#000000"
          },
          "showarrow": false,
          "text": "0.1308330261702912",
          "x": "Comments",
          "xref": "x",
          "y": "Michelle Obama",
          "yref": "y"
         },
         {
          "font": {
           "color": "#000000"
          },
          "showarrow": false,
          "text": "0.21867157370532359",
          "x": "Views",
          "xref": "x",
          "y": "Master Shi Heng Yi",
          "yref": "y"
         },
         {
          "font": {
           "color": "#000000"
          },
          "showarrow": false,
          "text": "0.3109551632995674",
          "x": "Likes",
          "xref": "x",
          "y": "Master Shi Heng Yi",
          "yref": "y"
         },
         {
          "font": {
           "color": "#000000"
          },
          "showarrow": false,
          "text": "0.1558791006266126",
          "x": "Comments",
          "xref": "x",
          "y": "Master Shi Heng Yi",
          "yref": "y"
         },
         {
          "font": {
           "color": "#000000"
          },
          "showarrow": false,
          "text": "0.03935739038098285",
          "x": "Views",
          "xref": "x",
          "y": "Bret Weinstein",
          "yref": "y"
         },
         {
          "font": {
           "color": "#000000"
          },
          "showarrow": false,
          "text": "0.037190791578818175",
          "x": "Likes",
          "xref": "x",
          "y": "Bret Weinstein",
          "yref": "y"
         },
         {
          "font": {
           "color": "#000000"
          },
          "showarrow": false,
          "text": "0.16729340213785476",
          "x": "Comments",
          "xref": "x",
          "y": "Bret Weinstein",
          "yref": "y"
         },
         {
          "font": {
           "color": "#000000"
          },
          "showarrow": false,
          "text": "0.03935739038098285",
          "x": "Views",
          "xref": "x",
          "y": "Amjad Masad",
          "yref": "y"
         },
         {
          "font": {
           "color": "#000000"
          },
          "showarrow": false,
          "text": "0.037190791578818175",
          "x": "Likes",
          "xref": "x",
          "y": "Amjad Masad",
          "yref": "y"
         },
         {
          "font": {
           "color": "#000000"
          },
          "showarrow": false,
          "text": "0.16729340213785476",
          "x": "Comments",
          "xref": "x",
          "y": "Amjad Masad",
          "yref": "y"
         },
         {
          "font": {
           "color": "#000000"
          },
          "showarrow": false,
          "text": "0.19579158228909832",
          "x": "Views",
          "xref": "x",
          "y": "Dr. Courtney Conley",
          "yref": "y"
         },
         {
          "font": {
           "color": "#000000"
          },
          "showarrow": false,
          "text": "0.3210323530829889",
          "x": "Likes",
          "xref": "x",
          "y": "Dr. Courtney Conley",
          "yref": "y"
         },
         {
          "font": {
           "color": "#000000"
          },
          "showarrow": false,
          "text": "0.16730556579432362",
          "x": "Comments",
          "xref": "x",
          "y": "Dr. Courtney Conley",
          "yref": "y"
         },
         {
          "font": {
           "color": "#000000"
          },
          "showarrow": false,
          "text": "0.12056761987563745",
          "x": "Views",
          "xref": "x",
          "y": "Esther Perel",
          "yref": "y"
         },
         {
          "font": {
           "color": "#000000"
          },
          "showarrow": false,
          "text": "0.13180999303056473",
          "x": "Likes",
          "xref": "x",
          "y": "Esther Perel",
          "yref": "y"
         },
         {
          "font": {
           "color": "#000000"
          },
          "showarrow": false,
          "text": "0.18311831920383337",
          "x": "Comments",
          "xref": "x",
          "y": "Esther Perel",
          "yref": "y"
         },
         {
          "font": {
           "color": "#000000"
          },
          "showarrow": false,
          "text": "0.13661920432781743",
          "x": "Views",
          "xref": "x",
          "y": "Dr Georgia Ede",
          "yref": "y"
         },
         {
          "font": {
           "color": "#000000"
          },
          "showarrow": false,
          "text": "0.2137293492125415",
          "x": "Likes",
          "xref": "x",
          "y": "Dr Georgia Ede",
          "yref": "y"
         },
         {
          "font": {
           "color": "#000000"
          },
          "showarrow": false,
          "text": "0.2008109104312569",
          "x": "Comments",
          "xref": "x",
          "y": "Dr Georgia Ede",
          "yref": "y"
         },
         {
          "font": {
           "color": "#000000"
          },
          "showarrow": false,
          "text": "0.05377664962880509",
          "x": "Views",
          "xref": "x",
          "y": "Paul Brunson",
          "yref": "y"
         },
         {
          "font": {
           "color": "#000000"
          },
          "showarrow": false,
          "text": "0.04965393904593253",
          "x": "Likes",
          "xref": "x",
          "y": "Paul Brunson",
          "yref": "y"
         },
         {
          "font": {
           "color": "#000000"
          },
          "showarrow": false,
          "text": "0.20302248433468484",
          "x": "Comments",
          "xref": "x",
          "y": "Paul Brunson",
          "yref": "y"
         },
         {
          "font": {
           "color": "#000000"
          },
          "showarrow": false,
          "text": "0.2507781029975424",
          "x": "Views",
          "xref": "x",
          "y": "Simon Sinek",
          "yref": "y"
         },
         {
          "font": {
           "color": "#000000"
          },
          "showarrow": false,
          "text": "0.26237951424350947",
          "x": "Likes",
          "xref": "x",
          "y": "Simon Sinek",
          "yref": "y"
         },
         {
          "font": {
           "color": "#000000"
          },
          "showarrow": false,
          "text": "0.2035385182454847",
          "x": "Comments",
          "xref": "x",
          "y": "Simon Sinek",
          "yref": "y"
         },
         {
          "font": {
           "color": "#000000"
          },
          "showarrow": false,
          "text": "0.13743676692687928",
          "x": "Views",
          "xref": "x",
          "y": "Dr Jordan Peterson",
          "yref": "y"
         },
         {
          "font": {
           "color": "#000000"
          },
          "showarrow": false,
          "text": "0.18170062987915264",
          "x": "Likes",
          "xref": "x",
          "y": "Dr Jordan Peterson",
          "yref": "y"
         },
         {
          "font": {
           "color": "#000000"
          },
          "showarrow": false,
          "text": "0.2051603391079985",
          "x": "Comments",
          "xref": "x",
          "y": "Dr Jordan Peterson",
          "yref": "y"
         },
         {
          "font": {
           "color": "#000000"
          },
          "showarrow": false,
          "text": "0.28808572201570765",
          "x": "Views",
          "xref": "x",
          "y": "Dr Daniel Amen",
          "yref": "y"
         },
         {
          "font": {
           "color": "#000000"
          },
          "showarrow": false,
          "text": "0.3203397928455898",
          "x": "Likes",
          "xref": "x",
          "y": "Dr Daniel Amen",
          "yref": "y"
         },
         {
          "font": {
           "color": "#000000"
          },
          "showarrow": false,
          "text": "0.21138960560265388",
          "x": "Comments",
          "xref": "x",
          "y": "Dr Daniel Amen",
          "yref": "y"
         },
         {
          "font": {
           "color": "#000000"
          },
          "showarrow": false,
          "text": "0.21388657906424774",
          "x": "Views",
          "xref": "x",
          "y": "Morgan Housel",
          "yref": "y"
         },
         {
          "font": {
           "color": "#000000"
          },
          "showarrow": false,
          "text": "0.19612166267056486",
          "x": "Likes",
          "xref": "x",
          "y": "Morgan Housel",
          "yref": "y"
         },
         {
          "font": {
           "color": "#000000"
          },
          "showarrow": false,
          "text": "0.21854036122373754",
          "x": "Comments",
          "xref": "x",
          "y": "Morgan Housel",
          "yref": "y"
         },
         {
          "font": {
           "color": "#000000"
          },
          "showarrow": false,
          "text": "0.1763866272586339",
          "x": "Views",
          "xref": "x",
          "y": "Dr Nathan Bryan",
          "yref": "y"
         },
         {
          "font": {
           "color": "#000000"
          },
          "showarrow": false,
          "text": "0.4020794340292541",
          "x": "Likes",
          "xref": "x",
          "y": "Dr Nathan Bryan",
          "yref": "y"
         },
         {
          "font": {
           "color": "#000000"
          },
          "showarrow": false,
          "text": "0.2203096203464799",
          "x": "Comments",
          "xref": "x",
          "y": "Dr Nathan Bryan",
          "yref": "y"
         },
         {
          "font": {
           "color": "#000000"
          },
          "showarrow": false,
          "text": "0.051361617942625726",
          "x": "Views",
          "xref": "x",
          "y": "Konstantin Kisin",
          "yref": "y"
         },
         {
          "font": {
           "color": "#000000"
          },
          "showarrow": false,
          "text": "0.09214413142864657",
          "x": "Likes",
          "xref": "x",
          "y": "Konstantin Kisin",
          "yref": "y"
         },
         {
          "font": {
           "color": "#000000"
          },
          "showarrow": false,
          "text": "0.2395256173977147",
          "x": "Comments",
          "xref": "x",
          "y": "Konstantin Kisin",
          "yref": "y"
         },
         {
          "font": {
           "color": "#000000"
          },
          "showarrow": false,
          "text": "0.4062194653477234",
          "x": "Views",
          "xref": "x",
          "y": "Jefferson Fisher",
          "yref": "y"
         },
         {
          "font": {
           "color": "#FFFFFF"
          },
          "showarrow": false,
          "text": "0.5973156715861822",
          "x": "Likes",
          "xref": "x",
          "y": "Jefferson Fisher",
          "yref": "y"
         },
         {
          "font": {
           "color": "#000000"
          },
          "showarrow": false,
          "text": "0.2549944710652414",
          "x": "Comments",
          "xref": "x",
          "y": "Jefferson Fisher",
          "yref": "y"
         },
         {
          "font": {
           "color": "#000000"
          },
          "showarrow": false,
          "text": "0.0",
          "x": "Views",
          "xref": "x",
          "y": "Louise Perry",
          "yref": "y"
         },
         {
          "font": {
           "color": "#000000"
          },
          "showarrow": false,
          "text": "0.012376971933777209",
          "x": "Likes",
          "xref": "x",
          "y": "Louise Perry",
          "yref": "y"
         },
         {
          "font": {
           "color": "#000000"
          },
          "showarrow": false,
          "text": "0.2671091043125691",
          "x": "Comments",
          "xref": "x",
          "y": "Louise Perry",
          "yref": "y"
         },
         {
          "font": {
           "color": "#000000"
          },
          "showarrow": false,
          "text": "0.0",
          "x": "Views",
          "xref": "x",
          "y": "Deborah Frances-White",
          "yref": "y"
         },
         {
          "font": {
           "color": "#000000"
          },
          "showarrow": false,
          "text": "0.012376971933777209",
          "x": "Likes",
          "xref": "x",
          "y": "Deborah Frances-White",
          "yref": "y"
         },
         {
          "font": {
           "color": "#000000"
          },
          "showarrow": false,
          "text": "0.2671091043125691",
          "x": "Comments",
          "xref": "x",
          "y": "Deborah Frances-White",
          "yref": "y"
         },
         {
          "font": {
           "color": "#000000"
          },
          "showarrow": false,
          "text": "0.30683293054027794",
          "x": "Views",
          "xref": "x",
          "y": "MrBeast",
          "yref": "y"
         },
         {
          "font": {
           "color": "#000000"
          },
          "showarrow": false,
          "text": "0.39087573803689857",
          "x": "Likes",
          "xref": "x",
          "y": "MrBeast",
          "yref": "y"
         },
         {
          "font": {
           "color": "#000000"
          },
          "showarrow": false,
          "text": "0.29900479174345745",
          "x": "Comments",
          "xref": "x",
          "y": "MrBeast",
          "yref": "y"
         },
         {
          "font": {
           "color": "#000000"
          },
          "showarrow": false,
          "text": "0.2967568075456268",
          "x": "Views",
          "xref": "x",
          "y": "Dr. William Li",
          "yref": "y"
         },
         {
          "font": {
           "color": "#FFFFFF"
          },
          "showarrow": false,
          "text": "0.5427787445373216",
          "x": "Likes",
          "xref": "x",
          "y": "Dr. William Li",
          "yref": "y"
         },
         {
          "font": {
           "color": "#000000"
          },
          "showarrow": false,
          "text": "0.30095834869148547",
          "x": "Comments",
          "xref": "x",
          "y": "Dr. William Li",
          "yref": "y"
         },
         {
          "font": {
           "color": "#000000"
          },
          "showarrow": false,
          "text": "0.04717064598179789",
          "x": "Views",
          "xref": "x",
          "y": "Scott Galloway",
          "yref": "y"
         },
         {
          "font": {
           "color": "#000000"
          },
          "showarrow": false,
          "text": "0.07383255383779187",
          "x": "Likes",
          "xref": "x",
          "y": "Scott Galloway",
          "yref": "y"
         },
         {
          "font": {
           "color": "#000000"
          },
          "showarrow": false,
          "text": "0.3333916328787321",
          "x": "Comments",
          "xref": "x",
          "y": "Scott Galloway",
          "yref": "y"
         },
         {
          "font": {
           "color": "#000000"
          },
          "showarrow": false,
          "text": "0.4581783754303138",
          "x": "Views",
          "xref": "x",
          "y": "Cathie Wood",
          "yref": "y"
         },
         {
          "font": {
           "color": "#FFFFFF"
          },
          "showarrow": false,
          "text": "0.5198015245091808",
          "x": "Likes",
          "xref": "x",
          "y": "Cathie Wood",
          "yref": "y"
         },
         {
          "font": {
           "color": "#000000"
          },
          "showarrow": false,
          "text": "0.3427570954662735",
          "x": "Comments",
          "xref": "x",
          "y": "Cathie Wood",
          "yref": "y"
         },
         {
          "font": {
           "color": "#000000"
          },
          "showarrow": false,
          "text": "0.12811763702265894",
          "x": "Views",
          "xref": "x",
          "y": "Erica Komisar",
          "yref": "y"
         },
         {
          "font": {
           "color": "#000000"
          },
          "showarrow": false,
          "text": "0.16624660842731842",
          "x": "Likes",
          "xref": "x",
          "y": "Erica Komisar",
          "yref": "y"
         },
         {
          "font": {
           "color": "#000000"
          },
          "showarrow": false,
          "text": "0.3476164762255805",
          "x": "Comments",
          "xref": "x",
          "y": "Erica Komisar",
          "yref": "y"
         },
         {
          "font": {
           "color": "#000000"
          },
          "showarrow": false,
          "text": "0.4676042633742846",
          "x": "Views",
          "xref": "x",
          "y": "Dr Benjamin Bikman",
          "yref": "y"
         },
         {
          "font": {
           "color": "#FFFFFF"
          },
          "showarrow": false,
          "text": "0.6543773751967003",
          "x": "Likes",
          "xref": "x",
          "y": "Dr Benjamin Bikman",
          "yref": "y"
         },
         {
          "font": {
           "color": "#000000"
          },
          "showarrow": false,
          "text": "0.36015481017323997",
          "x": "Comments",
          "xref": "x",
          "y": "Dr Benjamin Bikman",
          "yref": "y"
         },
         {
          "font": {
           "color": "#000000"
          },
          "showarrow": false,
          "text": "0.042979674020970055",
          "x": "Views",
          "xref": "x",
          "y": "Logan Ury",
          "yref": "y"
         },
         {
          "font": {
           "color": "#000000"
          },
          "showarrow": false,
          "text": "0.05552097624693718",
          "x": "Likes",
          "xref": "x",
          "y": "Logan Ury",
          "yref": "y"
         },
         {
          "font": {
           "color": "#000000"
          },
          "showarrow": false,
          "text": "0.42725764835974933",
          "x": "Comments",
          "xref": "x",
          "y": "Logan Ury",
          "yref": "y"
         },
         {
          "font": {
           "color": "#000000"
          },
          "showarrow": false,
          "text": "0.0885388792795029",
          "x": "Views",
          "xref": "x",
          "y": "Daniel Priestley",
          "yref": "y"
         },
         {
          "font": {
           "color": "#000000"
          },
          "showarrow": false,
          "text": "0.09659730836609846",
          "x": "Likes",
          "xref": "x",
          "y": "Daniel Priestley",
          "yref": "y"
         },
         {
          "font": {
           "color": "#000000"
          },
          "showarrow": false,
          "text": "0.43932915591596017",
          "x": "Comments",
          "xref": "x",
          "y": "Daniel Priestley",
          "yref": "y"
         },
         {
          "font": {
           "color": "#000000"
          },
          "showarrow": false,
          "text": "0.4335813246531721",
          "x": "Views",
          "xref": "x",
          "y": "Dr Anna Lembke",
          "yref": "y"
         },
         {
          "font": {
           "color": "#FFFFFF"
          },
          "showarrow": false,
          "text": "0.6594400781979408",
          "x": "Likes",
          "xref": "x",
          "y": "Dr Anna Lembke",
          "yref": "y"
         },
         {
          "font": {
           "color": "#000000"
          },
          "showarrow": false,
          "text": "0.450976778474014",
          "x": "Comments",
          "xref": "x",
          "y": "Dr Anna Lembke",
          "yref": "y"
         },
         {
          "font": {
           "color": "#000000"
          },
          "showarrow": false,
          "text": "0.17489762951490012",
          "x": "Views",
          "xref": "x",
          "y": "Gary Stevenson",
          "yref": "y"
         },
         {
          "font": {
           "color": "#000000"
          },
          "showarrow": false,
          "text": "0.16045700209083058",
          "x": "Likes",
          "xref": "x",
          "y": "Gary Stevenson",
          "yref": "y"
         },
         {
          "font": {
           "color": "#FFFFFF"
          },
          "showarrow": false,
          "text": "0.9111684482123111",
          "x": "Comments",
          "xref": "x",
          "y": "Gary Stevenson",
          "yref": "y"
         },
         {
          "font": {
           "color": "#FFFFFF"
          },
          "showarrow": false,
          "text": "1.0000000000000002",
          "x": "Views",
          "xref": "x",
          "y": "Geoffrey Hinton",
          "yref": "y"
         },
         {
          "font": {
           "color": "#FFFFFF"
          },
          "showarrow": false,
          "text": "1.0",
          "x": "Likes",
          "xref": "x",
          "y": "Geoffrey Hinton",
          "yref": "y"
         },
         {
          "font": {
           "color": "#FFFFFF"
          },
          "showarrow": false,
          "text": "0.9999999999999999",
          "x": "Comments",
          "xref": "x",
          "y": "Geoffrey Hinton",
          "yref": "y"
         }
        ],
        "height": 600,
        "template": {
         "data": {
          "bar": [
           {
            "error_x": {
             "color": "#2a3f5f"
            },
            "error_y": {
             "color": "#2a3f5f"
            },
            "marker": {
             "line": {
              "color": "#E5ECF6",
              "width": 0.5
             },
             "pattern": {
              "fillmode": "overlay",
              "size": 10,
              "solidity": 0.2
             }
            },
            "type": "bar"
           }
          ],
          "barpolar": [
           {
            "marker": {
             "line": {
              "color": "#E5ECF6",
              "width": 0.5
             },
             "pattern": {
              "fillmode": "overlay",
              "size": 10,
              "solidity": 0.2
             }
            },
            "type": "barpolar"
           }
          ],
          "carpet": [
           {
            "aaxis": {
             "endlinecolor": "#2a3f5f",
             "gridcolor": "white",
             "linecolor": "white",
             "minorgridcolor": "white",
             "startlinecolor": "#2a3f5f"
            },
            "baxis": {
             "endlinecolor": "#2a3f5f",
             "gridcolor": "white",
             "linecolor": "white",
             "minorgridcolor": "white",
             "startlinecolor": "#2a3f5f"
            },
            "type": "carpet"
           }
          ],
          "choropleth": [
           {
            "colorbar": {
             "outlinewidth": 0,
             "ticks": ""
            },
            "type": "choropleth"
           }
          ],
          "contour": [
           {
            "colorbar": {
             "outlinewidth": 0,
             "ticks": ""
            },
            "colorscale": [
             [
              0,
              "#0d0887"
             ],
             [
              0.1111111111111111,
              "#46039f"
             ],
             [
              0.2222222222222222,
              "#7201a8"
             ],
             [
              0.3333333333333333,
              "#9c179e"
             ],
             [
              0.4444444444444444,
              "#bd3786"
             ],
             [
              0.5555555555555556,
              "#d8576b"
             ],
             [
              0.6666666666666666,
              "#ed7953"
             ],
             [
              0.7777777777777778,
              "#fb9f3a"
             ],
             [
              0.8888888888888888,
              "#fdca26"
             ],
             [
              1,
              "#f0f921"
             ]
            ],
            "type": "contour"
           }
          ],
          "contourcarpet": [
           {
            "colorbar": {
             "outlinewidth": 0,
             "ticks": ""
            },
            "type": "contourcarpet"
           }
          ],
          "heatmap": [
           {
            "colorbar": {
             "outlinewidth": 0,
             "ticks": ""
            },
            "colorscale": [
             [
              0,
              "#0d0887"
             ],
             [
              0.1111111111111111,
              "#46039f"
             ],
             [
              0.2222222222222222,
              "#7201a8"
             ],
             [
              0.3333333333333333,
              "#9c179e"
             ],
             [
              0.4444444444444444,
              "#bd3786"
             ],
             [
              0.5555555555555556,
              "#d8576b"
             ],
             [
              0.6666666666666666,
              "#ed7953"
             ],
             [
              0.7777777777777778,
              "#fb9f3a"
             ],
             [
              0.8888888888888888,
              "#fdca26"
             ],
             [
              1,
              "#f0f921"
             ]
            ],
            "type": "heatmap"
           }
          ],
          "histogram": [
           {
            "marker": {
             "pattern": {
              "fillmode": "overlay",
              "size": 10,
              "solidity": 0.2
             }
            },
            "type": "histogram"
           }
          ],
          "histogram2d": [
           {
            "colorbar": {
             "outlinewidth": 0,
             "ticks": ""
            },
            "colorscale": [
             [
              0,
              "#0d0887"
             ],
             [
              0.1111111111111111,
              "#46039f"
             ],
             [
              0.2222222222222222,
              "#7201a8"
             ],
             [
              0.3333333333333333,
              "#9c179e"
             ],
             [
              0.4444444444444444,
              "#bd3786"
             ],
             [
              0.5555555555555556,
              "#d8576b"
             ],
             [
              0.6666666666666666,
              "#ed7953"
             ],
             [
              0.7777777777777778,
              "#fb9f3a"
             ],
             [
              0.8888888888888888,
              "#fdca26"
             ],
             [
              1,
              "#f0f921"
             ]
            ],
            "type": "histogram2d"
           }
          ],
          "histogram2dcontour": [
           {
            "colorbar": {
             "outlinewidth": 0,
             "ticks": ""
            },
            "colorscale": [
             [
              0,
              "#0d0887"
             ],
             [
              0.1111111111111111,
              "#46039f"
             ],
             [
              0.2222222222222222,
              "#7201a8"
             ],
             [
              0.3333333333333333,
              "#9c179e"
             ],
             [
              0.4444444444444444,
              "#bd3786"
             ],
             [
              0.5555555555555556,
              "#d8576b"
             ],
             [
              0.6666666666666666,
              "#ed7953"
             ],
             [
              0.7777777777777778,
              "#fb9f3a"
             ],
             [
              0.8888888888888888,
              "#fdca26"
             ],
             [
              1,
              "#f0f921"
             ]
            ],
            "type": "histogram2dcontour"
           }
          ],
          "mesh3d": [
           {
            "colorbar": {
             "outlinewidth": 0,
             "ticks": ""
            },
            "type": "mesh3d"
           }
          ],
          "parcoords": [
           {
            "line": {
             "colorbar": {
              "outlinewidth": 0,
              "ticks": ""
             }
            },
            "type": "parcoords"
           }
          ],
          "pie": [
           {
            "automargin": true,
            "type": "pie"
           }
          ],
          "scatter": [
           {
            "fillpattern": {
             "fillmode": "overlay",
             "size": 10,
             "solidity": 0.2
            },
            "type": "scatter"
           }
          ],
          "scatter3d": [
           {
            "line": {
             "colorbar": {
              "outlinewidth": 0,
              "ticks": ""
             }
            },
            "marker": {
             "colorbar": {
              "outlinewidth": 0,
              "ticks": ""
             }
            },
            "type": "scatter3d"
           }
          ],
          "scattercarpet": [
           {
            "marker": {
             "colorbar": {
              "outlinewidth": 0,
              "ticks": ""
             }
            },
            "type": "scattercarpet"
           }
          ],
          "scattergeo": [
           {
            "marker": {
             "colorbar": {
              "outlinewidth": 0,
              "ticks": ""
             }
            },
            "type": "scattergeo"
           }
          ],
          "scattergl": [
           {
            "marker": {
             "colorbar": {
              "outlinewidth": 0,
              "ticks": ""
             }
            },
            "type": "scattergl"
           }
          ],
          "scattermap": [
           {
            "marker": {
             "colorbar": {
              "outlinewidth": 0,
              "ticks": ""
             }
            },
            "type": "scattermap"
           }
          ],
          "scattermapbox": [
           {
            "marker": {
             "colorbar": {
              "outlinewidth": 0,
              "ticks": ""
             }
            },
            "type": "scattermapbox"
           }
          ],
          "scatterpolar": [
           {
            "marker": {
             "colorbar": {
              "outlinewidth": 0,
              "ticks": ""
             }
            },
            "type": "scatterpolar"
           }
          ],
          "scatterpolargl": [
           {
            "marker": {
             "colorbar": {
              "outlinewidth": 0,
              "ticks": ""
             }
            },
            "type": "scatterpolargl"
           }
          ],
          "scatterternary": [
           {
            "marker": {
             "colorbar": {
              "outlinewidth": 0,
              "ticks": ""
             }
            },
            "type": "scatterternary"
           }
          ],
          "surface": [
           {
            "colorbar": {
             "outlinewidth": 0,
             "ticks": ""
            },
            "colorscale": [
             [
              0,
              "#0d0887"
             ],
             [
              0.1111111111111111,
              "#46039f"
             ],
             [
              0.2222222222222222,
              "#7201a8"
             ],
             [
              0.3333333333333333,
              "#9c179e"
             ],
             [
              0.4444444444444444,
              "#bd3786"
             ],
             [
              0.5555555555555556,
              "#d8576b"
             ],
             [
              0.6666666666666666,
              "#ed7953"
             ],
             [
              0.7777777777777778,
              "#fb9f3a"
             ],
             [
              0.8888888888888888,
              "#fdca26"
             ],
             [
              1,
              "#f0f921"
             ]
            ],
            "type": "surface"
           }
          ],
          "table": [
           {
            "cells": {
             "fill": {
              "color": "#EBF0F8"
             },
             "line": {
              "color": "white"
             }
            },
            "header": {
             "fill": {
              "color": "#C8D4E3"
             },
             "line": {
              "color": "white"
             }
            },
            "type": "table"
           }
          ]
         },
         "layout": {
          "annotationdefaults": {
           "arrowcolor": "#2a3f5f",
           "arrowhead": 0,
           "arrowwidth": 1
          },
          "autotypenumbers": "strict",
          "coloraxis": {
           "colorbar": {
            "outlinewidth": 0,
            "ticks": ""
           }
          },
          "colorscale": {
           "diverging": [
            [
             0,
             "#8e0152"
            ],
            [
             0.1,
             "#c51b7d"
            ],
            [
             0.2,
             "#de77ae"
            ],
            [
             0.3,
             "#f1b6da"
            ],
            [
             0.4,
             "#fde0ef"
            ],
            [
             0.5,
             "#f7f7f7"
            ],
            [
             0.6,
             "#e6f5d0"
            ],
            [
             0.7,
             "#b8e186"
            ],
            [
             0.8,
             "#7fbc41"
            ],
            [
             0.9,
             "#4d9221"
            ],
            [
             1,
             "#276419"
            ]
           ],
           "sequential": [
            [
             0,
             "#0d0887"
            ],
            [
             0.1111111111111111,
             "#46039f"
            ],
            [
             0.2222222222222222,
             "#7201a8"
            ],
            [
             0.3333333333333333,
             "#9c179e"
            ],
            [
             0.4444444444444444,
             "#bd3786"
            ],
            [
             0.5555555555555556,
             "#d8576b"
            ],
            [
             0.6666666666666666,
             "#ed7953"
            ],
            [
             0.7777777777777778,
             "#fb9f3a"
            ],
            [
             0.8888888888888888,
             "#fdca26"
            ],
            [
             1,
             "#f0f921"
            ]
           ],
           "sequentialminus": [
            [
             0,
             "#0d0887"
            ],
            [
             0.1111111111111111,
             "#46039f"
            ],
            [
             0.2222222222222222,
             "#7201a8"
            ],
            [
             0.3333333333333333,
             "#9c179e"
            ],
            [
             0.4444444444444444,
             "#bd3786"
            ],
            [
             0.5555555555555556,
             "#d8576b"
            ],
            [
             0.6666666666666666,
             "#ed7953"
            ],
            [
             0.7777777777777778,
             "#fb9f3a"
            ],
            [
             0.8888888888888888,
             "#fdca26"
            ],
            [
             1,
             "#f0f921"
            ]
           ]
          },
          "colorway": [
           "#636efa",
           "#EF553B",
           "#00cc96",
           "#ab63fa",
           "#FFA15A",
           "#19d3f3",
           "#FF6692",
           "#B6E880",
           "#FF97FF",
           "#FECB52"
          ],
          "font": {
           "color": "#2a3f5f"
          },
          "geo": {
           "bgcolor": "white",
           "lakecolor": "white",
           "landcolor": "#E5ECF6",
           "showlakes": true,
           "showland": true,
           "subunitcolor": "white"
          },
          "hoverlabel": {
           "align": "left"
          },
          "hovermode": "closest",
          "mapbox": {
           "style": "light"
          },
          "paper_bgcolor": "white",
          "plot_bgcolor": "#E5ECF6",
          "polar": {
           "angularaxis": {
            "gridcolor": "white",
            "linecolor": "white",
            "ticks": ""
           },
           "bgcolor": "#E5ECF6",
           "radialaxis": {
            "gridcolor": "white",
            "linecolor": "white",
            "ticks": ""
           }
          },
          "scene": {
           "xaxis": {
            "backgroundcolor": "#E5ECF6",
            "gridcolor": "white",
            "gridwidth": 2,
            "linecolor": "white",
            "showbackground": true,
            "ticks": "",
            "zerolinecolor": "white"
           },
           "yaxis": {
            "backgroundcolor": "#E5ECF6",
            "gridcolor": "white",
            "gridwidth": 2,
            "linecolor": "white",
            "showbackground": true,
            "ticks": "",
            "zerolinecolor": "white"
           },
           "zaxis": {
            "backgroundcolor": "#E5ECF6",
            "gridcolor": "white",
            "gridwidth": 2,
            "linecolor": "white",
            "showbackground": true,
            "ticks": "",
            "zerolinecolor": "white"
           }
          },
          "shapedefaults": {
           "line": {
            "color": "#2a3f5f"
           }
          },
          "ternary": {
           "aaxis": {
            "gridcolor": "white",
            "linecolor": "white",
            "ticks": ""
           },
           "baxis": {
            "gridcolor": "white",
            "linecolor": "white",
            "ticks": ""
           },
           "bgcolor": "#E5ECF6",
           "caxis": {
            "gridcolor": "white",
            "linecolor": "white",
            "ticks": ""
           }
          },
          "title": {
           "x": 0.05
          },
          "xaxis": {
           "automargin": true,
           "gridcolor": "white",
           "linecolor": "white",
           "ticks": "",
           "title": {
            "standoff": 15
           },
           "zerolinecolor": "white",
           "zerolinewidth": 2
          },
          "yaxis": {
           "automargin": true,
           "gridcolor": "white",
           "linecolor": "white",
           "ticks": "",
           "title": {
            "standoff": 15
           },
           "zerolinecolor": "white",
           "zerolinewidth": 2
          }
         }
        },
        "title": {
         "text": "Engagement Intensity by Guest and Metric (Sorted by Comments → Likes)"
        },
        "xaxis": {
         "dtick": 1,
         "gridcolor": "rgb(0, 0, 0)",
         "side": "top",
         "ticks": ""
        },
        "yaxis": {
         "dtick": 1,
         "ticks": "",
         "ticksuffix": "  "
        }
       }
      }
     },
     "metadata": {},
     "output_type": "display_data"
    }
   ],
   "source": [
    "import plotly.figure_factory as ff\n",
    "\n",
    "# Sort the DataFrame by comments (desc), then likes (desc)\n",
    "guest_sorted = guest_stats.sort_values(\n",
    "    by=[\"comments_per_guest_norm\", \"likes_per_guest_norm\"],\n",
    "    ascending=[True, True]\n",
    ")\n",
    "\n",
    "# Extract data for the heatmap\n",
    "z = guest_sorted[[\"views_per_guest_norm\", \"likes_per_guest_norm\", \"comments_per_guest_norm\"]].values\n",
    "x = [\"Views\", \"Likes\", \"Comments\"]\n",
    "y = guest_sorted[\"guest\"].tolist()\n",
    "\n",
    "# Create annotated heatmap\n",
    "fig = ff.create_annotated_heatmap(\n",
    "    z=z,\n",
    "    x=x,\n",
    "    y=y,\n",
    "    colorscale=\"YlGnBu\",\n",
    "    showscale=True\n",
    ")\n",
    "\n",
    "fig.update_layout(\n",
    "    title=\"Engagement Intensity by Guest and Metric (Sorted by Comments → Likes)\",\n",
    "    height=600\n",
    ")\n",
    "\n",
    "fig.show()\n"
   ]
  },
  {
   "cell_type": "markdown",
   "id": "ee0a883e",
   "metadata": {},
   "source": [
    "## Plot Results Per Topic Category"
   ]
  },
  {
   "cell_type": "code",
   "execution_count": 38,
   "id": "58f67054",
   "metadata": {},
   "outputs": [
    {
     "data": {
      "application/vnd.plotly.v1+json": {
       "config": {
        "plotlyServerURL": "https://plot.ly"
       },
       "data": [
        {
         "hovertemplate": "weighted_score=%{marker.color}<br>Topic_Category=%{y}<extra></extra>",
         "legendgroup": "",
         "marker": {
          "color": {
           "bdata": "exSuR+F6tD8pXI/C9Si8Pylcj8L1KLw/pHA9CtejwD/sUbgehevBPzMzMzMzM8M/exSuR+F6xD8fhetRuB7VP9ejcD0K1+M/XI/C9Shc7z8=",
           "dtype": "f8"
          },
          "coloraxis": "coloraxis",
          "line": {
           "color": "black",
           "width": 0.5
          },
          "pattern": {
           "shape": ""
          }
         },
         "name": "",
         "opacity": 0.9,
         "orientation": "h",
         "showlegend": false,
         "text": {
          "bdata": "exSuR+F6tD8pXI/C9Si8Pylcj8L1KLw/pHA9CtejwD/sUbgehevBPzMzMzMzM8M/exSuR+F6xD8fhetRuB7VP9ejcD0K1+M/XI/C9Shc7z8=",
          "dtype": "f8"
         },
         "textposition": "outside",
         "texttemplate": "%{text:.2f}",
         "type": "bar",
         "x": {
          "bdata": "exSuR+F6tD8pXI/C9Si8Pylcj8L1KLw/pHA9CtejwD/sUbgehevBPzMzMzMzM8M/exSuR+F6xD8fhetRuB7VP9ejcD0K1+M/XI/C9Shc7z8=",
          "dtype": "f8"
         },
         "xaxis": "x",
         "y": [
          "productivity / personal development",
          "health",
          "relationships",
          "entrepreneurship / business",
          "religion/spirituality",
          "mental health / psychology",
          "entertainment",
          "technology",
          "finance",
          "religion / spirituality"
         ],
         "yaxis": "y"
        }
       ],
       "layout": {
        "barmode": "relative",
        "coloraxis": {
         "colorbar": {
          "title": {
           "text": "weighted_score"
          }
         },
         "colorscale": [
          [
           0,
           "rgb(247,251,255)"
          ],
          [
           0.125,
           "rgb(222,235,247)"
          ],
          [
           0.25,
           "rgb(198,219,239)"
          ],
          [
           0.375,
           "rgb(158,202,225)"
          ],
          [
           0.5,
           "rgb(107,174,214)"
          ],
          [
           0.625,
           "rgb(66,146,198)"
          ],
          [
           0.75,
           "rgb(33,113,181)"
          ],
          [
           0.875,
           "rgb(8,81,156)"
          ],
          [
           1,
           "rgb(8,48,107)"
          ]
         ],
         "showscale": false
        },
        "font": {
         "color": "black",
         "size": 12
        },
        "height": 600,
        "legend": {
         "tracegroupgap": 0
        },
        "margin": {
         "b": 40,
         "l": 120,
         "r": 40,
         "t": 60
        },
        "paper_bgcolor": "white",
        "plot_bgcolor": "white",
        "template": {
         "data": {
          "bar": [
           {
            "error_x": {
             "color": "#2a3f5f"
            },
            "error_y": {
             "color": "#2a3f5f"
            },
            "marker": {
             "line": {
              "color": "#E5ECF6",
              "width": 0.5
             },
             "pattern": {
              "fillmode": "overlay",
              "size": 10,
              "solidity": 0.2
             }
            },
            "type": "bar"
           }
          ],
          "barpolar": [
           {
            "marker": {
             "line": {
              "color": "#E5ECF6",
              "width": 0.5
             },
             "pattern": {
              "fillmode": "overlay",
              "size": 10,
              "solidity": 0.2
             }
            },
            "type": "barpolar"
           }
          ],
          "carpet": [
           {
            "aaxis": {
             "endlinecolor": "#2a3f5f",
             "gridcolor": "white",
             "linecolor": "white",
             "minorgridcolor": "white",
             "startlinecolor": "#2a3f5f"
            },
            "baxis": {
             "endlinecolor": "#2a3f5f",
             "gridcolor": "white",
             "linecolor": "white",
             "minorgridcolor": "white",
             "startlinecolor": "#2a3f5f"
            },
            "type": "carpet"
           }
          ],
          "choropleth": [
           {
            "colorbar": {
             "outlinewidth": 0,
             "ticks": ""
            },
            "type": "choropleth"
           }
          ],
          "contour": [
           {
            "colorbar": {
             "outlinewidth": 0,
             "ticks": ""
            },
            "colorscale": [
             [
              0,
              "#0d0887"
             ],
             [
              0.1111111111111111,
              "#46039f"
             ],
             [
              0.2222222222222222,
              "#7201a8"
             ],
             [
              0.3333333333333333,
              "#9c179e"
             ],
             [
              0.4444444444444444,
              "#bd3786"
             ],
             [
              0.5555555555555556,
              "#d8576b"
             ],
             [
              0.6666666666666666,
              "#ed7953"
             ],
             [
              0.7777777777777778,
              "#fb9f3a"
             ],
             [
              0.8888888888888888,
              "#fdca26"
             ],
             [
              1,
              "#f0f921"
             ]
            ],
            "type": "contour"
           }
          ],
          "contourcarpet": [
           {
            "colorbar": {
             "outlinewidth": 0,
             "ticks": ""
            },
            "type": "contourcarpet"
           }
          ],
          "heatmap": [
           {
            "colorbar": {
             "outlinewidth": 0,
             "ticks": ""
            },
            "colorscale": [
             [
              0,
              "#0d0887"
             ],
             [
              0.1111111111111111,
              "#46039f"
             ],
             [
              0.2222222222222222,
              "#7201a8"
             ],
             [
              0.3333333333333333,
              "#9c179e"
             ],
             [
              0.4444444444444444,
              "#bd3786"
             ],
             [
              0.5555555555555556,
              "#d8576b"
             ],
             [
              0.6666666666666666,
              "#ed7953"
             ],
             [
              0.7777777777777778,
              "#fb9f3a"
             ],
             [
              0.8888888888888888,
              "#fdca26"
             ],
             [
              1,
              "#f0f921"
             ]
            ],
            "type": "heatmap"
           }
          ],
          "histogram": [
           {
            "marker": {
             "pattern": {
              "fillmode": "overlay",
              "size": 10,
              "solidity": 0.2
             }
            },
            "type": "histogram"
           }
          ],
          "histogram2d": [
           {
            "colorbar": {
             "outlinewidth": 0,
             "ticks": ""
            },
            "colorscale": [
             [
              0,
              "#0d0887"
             ],
             [
              0.1111111111111111,
              "#46039f"
             ],
             [
              0.2222222222222222,
              "#7201a8"
             ],
             [
              0.3333333333333333,
              "#9c179e"
             ],
             [
              0.4444444444444444,
              "#bd3786"
             ],
             [
              0.5555555555555556,
              "#d8576b"
             ],
             [
              0.6666666666666666,
              "#ed7953"
             ],
             [
              0.7777777777777778,
              "#fb9f3a"
             ],
             [
              0.8888888888888888,
              "#fdca26"
             ],
             [
              1,
              "#f0f921"
             ]
            ],
            "type": "histogram2d"
           }
          ],
          "histogram2dcontour": [
           {
            "colorbar": {
             "outlinewidth": 0,
             "ticks": ""
            },
            "colorscale": [
             [
              0,
              "#0d0887"
             ],
             [
              0.1111111111111111,
              "#46039f"
             ],
             [
              0.2222222222222222,
              "#7201a8"
             ],
             [
              0.3333333333333333,
              "#9c179e"
             ],
             [
              0.4444444444444444,
              "#bd3786"
             ],
             [
              0.5555555555555556,
              "#d8576b"
             ],
             [
              0.6666666666666666,
              "#ed7953"
             ],
             [
              0.7777777777777778,
              "#fb9f3a"
             ],
             [
              0.8888888888888888,
              "#fdca26"
             ],
             [
              1,
              "#f0f921"
             ]
            ],
            "type": "histogram2dcontour"
           }
          ],
          "mesh3d": [
           {
            "colorbar": {
             "outlinewidth": 0,
             "ticks": ""
            },
            "type": "mesh3d"
           }
          ],
          "parcoords": [
           {
            "line": {
             "colorbar": {
              "outlinewidth": 0,
              "ticks": ""
             }
            },
            "type": "parcoords"
           }
          ],
          "pie": [
           {
            "automargin": true,
            "type": "pie"
           }
          ],
          "scatter": [
           {
            "fillpattern": {
             "fillmode": "overlay",
             "size": 10,
             "solidity": 0.2
            },
            "type": "scatter"
           }
          ],
          "scatter3d": [
           {
            "line": {
             "colorbar": {
              "outlinewidth": 0,
              "ticks": ""
             }
            },
            "marker": {
             "colorbar": {
              "outlinewidth": 0,
              "ticks": ""
             }
            },
            "type": "scatter3d"
           }
          ],
          "scattercarpet": [
           {
            "marker": {
             "colorbar": {
              "outlinewidth": 0,
              "ticks": ""
             }
            },
            "type": "scattercarpet"
           }
          ],
          "scattergeo": [
           {
            "marker": {
             "colorbar": {
              "outlinewidth": 0,
              "ticks": ""
             }
            },
            "type": "scattergeo"
           }
          ],
          "scattergl": [
           {
            "marker": {
             "colorbar": {
              "outlinewidth": 0,
              "ticks": ""
             }
            },
            "type": "scattergl"
           }
          ],
          "scattermap": [
           {
            "marker": {
             "colorbar": {
              "outlinewidth": 0,
              "ticks": ""
             }
            },
            "type": "scattermap"
           }
          ],
          "scattermapbox": [
           {
            "marker": {
             "colorbar": {
              "outlinewidth": 0,
              "ticks": ""
             }
            },
            "type": "scattermapbox"
           }
          ],
          "scatterpolar": [
           {
            "marker": {
             "colorbar": {
              "outlinewidth": 0,
              "ticks": ""
             }
            },
            "type": "scatterpolar"
           }
          ],
          "scatterpolargl": [
           {
            "marker": {
             "colorbar": {
              "outlinewidth": 0,
              "ticks": ""
             }
            },
            "type": "scatterpolargl"
           }
          ],
          "scatterternary": [
           {
            "marker": {
             "colorbar": {
              "outlinewidth": 0,
              "ticks": ""
             }
            },
            "type": "scatterternary"
           }
          ],
          "surface": [
           {
            "colorbar": {
             "outlinewidth": 0,
             "ticks": ""
            },
            "colorscale": [
             [
              0,
              "#0d0887"
             ],
             [
              0.1111111111111111,
              "#46039f"
             ],
             [
              0.2222222222222222,
              "#7201a8"
             ],
             [
              0.3333333333333333,
              "#9c179e"
             ],
             [
              0.4444444444444444,
              "#bd3786"
             ],
             [
              0.5555555555555556,
              "#d8576b"
             ],
             [
              0.6666666666666666,
              "#ed7953"
             ],
             [
              0.7777777777777778,
              "#fb9f3a"
             ],
             [
              0.8888888888888888,
              "#fdca26"
             ],
             [
              1,
              "#f0f921"
             ]
            ],
            "type": "surface"
           }
          ],
          "table": [
           {
            "cells": {
             "fill": {
              "color": "#EBF0F8"
             },
             "line": {
              "color": "white"
             }
            },
            "header": {
             "fill": {
              "color": "#C8D4E3"
             },
             "line": {
              "color": "white"
             }
            },
            "type": "table"
           }
          ]
         },
         "layout": {
          "annotationdefaults": {
           "arrowcolor": "#2a3f5f",
           "arrowhead": 0,
           "arrowwidth": 1
          },
          "autotypenumbers": "strict",
          "coloraxis": {
           "colorbar": {
            "outlinewidth": 0,
            "ticks": ""
           }
          },
          "colorscale": {
           "diverging": [
            [
             0,
             "#8e0152"
            ],
            [
             0.1,
             "#c51b7d"
            ],
            [
             0.2,
             "#de77ae"
            ],
            [
             0.3,
             "#f1b6da"
            ],
            [
             0.4,
             "#fde0ef"
            ],
            [
             0.5,
             "#f7f7f7"
            ],
            [
             0.6,
             "#e6f5d0"
            ],
            [
             0.7,
             "#b8e186"
            ],
            [
             0.8,
             "#7fbc41"
            ],
            [
             0.9,
             "#4d9221"
            ],
            [
             1,
             "#276419"
            ]
           ],
           "sequential": [
            [
             0,
             "#0d0887"
            ],
            [
             0.1111111111111111,
             "#46039f"
            ],
            [
             0.2222222222222222,
             "#7201a8"
            ],
            [
             0.3333333333333333,
             "#9c179e"
            ],
            [
             0.4444444444444444,
             "#bd3786"
            ],
            [
             0.5555555555555556,
             "#d8576b"
            ],
            [
             0.6666666666666666,
             "#ed7953"
            ],
            [
             0.7777777777777778,
             "#fb9f3a"
            ],
            [
             0.8888888888888888,
             "#fdca26"
            ],
            [
             1,
             "#f0f921"
            ]
           ],
           "sequentialminus": [
            [
             0,
             "#0d0887"
            ],
            [
             0.1111111111111111,
             "#46039f"
            ],
            [
             0.2222222222222222,
             "#7201a8"
            ],
            [
             0.3333333333333333,
             "#9c179e"
            ],
            [
             0.4444444444444444,
             "#bd3786"
            ],
            [
             0.5555555555555556,
             "#d8576b"
            ],
            [
             0.6666666666666666,
             "#ed7953"
            ],
            [
             0.7777777777777778,
             "#fb9f3a"
            ],
            [
             0.8888888888888888,
             "#fdca26"
            ],
            [
             1,
             "#f0f921"
            ]
           ]
          },
          "colorway": [
           "#636efa",
           "#EF553B",
           "#00cc96",
           "#ab63fa",
           "#FFA15A",
           "#19d3f3",
           "#FF6692",
           "#B6E880",
           "#FF97FF",
           "#FECB52"
          ],
          "font": {
           "color": "#2a3f5f"
          },
          "geo": {
           "bgcolor": "white",
           "lakecolor": "white",
           "landcolor": "#E5ECF6",
           "showlakes": true,
           "showland": true,
           "subunitcolor": "white"
          },
          "hoverlabel": {
           "align": "left"
          },
          "hovermode": "closest",
          "mapbox": {
           "style": "light"
          },
          "paper_bgcolor": "white",
          "plot_bgcolor": "#E5ECF6",
          "polar": {
           "angularaxis": {
            "gridcolor": "white",
            "linecolor": "white",
            "ticks": ""
           },
           "bgcolor": "#E5ECF6",
           "radialaxis": {
            "gridcolor": "white",
            "linecolor": "white",
            "ticks": ""
           }
          },
          "scene": {
           "xaxis": {
            "backgroundcolor": "#E5ECF6",
            "gridcolor": "white",
            "gridwidth": 2,
            "linecolor": "white",
            "showbackground": true,
            "ticks": "",
            "zerolinecolor": "white"
           },
           "yaxis": {
            "backgroundcolor": "#E5ECF6",
            "gridcolor": "white",
            "gridwidth": 2,
            "linecolor": "white",
            "showbackground": true,
            "ticks": "",
            "zerolinecolor": "white"
           },
           "zaxis": {
            "backgroundcolor": "#E5ECF6",
            "gridcolor": "white",
            "gridwidth": 2,
            "linecolor": "white",
            "showbackground": true,
            "ticks": "",
            "zerolinecolor": "white"
           }
          },
          "shapedefaults": {
           "line": {
            "color": "#2a3f5f"
           }
          },
          "ternary": {
           "aaxis": {
            "gridcolor": "white",
            "linecolor": "white",
            "ticks": ""
           },
           "baxis": {
            "gridcolor": "white",
            "linecolor": "white",
            "ticks": ""
           },
           "bgcolor": "#E5ECF6",
           "caxis": {
            "gridcolor": "white",
            "linecolor": "white",
            "ticks": ""
           }
          },
          "title": {
           "x": 0.05
          },
          "xaxis": {
           "automargin": true,
           "gridcolor": "white",
           "linecolor": "white",
           "ticks": "",
           "title": {
            "standoff": 15
           },
           "zerolinecolor": "white",
           "zerolinewidth": 2
          },
          "yaxis": {
           "automargin": true,
           "gridcolor": "white",
           "linecolor": "white",
           "ticks": "",
           "title": {
            "standoff": 15
           },
           "zerolinecolor": "white",
           "zerolinewidth": 2
          }
         }
        },
        "title": {
         "text": "Top Topics by Weighted Engagement Score"
        },
        "xaxis": {
         "anchor": "y",
         "domain": [
          0,
          1
         ],
         "title": {
          "text": "Weighted Score"
         }
        },
        "yaxis": {
         "anchor": "x",
         "domain": [
          0,
          1
         ],
         "title": {
          "text": "Topic Category"
         }
        }
       }
      }
     },
     "metadata": {},
     "output_type": "display_data"
    }
   ],
   "source": [
    "import plotly.express as px\n",
    "\n",
    "fig = px.bar(\n",
    "    topic_stats.sort_values(\"weighted_score\", ascending=True),\n",
    "    x=\"weighted_score\",\n",
    "    y=\"Topic_Category\",\n",
    "    orientation=\"h\",\n",
    "    title=\"Top Topics by Weighted Engagement Score\",\n",
    "    text=\"weighted_score\",\n",
    "    color=\"weighted_score\",\n",
    "    color_continuous_scale=\"Blues\"\n",
    ")\n",
    "\n",
    "fig.update_traces(\n",
    "    texttemplate=\"%{text:.2f}\",\n",
    "    textposition=\"outside\",\n",
    "    marker_line_color=\"black\",\n",
    "    marker_line_width=0.5,\n",
    "    opacity=0.9\n",
    ")\n",
    "\n",
    "fig.update_layout(\n",
    "    xaxis_title=\"Weighted Score\",\n",
    "    yaxis_title=\"Topic Category\",\n",
    "    height=600,\n",
    "    plot_bgcolor=\"white\",\n",
    "    paper_bgcolor=\"white\",\n",
    "    font=dict(color=\"black\", size=12),\n",
    "    coloraxis_showscale=False,\n",
    "    margin=dict(l=120, r=40, t=60, b=40)\n",
    ")\n",
    "\n",
    "fig.show()\n"
   ]
  },
  {
   "cell_type": "code",
   "execution_count": 39,
   "id": "20a78e42",
   "metadata": {},
   "outputs": [
    {
     "data": {
      "application/vnd.plotly.v1+json": {
       "config": {
        "plotlyServerURL": "https://plot.ly"
       },
       "data": [
        {
         "hovertemplate": "<b>%{hovertext}</b><br><br>view_count=%{x}<br>comment_count=%{y}<br>video_like_count=%{marker.size}<br>weighted_score=%{marker.color}<extra></extra>",
         "hovertext": [
          "entertainment",
          "entrepreneurship / business",
          "finance",
          "health",
          "mental health / psychology",
          "productivity / personal development",
          "relationships",
          "religion / spirituality",
          "religion/spirituality",
          "technology"
         ],
         "legendgroup": "",
         "marker": {
          "color": {
           "bdata": "exSuR+F6xD+kcD0K16PAP9ejcD0K1+M/KVyPwvUovD8zMzMzMzPDP3sUrkfherQ/KVyPwvUovD9cj8L1KFzvP+xRuB6F68E/H4XrUbge1T8=",
           "dtype": "f8"
          },
          "coloraxis": "coloraxis",
          "line": {
           "color": "black",
           "width": 1
          },
          "opacity": 0.85,
          "size": {
           "bdata": "zczMzCzu7kAAAAAAsHbxQAAAAACoD/NAmpmZmdGm8kCrqqqq7knwQFVVVVVt3vFAAAAAAADT3kAAAAAAMGcNQVVVVVWV2O9AAAAAAOAT70A=",
           "dtype": "f8"
          },
          "sizemode": "area",
          "sizeref": 96.348,
          "symbol": "circle"
         },
         "mode": "markers",
         "name": "",
         "orientation": "v",
         "showlegend": false,
         "type": "scatter",
         "x": {
          "bdata": "mpmZmd8FQ0EAAADg1DNHQQAAAAAKRE1BZmZmpmKeQkEAAACgkclDQQAAAIAm9kNBAAAAQHUHNkEAAABAx4xkQauqqqrkLUJBAAAAgCsiSEE=",
          "dtype": "f8"
         },
         "xaxis": "x",
         "y": {
          "bdata": "AAAAAIAlwEAAAAAAgAy2QAAAAADgPtxAzczMzEwFtECrqqqqagW9QFVVVVVVjq1AAAAAAIAmwkAAAAAAAE3bQKuqqqqq+7tAAAAAAABvz0A=",
          "dtype": "f8"
         },
         "yaxis": "y"
        }
       ],
       "layout": {
        "coloraxis": {
         "colorbar": {
          "title": {
           "text": "weighted_score"
          }
         },
         "colorscale": [
          [
           0,
           "rgb(255,255,217)"
          ],
          [
           0.125,
           "rgb(237,248,177)"
          ],
          [
           0.25,
           "rgb(199,233,180)"
          ],
          [
           0.375,
           "rgb(127,205,187)"
          ],
          [
           0.5,
           "rgb(65,182,196)"
          ],
          [
           0.625,
           "rgb(29,145,192)"
          ],
          [
           0.75,
           "rgb(34,94,168)"
          ],
          [
           0.875,
           "rgb(37,52,148)"
          ],
          [
           1,
           "rgb(8,29,88)"
          ]
         ]
        },
        "font": {
         "color": "black",
         "size": 12
        },
        "height": 600,
        "legend": {
         "itemsizing": "constant",
         "tracegroupgap": 0
        },
        "paper_bgcolor": "white",
        "plot_bgcolor": "white",
        "template": {
         "data": {
          "bar": [
           {
            "error_x": {
             "color": "#2a3f5f"
            },
            "error_y": {
             "color": "#2a3f5f"
            },
            "marker": {
             "line": {
              "color": "#E5ECF6",
              "width": 0.5
             },
             "pattern": {
              "fillmode": "overlay",
              "size": 10,
              "solidity": 0.2
             }
            },
            "type": "bar"
           }
          ],
          "barpolar": [
           {
            "marker": {
             "line": {
              "color": "#E5ECF6",
              "width": 0.5
             },
             "pattern": {
              "fillmode": "overlay",
              "size": 10,
              "solidity": 0.2
             }
            },
            "type": "barpolar"
           }
          ],
          "carpet": [
           {
            "aaxis": {
             "endlinecolor": "#2a3f5f",
             "gridcolor": "white",
             "linecolor": "white",
             "minorgridcolor": "white",
             "startlinecolor": "#2a3f5f"
            },
            "baxis": {
             "endlinecolor": "#2a3f5f",
             "gridcolor": "white",
             "linecolor": "white",
             "minorgridcolor": "white",
             "startlinecolor": "#2a3f5f"
            },
            "type": "carpet"
           }
          ],
          "choropleth": [
           {
            "colorbar": {
             "outlinewidth": 0,
             "ticks": ""
            },
            "type": "choropleth"
           }
          ],
          "contour": [
           {
            "colorbar": {
             "outlinewidth": 0,
             "ticks": ""
            },
            "colorscale": [
             [
              0,
              "#0d0887"
             ],
             [
              0.1111111111111111,
              "#46039f"
             ],
             [
              0.2222222222222222,
              "#7201a8"
             ],
             [
              0.3333333333333333,
              "#9c179e"
             ],
             [
              0.4444444444444444,
              "#bd3786"
             ],
             [
              0.5555555555555556,
              "#d8576b"
             ],
             [
              0.6666666666666666,
              "#ed7953"
             ],
             [
              0.7777777777777778,
              "#fb9f3a"
             ],
             [
              0.8888888888888888,
              "#fdca26"
             ],
             [
              1,
              "#f0f921"
             ]
            ],
            "type": "contour"
           }
          ],
          "contourcarpet": [
           {
            "colorbar": {
             "outlinewidth": 0,
             "ticks": ""
            },
            "type": "contourcarpet"
           }
          ],
          "heatmap": [
           {
            "colorbar": {
             "outlinewidth": 0,
             "ticks": ""
            },
            "colorscale": [
             [
              0,
              "#0d0887"
             ],
             [
              0.1111111111111111,
              "#46039f"
             ],
             [
              0.2222222222222222,
              "#7201a8"
             ],
             [
              0.3333333333333333,
              "#9c179e"
             ],
             [
              0.4444444444444444,
              "#bd3786"
             ],
             [
              0.5555555555555556,
              "#d8576b"
             ],
             [
              0.6666666666666666,
              "#ed7953"
             ],
             [
              0.7777777777777778,
              "#fb9f3a"
             ],
             [
              0.8888888888888888,
              "#fdca26"
             ],
             [
              1,
              "#f0f921"
             ]
            ],
            "type": "heatmap"
           }
          ],
          "histogram": [
           {
            "marker": {
             "pattern": {
              "fillmode": "overlay",
              "size": 10,
              "solidity": 0.2
             }
            },
            "type": "histogram"
           }
          ],
          "histogram2d": [
           {
            "colorbar": {
             "outlinewidth": 0,
             "ticks": ""
            },
            "colorscale": [
             [
              0,
              "#0d0887"
             ],
             [
              0.1111111111111111,
              "#46039f"
             ],
             [
              0.2222222222222222,
              "#7201a8"
             ],
             [
              0.3333333333333333,
              "#9c179e"
             ],
             [
              0.4444444444444444,
              "#bd3786"
             ],
             [
              0.5555555555555556,
              "#d8576b"
             ],
             [
              0.6666666666666666,
              "#ed7953"
             ],
             [
              0.7777777777777778,
              "#fb9f3a"
             ],
             [
              0.8888888888888888,
              "#fdca26"
             ],
             [
              1,
              "#f0f921"
             ]
            ],
            "type": "histogram2d"
           }
          ],
          "histogram2dcontour": [
           {
            "colorbar": {
             "outlinewidth": 0,
             "ticks": ""
            },
            "colorscale": [
             [
              0,
              "#0d0887"
             ],
             [
              0.1111111111111111,
              "#46039f"
             ],
             [
              0.2222222222222222,
              "#7201a8"
             ],
             [
              0.3333333333333333,
              "#9c179e"
             ],
             [
              0.4444444444444444,
              "#bd3786"
             ],
             [
              0.5555555555555556,
              "#d8576b"
             ],
             [
              0.6666666666666666,
              "#ed7953"
             ],
             [
              0.7777777777777778,
              "#fb9f3a"
             ],
             [
              0.8888888888888888,
              "#fdca26"
             ],
             [
              1,
              "#f0f921"
             ]
            ],
            "type": "histogram2dcontour"
           }
          ],
          "mesh3d": [
           {
            "colorbar": {
             "outlinewidth": 0,
             "ticks": ""
            },
            "type": "mesh3d"
           }
          ],
          "parcoords": [
           {
            "line": {
             "colorbar": {
              "outlinewidth": 0,
              "ticks": ""
             }
            },
            "type": "parcoords"
           }
          ],
          "pie": [
           {
            "automargin": true,
            "type": "pie"
           }
          ],
          "scatter": [
           {
            "fillpattern": {
             "fillmode": "overlay",
             "size": 10,
             "solidity": 0.2
            },
            "type": "scatter"
           }
          ],
          "scatter3d": [
           {
            "line": {
             "colorbar": {
              "outlinewidth": 0,
              "ticks": ""
             }
            },
            "marker": {
             "colorbar": {
              "outlinewidth": 0,
              "ticks": ""
             }
            },
            "type": "scatter3d"
           }
          ],
          "scattercarpet": [
           {
            "marker": {
             "colorbar": {
              "outlinewidth": 0,
              "ticks": ""
             }
            },
            "type": "scattercarpet"
           }
          ],
          "scattergeo": [
           {
            "marker": {
             "colorbar": {
              "outlinewidth": 0,
              "ticks": ""
             }
            },
            "type": "scattergeo"
           }
          ],
          "scattergl": [
           {
            "marker": {
             "colorbar": {
              "outlinewidth": 0,
              "ticks": ""
             }
            },
            "type": "scattergl"
           }
          ],
          "scattermap": [
           {
            "marker": {
             "colorbar": {
              "outlinewidth": 0,
              "ticks": ""
             }
            },
            "type": "scattermap"
           }
          ],
          "scattermapbox": [
           {
            "marker": {
             "colorbar": {
              "outlinewidth": 0,
              "ticks": ""
             }
            },
            "type": "scattermapbox"
           }
          ],
          "scatterpolar": [
           {
            "marker": {
             "colorbar": {
              "outlinewidth": 0,
              "ticks": ""
             }
            },
            "type": "scatterpolar"
           }
          ],
          "scatterpolargl": [
           {
            "marker": {
             "colorbar": {
              "outlinewidth": 0,
              "ticks": ""
             }
            },
            "type": "scatterpolargl"
           }
          ],
          "scatterternary": [
           {
            "marker": {
             "colorbar": {
              "outlinewidth": 0,
              "ticks": ""
             }
            },
            "type": "scatterternary"
           }
          ],
          "surface": [
           {
            "colorbar": {
             "outlinewidth": 0,
             "ticks": ""
            },
            "colorscale": [
             [
              0,
              "#0d0887"
             ],
             [
              0.1111111111111111,
              "#46039f"
             ],
             [
              0.2222222222222222,
              "#7201a8"
             ],
             [
              0.3333333333333333,
              "#9c179e"
             ],
             [
              0.4444444444444444,
              "#bd3786"
             ],
             [
              0.5555555555555556,
              "#d8576b"
             ],
             [
              0.6666666666666666,
              "#ed7953"
             ],
             [
              0.7777777777777778,
              "#fb9f3a"
             ],
             [
              0.8888888888888888,
              "#fdca26"
             ],
             [
              1,
              "#f0f921"
             ]
            ],
            "type": "surface"
           }
          ],
          "table": [
           {
            "cells": {
             "fill": {
              "color": "#EBF0F8"
             },
             "line": {
              "color": "white"
             }
            },
            "header": {
             "fill": {
              "color": "#C8D4E3"
             },
             "line": {
              "color": "white"
             }
            },
            "type": "table"
           }
          ]
         },
         "layout": {
          "annotationdefaults": {
           "arrowcolor": "#2a3f5f",
           "arrowhead": 0,
           "arrowwidth": 1
          },
          "autotypenumbers": "strict",
          "coloraxis": {
           "colorbar": {
            "outlinewidth": 0,
            "ticks": ""
           }
          },
          "colorscale": {
           "diverging": [
            [
             0,
             "#8e0152"
            ],
            [
             0.1,
             "#c51b7d"
            ],
            [
             0.2,
             "#de77ae"
            ],
            [
             0.3,
             "#f1b6da"
            ],
            [
             0.4,
             "#fde0ef"
            ],
            [
             0.5,
             "#f7f7f7"
            ],
            [
             0.6,
             "#e6f5d0"
            ],
            [
             0.7,
             "#b8e186"
            ],
            [
             0.8,
             "#7fbc41"
            ],
            [
             0.9,
             "#4d9221"
            ],
            [
             1,
             "#276419"
            ]
           ],
           "sequential": [
            [
             0,
             "#0d0887"
            ],
            [
             0.1111111111111111,
             "#46039f"
            ],
            [
             0.2222222222222222,
             "#7201a8"
            ],
            [
             0.3333333333333333,
             "#9c179e"
            ],
            [
             0.4444444444444444,
             "#bd3786"
            ],
            [
             0.5555555555555556,
             "#d8576b"
            ],
            [
             0.6666666666666666,
             "#ed7953"
            ],
            [
             0.7777777777777778,
             "#fb9f3a"
            ],
            [
             0.8888888888888888,
             "#fdca26"
            ],
            [
             1,
             "#f0f921"
            ]
           ],
           "sequentialminus": [
            [
             0,
             "#0d0887"
            ],
            [
             0.1111111111111111,
             "#46039f"
            ],
            [
             0.2222222222222222,
             "#7201a8"
            ],
            [
             0.3333333333333333,
             "#9c179e"
            ],
            [
             0.4444444444444444,
             "#bd3786"
            ],
            [
             0.5555555555555556,
             "#d8576b"
            ],
            [
             0.6666666666666666,
             "#ed7953"
            ],
            [
             0.7777777777777778,
             "#fb9f3a"
            ],
            [
             0.8888888888888888,
             "#fdca26"
            ],
            [
             1,
             "#f0f921"
            ]
           ]
          },
          "colorway": [
           "#636efa",
           "#EF553B",
           "#00cc96",
           "#ab63fa",
           "#FFA15A",
           "#19d3f3",
           "#FF6692",
           "#B6E880",
           "#FF97FF",
           "#FECB52"
          ],
          "font": {
           "color": "#2a3f5f"
          },
          "geo": {
           "bgcolor": "white",
           "lakecolor": "white",
           "landcolor": "#E5ECF6",
           "showlakes": true,
           "showland": true,
           "subunitcolor": "white"
          },
          "hoverlabel": {
           "align": "left"
          },
          "hovermode": "closest",
          "mapbox": {
           "style": "light"
          },
          "paper_bgcolor": "white",
          "plot_bgcolor": "#E5ECF6",
          "polar": {
           "angularaxis": {
            "gridcolor": "white",
            "linecolor": "white",
            "ticks": ""
           },
           "bgcolor": "#E5ECF6",
           "radialaxis": {
            "gridcolor": "white",
            "linecolor": "white",
            "ticks": ""
           }
          },
          "scene": {
           "xaxis": {
            "backgroundcolor": "#E5ECF6",
            "gridcolor": "white",
            "gridwidth": 2,
            "linecolor": "white",
            "showbackground": true,
            "ticks": "",
            "zerolinecolor": "white"
           },
           "yaxis": {
            "backgroundcolor": "#E5ECF6",
            "gridcolor": "white",
            "gridwidth": 2,
            "linecolor": "white",
            "showbackground": true,
            "ticks": "",
            "zerolinecolor": "white"
           },
           "zaxis": {
            "backgroundcolor": "#E5ECF6",
            "gridcolor": "white",
            "gridwidth": 2,
            "linecolor": "white",
            "showbackground": true,
            "ticks": "",
            "zerolinecolor": "white"
           }
          },
          "shapedefaults": {
           "line": {
            "color": "#2a3f5f"
           }
          },
          "ternary": {
           "aaxis": {
            "gridcolor": "white",
            "linecolor": "white",
            "ticks": ""
           },
           "baxis": {
            "gridcolor": "white",
            "linecolor": "white",
            "ticks": ""
           },
           "bgcolor": "#E5ECF6",
           "caxis": {
            "gridcolor": "white",
            "linecolor": "white",
            "ticks": ""
           }
          },
          "title": {
           "x": 0.05
          },
          "xaxis": {
           "automargin": true,
           "gridcolor": "white",
           "linecolor": "white",
           "ticks": "",
           "title": {
            "standoff": 15
           },
           "zerolinecolor": "white",
           "zerolinewidth": 2
          },
          "yaxis": {
           "automargin": true,
           "gridcolor": "white",
           "linecolor": "white",
           "ticks": "",
           "title": {
            "standoff": 15
           },
           "zerolinecolor": "white",
           "zerolinewidth": 2
          }
         }
        },
        "title": {
         "text": "Topic Engagement Landscape: Views vs Comments (Bubble = Likes)"
        },
        "xaxis": {
         "anchor": "y",
         "domain": [
          0,
          1
         ],
         "title": {
          "text": "Views per Topic"
         }
        },
        "yaxis": {
         "anchor": "x",
         "domain": [
          0,
          1
         ],
         "title": {
          "text": "Comments per Topic"
         }
        }
       }
      }
     },
     "metadata": {},
     "output_type": "display_data"
    }
   ],
   "source": [
    "import plotly.express as px\n",
    "\n",
    "fig = px.scatter(\n",
    "    topic_stats,\n",
    "    x=\"view_count\",\n",
    "    y=\"comment_count\",\n",
    "    size=\"video_like_count\",\n",
    "    color=\"weighted_score\",\n",
    "    hover_name=\"Topic_Category\",\n",
    "    title=\"Topic Engagement Landscape: Views vs Comments (Bubble = Likes)\",\n",
    "    color_continuous_scale=\"YlGnBu\",\n",
    "    size_max=50,\n",
    ")\n",
    "\n",
    "fig.update_layout(\n",
    "    xaxis_title=\"Views per Topic\",\n",
    "    yaxis_title=\"Comments per Topic\",\n",
    "    height=600,\n",
    "    plot_bgcolor=\"white\",\n",
    "    paper_bgcolor=\"white\",\n",
    "    font=dict(color=\"black\", size=12),\n",
    ")\n",
    "\n",
    "# Improve bubble visibility and clarity\n",
    "fig.update_traces(\n",
    "    marker=dict(\n",
    "        line=dict(width=1, color=\"black\"),\n",
    "        opacity=0.85\n",
    "    )\n",
    ")\n",
    "\n",
    "fig.show()\n"
   ]
  },
  {
   "cell_type": "code",
   "execution_count": 40,
   "id": "d1fb12f3",
   "metadata": {},
   "outputs": [
    {
     "data": {
      "application/vnd.plotly.v1+json": {
       "config": {
        "plotlyServerURL": "https://plot.ly"
       },
       "data": [
        {
         "alignmentgroup": "True",
         "hovertemplate": "Metric=view_count<br>Topic_Category=%{x}<br>Score=%{y}<extra></extra>",
         "legendgroup": "view_count",
         "marker": {
          "color": "rgb(8,29,88)",
          "line": {
           "color": "black",
           "width": 0.5
          },
          "pattern": {
           "shape": ""
          }
         },
         "name": "view_count",
         "offsetgroup": "view_count",
         "opacity": 0.9,
         "orientation": "v",
         "showlegend": true,
         "textposition": "outside",
         "texttemplate": "%{y:.0f}",
         "type": "bar",
         "x": [
          "religion / spirituality",
          "finance",
          "technology",
          "entertainment",
          "mental health / psychology",
          "religion/spirituality",
          "entrepreneurship / business",
          "health",
          "relationships",
          "productivity / personal development"
         ],
         "xaxis": "x",
         "y": {
          "bdata": "AAAAQMeMZEEAAAAACkRNQQAAAIArIkhBmpmZmd8FQ0EAAACgkclDQauqqqrkLUJBAAAA4NQzR0FmZmamYp5CQQAAAEB1BzZBAAAAgCb2Q0E=",
          "dtype": "f8"
         },
         "yaxis": "y"
        },
        {
         "alignmentgroup": "True",
         "hovertemplate": "Metric=video_like_count<br>Topic_Category=%{x}<br>Score=%{y}<extra></extra>",
         "legendgroup": "video_like_count",
         "marker": {
          "color": "rgb(37,52,148)",
          "line": {
           "color": "black",
           "width": 0.5
          },
          "pattern": {
           "shape": ""
          }
         },
         "name": "video_like_count",
         "offsetgroup": "video_like_count",
         "opacity": 0.9,
         "orientation": "v",
         "showlegend": true,
         "textposition": "outside",
         "texttemplate": "%{y:.0f}",
         "type": "bar",
         "x": [
          "religion / spirituality",
          "finance",
          "technology",
          "entertainment",
          "mental health / psychology",
          "religion/spirituality",
          "entrepreneurship / business",
          "health",
          "relationships",
          "productivity / personal development"
         ],
         "xaxis": "x",
         "y": {
          "bdata": "AAAAADBnDUEAAAAAqA/zQAAAAADgE+9AzczMzCzu7kCrqqqq7knwQFVVVVWV2O9AAAAAALB28UCamZmZ0abyQAAAAAAA095AVVVVVW3e8UA=",
          "dtype": "f8"
         },
         "yaxis": "y"
        },
        {
         "alignmentgroup": "True",
         "hovertemplate": "Metric=comment_count<br>Topic_Category=%{x}<br>Score=%{y}<extra></extra>",
         "legendgroup": "comment_count",
         "marker": {
          "color": "rgb(34,94,168)",
          "line": {
           "color": "black",
           "width": 0.5
          },
          "pattern": {
           "shape": ""
          }
         },
         "name": "comment_count",
         "offsetgroup": "comment_count",
         "opacity": 0.9,
         "orientation": "v",
         "showlegend": true,
         "textposition": "outside",
         "texttemplate": "%{y:.0f}",
         "type": "bar",
         "x": [
          "religion / spirituality",
          "finance",
          "technology",
          "entertainment",
          "mental health / psychology",
          "religion/spirituality",
          "entrepreneurship / business",
          "health",
          "relationships",
          "productivity / personal development"
         ],
         "xaxis": "x",
         "y": {
          "bdata": "AAAAAABN20AAAAAA4D7cQAAAAAAAb89AAAAAAIAlwECrqqqqagW9QKuqqqqq+7tAAAAAAIAMtkDNzMzMTAW0QAAAAACAJsJAVVVVVVWOrUA=",
          "dtype": "f8"
         },
         "yaxis": "y"
        }
       ],
       "layout": {
        "bargap": 0.25,
        "bargroupgap": 0.05,
        "barmode": "group",
        "font": {
         "color": "black",
         "size": 12
        },
        "height": 600,
        "legend": {
         "title": {
          "text": "Metric"
         },
         "tracegroupgap": 0
        },
        "margin": {
         "b": 80,
         "l": 80,
         "r": 40,
         "t": 60
        },
        "paper_bgcolor": "white",
        "plot_bgcolor": "white",
        "template": {
         "data": {
          "bar": [
           {
            "error_x": {
             "color": "#2a3f5f"
            },
            "error_y": {
             "color": "#2a3f5f"
            },
            "marker": {
             "line": {
              "color": "#E5ECF6",
              "width": 0.5
             },
             "pattern": {
              "fillmode": "overlay",
              "size": 10,
              "solidity": 0.2
             }
            },
            "type": "bar"
           }
          ],
          "barpolar": [
           {
            "marker": {
             "line": {
              "color": "#E5ECF6",
              "width": 0.5
             },
             "pattern": {
              "fillmode": "overlay",
              "size": 10,
              "solidity": 0.2
             }
            },
            "type": "barpolar"
           }
          ],
          "carpet": [
           {
            "aaxis": {
             "endlinecolor": "#2a3f5f",
             "gridcolor": "white",
             "linecolor": "white",
             "minorgridcolor": "white",
             "startlinecolor": "#2a3f5f"
            },
            "baxis": {
             "endlinecolor": "#2a3f5f",
             "gridcolor": "white",
             "linecolor": "white",
             "minorgridcolor": "white",
             "startlinecolor": "#2a3f5f"
            },
            "type": "carpet"
           }
          ],
          "choropleth": [
           {
            "colorbar": {
             "outlinewidth": 0,
             "ticks": ""
            },
            "type": "choropleth"
           }
          ],
          "contour": [
           {
            "colorbar": {
             "outlinewidth": 0,
             "ticks": ""
            },
            "colorscale": [
             [
              0,
              "#0d0887"
             ],
             [
              0.1111111111111111,
              "#46039f"
             ],
             [
              0.2222222222222222,
              "#7201a8"
             ],
             [
              0.3333333333333333,
              "#9c179e"
             ],
             [
              0.4444444444444444,
              "#bd3786"
             ],
             [
              0.5555555555555556,
              "#d8576b"
             ],
             [
              0.6666666666666666,
              "#ed7953"
             ],
             [
              0.7777777777777778,
              "#fb9f3a"
             ],
             [
              0.8888888888888888,
              "#fdca26"
             ],
             [
              1,
              "#f0f921"
             ]
            ],
            "type": "contour"
           }
          ],
          "contourcarpet": [
           {
            "colorbar": {
             "outlinewidth": 0,
             "ticks": ""
            },
            "type": "contourcarpet"
           }
          ],
          "heatmap": [
           {
            "colorbar": {
             "outlinewidth": 0,
             "ticks": ""
            },
            "colorscale": [
             [
              0,
              "#0d0887"
             ],
             [
              0.1111111111111111,
              "#46039f"
             ],
             [
              0.2222222222222222,
              "#7201a8"
             ],
             [
              0.3333333333333333,
              "#9c179e"
             ],
             [
              0.4444444444444444,
              "#bd3786"
             ],
             [
              0.5555555555555556,
              "#d8576b"
             ],
             [
              0.6666666666666666,
              "#ed7953"
             ],
             [
              0.7777777777777778,
              "#fb9f3a"
             ],
             [
              0.8888888888888888,
              "#fdca26"
             ],
             [
              1,
              "#f0f921"
             ]
            ],
            "type": "heatmap"
           }
          ],
          "histogram": [
           {
            "marker": {
             "pattern": {
              "fillmode": "overlay",
              "size": 10,
              "solidity": 0.2
             }
            },
            "type": "histogram"
           }
          ],
          "histogram2d": [
           {
            "colorbar": {
             "outlinewidth": 0,
             "ticks": ""
            },
            "colorscale": [
             [
              0,
              "#0d0887"
             ],
             [
              0.1111111111111111,
              "#46039f"
             ],
             [
              0.2222222222222222,
              "#7201a8"
             ],
             [
              0.3333333333333333,
              "#9c179e"
             ],
             [
              0.4444444444444444,
              "#bd3786"
             ],
             [
              0.5555555555555556,
              "#d8576b"
             ],
             [
              0.6666666666666666,
              "#ed7953"
             ],
             [
              0.7777777777777778,
              "#fb9f3a"
             ],
             [
              0.8888888888888888,
              "#fdca26"
             ],
             [
              1,
              "#f0f921"
             ]
            ],
            "type": "histogram2d"
           }
          ],
          "histogram2dcontour": [
           {
            "colorbar": {
             "outlinewidth": 0,
             "ticks": ""
            },
            "colorscale": [
             [
              0,
              "#0d0887"
             ],
             [
              0.1111111111111111,
              "#46039f"
             ],
             [
              0.2222222222222222,
              "#7201a8"
             ],
             [
              0.3333333333333333,
              "#9c179e"
             ],
             [
              0.4444444444444444,
              "#bd3786"
             ],
             [
              0.5555555555555556,
              "#d8576b"
             ],
             [
              0.6666666666666666,
              "#ed7953"
             ],
             [
              0.7777777777777778,
              "#fb9f3a"
             ],
             [
              0.8888888888888888,
              "#fdca26"
             ],
             [
              1,
              "#f0f921"
             ]
            ],
            "type": "histogram2dcontour"
           }
          ],
          "mesh3d": [
           {
            "colorbar": {
             "outlinewidth": 0,
             "ticks": ""
            },
            "type": "mesh3d"
           }
          ],
          "parcoords": [
           {
            "line": {
             "colorbar": {
              "outlinewidth": 0,
              "ticks": ""
             }
            },
            "type": "parcoords"
           }
          ],
          "pie": [
           {
            "automargin": true,
            "type": "pie"
           }
          ],
          "scatter": [
           {
            "fillpattern": {
             "fillmode": "overlay",
             "size": 10,
             "solidity": 0.2
            },
            "type": "scatter"
           }
          ],
          "scatter3d": [
           {
            "line": {
             "colorbar": {
              "outlinewidth": 0,
              "ticks": ""
             }
            },
            "marker": {
             "colorbar": {
              "outlinewidth": 0,
              "ticks": ""
             }
            },
            "type": "scatter3d"
           }
          ],
          "scattercarpet": [
           {
            "marker": {
             "colorbar": {
              "outlinewidth": 0,
              "ticks": ""
             }
            },
            "type": "scattercarpet"
           }
          ],
          "scattergeo": [
           {
            "marker": {
             "colorbar": {
              "outlinewidth": 0,
              "ticks": ""
             }
            },
            "type": "scattergeo"
           }
          ],
          "scattergl": [
           {
            "marker": {
             "colorbar": {
              "outlinewidth": 0,
              "ticks": ""
             }
            },
            "type": "scattergl"
           }
          ],
          "scattermap": [
           {
            "marker": {
             "colorbar": {
              "outlinewidth": 0,
              "ticks": ""
             }
            },
            "type": "scattermap"
           }
          ],
          "scattermapbox": [
           {
            "marker": {
             "colorbar": {
              "outlinewidth": 0,
              "ticks": ""
             }
            },
            "type": "scattermapbox"
           }
          ],
          "scatterpolar": [
           {
            "marker": {
             "colorbar": {
              "outlinewidth": 0,
              "ticks": ""
             }
            },
            "type": "scatterpolar"
           }
          ],
          "scatterpolargl": [
           {
            "marker": {
             "colorbar": {
              "outlinewidth": 0,
              "ticks": ""
             }
            },
            "type": "scatterpolargl"
           }
          ],
          "scatterternary": [
           {
            "marker": {
             "colorbar": {
              "outlinewidth": 0,
              "ticks": ""
             }
            },
            "type": "scatterternary"
           }
          ],
          "surface": [
           {
            "colorbar": {
             "outlinewidth": 0,
             "ticks": ""
            },
            "colorscale": [
             [
              0,
              "#0d0887"
             ],
             [
              0.1111111111111111,
              "#46039f"
             ],
             [
              0.2222222222222222,
              "#7201a8"
             ],
             [
              0.3333333333333333,
              "#9c179e"
             ],
             [
              0.4444444444444444,
              "#bd3786"
             ],
             [
              0.5555555555555556,
              "#d8576b"
             ],
             [
              0.6666666666666666,
              "#ed7953"
             ],
             [
              0.7777777777777778,
              "#fb9f3a"
             ],
             [
              0.8888888888888888,
              "#fdca26"
             ],
             [
              1,
              "#f0f921"
             ]
            ],
            "type": "surface"
           }
          ],
          "table": [
           {
            "cells": {
             "fill": {
              "color": "#EBF0F8"
             },
             "line": {
              "color": "white"
             }
            },
            "header": {
             "fill": {
              "color": "#C8D4E3"
             },
             "line": {
              "color": "white"
             }
            },
            "type": "table"
           }
          ]
         },
         "layout": {
          "annotationdefaults": {
           "arrowcolor": "#2a3f5f",
           "arrowhead": 0,
           "arrowwidth": 1
          },
          "autotypenumbers": "strict",
          "coloraxis": {
           "colorbar": {
            "outlinewidth": 0,
            "ticks": ""
           }
          },
          "colorscale": {
           "diverging": [
            [
             0,
             "#8e0152"
            ],
            [
             0.1,
             "#c51b7d"
            ],
            [
             0.2,
             "#de77ae"
            ],
            [
             0.3,
             "#f1b6da"
            ],
            [
             0.4,
             "#fde0ef"
            ],
            [
             0.5,
             "#f7f7f7"
            ],
            [
             0.6,
             "#e6f5d0"
            ],
            [
             0.7,
             "#b8e186"
            ],
            [
             0.8,
             "#7fbc41"
            ],
            [
             0.9,
             "#4d9221"
            ],
            [
             1,
             "#276419"
            ]
           ],
           "sequential": [
            [
             0,
             "#0d0887"
            ],
            [
             0.1111111111111111,
             "#46039f"
            ],
            [
             0.2222222222222222,
             "#7201a8"
            ],
            [
             0.3333333333333333,
             "#9c179e"
            ],
            [
             0.4444444444444444,
             "#bd3786"
            ],
            [
             0.5555555555555556,
             "#d8576b"
            ],
            [
             0.6666666666666666,
             "#ed7953"
            ],
            [
             0.7777777777777778,
             "#fb9f3a"
            ],
            [
             0.8888888888888888,
             "#fdca26"
            ],
            [
             1,
             "#f0f921"
            ]
           ],
           "sequentialminus": [
            [
             0,
             "#0d0887"
            ],
            [
             0.1111111111111111,
             "#46039f"
            ],
            [
             0.2222222222222222,
             "#7201a8"
            ],
            [
             0.3333333333333333,
             "#9c179e"
            ],
            [
             0.4444444444444444,
             "#bd3786"
            ],
            [
             0.5555555555555556,
             "#d8576b"
            ],
            [
             0.6666666666666666,
             "#ed7953"
            ],
            [
             0.7777777777777778,
             "#fb9f3a"
            ],
            [
             0.8888888888888888,
             "#fdca26"
            ],
            [
             1,
             "#f0f921"
            ]
           ]
          },
          "colorway": [
           "#636efa",
           "#EF553B",
           "#00cc96",
           "#ab63fa",
           "#FFA15A",
           "#19d3f3",
           "#FF6692",
           "#B6E880",
           "#FF97FF",
           "#FECB52"
          ],
          "font": {
           "color": "#2a3f5f"
          },
          "geo": {
           "bgcolor": "white",
           "lakecolor": "white",
           "landcolor": "#E5ECF6",
           "showlakes": true,
           "showland": true,
           "subunitcolor": "white"
          },
          "hoverlabel": {
           "align": "left"
          },
          "hovermode": "closest",
          "mapbox": {
           "style": "light"
          },
          "paper_bgcolor": "white",
          "plot_bgcolor": "#E5ECF6",
          "polar": {
           "angularaxis": {
            "gridcolor": "white",
            "linecolor": "white",
            "ticks": ""
           },
           "bgcolor": "#E5ECF6",
           "radialaxis": {
            "gridcolor": "white",
            "linecolor": "white",
            "ticks": ""
           }
          },
          "scene": {
           "xaxis": {
            "backgroundcolor": "#E5ECF6",
            "gridcolor": "white",
            "gridwidth": 2,
            "linecolor": "white",
            "showbackground": true,
            "ticks": "",
            "zerolinecolor": "white"
           },
           "yaxis": {
            "backgroundcolor": "#E5ECF6",
            "gridcolor": "white",
            "gridwidth": 2,
            "linecolor": "white",
            "showbackground": true,
            "ticks": "",
            "zerolinecolor": "white"
           },
           "zaxis": {
            "backgroundcolor": "#E5ECF6",
            "gridcolor": "white",
            "gridwidth": 2,
            "linecolor": "white",
            "showbackground": true,
            "ticks": "",
            "zerolinecolor": "white"
           }
          },
          "shapedefaults": {
           "line": {
            "color": "#2a3f5f"
           }
          },
          "ternary": {
           "aaxis": {
            "gridcolor": "white",
            "linecolor": "white",
            "ticks": ""
           },
           "baxis": {
            "gridcolor": "white",
            "linecolor": "white",
            "ticks": ""
           },
           "bgcolor": "#E5ECF6",
           "caxis": {
            "gridcolor": "white",
            "linecolor": "white",
            "ticks": ""
           }
          },
          "title": {
           "x": 0.05
          },
          "xaxis": {
           "automargin": true,
           "gridcolor": "white",
           "linecolor": "white",
           "ticks": "",
           "title": {
            "standoff": 15
           },
           "zerolinecolor": "white",
           "zerolinewidth": 2
          },
          "yaxis": {
           "automargin": true,
           "gridcolor": "white",
           "linecolor": "white",
           "ticks": "",
           "title": {
            "standoff": 15
           },
           "zerolinecolor": "white",
           "zerolinewidth": 2
          }
         }
        },
        "title": {
         "text": "Topic KPI Comparison (Log Scale, Sorted by Engagement)"
        },
        "xaxis": {
         "anchor": "y",
         "domain": [
          0,
          1
         ],
         "tickangle": 45,
         "title": {
          "text": "Topic Category (Sorted by Weighted Score)"
         }
        },
        "yaxis": {
         "anchor": "x",
         "domain": [
          0,
          1
         ],
         "title": {
          "text": "KPI (Log Scale)"
         },
         "type": "log"
        }
       }
      }
     },
     "metadata": {},
     "output_type": "display_data"
    }
   ],
   "source": [
    "import plotly.express as px\n",
    "\n",
    "# Sort topics by weighted_score descending\n",
    "topic_sorted = topic_stats.sort_values(\"weighted_score\", ascending=False)\n",
    "\n",
    "# Melt for multi-metric comparison\n",
    "melted = topic_sorted.melt(\n",
    "    id_vars=[\"Topic_Category\", \"weighted_score\"],\n",
    "    value_vars=[\"view_count\", \"video_like_count\", \"comment_count\"],\n",
    "    var_name=\"Metric\",\n",
    "    value_name=\"Score\"\n",
    ")\n",
    "\n",
    "# Create grouped bar chart (log scale)\n",
    "fig = px.bar(\n",
    "    melted,\n",
    "    x=\"Topic_Category\",\n",
    "    y=\"Score\",\n",
    "    color=\"Metric\",\n",
    "    barmode=\"group\",\n",
    "    title=\"Topic KPI Comparison (Log Scale, Sorted by Engagement)\",\n",
    "    color_discrete_sequence=px.colors.sequential.YlGnBu[::-1]\n",
    ")\n",
    "\n",
    "# Layout and design improvements\n",
    "fig.update_layout(\n",
    "    xaxis_title=\"Topic Category (Sorted by Weighted Score)\",\n",
    "    yaxis_title=\"KPI (Log Scale)\",\n",
    "    yaxis_type=\"log\",\n",
    "    bargap=0.25,\n",
    "    bargroupgap=0.05,\n",
    "    height=600,\n",
    "    legend_title_text=\"Metric\",\n",
    "    plot_bgcolor=\"white\",\n",
    "    paper_bgcolor=\"white\",\n",
    "    font=dict(color=\"black\", size=12),\n",
    "    margin=dict(l=80, r=40, t=60, b=80)\n",
    ")\n",
    "\n",
    "# Rotate names and tidy up bars\n",
    "fig.update_xaxes(tickangle=45)\n",
    "fig.update_traces(\n",
    "    marker_line_color=\"black\",\n",
    "    marker_line_width=0.5,\n",
    "    opacity=0.9,\n",
    "    texttemplate=\"%{y:.0f}\",\n",
    "    textposition=\"outside\"\n",
    ")\n",
    "\n",
    "fig.show()"
   ]
  },
  {
   "cell_type": "code",
   "execution_count": 41,
   "id": "c90b2e4d",
   "metadata": {},
   "outputs": [
    {
     "data": {
      "application/vnd.plotly.v1+json": {
       "config": {
        "plotlyServerURL": "https://plot.ly"
       },
       "data": [
        {
         "colorscale": [
          [
           0,
           "rgb(255,255,217)"
          ],
          [
           0.125,
           "rgb(237,248,177)"
          ],
          [
           0.25,
           "rgb(199,233,180)"
          ],
          [
           0.375,
           "rgb(127,205,187)"
          ],
          [
           0.5,
           "rgb(65,182,196)"
          ],
          [
           0.625,
           "rgb(29,145,192)"
          ],
          [
           0.75,
           "rgb(34,94,168)"
          ],
          [
           0.875,
           "rgb(37,52,148)"
          ],
          [
           1,
           "rgb(8,29,88)"
          ]
         ],
         "hoverinfo": "z",
         "reversescale": false,
         "showscale": true,
         "type": "heatmap",
         "x": [
          "Views",
          "Likes",
          "Comments"
         ],
         "y": [
          "productivity / personal development",
          "health",
          "entrepreneurship / business",
          "religion/spirituality",
          "mental health / psychology",
          "entertainment",
          "relationships",
          "technology",
          "religion / spirituality",
          "finance"
         ],
         "z": {
          "bdata": "6h9FQXkWwD/WxAWb6HTJPwAAAAAAAAAA9DtU661Yuz9WEqUB3mrLP9CIK49dVas/smRv+1jqxT88npp4DXHIP7r+1xEj9LI/iKqI7SDEuT8AA1upIpXEP3bRhN4nNsE/+BOQ3J6Mvz9YP57TsX/FPzBXMgWJkMI/aHc9atnMvD9CsrpYjW/DP75Jv4w+1MY/AAAAAAAAAAAAAAAAAAAAANRGy1CJDcw/UkC9KemWxz+EsZ7uxJ7DP/ohCPT9Vt8/AAAAAAAA8D8AAAAAAADwP4UaYUC9xO4/NVE1arVo0D86DmgueXHMPwAAAAAAAPA/",
          "dtype": "f8",
          "shape": "10, 3"
         }
        }
       ],
       "layout": {
        "annotations": [
         {
          "font": {
           "color": "#000000"
          },
          "showarrow": false,
          "text": "0.13",
          "x": "Views",
          "xref": "x",
          "y": "productivity / personal development",
          "yref": "y"
         },
         {
          "font": {
           "color": "#000000"
          },
          "showarrow": false,
          "text": "0.20",
          "x": "Likes",
          "xref": "x",
          "y": "productivity / personal development",
          "yref": "y"
         },
         {
          "font": {
           "color": "#000000"
          },
          "showarrow": false,
          "text": "0.00",
          "x": "Comments",
          "xref": "x",
          "y": "productivity / personal development",
          "yref": "y"
         },
         {
          "font": {
           "color": "#000000"
          },
          "showarrow": false,
          "text": "0.11",
          "x": "Views",
          "xref": "x",
          "y": "health",
          "yref": "y"
         },
         {
          "font": {
           "color": "#000000"
          },
          "showarrow": false,
          "text": "0.21",
          "x": "Likes",
          "xref": "x",
          "y": "health",
          "yref": "y"
         },
         {
          "font": {
           "color": "#000000"
          },
          "showarrow": false,
          "text": "0.05",
          "x": "Comments",
          "xref": "x",
          "y": "health",
          "yref": "y"
         },
         {
          "font": {
           "color": "#000000"
          },
          "showarrow": false,
          "text": "0.17",
          "x": "Views",
          "xref": "x",
          "y": "entrepreneurship / business",
          "yref": "y"
         },
         {
          "font": {
           "color": "#000000"
          },
          "showarrow": false,
          "text": "0.19",
          "x": "Likes",
          "xref": "x",
          "y": "entrepreneurship / business",
          "yref": "y"
         },
         {
          "font": {
           "color": "#000000"
          },
          "showarrow": false,
          "text": "0.07",
          "x": "Comments",
          "xref": "x",
          "y": "entrepreneurship / business",
          "yref": "y"
         },
         {
          "font": {
           "color": "#000000"
          },
          "showarrow": false,
          "text": "0.10",
          "x": "Views",
          "xref": "x",
          "y": "religion/spirituality",
          "yref": "y"
         },
         {
          "font": {
           "color": "#000000"
          },
          "showarrow": false,
          "text": "0.16",
          "x": "Likes",
          "xref": "x",
          "y": "religion/spirituality",
          "yref": "y"
         },
         {
          "font": {
           "color": "#000000"
          },
          "showarrow": false,
          "text": "0.13",
          "x": "Comments",
          "xref": "x",
          "y": "religion/spirituality",
          "yref": "y"
         },
         {
          "font": {
           "color": "#000000"
          },
          "showarrow": false,
          "text": "0.12",
          "x": "Views",
          "xref": "x",
          "y": "mental health / psychology",
          "yref": "y"
         },
         {
          "font": {
           "color": "#000000"
          },
          "showarrow": false,
          "text": "0.17",
          "x": "Likes",
          "xref": "x",
          "y": "mental health / psychology",
          "yref": "y"
         },
         {
          "font": {
           "color": "#000000"
          },
          "showarrow": false,
          "text": "0.15",
          "x": "Comments",
          "xref": "x",
          "y": "mental health / psychology",
          "yref": "y"
         },
         {
          "font": {
           "color": "#000000"
          },
          "showarrow": false,
          "text": "0.11",
          "x": "Views",
          "xref": "x",
          "y": "entertainment",
          "yref": "y"
         },
         {
          "font": {
           "color": "#000000"
          },
          "showarrow": false,
          "text": "0.15",
          "x": "Likes",
          "xref": "x",
          "y": "entertainment",
          "yref": "y"
         },
         {
          "font": {
           "color": "#000000"
          },
          "showarrow": false,
          "text": "0.18",
          "x": "Comments",
          "xref": "x",
          "y": "entertainment",
          "yref": "y"
         },
         {
          "font": {
           "color": "#000000"
          },
          "showarrow": false,
          "text": "0.00",
          "x": "Views",
          "xref": "x",
          "y": "relationships",
          "yref": "y"
         },
         {
          "font": {
           "color": "#000000"
          },
          "showarrow": false,
          "text": "0.00",
          "x": "Likes",
          "xref": "x",
          "y": "relationships",
          "yref": "y"
         },
         {
          "font": {
           "color": "#000000"
          },
          "showarrow": false,
          "text": "0.22",
          "x": "Comments",
          "xref": "x",
          "y": "relationships",
          "yref": "y"
         },
         {
          "font": {
           "color": "#000000"
          },
          "showarrow": false,
          "text": "0.18",
          "x": "Views",
          "xref": "x",
          "y": "technology",
          "yref": "y"
         },
         {
          "font": {
           "color": "#000000"
          },
          "showarrow": false,
          "text": "0.15",
          "x": "Likes",
          "xref": "x",
          "y": "technology",
          "yref": "y"
         },
         {
          "font": {
           "color": "#000000"
          },
          "showarrow": false,
          "text": "0.49",
          "x": "Comments",
          "xref": "x",
          "y": "technology",
          "yref": "y"
         },
         {
          "font": {
           "color": "#FFFFFF"
          },
          "showarrow": false,
          "text": "1.00",
          "x": "Views",
          "xref": "x",
          "y": "religion / spirituality",
          "yref": "y"
         },
         {
          "font": {
           "color": "#FFFFFF"
          },
          "showarrow": false,
          "text": "1.00",
          "x": "Likes",
          "xref": "x",
          "y": "religion / spirituality",
          "yref": "y"
         },
         {
          "font": {
           "color": "#FFFFFF"
          },
          "showarrow": false,
          "text": "0.96",
          "x": "Comments",
          "xref": "x",
          "y": "religion / spirituality",
          "yref": "y"
         },
         {
          "font": {
           "color": "#000000"
          },
          "showarrow": false,
          "text": "0.26",
          "x": "Views",
          "xref": "x",
          "y": "finance",
          "yref": "y"
         },
         {
          "font": {
           "color": "#000000"
          },
          "showarrow": false,
          "text": "0.22",
          "x": "Likes",
          "xref": "x",
          "y": "finance",
          "yref": "y"
         },
         {
          "font": {
           "color": "#FFFFFF"
          },
          "showarrow": false,
          "text": "1.00",
          "x": "Comments",
          "xref": "x",
          "y": "finance",
          "yref": "y"
         }
        ],
        "font": {
         "color": "black",
         "size": 12
        },
        "height": 650,
        "margin": {
         "b": 40,
         "l": 150,
         "r": 50,
         "t": 70
        },
        "paper_bgcolor": "white",
        "plot_bgcolor": "white",
        "template": {
         "data": {
          "bar": [
           {
            "error_x": {
             "color": "#2a3f5f"
            },
            "error_y": {
             "color": "#2a3f5f"
            },
            "marker": {
             "line": {
              "color": "#E5ECF6",
              "width": 0.5
             },
             "pattern": {
              "fillmode": "overlay",
              "size": 10,
              "solidity": 0.2
             }
            },
            "type": "bar"
           }
          ],
          "barpolar": [
           {
            "marker": {
             "line": {
              "color": "#E5ECF6",
              "width": 0.5
             },
             "pattern": {
              "fillmode": "overlay",
              "size": 10,
              "solidity": 0.2
             }
            },
            "type": "barpolar"
           }
          ],
          "carpet": [
           {
            "aaxis": {
             "endlinecolor": "#2a3f5f",
             "gridcolor": "white",
             "linecolor": "white",
             "minorgridcolor": "white",
             "startlinecolor": "#2a3f5f"
            },
            "baxis": {
             "endlinecolor": "#2a3f5f",
             "gridcolor": "white",
             "linecolor": "white",
             "minorgridcolor": "white",
             "startlinecolor": "#2a3f5f"
            },
            "type": "carpet"
           }
          ],
          "choropleth": [
           {
            "colorbar": {
             "outlinewidth": 0,
             "ticks": ""
            },
            "type": "choropleth"
           }
          ],
          "contour": [
           {
            "colorbar": {
             "outlinewidth": 0,
             "ticks": ""
            },
            "colorscale": [
             [
              0,
              "#0d0887"
             ],
             [
              0.1111111111111111,
              "#46039f"
             ],
             [
              0.2222222222222222,
              "#7201a8"
             ],
             [
              0.3333333333333333,
              "#9c179e"
             ],
             [
              0.4444444444444444,
              "#bd3786"
             ],
             [
              0.5555555555555556,
              "#d8576b"
             ],
             [
              0.6666666666666666,
              "#ed7953"
             ],
             [
              0.7777777777777778,
              "#fb9f3a"
             ],
             [
              0.8888888888888888,
              "#fdca26"
             ],
             [
              1,
              "#f0f921"
             ]
            ],
            "type": "contour"
           }
          ],
          "contourcarpet": [
           {
            "colorbar": {
             "outlinewidth": 0,
             "ticks": ""
            },
            "type": "contourcarpet"
           }
          ],
          "heatmap": [
           {
            "colorbar": {
             "outlinewidth": 0,
             "ticks": ""
            },
            "colorscale": [
             [
              0,
              "#0d0887"
             ],
             [
              0.1111111111111111,
              "#46039f"
             ],
             [
              0.2222222222222222,
              "#7201a8"
             ],
             [
              0.3333333333333333,
              "#9c179e"
             ],
             [
              0.4444444444444444,
              "#bd3786"
             ],
             [
              0.5555555555555556,
              "#d8576b"
             ],
             [
              0.6666666666666666,
              "#ed7953"
             ],
             [
              0.7777777777777778,
              "#fb9f3a"
             ],
             [
              0.8888888888888888,
              "#fdca26"
             ],
             [
              1,
              "#f0f921"
             ]
            ],
            "type": "heatmap"
           }
          ],
          "histogram": [
           {
            "marker": {
             "pattern": {
              "fillmode": "overlay",
              "size": 10,
              "solidity": 0.2
             }
            },
            "type": "histogram"
           }
          ],
          "histogram2d": [
           {
            "colorbar": {
             "outlinewidth": 0,
             "ticks": ""
            },
            "colorscale": [
             [
              0,
              "#0d0887"
             ],
             [
              0.1111111111111111,
              "#46039f"
             ],
             [
              0.2222222222222222,
              "#7201a8"
             ],
             [
              0.3333333333333333,
              "#9c179e"
             ],
             [
              0.4444444444444444,
              "#bd3786"
             ],
             [
              0.5555555555555556,
              "#d8576b"
             ],
             [
              0.6666666666666666,
              "#ed7953"
             ],
             [
              0.7777777777777778,
              "#fb9f3a"
             ],
             [
              0.8888888888888888,
              "#fdca26"
             ],
             [
              1,
              "#f0f921"
             ]
            ],
            "type": "histogram2d"
           }
          ],
          "histogram2dcontour": [
           {
            "colorbar": {
             "outlinewidth": 0,
             "ticks": ""
            },
            "colorscale": [
             [
              0,
              "#0d0887"
             ],
             [
              0.1111111111111111,
              "#46039f"
             ],
             [
              0.2222222222222222,
              "#7201a8"
             ],
             [
              0.3333333333333333,
              "#9c179e"
             ],
             [
              0.4444444444444444,
              "#bd3786"
             ],
             [
              0.5555555555555556,
              "#d8576b"
             ],
             [
              0.6666666666666666,
              "#ed7953"
             ],
             [
              0.7777777777777778,
              "#fb9f3a"
             ],
             [
              0.8888888888888888,
              "#fdca26"
             ],
             [
              1,
              "#f0f921"
             ]
            ],
            "type": "histogram2dcontour"
           }
          ],
          "mesh3d": [
           {
            "colorbar": {
             "outlinewidth": 0,
             "ticks": ""
            },
            "type": "mesh3d"
           }
          ],
          "parcoords": [
           {
            "line": {
             "colorbar": {
              "outlinewidth": 0,
              "ticks": ""
             }
            },
            "type": "parcoords"
           }
          ],
          "pie": [
           {
            "automargin": true,
            "type": "pie"
           }
          ],
          "scatter": [
           {
            "fillpattern": {
             "fillmode": "overlay",
             "size": 10,
             "solidity": 0.2
            },
            "type": "scatter"
           }
          ],
          "scatter3d": [
           {
            "line": {
             "colorbar": {
              "outlinewidth": 0,
              "ticks": ""
             }
            },
            "marker": {
             "colorbar": {
              "outlinewidth": 0,
              "ticks": ""
             }
            },
            "type": "scatter3d"
           }
          ],
          "scattercarpet": [
           {
            "marker": {
             "colorbar": {
              "outlinewidth": 0,
              "ticks": ""
             }
            },
            "type": "scattercarpet"
           }
          ],
          "scattergeo": [
           {
            "marker": {
             "colorbar": {
              "outlinewidth": 0,
              "ticks": ""
             }
            },
            "type": "scattergeo"
           }
          ],
          "scattergl": [
           {
            "marker": {
             "colorbar": {
              "outlinewidth": 0,
              "ticks": ""
             }
            },
            "type": "scattergl"
           }
          ],
          "scattermap": [
           {
            "marker": {
             "colorbar": {
              "outlinewidth": 0,
              "ticks": ""
             }
            },
            "type": "scattermap"
           }
          ],
          "scattermapbox": [
           {
            "marker": {
             "colorbar": {
              "outlinewidth": 0,
              "ticks": ""
             }
            },
            "type": "scattermapbox"
           }
          ],
          "scatterpolar": [
           {
            "marker": {
             "colorbar": {
              "outlinewidth": 0,
              "ticks": ""
             }
            },
            "type": "scatterpolar"
           }
          ],
          "scatterpolargl": [
           {
            "marker": {
             "colorbar": {
              "outlinewidth": 0,
              "ticks": ""
             }
            },
            "type": "scatterpolargl"
           }
          ],
          "scatterternary": [
           {
            "marker": {
             "colorbar": {
              "outlinewidth": 0,
              "ticks": ""
             }
            },
            "type": "scatterternary"
           }
          ],
          "surface": [
           {
            "colorbar": {
             "outlinewidth": 0,
             "ticks": ""
            },
            "colorscale": [
             [
              0,
              "#0d0887"
             ],
             [
              0.1111111111111111,
              "#46039f"
             ],
             [
              0.2222222222222222,
              "#7201a8"
             ],
             [
              0.3333333333333333,
              "#9c179e"
             ],
             [
              0.4444444444444444,
              "#bd3786"
             ],
             [
              0.5555555555555556,
              "#d8576b"
             ],
             [
              0.6666666666666666,
              "#ed7953"
             ],
             [
              0.7777777777777778,
              "#fb9f3a"
             ],
             [
              0.8888888888888888,
              "#fdca26"
             ],
             [
              1,
              "#f0f921"
             ]
            ],
            "type": "surface"
           }
          ],
          "table": [
           {
            "cells": {
             "fill": {
              "color": "#EBF0F8"
             },
             "line": {
              "color": "white"
             }
            },
            "header": {
             "fill": {
              "color": "#C8D4E3"
             },
             "line": {
              "color": "white"
             }
            },
            "type": "table"
           }
          ]
         },
         "layout": {
          "annotationdefaults": {
           "arrowcolor": "#2a3f5f",
           "arrowhead": 0,
           "arrowwidth": 1
          },
          "autotypenumbers": "strict",
          "coloraxis": {
           "colorbar": {
            "outlinewidth": 0,
            "ticks": ""
           }
          },
          "colorscale": {
           "diverging": [
            [
             0,
             "#8e0152"
            ],
            [
             0.1,
             "#c51b7d"
            ],
            [
             0.2,
             "#de77ae"
            ],
            [
             0.3,
             "#f1b6da"
            ],
            [
             0.4,
             "#fde0ef"
            ],
            [
             0.5,
             "#f7f7f7"
            ],
            [
             0.6,
             "#e6f5d0"
            ],
            [
             0.7,
             "#b8e186"
            ],
            [
             0.8,
             "#7fbc41"
            ],
            [
             0.9,
             "#4d9221"
            ],
            [
             1,
             "#276419"
            ]
           ],
           "sequential": [
            [
             0,
             "#0d0887"
            ],
            [
             0.1111111111111111,
             "#46039f"
            ],
            [
             0.2222222222222222,
             "#7201a8"
            ],
            [
             0.3333333333333333,
             "#9c179e"
            ],
            [
             0.4444444444444444,
             "#bd3786"
            ],
            [
             0.5555555555555556,
             "#d8576b"
            ],
            [
             0.6666666666666666,
             "#ed7953"
            ],
            [
             0.7777777777777778,
             "#fb9f3a"
            ],
            [
             0.8888888888888888,
             "#fdca26"
            ],
            [
             1,
             "#f0f921"
            ]
           ],
           "sequentialminus": [
            [
             0,
             "#0d0887"
            ],
            [
             0.1111111111111111,
             "#46039f"
            ],
            [
             0.2222222222222222,
             "#7201a8"
            ],
            [
             0.3333333333333333,
             "#9c179e"
            ],
            [
             0.4444444444444444,
             "#bd3786"
            ],
            [
             0.5555555555555556,
             "#d8576b"
            ],
            [
             0.6666666666666666,
             "#ed7953"
            ],
            [
             0.7777777777777778,
             "#fb9f3a"
            ],
            [
             0.8888888888888888,
             "#fdca26"
            ],
            [
             1,
             "#f0f921"
            ]
           ]
          },
          "colorway": [
           "#636efa",
           "#EF553B",
           "#00cc96",
           "#ab63fa",
           "#FFA15A",
           "#19d3f3",
           "#FF6692",
           "#B6E880",
           "#FF97FF",
           "#FECB52"
          ],
          "font": {
           "color": "#2a3f5f"
          },
          "geo": {
           "bgcolor": "white",
           "lakecolor": "white",
           "landcolor": "#E5ECF6",
           "showlakes": true,
           "showland": true,
           "subunitcolor": "white"
          },
          "hoverlabel": {
           "align": "left"
          },
          "hovermode": "closest",
          "mapbox": {
           "style": "light"
          },
          "paper_bgcolor": "white",
          "plot_bgcolor": "#E5ECF6",
          "polar": {
           "angularaxis": {
            "gridcolor": "white",
            "linecolor": "white",
            "ticks": ""
           },
           "bgcolor": "#E5ECF6",
           "radialaxis": {
            "gridcolor": "white",
            "linecolor": "white",
            "ticks": ""
           }
          },
          "scene": {
           "xaxis": {
            "backgroundcolor": "#E5ECF6",
            "gridcolor": "white",
            "gridwidth": 2,
            "linecolor": "white",
            "showbackground": true,
            "ticks": "",
            "zerolinecolor": "white"
           },
           "yaxis": {
            "backgroundcolor": "#E5ECF6",
            "gridcolor": "white",
            "gridwidth": 2,
            "linecolor": "white",
            "showbackground": true,
            "ticks": "",
            "zerolinecolor": "white"
           },
           "zaxis": {
            "backgroundcolor": "#E5ECF6",
            "gridcolor": "white",
            "gridwidth": 2,
            "linecolor": "white",
            "showbackground": true,
            "ticks": "",
            "zerolinecolor": "white"
           }
          },
          "shapedefaults": {
           "line": {
            "color": "#2a3f5f"
           }
          },
          "ternary": {
           "aaxis": {
            "gridcolor": "white",
            "linecolor": "white",
            "ticks": ""
           },
           "baxis": {
            "gridcolor": "white",
            "linecolor": "white",
            "ticks": ""
           },
           "bgcolor": "#E5ECF6",
           "caxis": {
            "gridcolor": "white",
            "linecolor": "white",
            "ticks": ""
           }
          },
          "title": {
           "x": 0.05
          },
          "xaxis": {
           "automargin": true,
           "gridcolor": "white",
           "linecolor": "white",
           "ticks": "",
           "title": {
            "standoff": 15
           },
           "zerolinecolor": "white",
           "zerolinewidth": 2
          },
          "yaxis": {
           "automargin": true,
           "gridcolor": "white",
           "linecolor": "white",
           "ticks": "",
           "title": {
            "standoff": 15
           },
           "zerolinecolor": "white",
           "zerolinewidth": 2
          }
         }
        },
        "title": {
         "text": "Engagement Intensity by Topic and Metric (Sorted by Comments → Likes)"
        },
        "xaxis": {
         "dtick": 1,
         "gridcolor": "rgb(0, 0, 0)",
         "side": "top",
         "ticks": "",
         "title": {
          "text": "Metric"
         }
        },
        "yaxis": {
         "dtick": 1,
         "ticks": "",
         "ticksuffix": "  ",
         "title": {
          "text": "Topic Category"
         }
        }
       }
      }
     },
     "metadata": {},
     "output_type": "display_data"
    }
   ],
   "source": [
    "import plotly.figure_factory as ff\n",
    "\n",
    "# Sort topics by normalized comment and like counts (descending)\n",
    "topic_sorted = topic_stats.sort_values(\n",
    "    by=[\"comment_count_norm\", \"video_like_count_norm\"],\n",
    "    ascending=[True, True]\n",
    ")\n",
    "\n",
    "# Extract normalized KPI data for the heatmap\n",
    "z = topic_sorted[[\"view_count_norm\", \"video_like_count_norm\", \"comment_count_norm\"]].values\n",
    "x = [\"Views\", \"Likes\", \"Comments\"]\n",
    "y = topic_sorted[\"Topic_Category\"].tolist()\n",
    "\n",
    "# Create annotated heatmap\n",
    "fig = ff.create_annotated_heatmap(\n",
    "    z=z,\n",
    "    x=x,\n",
    "    y=y,\n",
    "    colorscale=\"YlGnBu\",\n",
    "    showscale=True,\n",
    "    annotation_text=[[f\"{val:.2f}\" for val in row] for row in z],  # rounded annotations\n",
    "    hoverinfo=\"z\"\n",
    ")\n",
    "\n",
    "# Layout adjustments for better readability\n",
    "fig.update_layout(\n",
    "    title=\"Engagement Intensity by Topic and Metric (Sorted by Comments → Likes)\",\n",
    "    height=650,\n",
    "    xaxis_title=\"Metric\",\n",
    "    yaxis_title=\"Topic Category\",\n",
    "    plot_bgcolor=\"white\",\n",
    "    paper_bgcolor=\"white\",\n",
    "    font=dict(color=\"black\", size=12),\n",
    "    margin=dict(l=150, r=50, t=70, b=40)\n",
    ")\n",
    "\n",
    "fig.show()\n"
   ]
  },
  {
   "cell_type": "code",
   "execution_count": null,
   "id": "11c8fefc",
   "metadata": {},
   "outputs": [],
   "source": []
  }
 ],
 "metadata": {
  "kernelspec": {
   "display_name": "mle-diary-of-a-ceo",
   "language": "python",
   "name": "python3"
  },
  "language_info": {
   "codemirror_mode": {
    "name": "ipython",
    "version": 3
   },
   "file_extension": ".py",
   "mimetype": "text/x-python",
   "name": "python",
   "nbconvert_exporter": "python",
   "pygments_lexer": "ipython3",
   "version": "3.11.12"
  }
 },
 "nbformat": 4,
 "nbformat_minor": 5
}
