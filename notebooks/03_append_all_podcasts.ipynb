{
 "cells": [
  {
   "cell_type": "code",
   "execution_count": 1,
   "id": "031be0c6",
   "metadata": {},
   "outputs": [],
   "source": [
    "import pandas as pd\n",
    "import os\n",
    "\n",
    "pd.set_option(\"display.max_columns\", None)\n",
    "pd.set_option(\"display.max_rows\", None)"
   ]
  },
  {
   "cell_type": "code",
   "execution_count": 2,
   "id": "dd7d91b4",
   "metadata": {},
   "outputs": [],
   "source": [
    "import os\n",
    "import pandas as pd\n",
    "\n",
    "# Specify the path to the raw datasets directory\n",
    "raw_data_dir = '/Users/riadanas/Desktop/steven_bartlett_project/data/raw'\n",
    "\n",
    "# Get the list of files in the directory\n",
    "files = os.listdir(raw_data_dir)\n",
    "\n",
    "# Filter the files that start with \"2025\"\n",
    "files_2025 = [file for file in files if file.startswith('2025')]\n",
    "\n",
    "# Create an empty dataframe to store the results\n",
    "df_all_pod = pd.DataFrame()\n",
    "\n",
    "# Loop through the filtered files\n",
    "for file in files_2025:\n",
    "    # Read the file into a dataframe\n",
    "    file_path = os.path.join(raw_data_dir, file)\n",
    "    df = pd.read_csv(file_path)\n",
    "    \n",
    "    # Append the dataframe to the result dataframe\n",
    "    df_all_pod = pd.concat([df_all_pod, df])\n",
    "\n",
    "# Now df_all_pod contains all the datasets in '/Users/riadanas/Desktop/steven_bartlett_project/data/raw' that start with \"2025\""
   ]
  },
  {
   "cell_type": "code",
   "execution_count": 3,
   "id": "94cdb669",
   "metadata": {},
   "outputs": [
    {
     "data": {
      "text/plain": [
       "(402054, 18)"
      ]
     },
     "execution_count": 3,
     "metadata": {},
     "output_type": "execute_result"
    }
   ],
   "source": [
    "df_all_pod.shape"
   ]
  },
  {
   "cell_type": "code",
   "execution_count": 4,
   "id": "f1ae4c37",
   "metadata": {},
   "outputs": [
    {
     "data": {
      "text/html": [
       "<div>\n",
       "<style scoped>\n",
       "    .dataframe tbody tr th:only-of-type {\n",
       "        vertical-align: middle;\n",
       "    }\n",
       "\n",
       "    .dataframe tbody tr th {\n",
       "        vertical-align: top;\n",
       "    }\n",
       "\n",
       "    .dataframe thead th {\n",
       "        text-align: right;\n",
       "    }\n",
       "</style>\n",
       "<table border=\"1\" class=\"dataframe\">\n",
       "  <thead>\n",
       "    <tr style=\"text-align: right;\">\n",
       "      <th></th>\n",
       "      <th>channel_name</th>\n",
       "      <th>channel_id</th>\n",
       "      <th>video_id</th>\n",
       "      <th>video_title</th>\n",
       "      <th>video_description</th>\n",
       "      <th>video_published_at</th>\n",
       "      <th>view_count</th>\n",
       "      <th>video_like_count</th>\n",
       "      <th>comment_count</th>\n",
       "      <th>comment_id</th>\n",
       "      <th>comment_text</th>\n",
       "      <th>author</th>\n",
       "      <th>author_id</th>\n",
       "      <th>comment_like_count</th>\n",
       "      <th>comment_published_at</th>\n",
       "      <th>is_pinned</th>\n",
       "      <th>is_reply</th>\n",
       "      <th>parent_comment_id</th>\n",
       "    </tr>\n",
       "  </thead>\n",
       "  <tbody>\n",
       "    <tr>\n",
       "      <th>0</th>\n",
       "      <td>The Diary Of A CEO</td>\n",
       "      <td>UCGq-a57w-aPwyi3pW7XLiHw</td>\n",
       "      <td>B7tnfSPySb0</td>\n",
       "      <td>The Keto Psychiatrist: What Keto Is Really Doi...</td>\n",
       "      <td>Dr Georgia Ede is a Harvard trained psychiatri...</td>\n",
       "      <td>2025-01-16T08:00:16Z</td>\n",
       "      <td>2038491</td>\n",
       "      <td>61491</td>\n",
       "      <td>6274</td>\n",
       "      <td>Ugy5hSCgpLgiCntpLsh4AaABAg</td>\n",
       "      <td>Thanks! I I completely changed my diet six mon...</td>\n",
       "      <td>@ethann.12</td>\n",
       "      <td>UCvKPBMJVZ0HkF6QfOuqYmMA</td>\n",
       "      <td>4377</td>\n",
       "      <td>2025-01-21T23:36:59Z</td>\n",
       "      <td>False</td>\n",
       "      <td>False</td>\n",
       "      <td>NaN</td>\n",
       "    </tr>\n",
       "    <tr>\n",
       "      <th>1</th>\n",
       "      <td>The Diary Of A CEO</td>\n",
       "      <td>UCGq-a57w-aPwyi3pW7XLiHw</td>\n",
       "      <td>B7tnfSPySb0</td>\n",
       "      <td>The Keto Psychiatrist: What Keto Is Really Doi...</td>\n",
       "      <td>Dr Georgia Ede is a Harvard trained psychiatri...</td>\n",
       "      <td>2025-01-16T08:00:16Z</td>\n",
       "      <td>2038491</td>\n",
       "      <td>61491</td>\n",
       "      <td>6274</td>\n",
       "      <td>UgwMJZJs2UnjR6cFBi14AaABAg</td>\n",
       "      <td>I have Bipolar and have recently decided to st...</td>\n",
       "      <td>@TheBipolarBoss</td>\n",
       "      <td>UCCY-1n70e24Sq2YaNPyP24A</td>\n",
       "      <td>3933</td>\n",
       "      <td>2025-01-16T08:20:19Z</td>\n",
       "      <td>False</td>\n",
       "      <td>False</td>\n",
       "      <td>NaN</td>\n",
       "    </tr>\n",
       "  </tbody>\n",
       "</table>\n",
       "</div>"
      ],
      "text/plain": [
       "         channel_name                channel_id     video_id  \\\n",
       "0  The Diary Of A CEO  UCGq-a57w-aPwyi3pW7XLiHw  B7tnfSPySb0   \n",
       "1  The Diary Of A CEO  UCGq-a57w-aPwyi3pW7XLiHw  B7tnfSPySb0   \n",
       "\n",
       "                                         video_title  \\\n",
       "0  The Keto Psychiatrist: What Keto Is Really Doi...   \n",
       "1  The Keto Psychiatrist: What Keto Is Really Doi...   \n",
       "\n",
       "                                   video_description    video_published_at  \\\n",
       "0  Dr Georgia Ede is a Harvard trained psychiatri...  2025-01-16T08:00:16Z   \n",
       "1  Dr Georgia Ede is a Harvard trained psychiatri...  2025-01-16T08:00:16Z   \n",
       "\n",
       "   view_count  video_like_count  comment_count                  comment_id  \\\n",
       "0     2038491             61491           6274  Ugy5hSCgpLgiCntpLsh4AaABAg   \n",
       "1     2038491             61491           6274  UgwMJZJs2UnjR6cFBi14AaABAg   \n",
       "\n",
       "                                        comment_text           author  \\\n",
       "0  Thanks! I I completely changed my diet six mon...       @ethann.12   \n",
       "1  I have Bipolar and have recently decided to st...  @TheBipolarBoss   \n",
       "\n",
       "                  author_id  comment_like_count  comment_published_at  \\\n",
       "0  UCvKPBMJVZ0HkF6QfOuqYmMA                4377  2025-01-21T23:36:59Z   \n",
       "1  UCCY-1n70e24Sq2YaNPyP24A                3933  2025-01-16T08:20:19Z   \n",
       "\n",
       "   is_pinned  is_reply parent_comment_id  \n",
       "0      False     False               NaN  \n",
       "1      False     False               NaN  "
      ]
     },
     "execution_count": 4,
     "metadata": {},
     "output_type": "execute_result"
    }
   ],
   "source": [
    "df_all_pod.head(2)\n"
   ]
  },
  {
   "cell_type": "code",
   "execution_count": 5,
   "id": "2e452a4d",
   "metadata": {},
   "outputs": [
    {
     "data": {
      "text/plain": [
       "video_id\n",
       "4yohVh4qcas    51707\n",
       "giT0ytynSqg    28392\n",
       "li70iz1NaDY    25038\n",
       "ZHuZ_8VYCWA    24551\n",
       "qpBnYB0I6_0    22318\n",
       "ZznpMh0DegE    20718\n",
       "JMYQmGfTltY    16431\n",
       "R6xbXOp7wDA    13362\n",
       "cialLfVZqm4    12778\n",
       "NyFSkGMWP5Q    10798\n",
       "sFkR34AMPw8     9263\n",
       "LgsJ3V9pIG0     9262\n",
       "FjrJ2DJN_pA     9100\n",
       "zsuOSDb7gzQ     8022\n",
       "zECoaEZRRFU     6946\n",
       "uxu37dqVR90     6833\n",
       "bOi_Y4ythYY     6699\n",
       "Hik6OY-nk4c     6513\n",
       "W4tqbEmplug     6509\n",
       "6ikIGGi859w     6413\n",
       "B7tnfSPySb0     6409\n",
       "QCaFWrT0j-g     5887\n",
       "D67eWcX2XYQ     5772\n",
       "ldizQkuWpDE     5753\n",
       "7l_0ZcSuRwg     5577\n",
       "CMzEnLkS2rQ     5520\n",
       "atejm2w2jWY     5141\n",
       "OsAlLgGf9JM     4206\n",
       "ZuiIvevLg40     4201\n",
       "oIiv_335yus     3985\n",
       "eOnIWDMNyfE     3812\n",
       "yHCtfU3syM4     3773\n",
       "Fg7U-BhiZGE     3531\n",
       "zg4Ta7vXiIM     3492\n",
       "ffgpqk5hZBE     3413\n",
       "rCtvAvZtJyE     3306\n",
       "9gk3mNJs2FY     3259\n",
       "It5_C6AF1pk     3148\n",
       "G4hkYDjPSFs     3105\n",
       "NSsx6mkiaf8     2691\n",
       "Kl-I7sUcAOY     2549\n",
       "0GQozcTPyO0     2231\n",
       "ZxXruY7llcc     2167\n",
       "epAVydG6IxI     2086\n",
       "19_sGcrsWhg     1931\n",
       "EdlXcVu1CTs     1758\n",
       "rBM6lGk4-fk      854\n",
       "IgW1jepnJp4      844\n",
       "Name: count, dtype: int64"
      ]
     },
     "execution_count": 5,
     "metadata": {},
     "output_type": "execute_result"
    }
   ],
   "source": [
    "df_all_pod['video_id'].value_counts()"
   ]
  },
  {
   "cell_type": "code",
   "execution_count": 6,
   "id": "3a002824",
   "metadata": {},
   "outputs": [],
   "source": [
    "df_all_pod.to_csv('/Users/riadanas/Desktop/steven_bartlett_project/data/raw/DIARY_all_pod.csv', index=False)"
   ]
  },
  {
   "cell_type": "code",
   "execution_count": null,
   "id": "6f6225f5",
   "metadata": {},
   "outputs": [],
   "source": []
  }
 ],
 "metadata": {
  "kernelspec": {
   "display_name": "mle-diary-of-a-ceo",
   "language": "python",
   "name": "python3"
  },
  "language_info": {
   "codemirror_mode": {
    "name": "ipython",
    "version": 3
   },
   "file_extension": ".py",
   "mimetype": "text/x-python",
   "name": "python",
   "nbconvert_exporter": "python",
   "pygments_lexer": "ipython3",
   "version": "3.11.12"
  }
 },
 "nbformat": 4,
 "nbformat_minor": 5
}
