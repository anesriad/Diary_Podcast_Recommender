{
 "cells": [
  {
   "cell_type": "code",
   "execution_count": 8,
   "id": "031be0c6",
   "metadata": {},
   "outputs": [],
   "source": [
    "import pandas as pd\n",
    "import os\n",
    "\n",
    "pd.set_option(\"display.max_columns\", None)\n",
    "pd.set_option(\"display.max_rows\", None)"
   ]
  },
  {
   "cell_type": "code",
   "execution_count": 9,
   "id": "dd7d91b4",
   "metadata": {},
   "outputs": [],
   "source": [
    "import os\n",
    "import pandas as pd\n",
    "\n",
    "# Specify the path to the raw datasets directory\n",
    "raw_data_dir = '/Users/riadanas/Desktop/MLE Diary of a CEO/data/raw'\n",
    "\n",
    "# Get the list of files in the directory\n",
    "files = os.listdir(raw_data_dir)\n",
    "\n",
    "# Filter the files that start with \"2025\"\n",
    "files_2025 = [file for file in files if file.startswith('2025')]\n",
    "\n",
    "# Create an empty dataframe to store the results\n",
    "df_all_pod = pd.DataFrame()\n",
    "\n",
    "# Loop through the filtered files\n",
    "for file in files_2025:\n",
    "    # Read the file into a dataframe\n",
    "    file_path = os.path.join(raw_data_dir, file)\n",
    "    df = pd.read_csv(file_path)\n",
    "    \n",
    "    # Append the dataframe to the result dataframe\n",
    "    df_all_pod = pd.concat([df_all_pod, df])\n",
    "\n",
    "# Now df_all_pod contains all the datasets in '/Users/riadanas/Desktop/MLE Diary of a CEO/data/raw' that start with \"2025\""
   ]
  },
  {
   "cell_type": "code",
   "execution_count": 10,
   "id": "94cdb669",
   "metadata": {},
   "outputs": [
    {
     "data": {
      "text/plain": [
       "(75574, 18)"
      ]
     },
     "execution_count": 10,
     "metadata": {},
     "output_type": "execute_result"
    }
   ],
   "source": [
    "df_all_pod.shape"
   ]
  },
  {
   "cell_type": "code",
   "execution_count": 11,
   "id": "f1ae4c37",
   "metadata": {},
   "outputs": [
    {
     "data": {
      "text/html": [
       "<div>\n",
       "<style scoped>\n",
       "    .dataframe tbody tr th:only-of-type {\n",
       "        vertical-align: middle;\n",
       "    }\n",
       "\n",
       "    .dataframe tbody tr th {\n",
       "        vertical-align: top;\n",
       "    }\n",
       "\n",
       "    .dataframe thead th {\n",
       "        text-align: right;\n",
       "    }\n",
       "</style>\n",
       "<table border=\"1\" class=\"dataframe\">\n",
       "  <thead>\n",
       "    <tr style=\"text-align: right;\">\n",
       "      <th></th>\n",
       "      <th>channel_name</th>\n",
       "      <th>channel_id</th>\n",
       "      <th>video_id</th>\n",
       "      <th>video_title</th>\n",
       "      <th>video_description</th>\n",
       "      <th>video_published_at</th>\n",
       "      <th>view_count</th>\n",
       "      <th>video_like_count</th>\n",
       "      <th>comment_count</th>\n",
       "      <th>comment_id</th>\n",
       "      <th>comment_text</th>\n",
       "      <th>author</th>\n",
       "      <th>author_id</th>\n",
       "      <th>comment_like_count</th>\n",
       "      <th>comment_published_at</th>\n",
       "      <th>is_pinned</th>\n",
       "      <th>is_reply</th>\n",
       "      <th>parent_comment_id</th>\n",
       "    </tr>\n",
       "  </thead>\n",
       "  <tbody>\n",
       "    <tr>\n",
       "      <th>0</th>\n",
       "      <td>The Diary Of A CEO</td>\n",
       "      <td>UCGq-a57w-aPwyi3pW7XLiHw</td>\n",
       "      <td>eOnIWDMNyfE</td>\n",
       "      <td>The Nutritional Scientist: Do Not Eat After 9p...</td>\n",
       "      <td>Dr Sarah Berry is a Professor in the Departmen...</td>\n",
       "      <td>2025-01-27T08:00:37Z</td>\n",
       "      <td>749464</td>\n",
       "      <td>15169</td>\n",
       "      <td>3700</td>\n",
       "      <td>UgzXObkDgCKvQyFcSYB4AaABAg</td>\n",
       "      <td>Seed oil is not bad for you?? At this point, w...</td>\n",
       "      <td>@NaeNae23</td>\n",
       "      <td>UCg5Kj8O8iYjICUwUkPYwacQ</td>\n",
       "      <td>3576</td>\n",
       "      <td>2025-01-27T08:34:47Z</td>\n",
       "      <td>False</td>\n",
       "      <td>False</td>\n",
       "      <td>NaN</td>\n",
       "    </tr>\n",
       "    <tr>\n",
       "      <th>1</th>\n",
       "      <td>The Diary Of A CEO</td>\n",
       "      <td>UCGq-a57w-aPwyi3pW7XLiHw</td>\n",
       "      <td>eOnIWDMNyfE</td>\n",
       "      <td>The Nutritional Scientist: Do Not Eat After 9p...</td>\n",
       "      <td>Dr Sarah Berry is a Professor in the Departmen...</td>\n",
       "      <td>2025-01-27T08:00:37Z</td>\n",
       "      <td>749464</td>\n",
       "      <td>15169</td>\n",
       "      <td>3700</td>\n",
       "      <td>UgwPRXvRdUbJsOc6_4F4AaABAg</td>\n",
       "      <td>Now Dr. Eric Berg must be the next guest to re...</td>\n",
       "      <td>@saiqasajjad4849</td>\n",
       "      <td>UCDOjl0Zpd7SR78eHNHfIu6A</td>\n",
       "      <td>777</td>\n",
       "      <td>2025-01-27T16:37:31Z</td>\n",
       "      <td>False</td>\n",
       "      <td>False</td>\n",
       "      <td>NaN</td>\n",
       "    </tr>\n",
       "  </tbody>\n",
       "</table>\n",
       "</div>"
      ],
      "text/plain": [
       "         channel_name                channel_id     video_id  \\\n",
       "0  The Diary Of A CEO  UCGq-a57w-aPwyi3pW7XLiHw  eOnIWDMNyfE   \n",
       "1  The Diary Of A CEO  UCGq-a57w-aPwyi3pW7XLiHw  eOnIWDMNyfE   \n",
       "\n",
       "                                         video_title  \\\n",
       "0  The Nutritional Scientist: Do Not Eat After 9p...   \n",
       "1  The Nutritional Scientist: Do Not Eat After 9p...   \n",
       "\n",
       "                                   video_description    video_published_at  \\\n",
       "0  Dr Sarah Berry is a Professor in the Departmen...  2025-01-27T08:00:37Z   \n",
       "1  Dr Sarah Berry is a Professor in the Departmen...  2025-01-27T08:00:37Z   \n",
       "\n",
       "   view_count  video_like_count  comment_count                  comment_id  \\\n",
       "0      749464             15169           3700  UgzXObkDgCKvQyFcSYB4AaABAg   \n",
       "1      749464             15169           3700  UgwPRXvRdUbJsOc6_4F4AaABAg   \n",
       "\n",
       "                                        comment_text            author  \\\n",
       "0  Seed oil is not bad for you?? At this point, w...         @NaeNae23   \n",
       "1  Now Dr. Eric Berg must be the next guest to re...  @saiqasajjad4849   \n",
       "\n",
       "                  author_id  comment_like_count  comment_published_at  \\\n",
       "0  UCg5Kj8O8iYjICUwUkPYwacQ                3576  2025-01-27T08:34:47Z   \n",
       "1  UCDOjl0Zpd7SR78eHNHfIu6A                 777  2025-01-27T16:37:31Z   \n",
       "\n",
       "   is_pinned  is_reply parent_comment_id  \n",
       "0      False     False               NaN  \n",
       "1      False     False               NaN  "
      ]
     },
     "execution_count": 11,
     "metadata": {},
     "output_type": "execute_result"
    }
   ],
   "source": [
    "df_all_pod.head(2)\n"
   ]
  },
  {
   "cell_type": "code",
   "execution_count": 12,
   "id": "2e452a4d",
   "metadata": {},
   "outputs": [
    {
     "data": {
      "text/plain": [
       "video_id\n",
       "qpBnYB0I6_0    22318\n",
       "R6xbXOp7wDA    13362\n",
       "sFkR34AMPw8     9263\n",
       "Hik6OY-nk4c     6513\n",
       "6ikIGGi859w     6413\n",
       "B7tnfSPySb0     6409\n",
       "eOnIWDMNyfE     3812\n",
       "zg4Ta7vXiIM     3492\n",
       "It5_C6AF1pk     3148\n",
       "IgW1jepnJp4      844\n",
       "Name: count, dtype: int64"
      ]
     },
     "execution_count": 12,
     "metadata": {},
     "output_type": "execute_result"
    }
   ],
   "source": [
    "df_all_pod['video_id'].value_counts()"
   ]
  },
  {
   "cell_type": "code",
   "execution_count": 13,
   "id": "3a002824",
   "metadata": {},
   "outputs": [],
   "source": [
    "df_all_pod.to_csv('/Users/riadanas/Desktop/MLE Diary of a CEO/data/raw/2025_all_pod.csv', index=False)"
   ]
  },
  {
   "cell_type": "code",
   "execution_count": null,
   "id": "6f6225f5",
   "metadata": {},
   "outputs": [],
   "source": []
  }
 ],
 "metadata": {
  "kernelspec": {
   "display_name": "mle-diary-of-a-ceo",
   "language": "python",
   "name": "python3"
  },
  "language_info": {
   "codemirror_mode": {
    "name": "ipython",
    "version": 3
   },
   "file_extension": ".py",
   "mimetype": "text/x-python",
   "name": "python",
   "nbconvert_exporter": "python",
   "pygments_lexer": "ipython3",
   "version": "3.11.12"
  }
 },
 "nbformat": 4,
 "nbformat_minor": 5
}
