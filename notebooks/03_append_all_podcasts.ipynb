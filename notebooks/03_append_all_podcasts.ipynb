{
 "cells": [
  {
   "cell_type": "code",
   "execution_count": 10,
   "id": "031be0c6",
   "metadata": {},
   "outputs": [],
   "source": [
    "import pandas as pd\n",
    "import os\n",
    "\n",
    "pd.set_option(\"display.max_columns\", None)\n",
    "pd.set_option(\"display.max_rows\", None)"
   ]
  },
  {
   "cell_type": "code",
   "execution_count": 15,
   "id": "dd7d91b4",
   "metadata": {},
   "outputs": [],
   "source": [
    "import os\n",
    "import pandas as pd\n",
    "\n",
    "# Specify the path to the raw datasets directory\n",
    "raw_data_dir = '/Users/riadanas/Desktop/MLE Diary of a CEO/data/raw'\n",
    "\n",
    "# Get the list of files in the directory\n",
    "files = os.listdir(raw_data_dir)\n",
    "\n",
    "# Filter the files that start with \"2025\"\n",
    "files_2025 = [file for file in files if file.startswith('2025')]\n",
    "\n",
    "# Create an empty dataframe to store the results\n",
    "df_all_pod = pd.DataFrame()\n",
    "\n",
    "# Loop through the filtered files\n",
    "for file in files_2025:\n",
    "    # Read the file into a dataframe\n",
    "    file_path = os.path.join(raw_data_dir, file)\n",
    "    df = pd.read_csv(file_path)\n",
    "    \n",
    "    # Append the dataframe to the result dataframe\n",
    "    df_all_pod = pd.concat([df_all_pod, df])\n",
    "\n",
    "# Now df_all_pod contains all the datasets in '/Users/riadanas/Desktop/MLE Diary of a CEO/data/raw' that start with \"2025\""
   ]
  },
  {
   "cell_type": "code",
   "execution_count": 16,
   "id": "94cdb669",
   "metadata": {},
   "outputs": [
    {
     "data": {
      "text/plain": [
       "(243660, 16)"
      ]
     },
     "execution_count": 16,
     "metadata": {},
     "output_type": "execute_result"
    }
   ],
   "source": [
    "df_all_pod.shape"
   ]
  },
  {
   "cell_type": "code",
   "execution_count": 17,
   "id": "f1ae4c37",
   "metadata": {},
   "outputs": [
    {
     "data": {
      "text/html": [
       "<div>\n",
       "<style scoped>\n",
       "    .dataframe tbody tr th:only-of-type {\n",
       "        vertical-align: middle;\n",
       "    }\n",
       "\n",
       "    .dataframe tbody tr th {\n",
       "        vertical-align: top;\n",
       "    }\n",
       "\n",
       "    .dataframe thead th {\n",
       "        text-align: right;\n",
       "    }\n",
       "</style>\n",
       "<table border=\"1\" class=\"dataframe\">\n",
       "  <thead>\n",
       "    <tr style=\"text-align: right;\">\n",
       "      <th></th>\n",
       "      <th>channel_name</th>\n",
       "      <th>channel_id</th>\n",
       "      <th>video_id</th>\n",
       "      <th>video_title</th>\n",
       "      <th>video_published_at</th>\n",
       "      <th>view_count</th>\n",
       "      <th>video_like_count</th>\n",
       "      <th>comment_id</th>\n",
       "      <th>comment_text</th>\n",
       "      <th>author</th>\n",
       "      <th>author_id</th>\n",
       "      <th>comment_like_count</th>\n",
       "      <th>comment_published_at</th>\n",
       "      <th>is_pinned</th>\n",
       "      <th>is_reply</th>\n",
       "      <th>parent_comment_id</th>\n",
       "    </tr>\n",
       "  </thead>\n",
       "  <tbody>\n",
       "    <tr>\n",
       "      <th>0</th>\n",
       "      <td>The Diary Of A CEO</td>\n",
       "      <td>UCGq-a57w-aPwyi3pW7XLiHw</td>\n",
       "      <td>It5_C6AF1pk</td>\n",
       "      <td>Exercise &amp; Nutrition Scientist: The Truth Abou...</td>\n",
       "      <td>2025-01-06T07:00:10Z</td>\n",
       "      <td>1601027</td>\n",
       "      <td>48197</td>\n",
       "      <td>UgxoiVkNb4Ji2Y54GvB4AaABAg.AD3jnYa5lmmAD67xBLgqZg</td>\n",
       "      <td>@shielagregiore should be on this show\\nAuthor...</td>\n",
       "      <td>@darj2323</td>\n",
       "      <td>UCHwyXT0gm5q9o1b1Qy4ZSeA</td>\n",
       "      <td>22</td>\n",
       "      <td>2025-01-10T06:20:08Z</td>\n",
       "      <td>False</td>\n",
       "      <td>True</td>\n",
       "      <td>UgxoiVkNb4Ji2Y54GvB4AaABAg</td>\n",
       "    </tr>\n",
       "    <tr>\n",
       "      <th>1</th>\n",
       "      <td>The Diary Of A CEO</td>\n",
       "      <td>UCGq-a57w-aPwyi3pW7XLiHw</td>\n",
       "      <td>It5_C6AF1pk</td>\n",
       "      <td>Exercise &amp; Nutrition Scientist: The Truth Abou...</td>\n",
       "      <td>2025-01-06T07:00:10Z</td>\n",
       "      <td>1601027</td>\n",
       "      <td>48197</td>\n",
       "      <td>UgxoiVkNb4Ji2Y54GvB4AaABAg.AD3jnYa5lmmAD7Pa03FtGI</td>\n",
       "      <td>Hey we need this with polish captions because ...</td>\n",
       "      <td>@KrzysztofaMoras</td>\n",
       "      <td>UCqEn3uorXK7CzKcpgHI0Tjg</td>\n",
       "      <td>8</td>\n",
       "      <td>2025-01-10T18:13:30Z</td>\n",
       "      <td>False</td>\n",
       "      <td>True</td>\n",
       "      <td>UgxoiVkNb4Ji2Y54GvB4AaABAg</td>\n",
       "    </tr>\n",
       "  </tbody>\n",
       "</table>\n",
       "</div>"
      ],
      "text/plain": [
       "         channel_name                channel_id     video_id  \\\n",
       "0  The Diary Of A CEO  UCGq-a57w-aPwyi3pW7XLiHw  It5_C6AF1pk   \n",
       "1  The Diary Of A CEO  UCGq-a57w-aPwyi3pW7XLiHw  It5_C6AF1pk   \n",
       "\n",
       "                                         video_title    video_published_at  \\\n",
       "0  Exercise & Nutrition Scientist: The Truth Abou...  2025-01-06T07:00:10Z   \n",
       "1  Exercise & Nutrition Scientist: The Truth Abou...  2025-01-06T07:00:10Z   \n",
       "\n",
       "   view_count  video_like_count  \\\n",
       "0     1601027             48197   \n",
       "1     1601027             48197   \n",
       "\n",
       "                                          comment_id  \\\n",
       "0  UgxoiVkNb4Ji2Y54GvB4AaABAg.AD3jnYa5lmmAD67xBLgqZg   \n",
       "1  UgxoiVkNb4Ji2Y54GvB4AaABAg.AD3jnYa5lmmAD7Pa03FtGI   \n",
       "\n",
       "                                        comment_text            author  \\\n",
       "0  @shielagregiore should be on this show\\nAuthor...         @darj2323   \n",
       "1  Hey we need this with polish captions because ...  @KrzysztofaMoras   \n",
       "\n",
       "                  author_id  comment_like_count  comment_published_at  \\\n",
       "0  UCHwyXT0gm5q9o1b1Qy4ZSeA                  22  2025-01-10T06:20:08Z   \n",
       "1  UCqEn3uorXK7CzKcpgHI0Tjg                   8  2025-01-10T18:13:30Z   \n",
       "\n",
       "   is_pinned  is_reply           parent_comment_id  \n",
       "0      False      True  UgxoiVkNb4Ji2Y54GvB4AaABAg  \n",
       "1      False      True  UgxoiVkNb4Ji2Y54GvB4AaABAg  "
      ]
     },
     "execution_count": 17,
     "metadata": {},
     "output_type": "execute_result"
    }
   ],
   "source": [
    "df_all_pod.head(2)\n"
   ]
  },
  {
   "cell_type": "code",
   "execution_count": 21,
   "id": "2e452a4d",
   "metadata": {},
   "outputs": [
    {
     "data": {
      "text/plain": [
       "video_id\n",
       "4yohVh4qcas    51510\n",
       "li70iz1NaDY    25062\n",
       "qpBnYB0I6_0    22334\n",
       "R6xbXOp7wDA    13215\n",
       "cialLfVZqm4    12640\n",
       "NyFSkGMWP5Q    10774\n",
       "sFkR34AMPw8     9427\n",
       "FjrJ2DJN_pA     9074\n",
       "zsuOSDb7gzQ     7956\n",
       "zECoaEZRRFU     6940\n",
       "bOi_Y4ythYY     6730\n",
       "Hik6OY-nk4c     6507\n",
       "B7tnfSPySb0     6403\n",
       "6ikIGGi859w     6390\n",
       "ldizQkuWpDE     5645\n",
       "7l_0ZcSuRwg     5603\n",
       "oIiv_335yus     3935\n",
       "eOnIWDMNyfE     3804\n",
       "zg4Ta7vXiIM     3464\n",
       "ffgpqk5hZBE     3424\n",
       "9gk3mNJs2FY     3239\n",
       "It5_C6AF1pk     3135\n",
       "G4hkYDjPSFs     3128\n",
       "Kl-I7sUcAOY     2638\n",
       "NSsx6mkiaf8     2588\n",
       "0GQozcTPyO0     2229\n",
       "ZxXruY7llcc     2186\n",
       "19_sGcrsWhg     1937\n",
       "rBM6lGk4-fk      884\n",
       "IgW1jepnJp4      859\n",
       "Name: count, dtype: int64"
      ]
     },
     "execution_count": 21,
     "metadata": {},
     "output_type": "execute_result"
    }
   ],
   "source": [
    "df_all_pod['video_id'].value_counts()"
   ]
  },
  {
   "cell_type": "code",
   "execution_count": null,
   "id": "3a002824",
   "metadata": {},
   "outputs": [],
   "source": []
  }
 ],
 "metadata": {
  "kernelspec": {
   "display_name": "mle-diary-of-a-ceo",
   "language": "python",
   "name": "python3"
  },
  "language_info": {
   "codemirror_mode": {
    "name": "ipython",
    "version": 3
   },
   "file_extension": ".py",
   "mimetype": "text/x-python",
   "name": "python",
   "nbconvert_exporter": "python",
   "pygments_lexer": "ipython3",
   "version": "3.11.12"
  }
 },
 "nbformat": 4,
 "nbformat_minor": 5
}
